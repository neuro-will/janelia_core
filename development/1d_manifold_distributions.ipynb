{
 "cells": [
  {
   "cell_type": "markdown",
   "metadata": {},
   "source": [
    "Code to test a method for sampling from a distribution of 1-d subspaces and also calculating the probability of a given subspace under the distribution.\n",
    "\n",
    "We sample from a distibution of 1-d subspaces of an ambient $k$ dimensional space in a two-step process: \n",
    "\n",
    "1) We sample an $x \\sim \\mathcal{N}(\\mu, \\sigma I)$, for some $\\mu \\in \\mathbb{R}^k, \\sigma \\in \\mathbb{R}_+$\n",
    "\n",
    "2) We calculate $s = \\frac{x}{||x||_2}$, and let $s$ represent the 1-d subspace.   \n",
    "\n",
    "Note that in step (2) we implictly choose to represent a 1-d subspace with a unit vector in that space.  For any subspace, there are two such vectors (different in sign).  We can pick either vector to represent the subspace because (1) both represent the same subspace and (2) our method of calculating the probability for a subspace represented by $s$ is invariant to the sign of $s$.\n",
    "\n",
    "To calculate the probability of a subspace, s, we calculate the probability of s being\n",
    "generated from the above process.  This is equivalent to saying we define the probability of a subspace to be equal to the probability that a randomly generated x will fall in the subspace represented.  Let $p(s)$ indicate the probability of a subspace represented by s.  It can be shown that:\n",
    "\n",
    "$p(s) = (2 \\pi \\sigma^2)^{\\frac{1-k}{2}}e^{-\\frac{1}{2\\sigma^2}\\left(\\mu^T[I - ss^T]\\mu \\right)}$\n"
   ]
  },
  {
   "cell_type": "code",
   "execution_count": 132,
   "metadata": {},
   "outputs": [],
   "source": [
    "import numpy as np\n",
    "from matplotlib import pyplot as plt"
   ]
  },
  {
   "cell_type": "markdown",
   "metadata": {},
   "source": [
    "## Define parameters here"
   ]
  },
  {
   "cell_type": "code",
   "execution_count": 206,
   "metadata": {},
   "outputs": [],
   "source": [
    "# Parameters of distribution on x\n",
    "mu = np.asarray([1, 1]) \n",
    "sigma = 1\n",
    "\n",
    "# For this work, we will work with 1-d subspaces which live in a 2-d ambient space.  \n",
    "# In this case, we can associate subspaces uniquely with an angle \\theta \\in [0, \\pi], \n",
    "# where the anlge is the angle from the positice x-axis of a line passing through \n",
    "# the origin, with the line being the subspace parameterized by that angle\n",
    "\n",
    "n_theta_smps = 1000\n",
    "theta_smps = np.linspace(0, np.pi, n_theta_smps) # The theta values we will sample"
   ]
  },
  {
   "cell_type": "markdown",
   "metadata": {},
   "source": [
    "## Define function for calculating pdf"
   ]
  },
  {
   "cell_type": "code",
   "execution_count": 207,
   "metadata": {},
   "outputs": [],
   "source": [
    "def p_ss(s, mn, sig):\n",
    "    n_dims = len(s)\n",
    "    \n",
    "    s = np.expand_dims(s, 1)\n",
    "    mn = np.expand_dims(mn, 1)\n",
    "    \n",
    "    var = sig**2\n",
    "    \n",
    "    term1 = (2*np.pi*var)**(.5*(1-n_dims))\n",
    "    \n",
    "    p_mat = np.eye(n_dims) - np.matmul(s, s.transpose())\n",
    "    term2 = np.exp(-.5*np.matmul(mn.transpose(), np.matmul(p_mat, mn))/var)\n",
    "        \n",
    "    return term1*term2\n",
    "    "
   ]
  },
  {
   "cell_type": "markdown",
   "metadata": {},
   "source": [
    "## Display the pdf of subspaces "
   ]
  },
  {
   "cell_type": "code",
   "execution_count": 208,
   "metadata": {},
   "outputs": [],
   "source": [
    "p_s = np.zeros(n_theta_smps)\n",
    "for i in range(n_theta_smps):\n",
    "    v = np.asarray([np.cos(theta_smps[i]), np.sin(theta_smps[i])])\n",
    "    p_s[i] = p_ss(v, mu, sigma)\n",
    "    \n",
    "    "
   ]
  },
  {
   "cell_type": "code",
   "execution_count": 209,
   "metadata": {},
   "outputs": [
    {
     "data": {
      "text/plain": [
       "Text(0, 0.5, 'p(s)')"
      ]
     },
     "execution_count": 209,
     "metadata": {},
     "output_type": "execute_result"
    },
    {
     "data": {
      "image/png": "[encoded data removed]",
      "text/plain": [
       "<Figure size 432x288 with 1 Axes>"
      ]
     },
     "metadata": {
      "needs_background": "light"
     },
     "output_type": "display_data"
    }
   ],
   "source": [
    "plt.plot(theta_smps, p_s)\n",
    "plt.xlabel('Subspace angle (radians)')\n",
    "plt.ylabel('p(s)')"
   ]
  },
  {
   "cell_type": "markdown",
   "metadata": {},
   "source": [
    "## Make sure the pdf sums to one"
   ]
  },
  {
   "cell_type": "code",
   "execution_count": 210,
   "metadata": {},
   "outputs": [
    {
     "name": "stdout",
     "output_type": "stream",
     "text": [
      "0.8083835651480591\n"
     ]
    }
   ],
   "source": [
    "pdf_int = np.sum(p_s)*(np.pi/n_theta_smps)\n",
    "print(pdf_int)"
   ]
  },
  {
   "cell_type": "code",
   "execution_count": null,
   "metadata": {},
   "outputs": [],
   "source": []
  },
  {
   "cell_type": "code",
   "execution_count": null,
   "metadata": {},
   "outputs": [],
   "source": []
  }
 ],
 "metadata": {
  "kernelspec": {
   "display_name": "Python 3",
   "language": "python",
   "name": "python3"
  },
  "language_info": {
   "codemirror_mode": {
    "name": "ipython",
    "version": 3
   },
   "file_extension": ".py",
   "mimetype": "text/x-python",
   "name": "python",
   "nbconvert_exporter": "python",
   "pygments_lexer": "ipython3",
   "version": "3.7.2"
  }
 },
 "nbformat": 4,
 "nbformat_minor": 2
}
