{
 "cells": [
  {
   "cell_type": "markdown",
   "metadata": {},
   "source": [
    "Development and testing of the class FirstAndSecondOrderFcn"
   ]
  },
  {
   "cell_type": "code",
   "execution_count": 1,
   "metadata": {},
   "outputs": [],
   "source": [
    "%load_ext autoreload\n",
    "%autoreload 2"
   ]
  },
  {
   "cell_type": "code",
   "execution_count": 22,
   "metadata": {},
   "outputs": [],
   "source": [
    "import torch\n",
    "\n",
    "from janelia_core.ml.extra_torch_modules import FirstAndSecondOrderFcn"
   ]
  },
  {
   "cell_type": "code",
   "execution_count": 25,
   "metadata": {},
   "outputs": [],
   "source": [
    "d_in = 4\n",
    "d_out = 5\n",
    "n_smps = 10"
   ]
  },
  {
   "cell_type": "code",
   "execution_count": 26,
   "metadata": {},
   "outputs": [],
   "source": [
    "x = torch.randn([n_smps, d_in])"
   ]
  },
  {
   "cell_type": "markdown",
   "metadata": {},
   "source": [
    "## Compute output with function object"
   ]
  },
  {
   "cell_type": "code",
   "execution_count": 79,
   "metadata": {},
   "outputs": [],
   "source": [
    "f = FirstAndSecondOrderFcn(d_in=4, d_out=5)\n",
    "y = f(x)"
   ]
  },
  {
   "cell_type": "markdown",
   "metadata": {},
   "source": [
    "## Compute output a second way"
   ]
  },
  {
   "cell_type": "code",
   "execution_count": 80,
   "metadata": {},
   "outputs": [],
   "source": [
    "y_2 = torch.zeros([n_smps, d_out])\n",
    "for i in range(d_out):\n",
    "    y_2[:, i:i+1] = (x.matmul(f.a[i, :].unsqueeze(1)) + f.o[i] +\n",
    "                     torch.sum(x*(x.matmul(f.b[i,:,:])), dim=1).unsqueeze(1))\n",
    "    "
   ]
  },
  {
   "cell_type": "markdown",
   "metadata": {},
   "source": [
    "## Compare outputs"
   ]
  },
  {
   "cell_type": "code",
   "execution_count": 84,
   "metadata": {},
   "outputs": [
    {
     "data": {
      "text/plain": [
       "tensor([[-1.8626e-09,  1.8626e-09, -1.3970e-09,  3.7253e-09,  0.0000e+00],\n",
       "        [ 2.3283e-10, -3.7253e-09,  2.7940e-09,  0.0000e+00, -1.8626e-09],\n",
       "        [ 0.0000e+00,  9.3132e-10, -1.8626e-09, -3.7253e-09,  0.0000e+00],\n",
       "        [ 3.7253e-09,  0.0000e+00, -1.8626e-09,  2.3283e-10,  0.0000e+00],\n",
       "        [-3.7253e-09,  3.7253e-09,  0.0000e+00, -1.1176e-08,  0.0000e+00],\n",
       "        [-1.4901e-08, -6.5193e-09,  0.0000e+00,  0.0000e+00, -1.8626e-09],\n",
       "        [ 0.0000e+00, -9.3132e-10, -3.7253e-09,  0.0000e+00,  3.7253e-09],\n",
       "        [ 3.7253e-09,  0.0000e+00,  3.7253e-09,  0.0000e+00, -3.7253e-09],\n",
       "        [ 3.7253e-09,  9.3132e-10,  0.0000e+00,  3.0268e-09, -3.7253e-09],\n",
       "        [ 3.7253e-09, -2.7940e-09,  0.0000e+00,  0.0000e+00,  0.0000e+00]],\n",
       "       grad_fn=<SubBackward0>)"
      ]
     },
     "execution_count": 84,
     "metadata": {},
     "output_type": "execute_result"
    }
   ],
   "source": [
    "y - y_2"
   ]
  }
 ],
 "metadata": {
  "kernelspec": {
   "display_name": "Python 3",
   "language": "python",
   "name": "python3"
  },
  "language_info": {
   "codemirror_mode": {
    "name": "ipython",
    "version": 3
   },
   "file_extension": ".py",
   "mimetype": "text/x-python",
   "name": "python",
   "nbconvert_exporter": "python",
   "pygments_lexer": "ipython3",
   "version": "3.7.2"
  }
 },
 "nbformat": 4,
 "nbformat_minor": 2
}
