{
 "cells": [
  {
   "cell_type": "markdown",
   "metadata": {},
   "source": [
    "# Code for the development of parameter_combinations"
   ]
  },
  {
   "cell_type": "code",
   "execution_count": 1,
   "metadata": {},
   "outputs": [],
   "source": [
    "%load_ext autoreload\n",
    "%autoreload 2"
   ]
  },
  {
   "cell_type": "code",
   "execution_count": 2,
   "metadata": {},
   "outputs": [],
   "source": [
    "import numpy as np\n",
    "\n",
    "from janelia_core.ml.cv import parameter_combinations"
   ]
  },
  {
   "cell_type": "code",
   "execution_count": 19,
   "metadata": {},
   "outputs": [],
   "source": [
    "param_values = {'l0': [0, 1, 2, 3], 'l1': [0, 1, 2, 3], 'l2': [4, 5]}"
   ]
  },
  {
   "cell_type": "code",
   "execution_count": 20,
   "metadata": {},
   "outputs": [],
   "source": [
    "param_combos = parameter_combinations(param_values)"
   ]
  },
  {
   "cell_type": "code",
   "execution_count": 21,
   "metadata": {},
   "outputs": [
    {
     "data": {
      "text/plain": [
       "[{'l0': 0, 'l1': 0, 'l2': 4},\n",
       " {'l0': 0, 'l1': 0, 'l2': 5},\n",
       " {'l0': 0, 'l1': 1, 'l2': 4},\n",
       " {'l0': 0, 'l1': 1, 'l2': 5},\n",
       " {'l0': 0, 'l1': 2, 'l2': 4},\n",
       " {'l0': 0, 'l1': 2, 'l2': 5},\n",
       " {'l0': 0, 'l1': 3, 'l2': 4},\n",
       " {'l0': 0, 'l1': 3, 'l2': 5},\n",
       " {'l0': 1, 'l1': 0, 'l2': 4},\n",
       " {'l0': 1, 'l1': 0, 'l2': 5},\n",
       " {'l0': 1, 'l1': 1, 'l2': 4},\n",
       " {'l0': 1, 'l1': 1, 'l2': 5},\n",
       " {'l0': 1, 'l1': 2, 'l2': 4},\n",
       " {'l0': 1, 'l1': 2, 'l2': 5},\n",
       " {'l0': 1, 'l1': 3, 'l2': 4},\n",
       " {'l0': 1, 'l1': 3, 'l2': 5},\n",
       " {'l0': 2, 'l1': 0, 'l2': 4},\n",
       " {'l0': 2, 'l1': 0, 'l2': 5},\n",
       " {'l0': 2, 'l1': 1, 'l2': 4},\n",
       " {'l0': 2, 'l1': 1, 'l2': 5},\n",
       " {'l0': 2, 'l1': 2, 'l2': 4},\n",
       " {'l0': 2, 'l1': 2, 'l2': 5},\n",
       " {'l0': 2, 'l1': 3, 'l2': 4},\n",
       " {'l0': 2, 'l1': 3, 'l2': 5},\n",
       " {'l0': 3, 'l1': 0, 'l2': 4},\n",
       " {'l0': 3, 'l1': 0, 'l2': 5},\n",
       " {'l0': 3, 'l1': 1, 'l2': 4},\n",
       " {'l0': 3, 'l1': 1, 'l2': 5},\n",
       " {'l0': 3, 'l1': 2, 'l2': 4},\n",
       " {'l0': 3, 'l1': 2, 'l2': 5},\n",
       " {'l0': 3, 'l1': 3, 'l2': 4},\n",
       " {'l0': 3, 'l1': 3, 'l2': 5}]"
      ]
     },
     "execution_count": 21,
     "metadata": {},
     "output_type": "execute_result"
    }
   ],
   "source": [
    "param_combos"
   ]
  },
  {
   "cell_type": "code",
   "execution_count": 17,
   "metadata": {},
   "outputs": [],
   "source": [
    "def my_fcn(a, b = 3, l0 = 0, l1 = 0, l2 = 0):\n",
    "    print('l0: ' + str(l0))\n",
    "    print('l1: ' + str(l1))\n",
    "    print('l2: ' + str(l2))"
   ]
  },
  {
   "cell_type": "code",
   "execution_count": 31,
   "metadata": {},
   "outputs": [
    {
     "name": "stdout",
     "output_type": "stream",
     "text": [
      "l0: 3\n",
      "l1: 3\n",
      "l2: 4\n"
     ]
    }
   ],
   "source": [
    "my_fcn(1, b= 5,**param_combos[-2])"
   ]
  },
  {
   "cell_type": "code",
   "execution_count": 25,
   "metadata": {},
   "outputs": [
    {
     "data": {
      "text/plain": [
       "{'l0': 3, 'l1': 3, 'l2': 5}"
      ]
     },
     "execution_count": 25,
     "metadata": {},
     "output_type": "execute_result"
    }
   ],
   "source": [
    "param_combos[-1]"
   ]
  },
  {
   "cell_type": "code",
   "execution_count": null,
   "metadata": {},
   "outputs": [],
   "source": []
  }
 ],
 "metadata": {
  "kernelspec": {
   "display_name": "Python 3",
   "language": "python",
   "name": "python3"
  },
  "language_info": {
   "codemirror_mode": {
    "name": "ipython",
    "version": 3
   },
   "file_extension": ".py",
   "mimetype": "text/x-python",
   "name": "python",
   "nbconvert_exporter": "python",
   "pygments_lexer": "ipython3",
   "version": "3.6.7"
  }
 },
 "nbformat": 4,
 "nbformat_minor": 2
}
