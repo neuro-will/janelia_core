{
 "cells": [
  {
   "cell_type": "markdown",
   "metadata": {},
   "source": [
    "A notebook to compare standard LDA to Fisher LDA, investigating if they really are identical as claimed in Elements of Statistical Learning"
   ]
  },
  {
   "cell_type": "code",
   "execution_count": 1,
   "metadata": {},
   "outputs": [],
   "source": [
    "%load_ext autoreload\n",
    "%autoreload 2"
   ]
  },
  {
   "cell_type": "code",
   "execution_count": 2,
   "metadata": {},
   "outputs": [],
   "source": [
    "import matplotlib.pyplot as plt\n",
    "import numpy as np\n",
    "from sklearn.discriminant_analysis import LinearDiscriminantAnalysis\n",
    "\n",
    "from janelia_core.ml.lda import fisher_lda"
   ]
  },
  {
   "cell_type": "markdown",
   "metadata": {},
   "source": [
    "## Parameters go here"
   ]
  },
  {
   "cell_type": "code",
   "execution_count": 3,
   "metadata": {},
   "outputs": [],
   "source": [
    "# Specify number of samples from each class (implicitly defining the number of classes)\n",
    "n_smps = [100, 100, 100]\n",
    "\n",
    "# Specify dimensionality of the space we are working in \n",
    "p = 5"
   ]
  },
  {
   "cell_type": "markdown",
   "metadata": {},
   "source": [
    "## Generate data"
   ]
  },
  {
   "cell_type": "code",
   "execution_count": 4,
   "metadata": {},
   "outputs": [],
   "source": [
    "# Randomly generate centers \n",
    "n_classes = len(n_smps)\n",
    "ctrs = np.random.randn(n_classes,p)\n",
    "\n",
    "# Generate samples for each class\n",
    "class_data = [np.random.randn(n_smps[i],p) + ctrs[i,:] for i in range(n_classes)]\n",
    "class_labels = [np.ones(n_smps[i])*i for i in range(n_classes)]\n",
    "\n",
    "for data in class_data:\n",
    "    data[:,1] = .15*data[:,1]\n",
    "\n",
    "x = np.concatenate(class_data, axis=0)\n",
    "y = np.concatenate(class_labels, axis=0)"
   ]
  },
  {
   "cell_type": "markdown",
   "metadata": {},
   "source": [
    "## Run standard and fisher LDA and compare results"
   ]
  },
  {
   "cell_type": "code",
   "execution_count": 21,
   "metadata": {},
   "outputs": [],
   "source": [
    "standard_lda = LinearDiscriminantAnalysis()\n",
    "standard_lda.fit(x, y)\n",
    "x_standard_transformed = [standard_lda.transform(data) for data in class_data]\n",
    "\n",
    "w_lda = fisher_lda(x,y, use_cov=True)\n",
    "x_fisher_transformed = [np.matmul(data, w_lda) for data in class_data]\n",
    "\n",
    "\n",
    "x_standard_transformed_2 = [np.matmul(data - standard_lda.xbar_, standard_lda.scalings_) for data in class_data]\n",
    "\n",
    "\n"
   ]
  },
  {
   "cell_type": "code",
   "execution_count": 22,
   "metadata": {},
   "outputs": [
    {
     "data": {
      "text/plain": [
       "(-5.0, 5.0)"
      ]
     },
     "execution_count": 22,
     "metadata": {},
     "output_type": "execute_result"
    },
    {
     "data": {
      "image/png": "[encoded data removed]",
      "text/plain": [
       "<Figure size 432x288 with 3 Axes>"
      ]
     },
     "metadata": {
      "needs_background": "light"
     },
     "output_type": "display_data"
    }
   ],
   "source": [
    "ax = plt.subplot(1,3,1)\n",
    "for data in x_standard_transformed:\n",
    "    plt.plot(data[:,0], data[:,1], 'o')\n",
    "plt.title('Standard Projections')\n",
    "plt.xlim([-5,5])\n",
    "plt.ylim([-5,5])\n",
    "#ax.axis('equal')\n",
    "\n",
    "plt.subplot(1,3,2)\n",
    "for data in x_standard_transformed_2:\n",
    "    plt.plot(data[:,0], data[:,1], 'o')\n",
    "#ax.axis('equal')\n",
    "plt.title('Standard Projections 2')\n",
    "plt.xlim([-5,5])\n",
    "plt.ylim([-5,5])\n",
    "#ax.axis('equal')\n",
    "\n",
    "plt.subplot(1,3,3)\n",
    "for data in x_fisher_transformed:\n",
    "    plt.plot(data[:,1], -1*data[:,0], 'o')\n",
    "#ax.axis('equal')\n",
    "plt.title('Fisher Projections')\n",
    "plt.xlim([-5,5])\n",
    "plt.ylim([-5,5])\n",
    "#ax.axis('equal')"
   ]
  },
  {
   "cell_type": "code",
   "execution_count": 11,
   "metadata": {},
   "outputs": [
    {
     "data": {
      "text/plain": [
       "array([1., 1.])"
      ]
     },
     "execution_count": 11,
     "metadata": {},
     "output_type": "execute_result"
    }
   ],
   "source": [
    "np.sum(w_lda**2,axis=0)"
   ]
  },
  {
   "cell_type": "code",
   "execution_count": 13,
   "metadata": {},
   "outputs": [
    {
     "data": {
      "text/plain": [
       "-0.5469586997185539"
      ]
     },
     "execution_count": 13,
     "metadata": {},
     "output_type": "execute_result"
    }
   ],
   "source": [
    "np.sum(w_lda[:,0]*w_lda[:,1])"
   ]
  },
  {
   "cell_type": "code",
   "execution_count": 24,
   "metadata": {},
   "outputs": [],
   "source": [
    "sc = standard_lda.scalings_"
   ]
  },
  {
   "cell_type": "code",
   "execution_count": 26,
   "metadata": {},
   "outputs": [
    {
     "data": {
      "text/plain": [
       "array([-0.04519584, -4.05042651,  0.15078864, -0.07383333,  0.03815649])"
      ]
     },
     "execution_count": 26,
     "metadata": {},
     "output_type": "execute_result"
    }
   ],
   "source": [
    "sc[:,0]*sc[:,1]"
   ]
  },
  {
   "cell_type": "code",
   "execution_count": null,
   "metadata": {},
   "outputs": [],
   "source": []
  }
 ],
 "metadata": {
  "kernelspec": {
   "display_name": "Python 3",
   "language": "python",
   "name": "python3"
  },
  "language_info": {
   "codemirror_mode": {
    "name": "ipython",
    "version": 3
   },
   "file_extension": ".py",
   "mimetype": "text/x-python",
   "name": "python",
   "nbconvert_exporter": "python",
   "pygments_lexer": "ipython3",
   "version": "3.8.5"
  }
 },
 "nbformat": 4,
 "nbformat_minor": 4
}
