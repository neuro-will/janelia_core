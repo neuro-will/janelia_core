{
 "cells": [
  {
   "cell_type": "markdown",
   "metadata": {},
   "source": [
    "# Code for developing and testing CondLowRankMatrixDistribution objects"
   ]
  },
  {
   "cell_type": "code",
   "execution_count": 1,
   "metadata": {},
   "outputs": [],
   "source": [
    "%load_ext autoreload\n",
    "%autoreload 2"
   ]
  },
  {
   "cell_type": "code",
   "execution_count": 2,
   "metadata": {},
   "outputs": [],
   "source": [
    "import matplotlib\n",
    "from matplotlib import pyplot as plt\n",
    "import numpy as np\n",
    "import torch\n",
    "\n",
    "from janelia_core.ml.torch_distributions import CondBernoulliDistribution\n",
    "from janelia_core.ml.torch_distributions import CondGaussianDistribution\n",
    "from janelia_core.ml.torch_distributions import CondLowRankMatrixDistribution\n",
    "from janelia_core.ml.torch_distributions import CondSpikeSlabDistribution\n",
    "from janelia_core.ml.extra_torch_modules import ConstantBoundedFcn\n",
    "from janelia_core.ml.extra_torch_modules import ConstantRealFcn\n",
    "from janelia_core.ml.extra_torch_modules import LogGaussianBumpFcn"
   ]
  },
  {
   "cell_type": "markdown",
   "metadata": {},
   "source": [
    "## Here we generate properites for neurons we simulate conditioning on and specify how many modes we are going to work with"
   ]
  },
  {
   "cell_type": "code",
   "execution_count": 3,
   "metadata": {},
   "outputs": [],
   "source": [
    "# Properties of neurons we condition on \n",
    "n_neurons = 2000\n",
    "neuron_props = torch.zeros(n_neurons, 2).uniform_()\n",
    "\n",
    "n_modes = 2"
   ]
  },
  {
   "cell_type": "markdown",
   "metadata": {},
   "source": [
    "## Here we define helper functions for visualizing distributions "
   ]
  },
  {
   "cell_type": "code",
   "execution_count": 4,
   "metadata": {},
   "outputs": [],
   "source": [
    "def visualize_mode_mean(d, x_range = [0.0, 1.0], y_range = [0.0, 1.0], n_points_per_side=100):\n",
    "    \n",
    "    grid = np.mgrid[x_range[0]:x_range[1]:n_points_per_side * 1j,\n",
    "           y_range[0]:y_range[1]:n_points_per_side * 1j]\n",
    "\n",
    "    grid_vec = np.stack([np.ravel(grid[0, :, :]), np.ravel(grid[1, :, :])]).transpose()\n",
    "    grid_vec = torch.from_numpy(grid_vec.astype('float32'))\n",
    "\n",
    "    mn_vec = d(grid_vec).detach().numpy()\n",
    "    mn_image = np.reshape(mn_vec, [n_points_per_side, n_points_per_side])\n",
    "    \n",
    "    plt.imshow(mn_image, extent=[x_range[0], x_range[1], y_range[0], y_range[1]], origin='lower')\n",
    "    plt.colorbar()\n",
    "    \n",
    "def visualize_low_rank_matrix_modes(d, x_range = [0.0, 1.0], y_range = [0.0, 1.0], n_points_per_side=100):\n",
    "    \n",
    "    l_dists = d.l_mode_dists\n",
    "    r_dists = d.r_mode_dists\n",
    "    \n",
    "    n_modes = len(l_dists)\n",
    "    \n",
    "    plt.figure()\n",
    "    \n",
    "    for m_i in range(n_modes):\n",
    "        \n",
    "        # Plot r modes in top row\n",
    "        plt.subplot(2, n_modes, m_i+1)\n",
    "        visualize_mode_mean(r_dists[m_i], x_range=x_range, y_range=y_range, n_points_per_side=n_points_per_side)\n",
    "        \n",
    "        # Plot l modes in second row\n",
    "        plt.subplot(2, n_modes, m_i+1 + n_modes)\n",
    "        visualize_mode_mean(l_dists[m_i], x_range=x_range, y_range=y_range, n_points_per_side=n_points_per_side)\n",
    "        "
   ]
  },
  {
   "cell_type": "markdown",
   "metadata": {},
   "source": [
    "## Setup the true distribution"
   ]
  },
  {
   "cell_type": "code",
   "execution_count": 5,
   "metadata": {},
   "outputs": [],
   "source": [
    "# Spike and slab modes\n",
    "\n",
    "p_l_mode_dists = [None]*n_modes\n",
    "p_r_mode_dists = [None]*n_modes\n",
    "\n",
    "for m_i in range(n_modes):\n",
    "    # Setup l mode\n",
    "    p_l_spike_log_prob_fcn = LogGaussianBumpFcn(d_x=2, ctr_std_lb=.02, ctr_std_ub=10.0, ctr_std_init=.2,\n",
    "                                   log_gain_lb=-10.0, log_gain_ub=0.0, log_gain_init=-0.05)\n",
    "    p_l_spike_d = CondBernoulliDistribution(p_l_spike_log_prob_fcn)\n",
    "\n",
    "    p_l_slab_mn_fcn = torch.nn.Sequential(torch.nn.Linear(2,5), torch.nn.ReLU(), torch.nn.Linear(5, 5), torch.nn.ReLU(), \n",
    "                                        torch.nn.Linear(5,1))\n",
    "\n",
    "    p_l_slab_std_fcn = ConstantBoundedFcn(lower_bound=np.asarray([.1]), upper_bound=np.asarray([10]), \n",
    "                                        init_value=np.asarray(.25))\n",
    "\n",
    "    p_l_slab_d = CondGaussianDistribution(mn_f=p_l_slab_mn_fcn, std_f=p_l_slab_std_fcn)\n",
    "\n",
    "\n",
    "    p_l_mode_dists[m_i] = CondSpikeSlabDistribution(d=1, spike_d=p_l_spike_d, slab_d=p_l_slab_d)\n",
    "    \n",
    "    \n",
    "    # Setup r mode \n",
    "    p_r_spike_log_prob_fcn = LogGaussianBumpFcn(d_x=2, ctr_std_lb=.02, ctr_std_ub=10.0, ctr_std_init=.2,\n",
    "                                   log_gain_lb=-10.0, log_gain_ub=0.0, log_gain_init=-0.05)\n",
    "    p_r_spike_d = CondBernoulliDistribution(p_r_spike_log_prob_fcn)\n",
    "\n",
    "    p_r_slab_mn_fcn = torch.nn.Sequential(torch.nn.Linear(2,5), torch.nn.ReLU(), torch.nn.Linear(5, 5), torch.nn.ReLU(), \n",
    "                                        torch.nn.Linear(5,1))\n",
    "\n",
    "    p_r_slab_std_fcn = ConstantBoundedFcn(lower_bound=np.asarray([.1]), upper_bound=np.asarray([10]), \n",
    "                                        init_value=np.asarray(.25))\n",
    "\n",
    "    p_r_slab_d = CondGaussianDistribution(mn_f=p_r_slab_mn_fcn, std_f=p_r_slab_std_fcn)\n",
    "\n",
    "\n",
    "    p_r_mode_dists[m_i] = CondSpikeSlabDistribution(d=1, spike_d=p_r_spike_d, slab_d=p_r_slab_d)\n",
    "    \n",
    "\n",
    "p = CondLowRankMatrixDistribution(l_mode_dists=p_l_mode_dists, r_mode_dists=p_r_mode_dists)"
   ]
  },
  {
   "cell_type": "markdown",
   "metadata": {},
   "source": [
    "## Setup the inference distribution"
   ]
  },
  {
   "cell_type": "code",
   "execution_count": 6,
   "metadata": {},
   "outputs": [],
   "source": [
    "class GeneralLogCondProb(torch.nn.Module):\n",
    "    \n",
    "    def __init__(self, n_nodes = 10):\n",
    "        \n",
    "        super().__init__()\n",
    "        \n",
    "        self.net = torch.nn.Sequential(torch.nn.Linear(2, n_nodes), torch.nn.Tanh(), torch.nn.Linear(n_nodes, n_nodes),\n",
    "                                                 torch.nn.Tanh(), torch.nn.Linear(n_nodes, 1), torch.nn.LogSigmoid())\n",
    "        \n",
    "    def forward(self, x):\n",
    "        return self.net(x).squeeze()"
   ]
  },
  {
   "cell_type": "code",
   "execution_count": 7,
   "metadata": {},
   "outputs": [],
   "source": [
    "q_l_mode_dists = [None]*n_modes\n",
    "q_r_mode_dists = [None]*n_modes\n",
    "\n",
    "for m_i in range(n_modes):\n",
    "    \n",
    "    \n",
    "    # Setup l mode\n",
    "    \n",
    "    q_l_spike_log_prob_fcn = GeneralLogCondProb(10)\n",
    "    \n",
    "    q_l_spike_d = CondBernoulliDistribution(q_l_spike_log_prob_fcn)\n",
    "\n",
    "    q_l_slab_mn_fcn = torch.nn.Sequential(torch.nn.Linear(2,5), torch.nn.ReLU(), torch.nn.Linear(5, 5), torch.nn.ReLU(), \n",
    "                                        torch.nn.Linear(5,1))\n",
    "\n",
    "    q_l_slab_std_fcn = ConstantBoundedFcn(lower_bound=np.asarray([.1]), upper_bound=np.asarray([10]), \n",
    "                                        init_value=np.asarray(.25))\n",
    "\n",
    "    q_l_slab_d = CondGaussianDistribution(mn_f=q_l_slab_mn_fcn, std_f=q_l_slab_std_fcn)\n",
    "\n",
    "    q_l_mode_dists[m_i] = CondSpikeSlabDistribution(d=1, spike_d=q_l_spike_d, slab_d=q_l_slab_d)\n",
    "\n",
    "    \n",
    "    # Setup r mode \n",
    "\n",
    "    q_r_spike_log_prob_fcn = GeneralLogCondProb(10)\n",
    "    \n",
    "    q_r_spike_d = CondBernoulliDistribution(q_r_spike_log_prob_fcn)\n",
    "\n",
    "    q_r_slab_mn_fcn = torch.nn.Sequential(torch.nn.Linear(2,5), torch.nn.ReLU(), torch.nn.Linear(5, 5), torch.nn.ReLU(), \n",
    "                                        torch.nn.Linear(5,1))\n",
    "\n",
    "    q_r_slab_std_fcn = ConstantBoundedFcn(lower_bound=np.asarray([.1]), upper_bound=np.asarray([10]), \n",
    "                                        init_value=np.asarray(.25))\n",
    "\n",
    "    q_r_slab_d = CondGaussianDistribution(mn_f=q_r_slab_mn_fcn, std_f=q_r_slab_std_fcn)\n",
    "\n",
    "\n",
    "    q_r_mode_dists[m_i] = CondSpikeSlabDistribution(d=1, spike_d=q_r_spike_d, slab_d=q_r_slab_d)\n",
    "    \n",
    "q = CondLowRankMatrixDistribution(l_mode_dists=q_l_mode_dists, r_mode_dists=q_r_mode_dists)"
   ]
  },
  {
   "cell_type": "markdown",
   "metadata": {},
   "source": [
    "## Fit the q distribution "
   ]
  },
  {
   "cell_type": "code",
   "execution_count": 12,
   "metadata": {},
   "outputs": [
    {
     "name": "stdout",
     "output_type": "stream",
     "text": [
      "it: 0, o_r: 840.6097412109375, o_s: 39.489933013916016\n",
      "it: 100, o_r: 837.3482666015625, o_s: 57.20962905883789\n",
      "it: 200, o_r: 834.7932739257812, o_s: 72.854736328125\n",
      "it: 300, o_r: 849.8104248046875, o_s: -29.05547523498535\n",
      "it: 400, o_r: 876.7342529296875, o_s: -196.55020141601562\n",
      "it: 500, o_r: 861.89111328125, o_s: -91.44598388671875\n",
      "it: 600, o_r: 824.849853515625, o_s: 97.26272583007812\n",
      "it: 700, o_r: 838.87939453125, o_s: 31.975929260253906\n",
      "it: 800, o_r: 848.3392333984375, o_s: -4.920658111572266\n",
      "it: 900, o_r: 842.3275146484375, o_s: 8.743538856506348\n",
      "it: 1000, o_r: 832.0780029296875, o_s: 85.27920532226562\n",
      "it: 1100, o_r: 833.069580078125, o_s: 77.59375\n",
      "it: 1200, o_r: 844.8772583007812, o_s: 9.757343292236328\n",
      "it: 1300, o_r: 867.734619140625, o_s: -142.18951416015625\n",
      "it: 1400, o_r: 863.5429077148438, o_s: -92.99346923828125\n",
      "it: 1500, o_r: 835.1534423828125, o_s: 80.2605209350586\n",
      "it: 1600, o_r: 841.9962768554688, o_s: 31.99797821044922\n",
      "it: 1700, o_r: 851.681640625, o_s: -29.00363540649414\n",
      "it: 1800, o_r: 847.7278442382812, o_s: -9.801671981811523\n",
      "it: 1900, o_r: 840.7313842773438, o_s: 30.078357696533203\n",
      "it: 2000, o_r: 867.7373657226562, o_s: -99.77621459960938\n",
      "it: 2100, o_r: 850.34521484375, o_s: -20.24224853515625\n",
      "it: 2200, o_r: 841.014404296875, o_s: 33.60747528076172\n",
      "it: 2300, o_r: 848.5281372070312, o_s: -4.698136806488037\n",
      "it: 2400, o_r: 840.4564208984375, o_s: 44.055721282958984\n",
      "it: 2500, o_r: 857.522216796875, o_s: -58.524776458740234\n",
      "it: 2600, o_r: 852.2026977539062, o_s: -39.81108093261719\n",
      "it: 2700, o_r: 828.1619873046875, o_s: 106.73614501953125\n",
      "it: 2800, o_r: 869.1175537109375, o_s: -138.1990966796875\n",
      "it: 2900, o_r: 854.7279663085938, o_s: -55.49659729003906\n",
      "it: 3000, o_r: 849.664306640625, o_s: -14.26026725769043\n",
      "it: 3100, o_r: 852.2889404296875, o_s: -33.90743637084961\n",
      "it: 3200, o_r: 861.10546875, o_s: -88.20947265625\n",
      "it: 3300, o_r: 837.7384643554688, o_s: 28.899017333984375\n",
      "it: 3400, o_r: 852.0003662109375, o_s: -29.391647338867188\n",
      "it: 3500, o_r: 862.0718383789062, o_s: -81.53533935546875\n",
      "it: 3600, o_r: 867.2243041992188, o_s: -150.62158203125\n",
      "it: 3700, o_r: 867.387939453125, o_s: -134.6558837890625\n",
      "it: 3800, o_r: 837.436279296875, o_s: 57.18904495239258\n",
      "it: 3900, o_r: 854.3861694335938, o_s: -52.3451042175293\n",
      "it: 4000, o_r: 849.75390625, o_s: -16.73257064819336\n",
      "it: 4100, o_r: 842.70947265625, o_s: 19.44125747680664\n",
      "it: 4200, o_r: 840.2671508789062, o_s: 26.411909103393555\n",
      "it: 4300, o_r: 834.0292358398438, o_s: 81.35343933105469\n",
      "it: 4400, o_r: 833.6311645507812, o_s: 67.49223327636719\n",
      "it: 4500, o_r: 845.475341796875, o_s: -16.37408447265625\n",
      "it: 4600, o_r: 853.250732421875, o_s: -53.815982818603516\n",
      "it: 4700, o_r: 841.874267578125, o_s: 19.645641326904297\n",
      "it: 4800, o_r: 853.2028198242188, o_s: -39.35276412963867\n",
      "it: 4900, o_r: 830.1253662109375, o_s: 74.10198974609375\n",
      "it: 5000, o_r: 831.8005981445312, o_s: 93.62415313720703\n",
      "it: 5100, o_r: 842.4812622070312, o_s: 15.596933364868164\n",
      "it: 5200, o_r: 854.3404541015625, o_s: -46.86732864379883\n",
      "it: 5300, o_r: 864.5919189453125, o_s: -108.63386535644531\n",
      "it: 5400, o_r: 832.599853515625, o_s: 71.77771759033203\n",
      "it: 5500, o_r: 832.0398559570312, o_s: 81.24301147460938\n",
      "it: 5600, o_r: 841.4453125, o_s: 30.846277236938477\n",
      "it: 5700, o_r: 834.6277465820312, o_s: 74.47106170654297\n",
      "it: 5800, o_r: 829.0938720703125, o_s: 115.73346710205078\n",
      "it: 5900, o_r: 835.771728515625, o_s: 38.30293273925781\n",
      "it: 6000, o_r: 863.3470458984375, o_s: -99.61222839355469\n",
      "it: 6100, o_r: 846.7098388671875, o_s: -1.9133319854736328\n",
      "it: 6200, o_r: 840.37158203125, o_s: 48.712188720703125\n",
      "it: 6300, o_r: 841.3230590820312, o_s: 48.33071517944336\n",
      "it: 6400, o_r: 832.3402099609375, o_s: 102.88976287841797\n",
      "it: 6500, o_r: 849.8856201171875, o_s: -4.445690155029297\n",
      "it: 6600, o_r: 842.5902099609375, o_s: 24.182086944580078\n",
      "it: 6700, o_r: 833.0841064453125, o_s: 79.45035552978516\n",
      "it: 6800, o_r: 843.1490478515625, o_s: 30.070537567138672\n",
      "it: 6900, o_r: 833.403564453125, o_s: 73.84355163574219\n",
      "it: 7000, o_r: 864.255615234375, o_s: -155.95831298828125\n",
      "it: 7100, o_r: 852.61572265625, o_s: -37.929752349853516\n",
      "it: 7200, o_r: 860.5349731445312, o_s: -87.1180419921875\n",
      "it: 7300, o_r: 841.10888671875, o_s: 28.484067916870117\n",
      "it: 7400, o_r: 854.0077514648438, o_s: -49.02821350097656\n",
      "it: 7500, o_r: 844.8676147460938, o_s: 19.983789443969727\n",
      "it: 7600, o_r: 848.4756469726562, o_s: -4.196477890014648\n",
      "it: 7700, o_r: 844.5327758789062, o_s: 17.369543075561523\n",
      "it: 7800, o_r: 857.814208984375, o_s: -74.4404296875\n",
      "it: 7900, o_r: 835.0873413085938, o_s: 70.68110656738281\n",
      "it: 8000, o_r: 803.53955078125, o_s: 235.79461669921875\n",
      "it: 8100, o_r: 835.9083862304688, o_s: 55.72541809082031\n",
      "it: 8200, o_r: 833.4683837890625, o_s: 77.5335464477539\n",
      "it: 8300, o_r: 822.189453125, o_s: 156.2477569580078\n",
      "it: 8400, o_r: 859.9186401367188, o_s: -86.00588989257812\n",
      "it: 8500, o_r: 840.0220947265625, o_s: 33.002098083496094\n",
      "it: 8600, o_r: 856.0943603515625, o_s: -75.153076171875\n",
      "it: 8700, o_r: 868.0054321289062, o_s: -144.16571044921875\n",
      "it: 8800, o_r: 858.4224853515625, o_s: -76.66558837890625\n",
      "it: 8900, o_r: 845.2354736328125, o_s: 3.737804412841797\n",
      "it: 9000, o_r: 873.4228515625, o_s: -246.24200439453125\n",
      "it: 9100, o_r: 833.0806884765625, o_s: 78.27880859375\n",
      "it: 9200, o_r: 861.129150390625, o_s: -112.39076232910156\n",
      "it: 9300, o_r: 849.4452514648438, o_s: -10.042764663696289\n",
      "it: 9400, o_r: 856.0560913085938, o_s: -89.991455078125\n",
      "it: 9500, o_r: 840.295166015625, o_s: 24.889671325683594\n",
      "it: 9600, o_r: 841.5899658203125, o_s: 11.184223175048828\n",
      "it: 9700, o_r: 851.0465698242188, o_s: -56.247230529785156\n",
      "it: 9800, o_r: 852.6790161132812, o_s: -40.11902618408203\n",
      "it: 9900, o_r: 826.6006469726562, o_s: 96.19953918457031\n"
     ]
    }
   ],
   "source": [
    "n_its = 10000\n",
    "update_int = 100\n",
    "\n",
    "r_params = q.r_params()\n",
    "s_params = q.s_params()\n",
    "\n",
    "r_optim = torch.optim.Adam(r_params)\n",
    "s_optim = torch.optim.Adam(s_params)\n",
    "\n",
    "if len(r_params) > 0:\n",
    "    r_optim = torch.optim.Adam(r_params)\n",
    "    run_r_opt = True\n",
    "else:\n",
    "    run_r_opt = False\n",
    "    \n",
    "if len(s_params) > 0:\n",
    "    s_optim = torch.optim.Adam(s_params)\n",
    "    run_s_opt = True\n",
    "else:\n",
    "    run_s_opt = False\n",
    "    \n",
    "for i in range(n_its):\n",
    "    # Don't need to calculate gradients for s_params yet\n",
    "    for s_p in s_params:\n",
    "        s_p.requires_grad = False\n",
    "    \n",
    "    # Sample q\n",
    "    s_l_i, s_r_i = q.sample(neuron_props, neuron_props)\n",
    "    \n",
    "    # Compute the learning signal \n",
    "    q_l_ll, q_r_ll = q.log_prob(neuron_props, neuron_props, s_l_i, s_r_i)\n",
    "    p_l_ll, p_r_ll = p.log_prob(neuron_props, neuron_props, s_l_i, s_r_i)\n",
    "    kl_l = q_l_ll - p_l_ll\n",
    "    kl_r = q_r_ll - p_r_ll\n",
    "    \n",
    "    # Calculate gradients for anthing we can use the reparameterization trick on\n",
    "    if run_r_opt:\n",
    "        r_optim.zero_grad()\n",
    "        o_r = torch.sum(kl_l) + torch.sum(kl_r)\n",
    "        o_r.backward(retain_graph=run_s_opt)\n",
    "    else:\n",
    "        o_r = torch.zeros(1)\n",
    "    \n",
    "    # Now set things up so we will calculate gradients of s_params next\n",
    "    for s_p in s_params:\n",
    "        s_p.requires_grad = True\n",
    "        \n",
    "    # Calculate gradients for anything we can't use the reparameterization trick on\n",
    "    if run_s_opt:\n",
    "        for r_p in r_params:\n",
    "            r_p.requires_grad = False\n",
    "    \n",
    "        # Detach the learning signal since we don't want to run gradients through it\n",
    "        with torch.no_grad():\n",
    "            ls_l = kl_l\n",
    "            ls_r = kl_r\n",
    "            \n",
    "        # Compute the objective for the score function and take a step - for each mode we only include terms\n",
    "        # in the learning signal that are relevant for that mode \n",
    "        s_optim.zero_grad()\n",
    "        o_s =0\n",
    "        for m_i in range(n_modes):       \n",
    "            o_s += torch.sum(ls_l[:,m_i]*q.l_mode_dists[m_i].log_prob(neuron_props, s_l_i[m_i]))\n",
    "            o_s += torch.sum(ls_r[:,m_i]*q.r_mode_dists[m_i].log_prob(neuron_props, s_r_i[m_i]))\n",
    "\n",
    "        o_s.backward()\n",
    "         \n",
    "        for r_p in r_params:\n",
    "            r_p.requires_grad = True\n",
    "    else:\n",
    "        o_s = torch.zeros(1)\n",
    "\n",
    "        \n",
    "    # Take steps for both r and s parameters now \n",
    "    if run_r_opt:\n",
    "        r_optim.step()\n",
    "    if run_s_opt:\n",
    "        s_optim.step()\n",
    "        \n",
    "    # Enforce constraints\n",
    "    #enforce_constraints()\n",
    " \n",
    "    # Provide some feedback\n",
    "    o_r_record = np.float(o_r.detach().numpy())\n",
    "    o_s_record = np.float(o_s.detach().numpy())\n",
    "    if i % update_int == 0:\n",
    "        print('it: ' + str(i) + ', o_r: ' + str(o_r_record) + ', o_s: ' + str(o_s_record))"
   ]
  },
  {
   "cell_type": "markdown",
   "metadata": {},
   "source": [
    "## Visualize true and fit distribution"
   ]
  },
  {
   "cell_type": "code",
   "execution_count": 13,
   "metadata": {},
   "outputs": [
    {
     "data": {
      "image/png": "[encoded data removed]",
      "text/plain": [
       "<Figure size 432x288 with 8 Axes>"
      ]
     },
     "metadata": {
      "needs_background": "light"
     },
     "output_type": "display_data"
    },
    {
     "data": {
      "image/png": "[encoded data removed]",
      "text/plain": [
       "<Figure size 432x288 with 8 Axes>"
      ]
     },
     "metadata": {
      "needs_background": "light"
     },
     "output_type": "display_data"
    }
   ],
   "source": [
    "visualize_low_rank_matrix_modes(p)\n",
    "visualize_low_rank_matrix_modes(q)"
   ]
  },
  {
   "cell_type": "code",
   "execution_count": null,
   "metadata": {},
   "outputs": [],
   "source": [
    "a = torch.zeros(1)"
   ]
  },
  {
   "cell_type": "code",
   "execution_count": null,
   "metadata": {},
   "outputs": [],
   "source": [
    "a.squeeze().shape"
   ]
  },
  {
   "cell_type": "code",
   "execution_count": null,
   "metadata": {},
   "outputs": [],
   "source": []
  }
 ],
 "metadata": {
  "kernelspec": {
   "display_name": "Python 3",
   "language": "python",
   "name": "python3"
  },
  "language_info": {
   "codemirror_mode": {
    "name": "ipython",
    "version": 3
   },
   "file_extension": ".py",
   "mimetype": "text/x-python",
   "name": "python",
   "nbconvert_exporter": "python",
   "pygments_lexer": "ipython3",
   "version": "3.7.2"
  }
 },
 "nbformat": 4,
 "nbformat_minor": 2
}
