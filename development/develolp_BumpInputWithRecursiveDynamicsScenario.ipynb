{
 "cells": [
  {
   "cell_type": "markdown",
   "metadata": {},
   "source": [
    "Code for testing and the development of the simple bump modes scenario"
   ]
  },
  {
   "cell_type": "code",
   "execution_count": 1,
   "metadata": {},
   "outputs": [],
   "source": [
    "%load_ext autoreload\n",
    "%autoreload 2"
   ]
  },
  {
   "cell_type": "code",
   "execution_count": 2,
   "metadata": {},
   "outputs": [],
   "source": [
    "import matplotlib.pyplot as plt\n",
    "import numpy as np\n",
    "import torch\n",
    "\n",
    "from janelia_core.ml.latent_regression.scenarios import BumpInputWithRecursiveDynamicsScenario\n",
    "from janelia_core.ml.latent_regression.scenarios import plot_2d_conditional_prior\n",
    "from janelia_core.ml.latent_regression.scenarios import plot_2d_modes\n",
    "\n",
    "from janelia_core.ml.latent_regression.vi import MultiSubjectVIFitter"
   ]
  },
  {
   "cell_type": "markdown",
   "metadata": {},
   "source": [
    "### Parameters go here"
   ]
  },
  {
   "cell_type": "code",
   "execution_count": 3,
   "metadata": {},
   "outputs": [],
   "source": [
    "n_subjects = 3\n",
    "n_modes = 2\n",
    "n_neuron_range = [100000, 100000]\n",
    "n_dims = 2\n",
    "n_smps_range = [1000, 1100]\n",
    "prior_std = .001\n",
    "noise_range = [.01, .02]\n",
    "bump_std_range = [.1, .1]"
   ]
  },
  {
   "cell_type": "markdown",
   "metadata": {},
   "source": [
    "#### See what devices are available for computation"
   ]
  },
  {
   "cell_type": "code",
   "execution_count": 4,
   "metadata": {},
   "outputs": [
    {
     "name": "stdout",
     "output_type": "stream",
     "text": [
      "Found 2 GPUs\n"
     ]
    }
   ],
   "source": [
    "if torch.cuda.is_available():\n",
    "    n_cuda_devices = torch.cuda.device_count()\n",
    "    print('Found ' + str(n_cuda_devices) + ' GPUs')\n",
    "    devices = [torch.device('cuda:' + str(i)) for i in range(n_cuda_devices)]\n",
    "else:\n",
    "    print('No GPUs found.  Model fitting will be done on CPU.')\n",
    "    devices = [torch.device('cpu')]"
   ]
  },
  {
   "cell_type": "markdown",
   "metadata": {},
   "source": [
    "### Generate priors and subject models"
   ]
  },
  {
   "cell_type": "code",
   "execution_count": 5,
   "metadata": {},
   "outputs": [],
   "source": [
    "true_mdls = BumpInputWithRecursiveDynamicsScenario(n_subjects=n_subjects, \n",
    "                                                   n_modes=n_modes, \n",
    "                                                   n_neuron_range=n_neuron_range, \n",
    "                                                   n_dims=n_dims,\n",
    "                                                   prior_std=prior_std, \n",
    "                                                   noise_range=noise_range, \n",
    "                                                   bump_std_range=bump_std_range)"
   ]
  },
  {
   "cell_type": "markdown",
   "metadata": {},
   "source": [
    "### View prior modes"
   ]
  },
  {
   "cell_type": "code",
   "execution_count": 6,
   "metadata": {},
   "outputs": [
    {
     "data": {
      "image/png": "[encoded data removed]",
      "text/plain": [
       "<Figure size 432x288 with 6 Axes>"
      ]
     },
     "metadata": {
      "needs_background": "light"
     },
     "output_type": "display_data"
    }
   ],
   "source": [
    "plot_2d_conditional_prior(true_mdls.input_u_prior)"
   ]
  },
  {
   "cell_type": "markdown",
   "metadata": {},
   "source": [
    "### View modes for a given model"
   ]
  },
  {
   "cell_type": "code",
   "execution_count": null,
   "metadata": {},
   "outputs": [],
   "source": [
    "plot_s = 0"
   ]
  },
  {
   "cell_type": "code",
   "execution_count": null,
   "metadata": {},
   "outputs": [],
   "source": [
    "u = true_mdls.subject_mdls[plot_s].u[0].detach().numpy()\n",
    "internal_p = true_mdls.subject_mdls[plot_s].p[1].detach().numpy()\n",
    "neuron_p = true_mdls.subject_mdls[plot_s].neuron_pos.numpy()"
   ]
  },
  {
   "cell_type": "code",
   "execution_count": null,
   "metadata": {
    "scrolled": true
   },
   "outputs": [],
   "source": [
    "plot_2d_modes(modes=u, neuron_p=neuron_p)"
   ]
  },
  {
   "cell_type": "code",
   "execution_count": null,
   "metadata": {},
   "outputs": [],
   "source": [
    "plot_2d_modes(modes=internal_p, neuron_p=neuron_p)"
   ]
  },
  {
   "cell_type": "markdown",
   "metadata": {},
   "source": [
    "### Generate data from the models"
   ]
  },
  {
   "cell_type": "code",
   "execution_count": 7,
   "metadata": {},
   "outputs": [],
   "source": [
    "n_smps = np.random.randint(n_smps_range[0], n_smps_range[1]+ 1, n_subjects)\n",
    "subject_data = true_mdls.generate_random_input_data(n_smps, input_std=100)"
   ]
  },
  {
   "cell_type": "markdown",
   "metadata": {},
   "source": [
    "### Fit one model use maximum likelihood"
   ]
  },
  {
   "cell_type": "code",
   "execution_count": 8,
   "metadata": {},
   "outputs": [],
   "source": [
    "fit_s = 0"
   ]
  },
  {
   "cell_type": "code",
   "execution_count": null,
   "metadata": {},
   "outputs": [],
   "source": [
    "fit_data = subject_data[fit_s][0:-1]\n",
    "fit_x = [t[fit_data.i_x,:] for t in fit_data.data]\n",
    "fit_y = [fit_data.data[1][fit_data.i_y,:]]"
   ]
  },
  {
   "cell_type": "code",
   "execution_count": null,
   "metadata": {},
   "outputs": [],
   "source": [
    "fit_mdl = true_mdls.generate_training_subject_mdl(fit_s)"
   ]
  },
  {
   "cell_type": "code",
   "execution_count": null,
   "metadata": {},
   "outputs": [],
   "source": [
    "log = fit_mdl.fit(x=fit_x, y=fit_y, update_int=1000, max_its=3000, \n",
    "                          learning_rates=.001, batch_size=100, send_size=100)"
   ]
  },
  {
   "cell_type": "markdown",
   "metadata": {},
   "source": [
    "#### Look at fit u modes"
   ]
  },
  {
   "cell_type": "code",
   "execution_count": null,
   "metadata": {},
   "outputs": [],
   "source": [
    "u_fit = fit_mdl.u[0].detach().numpy()\n",
    "internal_p_fit = fit_mdl.p[1].detach().numpy()\n",
    "neuron_p_fit = true_mdls.subject_mdls[fit_s].neuron_pos.detach()\n",
    "\n",
    "plot_2d_modes(modes=u_fit, neuron_p=neuron_p_fit)"
   ]
  },
  {
   "cell_type": "code",
   "execution_count": null,
   "metadata": {},
   "outputs": [],
   "source": [
    "plot_2d_modes(modes=internal_p_fit, neuron_p=neuron_p_fit)"
   ]
  },
  {
   "cell_type": "markdown",
   "metadata": {},
   "source": [
    "### Fit everything with variational inference"
   ]
  },
  {
   "cell_type": "code",
   "execution_count": 9,
   "metadata": {},
   "outputs": [],
   "source": [
    "prior_dists = true_mdls.generate_fitting_priors()"
   ]
  },
  {
   "cell_type": "code",
   "execution_count": 10,
   "metadata": {},
   "outputs": [],
   "source": [
    "subject_collections = [true_mdls.generate_training_collection(s_i=s_i, data=data)\n",
    "                      for s_i, data in enumerate(subject_data)]"
   ]
  },
  {
   "cell_type": "code",
   "execution_count": 11,
   "metadata": {},
   "outputs": [],
   "source": [
    "vi_fitter = MultiSubjectVIFitter(p_priors=prior_dists[0], u_priors=prior_dists[1], \n",
    "                                 s_collections=subject_collections)"
   ]
  },
  {
   "cell_type": "code",
   "execution_count": 12,
   "metadata": {},
   "outputs": [],
   "source": [
    "vi_fitter.distribute(devices=devices)"
   ]
  },
  {
   "cell_type": "code",
   "execution_count": 13,
   "metadata": {
    "scrolled": false
   },
   "outputs": [
    {
     "name": "stdout",
     "output_type": "stream",
     "text": [
      "*****************************************************\n",
      "Epoch 0 complete.  Obj: 20422414552694.0, LR: 0.001\n",
      "Model NLLs:  s_0: 6850637463552.0, s_1: 7195161788416.0, s_2: 6376478212096.0\n",
      "Subj P KLs:  s_0: 16912078.0, s_1: 17024642.0, s_2: 17042176.0\n",
      "Subj U KLs:  s_0: 28464566.0, s_1: 28722088.0, s_2: 28923080.0\n",
      "Elapsed time: 5.348128795623779\n",
      "*****************************************************\n",
      "Epoch 10 complete.  Obj: 5289989545188.0, LR: 0.001\n",
      "Model NLLs:  s_0: 2761411264512.0, s_1: 1672442544128.0, s_2: 856094408704.0\n",
      "Subj P KLs:  s_0: 6623578.0, s_1: 5418283.5, s_2: 6311766.0\n",
      "Subj U KLs:  s_0: 9065753.0, s_1: 6419021.0, s_2: 7489442.5\n",
      "Elapsed time: 45.61049151420593\n",
      "*****************************************************\n",
      "Epoch 20 complete.  Obj: 2438832806915.5, LR: 0.001\n",
      "Model NLLs:  s_0: 774680346624.0, s_1: 1051456700416.0, s_2: 612678631424.0\n",
      "Subj P KLs:  s_0: 2731903.0, s_1: 2286965.5, s_2: 2584322.5\n",
      "Subj U KLs:  s_0: 3770322.25, s_1: 2666629.75, s_2: 3088308.5\n",
      "Elapsed time: 84.47179675102234\n",
      "*****************************************************\n",
      "Epoch 60 complete.  Obj: 1353893995733.3125, LR: 0.001\n",
      "Model NLLs:  s_0: 219568472064.0, s_1: 912588472320.0, s_2: 221734092800.0\n",
      "Subj P KLs:  s_0: 564098.25, s_1: 472582.3125, s_2: 529447.5625\n",
      "Subj U KLs:  s_0: 586899.3125, s_1: 379893.6875, s_2: 425628.1875\n",
      "Elapsed time: 241.91189789772034\n",
      "*****************************************************\n",
      "Epoch 70 complete.  Obj: 1217730366691.75, LR: 0.001\n",
      "Model NLLs:  s_0: 676265197568.0, s_1: 321021968384.0, s_2: 220440936448.0\n",
      "Subj P KLs:  s_0: 454533.0625, s_1: 405430.875, s_2: 403579.75\n",
      "Subj U KLs:  s_0: 421306.9375, s_1: 270024.9375, s_2: 309416.1875\n",
      "Elapsed time: 281.5458378791809\n",
      "*****************************************************\n",
      "Epoch 80 complete.  Obj: 725525686711.8906, LR: 0.001\n",
      "Model NLLs:  s_0: 243634601984.0, s_1: 289199357952.0, s_2: 192689963008.0\n",
      "Subj P KLs:  s_0: 392610.1875, s_1: 320686.875, s_2: 338760.1875\n",
      "Subj U KLs:  s_0: 302733.375, s_1: 195385.203125, s_2: 213592.0625\n",
      "Elapsed time: 320.58479142189026\n",
      "*****************************************************\n",
      "Epoch 90 complete.  Obj: 707896115089.7344, LR: 0.001\n",
      "Model NLLs:  s_0: 308107280384.0, s_1: 138354688000.0, s_2: 261432705024.0\n",
      "Subj P KLs:  s_0: 317303.03125, s_1: 268264.34375, s_2: 280785.8125\n",
      "Subj U KLs:  s_0: 254754.171875, s_1: 150377.0, s_2: 170197.375\n",
      "Elapsed time: 359.57023191452026\n"
     ]
    }
   ],
   "source": [
    "logs=vi_fitter.fit(n_epochs=100, n_batches=10, update_int=10, \n",
    "                   learning_rates=.001)"
   ]
  },
  {
   "cell_type": "markdown",
   "metadata": {},
   "source": [
    "#### Look at log values"
   ]
  },
  {
   "cell_type": "code",
   "execution_count": 14,
   "metadata": {},
   "outputs": [
    {
     "data": {
      "text/plain": [
       "Text(0.5, 0, 'Elapsed Time')"
      ]
     },
     "execution_count": 14,
     "metadata": {},
     "output_type": "execute_result"
    },
    {
     "data": {
      "image/png": "[encoded data removed]",
      "text/plain": [
       "<Figure size 432x288 with 4 Axes>"
      ]
     },
     "metadata": {
      "needs_background": "light"
     },
     "output_type": "display_data"
    }
   ],
   "source": [
    "plt.subplot(2,2,1)\n",
    "plt.plot(logs['elapsed_time'], logs['nelbo'])\n",
    "plt.title('Negative ELBO')\n",
    "plt.xlabel('Elapsed Time')\n",
    "\n",
    "plt.subplot(2,2,2)\n",
    "plt.plot(logs['elapsed_time'], logs['mdl_nll'])\n",
    "plt.title('Model Negative Log Likelihoods')\n",
    "plt.xlabel('Elapsed Time')\n",
    "\n",
    "plt.subplot(2,2,3)\n",
    "plt.plot(logs['elapsed_time'], logs['sub_p_kl'])\n",
    "plt.title('Subject P KL')\n",
    "plt.xlabel('Elapsed Time')\n",
    "\n",
    "plt.subplot(2,2,4)\n",
    "plt.plot(logs['elapsed_time'], logs['sub_u_kl'])\n",
    "plt.title('Subject U KL')\n",
    "plt.xlabel('Elapsed Time')"
   ]
  },
  {
   "cell_type": "markdown",
   "metadata": {},
   "source": [
    "#### Look at fit modes for one subject"
   ]
  },
  {
   "cell_type": "code",
   "execution_count": null,
   "metadata": {},
   "outputs": [],
   "source": [
    "fit_s = 0\n",
    "neuron_u_pos = true_mdls.subject_mdls[fit_s].neuron_pos\n",
    "\n",
    "u_mn = subject_collections[fit_s].u_dists[0].form_standard_sample(\n",
    "    subject_collections[fit_s].u_dists[0].sample(neuron_u_pos)).cpu().detach().numpy()"
   ]
  },
  {
   "cell_type": "code",
   "execution_count": null,
   "metadata": {},
   "outputs": [],
   "source": [
    "plot_2d_modes(modes=u_mn, neuron_p=neuron_u_pos)"
   ]
  },
  {
   "cell_type": "markdown",
   "metadata": {},
   "source": [
    "#### Look at prior modes"
   ]
  },
  {
   "cell_type": "code",
   "execution_count": 16,
   "metadata": {},
   "outputs": [
    {
     "data": {
      "image/png": "[encoded data removed]",
      "text/plain": [
       "<Figure size 432x288 with 10 Axes>"
      ]
     },
     "metadata": {
      "needs_background": "light"
     },
     "output_type": "display_data"
    }
   ],
   "source": [
    "plot_2d_conditional_prior(prior_dists[1][0].to('cpu'))"
   ]
  },
  {
   "cell_type": "code",
   "execution_count": null,
   "metadata": {},
   "outputs": [],
   "source": [
    "d = torch.device('cpu')"
   ]
  },
  {
   "cell_type": "code",
   "execution_count": null,
   "metadata": {},
   "outputs": [],
   "source": [
    "d.type == 'cpu'"
   ]
  },
  {
   "cell_type": "code",
   "execution_count": null,
   "metadata": {},
   "outputs": [],
   "source": []
  }
 ],
 "metadata": {
  "kernelspec": {
   "display_name": "Python 3",
   "language": "python",
   "name": "python3"
  },
  "language_info": {
   "codemirror_mode": {
    "name": "ipython",
    "version": 3
   },
   "file_extension": ".py",
   "mimetype": "text/x-python",
   "name": "python",
   "nbconvert_exporter": "python",
   "pygments_lexer": "ipython3",
   "version": "3.7.3"
  }
 },
 "nbformat": 4,
 "nbformat_minor": 2
}
