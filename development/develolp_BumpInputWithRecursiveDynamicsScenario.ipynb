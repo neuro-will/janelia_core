{
 "cells": [
  {
   "cell_type": "markdown",
   "metadata": {},
   "source": [
    "Code for testing and the development of the simple bump modes scenario"
   ]
  },
  {
   "cell_type": "code",
   "execution_count": 1,
   "metadata": {},
   "outputs": [],
   "source": [
    "%load_ext autoreload\n",
    "%autoreload 2"
   ]
  },
  {
   "cell_type": "code",
   "execution_count": 2,
   "metadata": {},
   "outputs": [],
   "source": [
    "import matplotlib.pyplot as plt\n",
    "import numpy as np\n",
    "import torch\n",
    "\n",
    "from janelia_core.ml.latent_regression.scenarios import BumpInputWithRecursiveDynamicsScenario\n",
    "from janelia_core.ml.latent_regression.scenarios import plot_2d_conditional_prior\n",
    "from janelia_core.ml.latent_regression.scenarios import plot_2d_modes\n",
    "\n",
    "from janelia_core.ml.latent_regression.vi import MultiSubjectVIFitter"
   ]
  },
  {
   "cell_type": "markdown",
   "metadata": {},
   "source": [
    "### Parameters go here"
   ]
  },
  {
   "cell_type": "code",
   "execution_count": 3,
   "metadata": {},
   "outputs": [],
   "source": [
    "n_subjects = 3\n",
    "n_modes = 2\n",
    "n_neuron_range = [100000, 100000]\n",
    "n_dims = 2\n",
    "n_smps_range = [1000, 1100]\n",
    "prior_std = .001\n",
    "noise_range = [.01, .02]\n",
    "bump_std_range = [.1, .1]"
   ]
  },
  {
   "cell_type": "markdown",
   "metadata": {},
   "source": [
    "#### See what devices are available for computation"
   ]
  },
  {
   "cell_type": "code",
   "execution_count": 4,
   "metadata": {},
   "outputs": [
    {
     "name": "stdout",
     "output_type": "stream",
     "text": [
      "Found 2 GPUs\n"
     ]
    }
   ],
   "source": [
    "if torch.cuda.is_available():\n",
    "    n_cuda_devices = torch.cuda.device_count()\n",
    "    print('Found ' + str(n_cuda_devices) + ' GPUs')\n",
    "    devices = [torch.device('cuda:' + str(i)) for i in range(n_cuda_devices)]\n",
    "    cuda_is_available = True\n",
    "else:\n",
    "    print('No GPUs found.  Model fitting will be done on CPU.')\n",
    "    devices = [torch.device('cpu')]\n",
    "    cuda_is_available = False"
   ]
  },
  {
   "cell_type": "markdown",
   "metadata": {},
   "source": [
    "### Generate priors and subject models"
   ]
  },
  {
   "cell_type": "code",
   "execution_count": 5,
   "metadata": {},
   "outputs": [],
   "source": [
    "true_mdls = BumpInputWithRecursiveDynamicsScenario(n_subjects=n_subjects, \n",
    "                                                   n_modes=n_modes, \n",
    "                                                   n_neuron_range=n_neuron_range, \n",
    "                                                   n_dims=n_dims,\n",
    "                                                   prior_std=prior_std, \n",
    "                                                   noise_range=noise_range, \n",
    "                                                   bump_std_range=bump_std_range)"
   ]
  },
  {
   "cell_type": "markdown",
   "metadata": {},
   "source": [
    "### View prior modes"
   ]
  },
  {
   "cell_type": "code",
   "execution_count": 6,
   "metadata": {},
   "outputs": [
    {
     "data": {
      "image/png": "[encoded data removed]",
      "text/plain": [
       "<Figure size 432x288 with 42 Axes>"
      ]
     },
     "metadata": {
      "needs_background": "light"
     },
     "output_type": "display_data"
    }
   ],
   "source": [
    "plot_2d_conditional_prior(true_mdls.input_u_prior)"
   ]
  },
  {
   "cell_type": "markdown",
   "metadata": {},
   "source": [
    "### View modes for a given model"
   ]
  },
  {
   "cell_type": "code",
   "execution_count": null,
   "metadata": {},
   "outputs": [],
   "source": [
    "plot_s = 0"
   ]
  },
  {
   "cell_type": "code",
   "execution_count": null,
   "metadata": {},
   "outputs": [],
   "source": [
    "u = true_mdls.subject_mdls[plot_s].u[0].detach().numpy()\n",
    "internal_p = true_mdls.subject_mdls[plot_s].p[1].detach().numpy()\n",
    "neuron_p = true_mdls.subject_mdls[plot_s].neuron_pos.numpy()"
   ]
  },
  {
   "cell_type": "code",
   "execution_count": null,
   "metadata": {
    "scrolled": true
   },
   "outputs": [],
   "source": [
    "plot_2d_modes(modes=u, neuron_p=neuron_p)"
   ]
  },
  {
   "cell_type": "code",
   "execution_count": null,
   "metadata": {},
   "outputs": [],
   "source": [
    "plot_2d_modes(modes=internal_p, neuron_p=neuron_p)"
   ]
  },
  {
   "cell_type": "markdown",
   "metadata": {},
   "source": [
    "### Generate data from the models"
   ]
  },
  {
   "cell_type": "code",
   "execution_count": 7,
   "metadata": {},
   "outputs": [],
   "source": [
    "n_smps = np.random.randint(n_smps_range[0], n_smps_range[1]+ 1, n_subjects)\n",
    "subject_data = true_mdls.generate_random_input_data(n_smps, input_std=100)"
   ]
  },
  {
   "cell_type": "markdown",
   "metadata": {},
   "source": [
    "### Fit one model use maximum likelihood"
   ]
  },
  {
   "cell_type": "code",
   "execution_count": null,
   "metadata": {},
   "outputs": [],
   "source": [
    "fit_s = 0"
   ]
  },
  {
   "cell_type": "code",
   "execution_count": null,
   "metadata": {},
   "outputs": [],
   "source": [
    "fit_data = subject_data[fit_s][0:-1]\n",
    "fit_x = [t[fit_data.i_x,:] for t in fit_data.data]\n",
    "fit_y = [fit_data.data[1][fit_data.i_y,:]]"
   ]
  },
  {
   "cell_type": "code",
   "execution_count": null,
   "metadata": {},
   "outputs": [],
   "source": [
    "fit_mdl = true_mdls.generate_training_subject_mdl(fit_s)"
   ]
  },
  {
   "cell_type": "code",
   "execution_count": null,
   "metadata": {},
   "outputs": [],
   "source": [
    "log = fit_mdl.fit(x=fit_x, y=fit_y, update_int=1000, max_its=3000, \n",
    "                          learning_rates=.001, batch_size=100, send_size=100)"
   ]
  },
  {
   "cell_type": "markdown",
   "metadata": {},
   "source": [
    "#### Look at fit u modes"
   ]
  },
  {
   "cell_type": "code",
   "execution_count": null,
   "metadata": {},
   "outputs": [],
   "source": [
    "u_fit = fit_mdl.u[0].detach().numpy()\n",
    "internal_p_fit = fit_mdl.p[1].detach().numpy()\n",
    "neuron_p_fit = true_mdls.subject_mdls[fit_s].neuron_pos.detach()\n",
    "\n",
    "plot_2d_modes(modes=u_fit, neuron_p=neuron_p_fit)"
   ]
  },
  {
   "cell_type": "code",
   "execution_count": null,
   "metadata": {},
   "outputs": [],
   "source": [
    "plot_2d_modes(modes=internal_p_fit, neuron_p=neuron_p_fit)"
   ]
  },
  {
   "cell_type": "markdown",
   "metadata": {},
   "source": [
    "### Fit everything with variational inference"
   ]
  },
  {
   "cell_type": "code",
   "execution_count": 8,
   "metadata": {},
   "outputs": [],
   "source": [
    "prior_dists = true_mdls.generate_fitting_priors()"
   ]
  },
  {
   "cell_type": "code",
   "execution_count": 9,
   "metadata": {},
   "outputs": [],
   "source": [
    "subject_collections = [true_mdls.generate_training_collection(s_i=s_i, data=data)\n",
    "                      for s_i, data in enumerate(subject_data)]"
   ]
  },
  {
   "cell_type": "code",
   "execution_count": 10,
   "metadata": {},
   "outputs": [],
   "source": [
    "vi_fitter = MultiSubjectVIFitter(p_priors=prior_dists[0], u_priors=prior_dists[1], \n",
    "                                 s_collections=subject_collections)"
   ]
  },
  {
   "cell_type": "code",
   "execution_count": 11,
   "metadata": {
    "scrolled": false
   },
   "outputs": [
    {
     "name": "stdout",
     "output_type": "stream",
     "text": [
      "*****************************************************\n",
      "Epoch 0 complete.  Obj: nan, LR: 0.001\n",
      "Model NLLs:  s_0: nan, s_1: nan, s_2: nan\n",
      "Subj P KLs:  s_0: nan, s_1: nan, s_2: nan\n",
      "Subj U KLs:  s_0: nan, s_1: nan, s_2: nan\n",
      "Device memory usage:  d_0: 249428480, d_1: 800660992\n",
      "Elapsed time: 15.888969659805298\n"
     ]
    },
    {
     "ename": "KeyboardInterrupt",
     "evalue": "",
     "output_type": "error",
     "traceback": [
      "\u001b[0;31m---------------------------------------------------------------------------\u001b[0m",
      "\u001b[0;31mKeyboardInterrupt\u001b[0m                         Traceback (most recent call last)",
      "\u001b[0;32m<ipython-input-11-f45005f2eb09>\u001b[0m in \u001b[0;36m<module>\u001b[0;34m\u001b[0m\n\u001b[1;32m      1\u001b[0m \u001b[0mvi_fitter\u001b[0m\u001b[0;34m.\u001b[0m\u001b[0mdistribute\u001b[0m\u001b[0;34m(\u001b[0m\u001b[0mdevices\u001b[0m\u001b[0;34m=\u001b[0m\u001b[0mdevices\u001b[0m\u001b[0;34m)\u001b[0m\u001b[0;34m\u001b[0m\u001b[0;34m\u001b[0m\u001b[0m\n\u001b[1;32m      2\u001b[0m logs=vi_fitter.fit(n_epochs=100, n_batches=10, update_int=10, \n\u001b[0;32m----> 3\u001b[0;31m                    learning_rates=.001, pin_memory=cuda_is_available)\n\u001b[0m",
      "\u001b[0;32m/groups/bishop/bishoplab/projects/janelia_core/janelia_core/ml/latent_regression/vi.py\u001b[0m in \u001b[0;36mfit\u001b[0;34m(self, n_epochs, n_batches, learning_rates, adam_params, s_inds, pin_memory, update_int, print_mdl_nlls, print_sub_kls, print_memory_usage)\u001b[0m\n\u001b[1;32m    710\u001b[0m                             s_u_kl += torch.sum(s_coll.u_dists[h].kl(d_2=d, x=s_coll.props[s_coll.output_props[h]],\n\u001b[1;32m    711\u001b[0m                                                            smp=q_u_modes[h]))\n\u001b[0;32m--> 712\u001b[0;31m                             \u001b[0ms_u_kl\u001b[0m\u001b[0;34m.\u001b[0m\u001b[0mbackward\u001b[0m\u001b[0;34m(\u001b[0m\u001b[0;34m)\u001b[0m\u001b[0;34m\u001b[0m\u001b[0;34m\u001b[0m\u001b[0m\n\u001b[0m\u001b[1;32m    713\u001b[0m                             \u001b[0mbatch_obj_log\u001b[0m \u001b[0;34m+=\u001b[0m \u001b[0ms_u_kl\u001b[0m\u001b[0;34m.\u001b[0m\u001b[0mdetach\u001b[0m\u001b[0;34m(\u001b[0m\u001b[0;34m)\u001b[0m\u001b[0;34m.\u001b[0m\u001b[0mcpu\u001b[0m\u001b[0;34m(\u001b[0m\u001b[0;34m)\u001b[0m\u001b[0;34m.\u001b[0m\u001b[0mnumpy\u001b[0m\u001b[0;34m(\u001b[0m\u001b[0;34m)\u001b[0m\u001b[0;34m\u001b[0m\u001b[0;34m\u001b[0m\u001b[0m\n\u001b[1;32m    714\u001b[0m \u001b[0;34m\u001b[0m\u001b[0m\n",
      "\u001b[0;32m~/anaconda3/envs/janelia_core/lib/python3.7/site-packages/torch/tensor.py\u001b[0m in \u001b[0;36mbackward\u001b[0;34m(self, gradient, retain_graph, create_graph)\u001b[0m\n\u001b[1;32m    105\u001b[0m                 \u001b[0mproducts\u001b[0m\u001b[0;34m.\u001b[0m \u001b[0mDefaults\u001b[0m \u001b[0mto\u001b[0m\u001b[0;31m \u001b[0m\u001b[0;31m`\u001b[0m\u001b[0;31m`\u001b[0m\u001b[0;32mFalse\u001b[0m\u001b[0;31m`\u001b[0m\u001b[0;31m`\u001b[0m\u001b[0;34m.\u001b[0m\u001b[0;34m\u001b[0m\u001b[0;34m\u001b[0m\u001b[0m\n\u001b[1;32m    106\u001b[0m         \"\"\"\n\u001b[0;32m--> 107\u001b[0;31m         \u001b[0mtorch\u001b[0m\u001b[0;34m.\u001b[0m\u001b[0mautograd\u001b[0m\u001b[0;34m.\u001b[0m\u001b[0mbackward\u001b[0m\u001b[0;34m(\u001b[0m\u001b[0mself\u001b[0m\u001b[0;34m,\u001b[0m \u001b[0mgradient\u001b[0m\u001b[0;34m,\u001b[0m \u001b[0mretain_graph\u001b[0m\u001b[0;34m,\u001b[0m \u001b[0mcreate_graph\u001b[0m\u001b[0;34m)\u001b[0m\u001b[0;34m\u001b[0m\u001b[0;34m\u001b[0m\u001b[0m\n\u001b[0m\u001b[1;32m    108\u001b[0m \u001b[0;34m\u001b[0m\u001b[0m\n\u001b[1;32m    109\u001b[0m     \u001b[0;32mdef\u001b[0m \u001b[0mregister_hook\u001b[0m\u001b[0;34m(\u001b[0m\u001b[0mself\u001b[0m\u001b[0;34m,\u001b[0m \u001b[0mhook\u001b[0m\u001b[0;34m)\u001b[0m\u001b[0;34m:\u001b[0m\u001b[0;34m\u001b[0m\u001b[0;34m\u001b[0m\u001b[0m\n",
      "\u001b[0;32m~/anaconda3/envs/janelia_core/lib/python3.7/site-packages/torch/autograd/__init__.py\u001b[0m in \u001b[0;36mbackward\u001b[0;34m(tensors, grad_tensors, retain_graph, create_graph, grad_variables)\u001b[0m\n\u001b[1;32m     91\u001b[0m     Variable._execution_engine.run_backward(\n\u001b[1;32m     92\u001b[0m         \u001b[0mtensors\u001b[0m\u001b[0;34m,\u001b[0m \u001b[0mgrad_tensors\u001b[0m\u001b[0;34m,\u001b[0m \u001b[0mretain_graph\u001b[0m\u001b[0;34m,\u001b[0m \u001b[0mcreate_graph\u001b[0m\u001b[0;34m,\u001b[0m\u001b[0;34m\u001b[0m\u001b[0;34m\u001b[0m\u001b[0m\n\u001b[0;32m---> 93\u001b[0;31m         allow_unreachable=True)  # allow_unreachable flag\n\u001b[0m\u001b[1;32m     94\u001b[0m \u001b[0;34m\u001b[0m\u001b[0m\n\u001b[1;32m     95\u001b[0m \u001b[0;34m\u001b[0m\u001b[0m\n",
      "\u001b[0;31mKeyboardInterrupt\u001b[0m: "
     ]
    }
   ],
   "source": [
    "vi_fitter.distribute(devices=devices)\n",
    "logs=vi_fitter.fit(n_epochs=100, n_batches=10, update_int=10, \n",
    "                   learning_rates=.001, pin_memory=cuda_is_available)"
   ]
  },
  {
   "cell_type": "markdown",
   "metadata": {},
   "source": [
    "#### Look at log values"
   ]
  },
  {
   "cell_type": "code",
   "execution_count": null,
   "metadata": {},
   "outputs": [],
   "source": [
    "plt.subplot(2,2,1)\n",
    "plt.plot(logs['elapsed_time'], logs['nelbo'])\n",
    "plt.title('Negative ELBO')\n",
    "plt.xlabel('Elapsed Time')\n",
    "\n",
    "plt.subplot(2,2,2)\n",
    "plt.plot(logs['elapsed_time'], logs['mdl_nll'])\n",
    "plt.title('Model Negative Log Likelihoods')\n",
    "plt.xlabel('Elapsed Time')\n",
    "\n",
    "plt.subplot(2,2,3)\n",
    "plt.plot(logs['elapsed_time'], logs['sub_p_kl'])\n",
    "plt.title('Subject P KL')\n",
    "plt.xlabel('Elapsed Time')\n",
    "\n",
    "plt.subplot(2,2,4)\n",
    "plt.plot(logs['elapsed_time'], logs['sub_u_kl'])\n",
    "plt.title('Subject U KL')\n",
    "plt.xlabel('Elapsed Time')"
   ]
  },
  {
   "cell_type": "markdown",
   "metadata": {},
   "source": [
    "#### Look at fit modes for one subject"
   ]
  },
  {
   "cell_type": "code",
   "execution_count": null,
   "metadata": {},
   "outputs": [],
   "source": [
    "fit_s = 0\n",
    "neuron_u_pos = true_mdls.subject_mdls[fit_s].neuron_pos\n",
    "\n",
    "u_mn = subject_collections[fit_s].u_dists[0].form_standard_sample(\n",
    "    subject_collections[fit_s].u_dists[0].sample(neuron_u_pos)).cpu().detach().numpy()"
   ]
  },
  {
   "cell_type": "code",
   "execution_count": null,
   "metadata": {},
   "outputs": [],
   "source": [
    "plot_2d_modes(modes=u_mn, neuron_p=neuron_u_pos)"
   ]
  },
  {
   "cell_type": "markdown",
   "metadata": {},
   "source": [
    "#### Look at prior modes"
   ]
  },
  {
   "cell_type": "code",
   "execution_count": null,
   "metadata": {},
   "outputs": [],
   "source": [
    "plot_2d_conditional_prior(prior_dists[1][0].to('cpu'))"
   ]
  },
  {
   "cell_type": "code",
   "execution_count": null,
   "metadata": {},
   "outputs": [],
   "source": [
    "d = torch.device('cpu')"
   ]
  },
  {
   "cell_type": "code",
   "execution_count": null,
   "metadata": {},
   "outputs": [],
   "source": [
    "d.type == 'cpu'"
   ]
  },
  {
   "cell_type": "code",
   "execution_count": null,
   "metadata": {},
   "outputs": [],
   "source": [
    "a = set([1, 2])"
   ]
  },
  {
   "cell_type": "code",
   "execution_count": null,
   "metadata": {},
   "outputs": [],
   "source": [
    "set(vi_fitter.s_collection_devices + [vi_fitter.prior_device])"
   ]
  },
  {
   "cell_type": "code",
   "execution_count": null,
   "metadata": {},
   "outputs": [],
   "source": []
  }
 ],
 "metadata": {
  "kernelspec": {
   "display_name": "Python 3",
   "language": "python",
   "name": "python3"
  },
  "language_info": {
   "codemirror_mode": {
    "name": "ipython",
    "version": 3
   },
   "file_extension": ".py",
   "mimetype": "text/x-python",
   "name": "python",
   "nbconvert_exporter": "python",
   "pygments_lexer": "ipython3",
   "version": "3.7.3"
  }
 },
 "nbformat": 4,
 "nbformat_minor": 2
}
