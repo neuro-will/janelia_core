{
 "cells": [
  {
   "cell_type": "code",
   "execution_count": 1,
   "metadata": {},
   "outputs": [],
   "source": [
    "%load_ext autoreload\n",
    "%autoreload 2"
   ]
  },
  {
   "cell_type": "code",
   "execution_count": 2,
   "metadata": {},
   "outputs": [],
   "source": [
    "import matplotlib.pyplot as plt\n",
    "import numpy as np\n",
    "import torch\n",
    "\n",
    "from janelia_core.ml.latent_regression import LatentRegModel\n",
    "from janelia_core.ml.latent_regression import LinearMap"
   ]
  },
  {
   "cell_type": "markdown",
   "metadata": {},
   "source": [
    "## Parameters for model go here"
   ]
  },
  {
   "cell_type": "code",
   "execution_count": 3,
   "metadata": {},
   "outputs": [],
   "source": [
    "d_in = [5, 6, 7]\n",
    "d_out = [6, 9, 10]\n",
    "\n",
    "d_proj = [1, 2, 4]\n",
    "d_trans = [1, 3, 3 ]\n",
    "\n",
    "n_smps = 20000"
   ]
  },
  {
   "cell_type": "code",
   "execution_count": 4,
   "metadata": {},
   "outputs": [],
   "source": [
    "## Create the model here\n",
    "n_groups = len(d_in)\n",
    "\n",
    "M = LinearMap(d_proj, d_trans)\n",
    "S = [torch.nn.ReLU() for g in range(n_groups)]\n",
    "\n",
    "mdl = LatentRegModel(d_in, d_out, d_proj, d_trans, M, S, direct_pairs=[(1, 0)])"
   ]
  },
  {
   "cell_type": "markdown",
   "metadata": {},
   "source": [
    "## Generate some x data here"
   ]
  },
  {
   "cell_type": "code",
   "execution_count": 5,
   "metadata": {},
   "outputs": [],
   "source": [
    "x = [torch.randn([n_smps, d]) for d in d_in]"
   ]
  },
  {
   "cell_type": "markdown",
   "metadata": {},
   "source": [
    "## Run the model forward "
   ]
  },
  {
   "cell_type": "code",
   "execution_count": 6,
   "metadata": {},
   "outputs": [],
   "source": [
    "y_pred = mdl(x)\n",
    "y = mdl.generate(x)"
   ]
  },
  {
   "cell_type": "markdown",
   "metadata": {},
   "source": [
    "## Fit a new model"
   ]
  },
  {
   "cell_type": "code",
   "execution_count": 7,
   "metadata": {},
   "outputs": [],
   "source": [
    "M_fitted = LinearMap(d_proj, d_trans)\n",
    "S_fitted = [torch.nn.ReLU() for g in range(n_groups)]\n",
    "fitted_mdl = LatentRegModel(d_in, d_out, d_proj, d_trans, M_fitted, S_fitted, direct_pairs=[(1, 0)])"
   ]
  },
  {
   "cell_type": "code",
   "execution_count": 8,
   "metadata": {},
   "outputs": [
    {
     "name": "stdout",
     "output_type": "stream",
     "text": [
      "0: Elapsed fitting time 2.3603439331054688e-05, vl: 94.45749, lr: 0.01\n",
      "100: Elapsed fitting time 0.18752694129943848, vl: -6.70902, lr: 0.01\n",
      "200: Elapsed fitting time 0.37792086601257324, vl: -12.492106, lr: 0.01\n",
      "300: Elapsed fitting time 0.551459789276123, vl: -16.018393, lr: 0.01\n",
      "400: Elapsed fitting time 0.7409317493438721, vl: -17.129686, lr: 0.01\n",
      "500: Elapsed fitting time 0.9331817626953125, vl: -17.231886, lr: 0.01\n",
      "600: Elapsed fitting time 1.1183388233184814, vl: -17.76941, lr: 0.01\n",
      "700: Elapsed fitting time 1.3127999305725098, vl: -16.972315, lr: 0.01\n",
      "800: Elapsed fitting time 1.5022227764129639, vl: -16.79217, lr: 0.01\n",
      "900: Elapsed fitting time 1.6823148727416992, vl: -17.51792, lr: 0.01\n",
      "999: Elapsed fitting time 1.8704450130462646, vl: -17.344519\n"
     ]
    }
   ],
   "source": [
    "log = fitted_mdl.fit(x, y, max_its=1000, update_int=100, min_var = .01)"
   ]
  },
  {
   "cell_type": "code",
   "execution_count": 17,
   "metadata": {},
   "outputs": [
    {
     "data": {
      "text/plain": [
       "[<matplotlib.lines.Line2D at 0x125c9f0b8>]"
      ]
     },
     "execution_count": 17,
     "metadata": {},
     "output_type": "execute_result"
    }
   ],
   "source": [
    "%matplotlib qt\n",
    "plt.figure()\n",
    "plt.plot(log['elapsed_time'], log['obj'])"
   ]
  },
  {
   "cell_type": "code",
   "execution_count": 20,
   "metadata": {},
   "outputs": [
    {
     "data": {
      "text/plain": [
       "[<matplotlib.lines.Line2D at 0x1325e28d0>]"
      ]
     },
     "execution_count": 20,
     "metadata": {},
     "output_type": "execute_result"
    }
   ],
   "source": [
    "true_y_hat = mdl(x)\n",
    "fitted_y_hat = fitted_mdl(x)\n",
    "\n",
    "plt_grp = 2\n",
    "plt_neuron = 0\n",
    "plt_smps = np.arange(1000)\n",
    "\n",
    "plt.figure()\n",
    "\n",
    "true_plt_values = true_y_hat[plt_grp][plt_smps, plt_neuron].detach().numpy()\n",
    "fitted_plt_values = fitted_y_hat[plt_grp][plt_smps, plt_neuron].detach().numpy()\n",
    "\n",
    "plt.plot(true_plt_values, 'ro')\n",
    "plt.plot(fitted_plt_values, 'b-')"
   ]
  },
  {
   "cell_type": "code",
   "execution_count": null,
   "metadata": {},
   "outputs": [],
   "source": []
  }
 ],
 "metadata": {
  "kernelspec": {
   "display_name": "Python 3",
   "language": "python",
   "name": "python3"
  },
  "language_info": {
   "codemirror_mode": {
    "name": "ipython",
    "version": 3
   },
   "file_extension": ".py",
   "mimetype": "text/x-python",
   "name": "python",
   "nbconvert_exporter": "python",
   "pygments_lexer": "ipython3",
   "version": "3.7.2"
  }
 },
 "nbformat": 4,
 "nbformat_minor": 2
}
