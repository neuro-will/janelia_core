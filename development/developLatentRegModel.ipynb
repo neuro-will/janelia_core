{
 "cells": [
  {
   "cell_type": "code",
   "execution_count": 1,
   "metadata": {},
   "outputs": [],
   "source": [
    "%load_ext autoreload\n",
    "%autoreload 2"
   ]
  },
  {
   "cell_type": "code",
   "execution_count": 2,
   "metadata": {},
   "outputs": [],
   "source": [
    "import matplotlib.pyplot as plt\n",
    "import numpy as np\n",
    "import torch\n",
    "\n",
    "from janelia_core.ml.extra_torch_modules import Bias\n",
    "from janelia_core.ml.latent_regression import LatentRegModel\n",
    "from janelia_core.ml.latent_regression import LinearMap\n",
    "from janelia_core.ml.latent_regression import IdentityMap"
   ]
  },
  {
   "cell_type": "markdown",
   "metadata": {},
   "source": [
    "## Parameters for model go here"
   ]
  },
  {
   "cell_type": "code",
   "execution_count": 3,
   "metadata": {},
   "outputs": [],
   "source": [
    "d_in = [100000, 100000]\n",
    "d_out = [100000, 100000]\n",
    "\n",
    "d_proj = [2, 2]\n",
    "d_trans = [2, 2]\n",
    "\n",
    "n_smps = 10000"
   ]
  },
  {
   "cell_type": "code",
   "execution_count": 4,
   "metadata": {},
   "outputs": [],
   "source": [
    "## Create the model here\n",
    "n_output_groups = len(d_in)\n",
    "\n",
    "#M = LinearMap(d_proj, d_trans)\n",
    "M = IdentityMap()\n",
    "S = [Bias(d_o) for d_o in d_out]\n",
    "mdl = LatentRegModel(d_in, d_out, d_proj, d_trans, M, S, direct_pairs=None, w_gain=50, \n",
    "                    noise_range=[50.0, 100.0])"
   ]
  },
  {
   "cell_type": "markdown",
   "metadata": {},
   "source": [
    "## Generate some x data here"
   ]
  },
  {
   "cell_type": "code",
   "execution_count": 5,
   "metadata": {},
   "outputs": [],
   "source": [
    "x = [torch.randn([n_smps, d]) for d in d_in]"
   ]
  },
  {
   "cell_type": "markdown",
   "metadata": {},
   "source": [
    "## Run the model forward "
   ]
  },
  {
   "cell_type": "code",
   "execution_count": 6,
   "metadata": {},
   "outputs": [],
   "source": [
    "y_pred = mdl(x)\n",
    "y = mdl.generate(x)"
   ]
  },
  {
   "cell_type": "markdown",
   "metadata": {},
   "source": [
    "## Fit a new model"
   ]
  },
  {
   "cell_type": "code",
   "execution_count": 7,
   "metadata": {},
   "outputs": [],
   "source": [
    "M_fitted = IdentityMap()\n",
    "#M_fitted = LinearMap(d_proj, d_trans)\n",
    "S_fitted = [Bias(d_o) for d_o in d_out]\n",
    "fitted_mdl = LatentRegModel(d_in, d_out, d_proj, d_trans, M_fitted, S_fitted, direct_pairs=None)"
   ]
  },
  {
   "cell_type": "markdown",
   "metadata": {},
   "source": [
    "## Move model to cuda"
   ]
  },
  {
   "cell_type": "code",
   "execution_count": 8,
   "metadata": {},
   "outputs": [],
   "source": [
    "fitted_mdl=fitted_mdl.cuda()\n",
    "x = [x_i.pin_memory() for x_i in x]\n",
    "y = [y_i.pin_memory() for y_i in y]"
   ]
  },
  {
   "cell_type": "code",
   "execution_count": 9,
   "metadata": {},
   "outputs": [
    {
     "name": "stdout",
     "output_type": "stream",
     "text": [
      "0: Elapsed fitting time 0.0, vl: 485553570.0, lr: 0.001\n",
      "1000: Elapsed fitting time 68.71637725830078, vl: 69868080.0, lr: 0.001\n",
      "2000: Elapsed fitting time 135.69833779335022, vl: 35667212.0, lr: 0.001\n",
      "3000: Elapsed fitting time 201.03882336616516, vl: 17077674.0, lr: 0.001\n",
      "4000: Elapsed fitting time 267.7347774505615, vl: 14029090.0, lr: 0.001\n",
      "5000: Elapsed fitting time 332.0230073928833, vl: 10224408.0, lr: 0.001\n",
      "6000: Elapsed fitting time 397.14851212501526, vl: 8705989.0, lr: 0.001\n",
      "7000: Elapsed fitting time 464.0400605201721, vl: 6943261.0, lr: 0.001\n",
      "8000: Elapsed fitting time 528.8197736740112, vl: 8925332.0, lr: 0.001\n",
      "9000: Elapsed fitting time 594.2801003456116, vl: 5345249.5, lr: 0.001\n",
      "10000: Elapsed fitting time 659.87824010849, vl: 4924152.0, lr: 0.001\n",
      "11000: Elapsed fitting time 724.3649067878723, vl: 4196821.0, lr: 0.001\n",
      "12000: Elapsed fitting time 790.3232901096344, vl: 3306787.8, lr: 0.001\n",
      "13000: Elapsed fitting time 856.0745935440063, vl: 3177473.8, lr: 0.001\n",
      "14000: Elapsed fitting time 920.4338703155518, vl: 2622683.8, lr: 0.001\n",
      "15000: Elapsed fitting time 987.0475342273712, vl: 2272495.8, lr: 0.001\n",
      "16000: Elapsed fitting time 1053.1526424884796, vl: 2294719.2, lr: 0.001\n",
      "17000: Elapsed fitting time 1117.2723135948181, vl: 1985640.0, lr: 0.001\n",
      "18000: Elapsed fitting time 1183.4230053424835, vl: 1755819.4, lr: 0.001\n",
      "19000: Elapsed fitting time 1249.3074932098389, vl: 1654645.0, lr: 0.001\n",
      "20000: Elapsed fitting time 1313.6711361408234, vl: 1559459.4, lr: 0.001\n",
      "21000: Elapsed fitting time 1380.2463471889496, vl: 1425129.6, lr: 0.001\n",
      "22000: Elapsed fitting time 1444.8998708724976, vl: 1338018.4, lr: 0.001\n",
      "23000: Elapsed fitting time 1510.2651634216309, vl: 1320316.6, lr: 0.001\n",
      "24000: Elapsed fitting time 1576.1889717578888, vl: 1309685.2, lr: 0.001\n",
      "25000: Elapsed fitting time 1641.1696932315826, vl: 1218786.1, lr: 0.001\n",
      "26000: Elapsed fitting time 1706.6881701946259, vl: 1122520.9, lr: 0.001\n",
      "27000: Elapsed fitting time 1772.3326580524445, vl: 1143236.1, lr: 0.001\n",
      "28000: Elapsed fitting time 1837.2151095867157, vl: 1067579.1, lr: 0.001\n",
      "29000: Elapsed fitting time 1903.2551431655884, vl: 1041184.94, lr: 0.001\n",
      "30000: Elapsed fitting time 1969.9368484020233, vl: 1012043.44, lr: 0.001\n",
      "31000: Elapsed fitting time 2034.4564962387085, vl: 980761.2, lr: 0.001\n",
      "32000: Elapsed fitting time 2100.2593216896057, vl: 992609.44, lr: 0.001\n",
      "33000: Elapsed fitting time 2166.0924253463745, vl: 953641.8, lr: 0.001\n",
      "34000: Elapsed fitting time 2230.760040283203, vl: 928996.8, lr: 0.001\n",
      "35000: Elapsed fitting time 2296.944391965866, vl: 909401.8, lr: 0.001\n",
      "36000: Elapsed fitting time 2362.284595489502, vl: 902004.5, lr: 0.001\n",
      "37000: Elapsed fitting time 2427.244434118271, vl: 881481.2, lr: 0.001\n",
      "38000: Elapsed fitting time 2493.3204522132874, vl: 873624.8, lr: 0.001\n",
      "39000: Elapsed fitting time 2558.5318927764893, vl: 861132.3, lr: 0.001\n",
      "40000: Elapsed fitting time 2623.6739563941956, vl: 854749.0, lr: 0.001\n",
      "41000: Elapsed fitting time 2690.296314239502, vl: 841813.1, lr: 0.001\n",
      "42000: Elapsed fitting time 2755.4503440856934, vl: 828845.8, lr: 0.001\n",
      "43000: Elapsed fitting time 2821.751813650131, vl: 827967.94, lr: 0.001\n",
      "44000: Elapsed fitting time 2888.184084415436, vl: 817199.1, lr: 0.001\n",
      "45000: Elapsed fitting time 2951.2693383693695, vl: 817124.1, lr: 0.001\n",
      "46000: Elapsed fitting time 3018.179207086563, vl: 806114.94, lr: 0.001\n",
      "47000: Elapsed fitting time 3085.4753839969635, vl: 796295.5, lr: 0.001\n",
      "48000: Elapsed fitting time 3150.450096845627, vl: 798099.25, lr: 0.001\n",
      "49000: Elapsed fitting time 3216.6819183826447, vl: 796096.75, lr: 0.001\n",
      "49999: Elapsed fitting time 3282.439940214157, vl: 786539.1\n"
     ]
    }
   ],
   "source": [
    "log = fitted_mdl.fit(x, y, max_its=50000, batch_size=10, send_size=10, update_int=1000, min_var = .01,\n",
    "                     learning_rates=.001)"
   ]
  },
  {
   "cell_type": "code",
   "execution_count": 10,
   "metadata": {},
   "outputs": [
    {
     "data": {
      "text/plain": [
       "[<matplotlib.lines.Line2D at 0x17637d5af28>]"
      ]
     },
     "execution_count": 10,
     "metadata": {},
     "output_type": "execute_result"
    }
   ],
   "source": [
    "%matplotlib qt\n",
    "plt.figure()\n",
    "plt.plot(log['elapsed_time'], log['obj'])"
   ]
  },
  {
   "cell_type": "markdown",
   "metadata": {},
   "source": [
    "## Compare predictions from fitted model to ground truth"
   ]
  },
  {
   "cell_type": "code",
   "execution_count": 11,
   "metadata": {},
   "outputs": [],
   "source": [
    "fitted_mdl = fitted_mdl.to('cpu')\n",
    "x = [x_g.to('cpu') for x_g in x]\n",
    "y = [y_h.to('cpu') for y_h in y]\n",
    "\n",
    "plt_smps = np.arange(1000)\n",
    "\n",
    "%matplotlib qt\n",
    "true_y_hat = mdl(x)\n",
    "fitted_y_hat = fitted_mdl(x)\n",
    "\n",
    "for g in range(n_output_groups):\n",
    "    plt.figure()\n",
    "    for d in range(5):\n",
    "        plt.subplot(1, 5, d+1)\n",
    "        true_obs_values = y[g][plt_smps, d].detach().numpy()\n",
    "        true_plt_values = true_y_hat[g][plt_smps, d].detach().numpy()\n",
    "        fitted_plt_values = fitted_y_hat[g][plt_smps, d].detach().numpy()\n",
    "        plt.plot(true_obs_values, 'go')\n",
    "        plt.plot(true_plt_values, 'ro')\n",
    "        plt.plot(fitted_plt_values, 'b-')"
   ]
  },
  {
   "cell_type": "code",
   "execution_count": null,
   "metadata": {},
   "outputs": [],
   "source": []
  }
 ],
 "metadata": {
  "kernelspec": {
   "display_name": "Python 3",
   "language": "python",
   "name": "python3"
  },
  "language_info": {
   "codemirror_mode": {
    "name": "ipython",
    "version": 3
   },
   "file_extension": ".py",
   "mimetype": "text/x-python",
   "name": "python",
   "nbconvert_exporter": "python",
   "pygments_lexer": "ipython3",
   "version": "3.6.7"
  }
 },
 "nbformat": 4,
 "nbformat_minor": 2
}
