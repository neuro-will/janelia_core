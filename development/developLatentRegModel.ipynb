{
 "cells": [
  {
   "cell_type": "code",
   "execution_count": 1,
   "metadata": {},
   "outputs": [],
   "source": [
    "%load_ext autoreload\n",
    "%autoreload 2"
   ]
  },
  {
   "cell_type": "code",
   "execution_count": 32,
   "metadata": {},
   "outputs": [],
   "source": [
    "import matplotlib.pyplot as plt\n",
    "import numpy as np\n",
    "import torch\n",
    "\n",
    "from janelia_core.ml.extra_torch_modules import Bias\n",
    "from janelia_core.ml.latent_regression import LatentRegModel\n",
    "from janelia_core.ml.latent_regression import LinearMap\n",
    "from janelia_core.ml.latent_regression import IdentityMap\n",
    "from janelia_core.visualization.matrix_visualization import cmp_n_mats"
   ]
  },
  {
   "cell_type": "markdown",
   "metadata": {},
   "source": [
    "## Parameters for model go here"
   ]
  },
  {
   "cell_type": "code",
   "execution_count": 3,
   "metadata": {},
   "outputs": [],
   "source": [
    "d_in = [100, 100]\n",
    "d_out = [1000, 1000]\n",
    "\n",
    "d_proj = [2, 2]\n",
    "d_trans = [2, 2]\n",
    "\n",
    "n_smps = 10000"
   ]
  },
  {
   "cell_type": "code",
   "execution_count": 4,
   "metadata": {},
   "outputs": [],
   "source": [
    "## Create the model here\n",
    "n_output_groups = len(d_in)\n",
    "\n",
    "#M = LinearMap(d_proj, d_trans)\n",
    "M = IdentityMap()\n",
    "S = [Bias(d_o) for d_o in d_out]\n",
    "mdl = LatentRegModel(d_in, d_out, d_proj, d_trans, M, S, direct_pairs=None, w_gain=50, \n",
    "                    noise_range=[50.0, 100.0])"
   ]
  },
  {
   "cell_type": "code",
   "execution_count": 28,
   "metadata": {},
   "outputs": [
    {
     "data": {
      "text/plain": [
       "<matplotlib.colorbar.Colorbar at 0x1290c734860>"
      ]
     },
     "execution_count": 28,
     "metadata": {},
     "output_type": "execute_result"
    }
   ],
   "source": [
    "## Modify u[0] to make it sparse\n",
    "u_orig = mdl.u[0].detach().numpy()\n",
    "u_orig[np.abs(u_orig) < 4] = 0\n",
    "plt.imshow(u_orig, aspect='auto')\n",
    "plt.colorbar()"
   ]
  },
  {
   "cell_type": "markdown",
   "metadata": {},
   "source": [
    "## Generate some x data here"
   ]
  },
  {
   "cell_type": "code",
   "execution_count": 7,
   "metadata": {},
   "outputs": [],
   "source": [
    "x = [torch.randn([n_smps, d]) for d in d_in]"
   ]
  },
  {
   "cell_type": "markdown",
   "metadata": {},
   "source": [
    "## Run the model forward "
   ]
  },
  {
   "cell_type": "code",
   "execution_count": 8,
   "metadata": {},
   "outputs": [],
   "source": [
    "y_pred = mdl(x)\n",
    "y = mdl.generate(x)"
   ]
  },
  {
   "cell_type": "markdown",
   "metadata": {},
   "source": [
    "## Fit a new model"
   ]
  },
  {
   "cell_type": "code",
   "execution_count": 18,
   "metadata": {},
   "outputs": [],
   "source": [
    "M_fitted = IdentityMap()\n",
    "#M_fitted = LinearMap(d_proj, d_trans)\n",
    "S_fitted = [Bias(d_o) for d_o in d_out]\n",
    "fitted_mdl = LatentRegModel(d_in, d_out, d_proj, d_trans, M_fitted, S_fitted, direct_pairs=None)"
   ]
  },
  {
   "cell_type": "markdown",
   "metadata": {},
   "source": [
    "## Move model to cuda"
   ]
  },
  {
   "cell_type": "code",
   "execution_count": 19,
   "metadata": {},
   "outputs": [],
   "source": [
    "fitted_mdl=fitted_mdl.cuda()\n",
    "x = [x_i.pin_memory() for x_i in x]\n",
    "y = [y_i.pin_memory() for y_i in y]"
   ]
  },
  {
   "cell_type": "code",
   "execution_count": 20,
   "metadata": {},
   "outputs": [
    {
     "name": "stdout",
     "output_type": "stream",
     "text": [
      "0: Elapsed fitting time 0.0, vl: 217626060.0, lr: 0.1\n",
      "1000: Elapsed fitting time 9.821837902069092, vl: 36857.582, lr: 0.1\n",
      "2000: Elapsed fitting time 19.287567377090454, vl: 44719.543, lr: 0.1\n",
      "3000: Elapsed fitting time 28.655341625213623, vl: 36784.48, lr: 0.1\n",
      "4000: Elapsed fitting time 37.593058347702026, vl: 39045.504, lr: 0.1\n",
      "5000: Elapsed fitting time 46.574596643447876, vl: 32046.197, lr: 0.1\n",
      "6000: Elapsed fitting time 55.66513514518738, vl: 32770.348, lr: 0.1\n",
      "7000: Elapsed fitting time 64.70155382156372, vl: 24451.375, lr: 0.1\n",
      "8000: Elapsed fitting time 73.79538345336914, vl: 21560.908, lr: 0.1\n",
      "9000: Elapsed fitting time 82.80181837081909, vl: 21265.014, lr: 0.1\n",
      "9999: Elapsed fitting time 92.07241249084473, vl: 21131.854\n"
     ]
    }
   ],
   "source": [
    "log = fitted_mdl.fit(x, y, max_its=10000, batch_size=10, send_size=10, update_int=1000, min_var = .01,\n",
    "                     learning_rates=.1, l1_u_lambda = [1000., 0])"
   ]
  },
  {
   "cell_type": "code",
   "execution_count": 21,
   "metadata": {},
   "outputs": [
    {
     "data": {
      "text/plain": [
       "[<matplotlib.lines.Line2D at 0x1290ea2e198>]"
      ]
     },
     "execution_count": 21,
     "metadata": {},
     "output_type": "execute_result"
    }
   ],
   "source": [
    "%matplotlib qt\n",
    "plt.figure()\n",
    "plt.plot(log['elapsed_time'], log['obj'])"
   ]
  },
  {
   "cell_type": "markdown",
   "metadata": {},
   "source": [
    "## Compare predictions from fitted model to ground truth"
   ]
  },
  {
   "cell_type": "code",
   "execution_count": 22,
   "metadata": {},
   "outputs": [],
   "source": [
    "fitted_mdl = fitted_mdl.to('cpu')\n",
    "x = [x_g.to('cpu') for x_g in x]\n",
    "y = [y_h.to('cpu') for y_h in y]\n",
    "\n",
    "plt_smps = np.arange(1000)\n",
    "\n",
    "%matplotlib qt\n",
    "true_y_hat = mdl(x)\n",
    "fitted_y_hat = fitted_mdl(x)\n",
    "\n",
    "for g in range(n_output_groups):\n",
    "    plt.figure()\n",
    "    for d in range(5):\n",
    "        plt.subplot(1, 5, d+1)\n",
    "        true_obs_values = y[g][plt_smps, d].detach().numpy()\n",
    "        true_plt_values = true_y_hat[g][plt_smps, d].detach().numpy()\n",
    "        fitted_plt_values = fitted_y_hat[g][plt_smps, d].detach().numpy()\n",
    "        plt.plot(true_obs_values, 'go')\n",
    "        plt.plot(true_plt_values, 'ro')\n",
    "        plt.plot(fitted_plt_values, 'b-')"
   ]
  },
  {
   "cell_type": "markdown",
   "metadata": {},
   "source": [
    "## Visualize parameters"
   ]
  },
  {
   "cell_type": "code",
   "execution_count": 37,
   "metadata": {},
   "outputs": [],
   "source": [
    "u_est = u_h = np.abs(fitted_mdl.u[0].detach().cpu().numpy())\n",
    "u_true = u_h = np.abs(mdl.u[0].detach().cpu().numpy())"
   ]
  },
  {
   "cell_type": "code",
   "execution_count": 38,
   "metadata": {},
   "outputs": [
    {
     "data": {
      "text/plain": [
       "[<matplotlib.axes._subplots.AxesSubplot at 0x1290d31da90>,\n",
       " <matplotlib.axes._subplots.AxesSubplot at 0x1290d3c8c18>,\n",
       " <matplotlib.axes._subplots.AxesSubplot at 0x1291fac6048>]"
      ]
     },
     "execution_count": 38,
     "metadata": {},
     "output_type": "execute_result"
    }
   ],
   "source": [
    "plt.figure()\n",
    "cmp_n_mats([u_est, u_true, u_est - u_true], titles=['Estimated', 'True', 'Diff'])"
   ]
  },
  {
   "cell_type": "code",
   "execution_count": 35,
   "metadata": {},
   "outputs": [
    {
     "name": "stdout",
     "output_type": "stream",
     "text": [
      " Produces a figuring comparing matrices.\n",
      "\n",
      "    Each matrix will be plotted in a separate axes, and all axes will use the same color scaling.\n",
      "\n",
      "    Args:\n",
      "        mats: A list of matrices to compare.\n",
      "\n",
      "        clim: An list of length 2 of color limits to apply to all images.  If None is provided, will be set to\n",
      "        [min_v, max_v] where min_v and max_v are the min and max values in all of the matrices\n",
      "\n",
      "        show_colorbars: True if colorbars should be shown next to each plot\n",
      "\n",
      "        titles: A list of tiles for each matrix in mats.  If None, no titles will be generated\n",
      "\n",
      "        grid_info: A dictionary with information about how to layout the matrices in a grid.  It should have the entries:\n",
      "            grid_spec: The matplotlib.gridspec.GridSpec to use for the grid\n",
      "            cell_info: A list the same length as mats.  cell_info[i] contains:\n",
      "                loc: The location for the subplot for the i^th matrix\n",
      "                rowspan: The row span for the i^th matrix\n",
      "                colspan: The column span for the i^th matrix\n",
      "\n",
      "            If grid_info is None, one will be created for showing the matrices next to each other in a row.\n",
      "\n",
      "    Returns:\n",
      "        subplots: List of subplot objects for each subplot showing the matrices in mats.  Subplots are ordered according\n",
      "        to mats.\n",
      "    \n"
     ]
    }
   ],
   "source": [
    "print(cmp_n_mats.__doc__)"
   ]
  },
  {
   "cell_type": "code",
   "execution_count": null,
   "metadata": {},
   "outputs": [],
   "source": []
  }
 ],
 "metadata": {
  "kernelspec": {
   "display_name": "Python 3",
   "language": "python",
   "name": "python3"
  },
  "language_info": {
   "codemirror_mode": {
    "name": "ipython",
    "version": 3
   },
   "file_extension": ".py",
   "mimetype": "text/x-python",
   "name": "python",
   "nbconvert_exporter": "python",
   "pygments_lexer": "ipython3",
   "version": "3.6.7"
  }
 },
 "nbformat": 4,
 "nbformat_minor": 2
}
