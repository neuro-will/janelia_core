{
 "cells": [
  {
   "cell_type": "code",
   "execution_count": 1,
   "metadata": {},
   "outputs": [],
   "source": [
    "%load_ext autoreload\n",
    "%autoreload 2"
   ]
  },
  {
   "cell_type": "code",
   "execution_count": 2,
   "metadata": {},
   "outputs": [],
   "source": [
    "import matplotlib.pyplot as plt\n",
    "import numpy as np\n",
    "import torch\n",
    "\n",
    "from janelia_core.ml.extra_torch_modules import Bias\n",
    "from janelia_core.ml.latent_regression import LatentRegModel\n",
    "from janelia_core.ml.latent_regression import LinearMap"
   ]
  },
  {
   "cell_type": "markdown",
   "metadata": {},
   "source": [
    "## Parameters for model go here"
   ]
  },
  {
   "cell_type": "code",
   "execution_count": 3,
   "metadata": {},
   "outputs": [],
   "source": [
    "d_in = [5, 6, 7]\n",
    "d_out = [5, 8, 9]\n",
    "\n",
    "d_proj = [1, 1, 1]\n",
    "d_trans = [1, 1, 2]\n",
    "\n",
    "n_smps = 20000"
   ]
  },
  {
   "cell_type": "code",
   "execution_count": 4,
   "metadata": {},
   "outputs": [],
   "source": [
    "## Create the model here\n",
    "n_output_groups = len(d_in)\n",
    "\n",
    "M = LinearMap(d_proj, d_trans)\n",
    "S = [[Bias(1) for i in range(d_out[h])] for h in range(n_output_groups)]\n",
    "mdl = LatentRegModel(d_in, d_out, d_proj, d_trans, M, S, direct_pairs=None)"
   ]
  },
  {
   "cell_type": "markdown",
   "metadata": {},
   "source": [
    "## Generate some x data here"
   ]
  },
  {
   "cell_type": "code",
   "execution_count": 5,
   "metadata": {},
   "outputs": [],
   "source": [
    "x = [torch.randn([n_smps, d]) for d in d_in]"
   ]
  },
  {
   "cell_type": "markdown",
   "metadata": {},
   "source": [
    "## Run the model forward "
   ]
  },
  {
   "cell_type": "code",
   "execution_count": 6,
   "metadata": {},
   "outputs": [],
   "source": [
    "y_pred = mdl(x)\n",
    "y = mdl.generate(x)"
   ]
  },
  {
   "cell_type": "markdown",
   "metadata": {},
   "source": [
    "## Fit a new model"
   ]
  },
  {
   "cell_type": "code",
   "execution_count": 7,
   "metadata": {},
   "outputs": [],
   "source": [
    "M_fitted = LinearMap(d_proj, d_trans)\n",
    "S_fitted = [[Bias(1) for i in range(d_out[h])] for h in range(n_output_groups)]\n",
    "fitted_mdl = LatentRegModel(d_in, d_out, d_proj, d_trans, M_fitted, S_fitted, direct_pairs=None)"
   ]
  },
  {
   "cell_type": "code",
   "execution_count": 8,
   "metadata": {},
   "outputs": [
    {
     "name": "stdout",
     "output_type": "stream",
     "text": [
      "0: Elapsed fitting time 0.0, vl: 6628.026, lr: 0.01\n",
      "1000: Elapsed fitting time 3.4695756435394287, vl: 12.79518, lr: 0.01\n",
      "2000: Elapsed fitting time 6.693968772888184, vl: -5.688615, lr: 0.01\n",
      "3000: Elapsed fitting time 9.905351638793945, vl: -8.532728, lr: 0.01\n",
      "4000: Elapsed fitting time 13.126751899719238, vl: -10.888018, lr: 0.01\n",
      "5000: Elapsed fitting time 16.47635793685913, vl: -12.217566, lr: 0.01\n",
      "6000: Elapsed fitting time 19.871877908706665, vl: -12.651084, lr: 0.01\n",
      "7000: Elapsed fitting time 23.266780853271484, vl: -14.891417, lr: 0.01\n",
      "8000: Elapsed fitting time 26.68431830406189, vl: -13.93134, lr: 0.01\n",
      "9000: Elapsed fitting time 30.09081244468689, vl: -14.4672, lr: 0.01\n",
      "9999: Elapsed fitting time 33.49433898925781, vl: -14.49562\n"
     ]
    }
   ],
   "source": [
    "log = fitted_mdl.fit(x, y, max_its=10000, batch_size=100, update_int=1000, min_var = .01)"
   ]
  },
  {
   "cell_type": "code",
   "execution_count": 9,
   "metadata": {},
   "outputs": [
    {
     "data": {
      "text/plain": [
       "[<matplotlib.lines.Line2D at 0x1b35cad8160>]"
      ]
     },
     "execution_count": 9,
     "metadata": {},
     "output_type": "execute_result"
    }
   ],
   "source": [
    "%matplotlib qt\n",
    "plt.figure()\n",
    "plt.plot(log['elapsed_time'], log['obj'])"
   ]
  },
  {
   "cell_type": "markdown",
   "metadata": {},
   "source": [
    "## Compare predictions from fitted model to ground truth"
   ]
  },
  {
   "cell_type": "code",
   "execution_count": 10,
   "metadata": {},
   "outputs": [],
   "source": [
    "plt_smps = np.arange(1000)\n",
    "\n",
    "%matplotlib qt\n",
    "true_y_hat = mdl(x)\n",
    "fitted_y_hat = fitted_mdl(x)\n",
    "\n",
    "for g in range(n_output_groups):\n",
    "    plt.figure()\n",
    "    for d in range(d_out[g]):\n",
    "        plt.subplot(1, d_out[g], d+1)\n",
    "        true_plt_values = true_y_hat[g][plt_smps, d].detach().numpy()\n",
    "        fitted_plt_values = fitted_y_hat[g][plt_smps, d].detach().numpy()\n",
    "        plt.plot(true_plt_values, 'ro')\n",
    "        plt.plot(fitted_plt_values, 'b-')"
   ]
  }
 ],
 "metadata": {
  "kernelspec": {
   "display_name": "Python 3",
   "language": "python",
   "name": "python3"
  },
  "language_info": {
   "codemirror_mode": {
    "name": "ipython",
    "version": 3
   },
   "file_extension": ".py",
   "mimetype": "text/x-python",
   "name": "python",
   "nbconvert_exporter": "python",
   "pygments_lexer": "ipython3",
   "version": "3.6.7"
  }
 },
 "nbformat": 4,
 "nbformat_minor": 2
}
