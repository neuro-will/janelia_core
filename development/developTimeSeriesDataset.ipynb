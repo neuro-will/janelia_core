{
 "cells": [
  {
   "cell_type": "markdown",
   "metadata": {},
   "source": [
    "Code for developing and test the TimeSeriesDataset and TimeSeriesBatch"
   ]
  },
  {
   "cell_type": "code",
   "execution_count": 1,
   "metadata": {},
   "outputs": [],
   "source": [
    "%load_ext autoreload\n",
    "%autoreload 2"
   ]
  },
  {
   "cell_type": "code",
   "execution_count": 2,
   "metadata": {},
   "outputs": [],
   "source": [
    "import numpy as np\n",
    "import torch\n",
    "import torch.utils\n",
    "\n",
    "from janelia_core.ml.datasets import TimeSeriesDataset\n",
    "from janelia_core.ml.datasets import TimeSeriesBatch\n",
    "from janelia_core.ml.datasets import cat_time_series_batches"
   ]
  },
  {
   "cell_type": "markdown",
   "metadata": {},
   "source": [
    "Create some TimeSeriesBatch objects and test the concatenation function"
   ]
  },
  {
   "cell_type": "code",
   "execution_count": null,
   "metadata": {},
   "outputs": [],
   "source": [
    "b1_data_g1 = torch.arange(10).view(10, 1)\n",
    "b1_data_g1 = torch.cat([b1_data_g1, b1_data_g1], dim=1)\n",
    "b1_data_g2 = torch.arange(10).view(10, 1).float() + .5\n",
    "\n",
    "b1_i_x = torch.arange(9)\n",
    "b1_i_y = b1_i_x + 1\n",
    "\n",
    "b1_i_orig = torch.arange(10)\n",
    "\n",
    "b1 = TimeSeriesBatch(data=[b1_data_g1, b1_data_g2], i_x=b1_i_x, \n",
    "                    i_y=b1_i_y, i_orig=b1_i_orig)\n"
   ]
  },
  {
   "cell_type": "code",
   "execution_count": null,
   "metadata": {},
   "outputs": [],
   "source": [
    "b2_data_g1 = torch.arange(5, 13).view(8, 1)\n",
    "b2_data_g1 = torch.cat([b2_data_g1, b2_data_g1], dim=1)\n",
    "b2_data_g2 = torch.arange(5, 13).view(8, 1).float() + .5\n",
    "\n",
    "b2_i_x = torch.arange(7)\n",
    "b2_i_y = b2_i_x + 1\n",
    "\n",
    "b2_i_orig = torch.arange(5, 13)\n",
    "\n",
    "b2 = TimeSeriesBatch(data=[b2_data_g1, b2_data_g2], i_x=b2_i_x, \n",
    "                    i_y=b2_i_y, i_orig=b2_i_orig)"
   ]
  },
  {
   "cell_type": "code",
   "execution_count": null,
   "metadata": {},
   "outputs": [],
   "source": [
    "c = cat_time_series_batches([b1, b2])"
   ]
  },
  {
   "cell_type": "code",
   "execution_count": null,
   "metadata": {},
   "outputs": [],
   "source": [
    "c.data[1][c.i_y]"
   ]
  },
  {
   "cell_type": "code",
   "execution_count": null,
   "metadata": {},
   "outputs": [],
   "source": [
    "b1.data[1][b1.i_y]"
   ]
  },
  {
   "cell_type": "code",
   "execution_count": null,
   "metadata": {},
   "outputs": [],
   "source": [
    "b2.data[1][b2.i_y]"
   ]
  },
  {
   "cell_type": "markdown",
   "metadata": {},
   "source": [
    "Create a dataset and sample from it"
   ]
  },
  {
   "cell_type": "code",
   "execution_count": null,
   "metadata": {},
   "outputs": [],
   "source": [
    "ds = TimeSeriesDataset(ts_data=[b1_data_g1, b1_data_g2])"
   ]
  },
  {
   "cell_type": "code",
   "execution_count": null,
   "metadata": {},
   "outputs": [],
   "source": [
    "loader = torch.utils.data.DataLoader(dataset=ds, batch_size=3, \n",
    "                                     collate_fn=cat_time_series_batches,\n",
    "                                     shuffle=False, pin_memory=True, num_workers=2)"
   ]
  },
  {
   "cell_type": "code",
   "execution_count": null,
   "metadata": {},
   "outputs": [],
   "source": [
    "for b_i, b in enumerate(loader):\n",
    "    print('******** Batch ' + str(b_i) + ' ********')\n",
    "    print(b.data[0][b.i_x])\n",
    "    print(b.i_orig.is_pinned())"
   ]
  },
  {
   "cell_type": "markdown",
   "metadata": {},
   "source": [
    "## Create a TimeSeriesBatch object and sample from it efficiently"
   ]
  },
  {
   "cell_type": "code",
   "execution_count": 4,
   "metadata": {},
   "outputs": [],
   "source": [
    "b_smp_data_g1 = torch.arange(10).view(10, 1)\n",
    "b_smp_data_g2 = torch.arange(10).view(10, 1).float() + .5\n",
    "\n",
    "b_smp_i_x = torch.arange(9)\n",
    "b_smp_i_y = b_smp_i_x + 1\n",
    "\n",
    "b_smp_i_orig = torch.arange(10)\n",
    "\n",
    "b_smp = TimeSeriesBatch(data=[b_smp_data_g1, b_smp_data_g2], i_x=b_smp_i_x, \n",
    "                    i_y=b_smp_i_y, i_orig=b_smp_i_orig)"
   ]
  },
  {
   "cell_type": "code",
   "execution_count": 66,
   "metadata": {},
   "outputs": [],
   "source": [
    "smp = b_smp.efficient_get_item(np.asarray([0, 1, 3, 0]))\n",
    "#smp = b_smp[np.asarray([0, 1, 3, 0])]"
   ]
  },
  {
   "cell_type": "code",
   "execution_count": 67,
   "metadata": {},
   "outputs": [
    {
     "data": {
      "text/plain": [
       "tensor([[0],\n",
       "        [1],\n",
       "        [3],\n",
       "        [0]])"
      ]
     },
     "execution_count": 67,
     "metadata": {},
     "output_type": "execute_result"
    }
   ],
   "source": [
    "smp.data[0][smp.i_x]\n",
    "#smp.data[0][smp.i_y]"
   ]
  },
  {
   "cell_type": "code",
   "execution_count": 68,
   "metadata": {},
   "outputs": [],
   "source": [
    "smp2 = cat_time_series_batches(smp)"
   ]
  },
  {
   "cell_type": "code",
   "execution_count": 69,
   "metadata": {},
   "outputs": [
    {
     "data": {
      "text/plain": [
       "tensor([[1],\n",
       "        [2],\n",
       "        [4],\n",
       "        [1]])"
      ]
     },
     "execution_count": 69,
     "metadata": {},
     "output_type": "execute_result"
    }
   ],
   "source": [
    "smp2.data[0][smp.i_x]\n",
    "smp2.data[0][smp.i_y]"
   ]
  },
  {
   "cell_type": "code",
   "execution_count": 70,
   "metadata": {},
   "outputs": [
    {
     "data": {
      "text/plain": [
       "[tensor([[0],\n",
       "         [1],\n",
       "         [2],\n",
       "         [3],\n",
       "         [4]]), tensor([[0.5000],\n",
       "         [1.5000],\n",
       "         [2.5000],\n",
       "         [3.5000],\n",
       "         [4.5000]])]"
      ]
     },
     "execution_count": 70,
     "metadata": {},
     "output_type": "execute_result"
    }
   ],
   "source": [
    "smp2.data"
   ]
  },
  {
   "cell_type": "code",
   "execution_count": null,
   "metadata": {},
   "outputs": [],
   "source": []
  }
 ],
 "metadata": {
  "kernelspec": {
   "display_name": "Python 3",
   "language": "python",
   "name": "python3"
  },
  "language_info": {
   "codemirror_mode": {
    "name": "ipython",
    "version": 3
   },
   "file_extension": ".py",
   "mimetype": "text/x-python",
   "name": "python",
   "nbconvert_exporter": "python",
   "pygments_lexer": "ipython3",
   "version": "3.7.3"
  }
 },
 "nbformat": 4,
 "nbformat_minor": 2
}
