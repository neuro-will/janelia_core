{
 "cells": [
  {
   "cell_type": "markdown",
   "metadata": {},
   "source": [
    "Code for developing and test the TimeSeriesDataset"
   ]
  },
  {
   "cell_type": "code",
   "execution_count": 1,
   "metadata": {},
   "outputs": [],
   "source": [
    "%load_ext autoreload\n",
    "%autoreload 2"
   ]
  },
  {
   "cell_type": "code",
   "execution_count": 2,
   "metadata": {},
   "outputs": [],
   "source": [
    "import numpy as np\n",
    "import torch\n",
    "import torch.utils\n",
    "\n",
    "from janelia_core.ml.datasets import TimeSeriesDataset\n",
    "from janelia_core.ml.datasets import TimeSeriesBatch\n",
    "from janelia_core.ml.datasets import cat_time_series_batches"
   ]
  },
  {
   "cell_type": "markdown",
   "metadata": {},
   "source": [
    "Create some TimeSeriesBatch objects and test the concatenation function"
   ]
  },
  {
   "cell_type": "code",
   "execution_count": 3,
   "metadata": {},
   "outputs": [],
   "source": [
    "b1_data_g1 = torch.arange(10).view(10, 1)\n",
    "b1_data_g1 = torch.cat([b1_data_g1, b1_data_g1], dim=1)\n",
    "b1_data_g2 = torch.arange(10).view(10, 1).float() + .5\n",
    "\n",
    "b1_i_x = torch.arange(9)\n",
    "b1_i_y = b1_i_x + 1\n",
    "\n",
    "b1_i_orig = torch.arange(10)\n",
    "\n",
    "b1 = TimeSeriesBatch(data=[b1_data_g1, b1_data_g2], i_x=b1_i_x, \n",
    "                    i_y=b1_i_y, i_orig=b1_i_orig)\n"
   ]
  },
  {
   "cell_type": "code",
   "execution_count": null,
   "metadata": {},
   "outputs": [],
   "source": [
    "b2_data_g1 = torch.arange(5, 13).view(8, 1)\n",
    "b2_data_g1 = torch.cat([b2_data_g1, b2_data_g1], dim=1)\n",
    "b2_data_g2 = torch.arange(5, 13).view(8, 1).float() + .5\n",
    "\n",
    "b2_i_x = torch.arange(7)\n",
    "b2_i_y = b2_i_x + 1\n",
    "\n",
    "b2_i_orig = torch.arange(5, 13)\n",
    "\n",
    "b2 = TimeSeriesBatch(data=[b2_data_g1, b2_data_g2], i_x=b2_i_x, \n",
    "                    i_y=b2_i_y, i_orig=b2_i_orig)"
   ]
  },
  {
   "cell_type": "code",
   "execution_count": null,
   "metadata": {},
   "outputs": [],
   "source": [
    "c = cat_time_series_batches([b1, b2])"
   ]
  },
  {
   "cell_type": "code",
   "execution_count": null,
   "metadata": {},
   "outputs": [],
   "source": [
    "c.data[1][c.i_y]"
   ]
  },
  {
   "cell_type": "code",
   "execution_count": null,
   "metadata": {},
   "outputs": [],
   "source": [
    "b1.data[1][b1.i_y]"
   ]
  },
  {
   "cell_type": "code",
   "execution_count": null,
   "metadata": {},
   "outputs": [],
   "source": [
    "b2.data[1][b2.i_y]"
   ]
  },
  {
   "cell_type": "markdown",
   "metadata": {},
   "source": [
    "Create a dataset and sample from it"
   ]
  },
  {
   "cell_type": "code",
   "execution_count": null,
   "metadata": {},
   "outputs": [],
   "source": [
    "ds = TimeSeriesDataset(ts_data=[b1_data_g1, b1_data_g2])"
   ]
  },
  {
   "cell_type": "code",
   "execution_count": null,
   "metadata": {},
   "outputs": [],
   "source": [
    "loader = torch.utils.data.DataLoader(dataset=ds, batch_size=3, \n",
    "                                     collate_fn=cat_time_series_batches,\n",
    "                                     shuffle=False, pin_memory=True, num_workers=2)"
   ]
  },
  {
   "cell_type": "code",
   "execution_count": null,
   "metadata": {},
   "outputs": [],
   "source": [
    "for b_i, b in enumerate(loader):\n",
    "    print('******** Batch ' + str(b_i) + ' ********')\n",
    "    print(b.data[0][b.i_x])\n",
    "    print(b.i_orig.is_pinned())"
   ]
  },
  {
   "cell_type": "code",
   "execution_count": null,
   "metadata": {},
   "outputs": [],
   "source": []
  }
 ],
 "metadata": {
  "kernelspec": {
   "display_name": "Python 3",
   "language": "python",
   "name": "python3"
  },
  "language_info": {
   "codemirror_mode": {
    "name": "ipython",
    "version": 3
   },
   "file_extension": ".py",
   "mimetype": "text/x-python",
   "name": "python",
   "nbconvert_exporter": "python",
   "pygments_lexer": "ipython3",
   "version": "3.7.2"
  }
 },
 "nbformat": 4,
 "nbformat_minor": 2
}
