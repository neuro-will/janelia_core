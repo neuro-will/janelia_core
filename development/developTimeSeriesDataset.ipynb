{
 "cells": [
  {
   "cell_type": "markdown",
   "metadata": {},
   "source": [
    "Code for developing and test the TimeSeriesDataset"
   ]
  },
  {
   "cell_type": "code",
   "execution_count": 1,
   "metadata": {},
   "outputs": [],
   "source": [
    "%load_ext autoreload\n",
    "%autoreload 2"
   ]
  },
  {
   "cell_type": "code",
   "execution_count": 2,
   "metadata": {},
   "outputs": [],
   "source": [
    "import numpy as np\n",
    "import torch\n",
    "import torch.utils\n",
    "\n",
    "from janelia_core.ml.datasets import TimeSeriesDataset\n",
    "from janelia_core.ml.datasets import TimeSeriesBatch\n",
    "from janelia_core.ml.datasets import cat_time_series_batches"
   ]
  },
  {
   "cell_type": "markdown",
   "metadata": {},
   "source": [
    "Create some TimeSeriesBatch objects and test the concatenation function"
   ]
  },
  {
   "cell_type": "code",
   "execution_count": 3,
   "metadata": {},
   "outputs": [],
   "source": [
    "b1_data_g1 = torch.arange(10).view(10, 1)\n",
    "b1_data_g1 = torch.cat([b1_data_g1, b1_data_g1], dim=1)\n",
    "b1_data_g2 = torch.arange(10).view(10, 1).float() + .5\n",
    "\n",
    "b1_i_x = torch.arange(9)\n",
    "b1_i_y = b1_i_x + 1\n",
    "\n",
    "b1_i_orig = torch.arange(10)\n",
    "\n",
    "b1 = TimeSeriesBatch(data=[b1_data_g1, b1_data_g2], i_x=b1_i_x, \n",
    "                    i_y=b1_i_y, i_orig=b1_i_orig)\n"
   ]
  },
  {
   "cell_type": "code",
   "execution_count": 4,
   "metadata": {},
   "outputs": [],
   "source": [
    "b2_data_g1 = torch.arange(5, 13).view(8, 1)\n",
    "b2_data_g1 = torch.cat([b2_data_g1, b2_data_g1], dim=1)\n",
    "b2_data_g2 = torch.arange(5, 13).view(8, 1).float() + .5\n",
    "\n",
    "b2_i_x = torch.arange(7)\n",
    "b2_i_y = b2_i_x + 1\n",
    "\n",
    "b2_i_orig = torch.arange(5, 13)\n",
    "\n",
    "b2 = TimeSeriesBatch(data=[b2_data_g1, b2_data_g2], i_x=b2_i_x, \n",
    "                    i_y=b2_i_y, i_orig=b2_i_orig)"
   ]
  },
  {
   "cell_type": "code",
   "execution_count": 5,
   "metadata": {},
   "outputs": [],
   "source": [
    "c = cat_time_series_batches([b1, b2])"
   ]
  },
  {
   "cell_type": "code",
   "execution_count": 6,
   "metadata": {},
   "outputs": [
    {
     "data": {
      "text/plain": [
       "tensor([[ 1.5000],\n",
       "        [ 2.5000],\n",
       "        [ 3.5000],\n",
       "        [ 4.5000],\n",
       "        [ 5.5000],\n",
       "        [ 6.5000],\n",
       "        [ 7.5000],\n",
       "        [ 8.5000],\n",
       "        [ 9.5000],\n",
       "        [ 6.5000],\n",
       "        [ 7.5000],\n",
       "        [ 8.5000],\n",
       "        [ 9.5000],\n",
       "        [10.5000],\n",
       "        [11.5000],\n",
       "        [12.5000]])"
      ]
     },
     "execution_count": 6,
     "metadata": {},
     "output_type": "execute_result"
    }
   ],
   "source": [
    "c.data[1][c.i_y]"
   ]
  },
  {
   "cell_type": "code",
   "execution_count": 7,
   "metadata": {},
   "outputs": [
    {
     "data": {
      "text/plain": [
       "tensor([[1.5000],\n",
       "        [2.5000],\n",
       "        [3.5000],\n",
       "        [4.5000],\n",
       "        [5.5000],\n",
       "        [6.5000],\n",
       "        [7.5000],\n",
       "        [8.5000],\n",
       "        [9.5000]])"
      ]
     },
     "execution_count": 7,
     "metadata": {},
     "output_type": "execute_result"
    }
   ],
   "source": [
    "b1.data[1][b1.i_y]"
   ]
  },
  {
   "cell_type": "code",
   "execution_count": 8,
   "metadata": {},
   "outputs": [
    {
     "data": {
      "text/plain": [
       "tensor([[ 6.5000],\n",
       "        [ 7.5000],\n",
       "        [ 8.5000],\n",
       "        [ 9.5000],\n",
       "        [10.5000],\n",
       "        [11.5000],\n",
       "        [12.5000]])"
      ]
     },
     "execution_count": 8,
     "metadata": {},
     "output_type": "execute_result"
    }
   ],
   "source": [
    "b2.data[1][b2.i_y]"
   ]
  },
  {
   "cell_type": "markdown",
   "metadata": {},
   "source": [
    "Create a dataset and sample from it"
   ]
  },
  {
   "cell_type": "code",
   "execution_count": 9,
   "metadata": {},
   "outputs": [],
   "source": [
    "ds = TimeSeriesDataset(ts_data=[b1_data_g1, b1_data_g2])"
   ]
  },
  {
   "cell_type": "code",
   "execution_count": 10,
   "metadata": {},
   "outputs": [],
   "source": [
    "loader = torch.utils.data.DataLoader(dataset=ds, batch_size=2, \n",
    "                                     collate_fn=cat_time_series_batches,\n",
    "                                     shuffle=True)"
   ]
  },
  {
   "cell_type": "code",
   "execution_count": 11,
   "metadata": {},
   "outputs": [
    {
     "name": "stdout",
     "output_type": "stream",
     "text": [
      "******** Batch 0 ********\n",
      "tensor([[5, 5],\n",
      "        [8, 8]])\n",
      "******** Batch 1 ********\n",
      "tensor([[1, 1],\n",
      "        [3, 3]])\n",
      "******** Batch 2 ********\n",
      "tensor([[4, 4],\n",
      "        [0, 0]])\n",
      "******** Batch 3 ********\n",
      "tensor([[6, 6],\n",
      "        [2, 2]])\n",
      "******** Batch 4 ********\n",
      "tensor([[7, 7]])\n"
     ]
    }
   ],
   "source": [
    "for b_i, b in enumerate(loader):\n",
    "    print('******** Batch ' + str(b_i) + ' ********')\n",
    "    print(b.data[0][b.i_x])"
   ]
  },
  {
   "cell_type": "code",
   "execution_count": null,
   "metadata": {},
   "outputs": [],
   "source": []
  }
 ],
 "metadata": {
  "kernelspec": {
   "display_name": "Python 3",
   "language": "python",
   "name": "python3"
  },
  "language_info": {
   "codemirror_mode": {
    "name": "ipython",
    "version": 3
   },
   "file_extension": ".py",
   "mimetype": "text/x-python",
   "name": "python",
   "nbconvert_exporter": "python",
   "pygments_lexer": "ipython3",
   "version": "3.7.2"
  }
 },
 "nbformat": 4,
 "nbformat_minor": 2
}
