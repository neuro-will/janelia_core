{
 "cells": [
  {
   "cell_type": "code",
   "execution_count": 1,
   "metadata": {},
   "outputs": [],
   "source": [
    "%load_ext autoreload\n",
    "%autoreload 2"
   ]
  },
  {
   "cell_type": "code",
   "execution_count": 2,
   "metadata": {},
   "outputs": [],
   "source": [
    "import matplotlib.pyplot as plt\n",
    "import numpy as np\n",
    "import torch as torch\n",
    "\n",
    "from janelia_core.ml.extra_torch_modules import ConstantBoundedFcn\n",
    "from janelia_core.ml.extra_torch_modules import ConstantRealFcn\n",
    "from janelia_core.ml.torch_distributions import CondFoldedNormalDistribution"
   ]
  },
  {
   "cell_type": "markdown",
   "metadata": {},
   "source": [
    "## Parameters go here"
   ]
  },
  {
   "cell_type": "code",
   "execution_count": 3,
   "metadata": {},
   "outputs": [],
   "source": [
    "n_smps = 10000"
   ]
  },
  {
   "cell_type": "markdown",
   "metadata": {},
   "source": [
    "# Setup true conditional Half Normal distributions"
   ]
  },
  {
   "cell_type": "code",
   "execution_count": 4,
   "metadata": {},
   "outputs": [],
   "source": [
    "mu_f = ConstantRealFcn(init_vl=torch.tensor([1.0, 20.0, 3.0, 4.0]))\n",
    "sigma_f = ConstantRealFcn(init_vl=torch.tensor([1, 2.0, 1.0, 2.0]))\n",
    "true_dist = CondFoldedNormalDistribution(mu_f=mu_f, sigma_f=sigma_f)"
   ]
  },
  {
   "cell_type": "markdown",
   "metadata": {},
   "source": [
    "## Generate samples"
   ]
  },
  {
   "cell_type": "code",
   "execution_count": 5,
   "metadata": {},
   "outputs": [],
   "source": [
    "with torch.no_grad():\n",
    "    x = torch.rand(n_smps, 2)\n",
    "    smps = true_dist.sample(x)"
   ]
  },
  {
   "cell_type": "markdown",
   "metadata": {},
   "source": [
    "## Visualize distributions of samples"
   ]
  },
  {
   "cell_type": "code",
   "execution_count": 6,
   "metadata": {},
   "outputs": [
    {
     "data": {
      "image/png": "[encoded data removed]",
      "text/plain": [
       "<Figure size 432x288 with 4 Axes>"
      ]
     },
     "metadata": {
      "needs_background": "light"
     },
     "output_type": "display_data"
    }
   ],
   "source": [
    "plot_smps = smps.numpy()\n",
    "n_dists = plot_smps.shape[1]\n",
    "for d_i in range(n_dists):\n",
    "    plt.subplot(1,n_dists,d_i + 1)\n",
    "    plt.hist(plot_smps[:,d_i])"
   ]
  },
  {
   "cell_type": "markdown",
   "metadata": {},
   "source": [
    "## Fit a new distribution to the sample data "
   ]
  },
  {
   "cell_type": "code",
   "execution_count": 37,
   "metadata": {},
   "outputs": [],
   "source": [
    "mu_f_hat = ConstantBoundedFcn(lower_bound=.1*np.ones(4), upper_bound=40.0*np.ones(4), \n",
    "                                init_value=1.0*np.ones(4))\n",
    "sigma_f_hat = ConstantBoundedFcn(lower_bound=.1*np.ones(4), upper_bound=40.0*np.ones(4), \n",
    "                                init_value=1.0*np.ones(4))\n",
    "\n",
    "fit_dist = CondFoldedNormalDistribution(mu_f=mu_f_hat, sigma_f=sigma_f_hat)"
   ]
  },
  {
   "cell_type": "code",
   "execution_count": 42,
   "metadata": {},
   "outputs": [
    {
     "name": "stdout",
     "output_type": "stream",
     "text": [
      "It: 0, nll: 80260.195\n",
      "It: 100, nll: 73462.04\n",
      "It: 200, nll: 70698.14\n",
      "It: 300, nll: 68614.93\n",
      "It: 400, nll: 67236.695\n",
      "It: 500, nll: 66614.19\n",
      "It: 600, nll: 66378.86\n",
      "It: 700, nll: 66308.39\n",
      "It: 800, nll: 66293.1\n",
      "It: 900, nll: 66290.625\n",
      "It: 1000, nll: 66290.35\n",
      "It: 1100, nll: 66290.34\n",
      "It: 1200, nll: 66290.35\n",
      "It: 1300, nll: 66290.35\n",
      "It: 1400, nll: 66290.32\n",
      "It: 1500, nll: 66290.32\n",
      "It: 1600, nll: 66290.32\n",
      "It: 1700, nll: 66290.32\n",
      "It: 1800, nll: 66290.32\n",
      "It: 1900, nll: 66290.31\n"
     ]
    }
   ],
   "source": [
    "optimizer = torch.optim.Adam(params=fit_dist.parameters(), lr=.001)\n",
    "for it in range(2000):\n",
    "    optimizer.zero_grad()\n",
    "    nll = -1*torch.sum(fit_dist.log_prob(x=x, y=smps))\n",
    "    nll.backward()\n",
    "    optimizer.step()\n",
    "    \n",
    "    if it % 100 == 0:\n",
    "        print('It: ' + str(it) + ', nll: '+ str(nll.detach().numpy()))"
   ]
  },
  {
   "cell_type": "markdown",
   "metadata": {},
   "source": [
    "## Look at distributions of samples from fit functions"
   ]
  },
  {
   "cell_type": "code",
   "execution_count": 43,
   "metadata": {},
   "outputs": [
    {
     "data": {
      "image/png": "[encoded data removed]",
      "text/plain": [
       "<Figure size 432x288 with 4 Axes>"
      ]
     },
     "metadata": {
      "needs_background": "light"
     },
     "output_type": "display_data"
    }
   ],
   "source": [
    "with torch.no_grad():\n",
    "    fit_smps = fit_dist.sample(x)\n",
    "    \n",
    "plot_fit_smps = fit_smps.numpy()\n",
    "n_dists = plot_fit_smps.shape[1]\n",
    "for d_i in range(n_dists):\n",
    "    plt.subplot(1,n_dists,d_i + 1)\n",
    "    plt.hist(plot_fit_smps[:,d_i])"
   ]
  },
  {
   "cell_type": "code",
   "execution_count": 44,
   "metadata": {},
   "outputs": [
    {
     "data": {
      "text/plain": [
       "tensor([[ 1.0037, 20.0269,  3.0083,  4.0149]], grad_fn=<ExpandBackward>)"
      ]
     },
     "execution_count": 44,
     "metadata": {},
     "output_type": "execute_result"
    }
   ],
   "source": [
    "fit_dist.mu_f(x[0:1,:])"
   ]
  },
  {
   "cell_type": "code",
   "execution_count": 45,
   "metadata": {},
   "outputs": [
    {
     "data": {
      "text/plain": [
       "tensor([[0.9787, 1.9804, 1.0070, 1.9997]], grad_fn=<ExpandBackward>)"
      ]
     },
     "execution_count": 45,
     "metadata": {},
     "output_type": "execute_result"
    }
   ],
   "source": [
    "fit_dist.sigma_f(x[0:1,:])"
   ]
  },
  {
   "cell_type": "markdown",
   "metadata": {},
   "source": [
    "## Fit a new distribution to the true one by minimize KL divergences"
   ]
  },
  {
   "cell_type": "code",
   "execution_count": 51,
   "metadata": {},
   "outputs": [],
   "source": [
    "mu_f_kl = ConstantBoundedFcn(lower_bound=.1*np.ones(4), upper_bound=40.0*np.ones(4), \n",
    "                                init_value=1.0*np.ones(4))\n",
    "sigma_f_kl = ConstantBoundedFcn(lower_bound=.1*np.ones(4), upper_bound=40.0*np.ones(4), \n",
    "                                init_value=1.0*np.ones(4))\n",
    "\n",
    "dist_kl = CondFoldedNormalDistribution(mu_f=mu_f_kl, sigma_f=sigma_f_kl)"
   ]
  },
  {
   "cell_type": "code",
   "execution_count": 52,
   "metadata": {},
   "outputs": [
    {
     "name": "stdout",
     "output_type": "stream",
     "text": [
      "It: 0, kl: 481184.8\n",
      "It: 100, kl: 173156.16\n",
      "It: 200, kl: 1032.9677\n",
      "It: 300, kl: 48.722214\n",
      "It: 400, kl: 3.4688325\n",
      "It: 500, kl: -0.10107136\n",
      "It: 600, kl: 0.40242815\n",
      "It: 700, kl: 2.4700904\n",
      "It: 800, kl: -0.5714617\n",
      "It: 900, kl: -1.7074499\n",
      "It: 1000, kl: 1.247571\n",
      "It: 1100, kl: 4.5557375\n",
      "It: 1200, kl: 1.6829295\n",
      "It: 1300, kl: 2.9957886\n",
      "It: 1400, kl: 1.5210519\n",
      "It: 1500, kl: 1.5236053\n",
      "It: 1600, kl: 0.053441525\n",
      "It: 1700, kl: 1.6762981\n",
      "It: 1800, kl: 1.6409211\n",
      "It: 1900, kl: 1.8122659\n"
     ]
    }
   ],
   "source": [
    "optimizer = torch.optim.Adam(params=dist_kl.parameters(), lr=.01)\n",
    "for it in range(2000):\n",
    "    optimizer.zero_grad()\n",
    "    kl = torch.sum(dist_kl.kl(d_2=true_dist, x=x, smp=dist_kl.sample(x)))\n",
    "    kl.backward()\n",
    "    optimizer.step()\n",
    "    \n",
    "    if it % 100 == 0:\n",
    "        print('It: ' + str(it) + ', kl: '+ str(kl.detach().numpy()))"
   ]
  },
  {
   "cell_type": "markdown",
   "metadata": {},
   "source": [
    "## Look at distributions of samples from fit functions"
   ]
  },
  {
   "cell_type": "code",
   "execution_count": 53,
   "metadata": {},
   "outputs": [
    {
     "data": {
      "image/png": "[encoded data removed]",
      "text/plain": [
       "<Figure size 432x288 with 4 Axes>"
      ]
     },
     "metadata": {
      "needs_background": "light"
     },
     "output_type": "display_data"
    }
   ],
   "source": [
    "with torch.no_grad():\n",
    "    fit_smps = dist_kl.sample(x)\n",
    "    \n",
    "plot_fit_smps = fit_smps.numpy()\n",
    "n_dists = plot_fit_smps.shape[1]\n",
    "for d_i in range(n_dists):\n",
    "    plt.subplot(1,n_dists,d_i + 1)\n",
    "    plt.hist(plot_fit_smps[:,d_i])"
   ]
  },
  {
   "cell_type": "code",
   "execution_count": 54,
   "metadata": {},
   "outputs": [
    {
     "data": {
      "text/plain": [
       "tensor([[ 0.9895, 19.9977,  2.9836,  3.9937]], grad_fn=<ExpandBackward>)"
      ]
     },
     "execution_count": 54,
     "metadata": {},
     "output_type": "execute_result"
    }
   ],
   "source": [
    "dist_kl.mu_f(x[0:1, :])"
   ]
  },
  {
   "cell_type": "code",
   "execution_count": 55,
   "metadata": {},
   "outputs": [
    {
     "data": {
      "text/plain": [
       "tensor([[0.9914, 2.0036, 1.0019, 2.0015]], grad_fn=<ExpandBackward>)"
      ]
     },
     "execution_count": 55,
     "metadata": {},
     "output_type": "execute_result"
    }
   ],
   "source": [
    "dist_kl.sigma_f(x[0:1, :])"
   ]
  },
  {
   "cell_type": "code",
   "execution_count": null,
   "metadata": {},
   "outputs": [],
   "source": []
  }
 ],
 "metadata": {
  "kernelspec": {
   "display_name": "Python 3",
   "language": "python",
   "name": "python3"
  },
  "language_info": {
   "codemirror_mode": {
    "name": "ipython",
    "version": 3
   },
   "file_extension": ".py",
   "mimetype": "text/x-python",
   "name": "python",
   "nbconvert_exporter": "python",
   "pygments_lexer": "ipython3",
   "version": "3.8.5"
  }
 },
 "nbformat": 4,
 "nbformat_minor": 4
}
