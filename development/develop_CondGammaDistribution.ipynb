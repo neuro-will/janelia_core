{
 "cells": [
  {
   "cell_type": "code",
   "execution_count": 1,
   "metadata": {},
   "outputs": [],
   "source": [
    "%load_ext autoreload\n",
    "%autoreload 2"
   ]
  },
  {
   "cell_type": "code",
   "execution_count": 2,
   "metadata": {},
   "outputs": [],
   "source": [
    "import matplotlib.pyplot as plt\n",
    "import numpy as np\n",
    "import torch as torch\n",
    "\n",
    "from janelia_core.ml.extra_torch_modules import ConstantBoundedFcn\n",
    "from janelia_core.ml.extra_torch_modules import ConstantRealFcn\n",
    "from janelia_core.ml.torch_distributions import CondGammaDistribution\n"
   ]
  },
  {
   "cell_type": "markdown",
   "metadata": {},
   "source": [
    "## Parameters go here"
   ]
  },
  {
   "cell_type": "code",
   "execution_count": 3,
   "metadata": {},
   "outputs": [],
   "source": [
    "n_smps = 10000"
   ]
  },
  {
   "cell_type": "markdown",
   "metadata": {},
   "source": [
    "# Setup conditional Gamma distributions"
   ]
  },
  {
   "cell_type": "code",
   "execution_count": 4,
   "metadata": {},
   "outputs": [],
   "source": [
    "conc_f = ConstantRealFcn(init_vl=torch.tensor([1.0, 20.0, 3.0, 4.0]))\n",
    "rate_f = ConstantRealFcn(init_vl=torch.tensor([1.0, 2.0, 1.0, 2.0]))\n",
    "dist = CondGammaDistribution(conc_f=conc_f, rate_f=rate_f)"
   ]
  },
  {
   "cell_type": "markdown",
   "metadata": {},
   "source": [
    "## Generate samples"
   ]
  },
  {
   "cell_type": "code",
   "execution_count": 5,
   "metadata": {},
   "outputs": [],
   "source": [
    "with torch.no_grad():\n",
    "    x = torch.rand(n_smps, 2)\n",
    "    smps = dist.sample(x)"
   ]
  },
  {
   "cell_type": "markdown",
   "metadata": {},
   "source": [
    "## Visualize distributions of samples"
   ]
  },
  {
   "cell_type": "code",
   "execution_count": 6,
   "metadata": {},
   "outputs": [
    {
     "data": {
      "image/png": "[encoded data removed]",
      "text/plain": [
       "<Figure size 432x288 with 4 Axes>"
      ]
     },
     "metadata": {
      "needs_background": "light"
     },
     "output_type": "display_data"
    }
   ],
   "source": [
    "plot_smps = smps.numpy()\n",
    "n_dists = plot_smps.shape[1]\n",
    "for d_i in range(n_dists):\n",
    "    plt.subplot(1,n_dists,d_i + 1)\n",
    "    plt.hist(plot_smps[:,d_i])"
   ]
  },
  {
   "cell_type": "markdown",
   "metadata": {},
   "source": [
    "## Fit a new distribution to the sample data "
   ]
  },
  {
   "cell_type": "code",
   "execution_count": 7,
   "metadata": {},
   "outputs": [],
   "source": [
    "conf_f_hat = ConstantBoundedFcn(lower_bound=.1*np.ones(4), upper_bound=5.0*np.ones(4), \n",
    "                                init_value=1.0*np.ones(4))\n",
    "rate_f_hat = ConstantBoundedFcn(lower_bound=.1*np.ones(4), upper_bound=5.0*np.ones(4), \n",
    "                                init_value=1.0*np.ones(4))\n",
    "\n",
    "fit_dist = CondGammaDistribution(conc_f=conf_f_hat, rate_f=rate_f_hat)"
   ]
  },
  {
   "cell_type": "code",
   "execution_count": 9,
   "metadata": {},
   "outputs": [
    {
     "name": "stdout",
     "output_type": "stream",
     "text": [
      "It: 0, nll: 67129.27\n",
      "It: 100, nll: 72695.5\n",
      "It: 200, nll: 71863.58\n",
      "It: 300, nll: 71863.35\n",
      "It: 400, nll: 71863.22\n",
      "It: 500, nll: 71863.02\n",
      "It: 600, nll: 71862.66\n",
      "It: 700, nll: 71861.89\n",
      "It: 800, nll: 71859.336\n",
      "It: 900, nll: 71444.164\n",
      "It: 1000, nll: 67262.19\n",
      "It: 1100, nll: 67262.15\n",
      "It: 1200, nll: 67262.13\n",
      "It: 1300, nll: 67434.195\n",
      "It: 1400, nll: 67262.125\n",
      "It: 1500, nll: 67405.4\n",
      "It: 1600, nll: 67422.35\n",
      "It: 1700, nll: 67337.66\n",
      "It: 1800, nll: 67407.57\n",
      "It: 1900, nll: 67382.414\n"
     ]
    }
   ],
   "source": [
    "optimizer = torch.optim.Adam(params=fit_dist.parameters(), lr=1)\n",
    "for it in range(2000):\n",
    "    optimizer.zero_grad()\n",
    "    nll = -1*torch.sum(fit_dist.log_prob(x=x, y=smps))\n",
    "    nll.backward()\n",
    "    optimizer.step()\n",
    "    \n",
    "    if it % 100 == 0:\n",
    "        print('It: ' + str(it) + ', nll: '+ str(nll.detach().numpy()))"
   ]
  },
  {
   "cell_type": "markdown",
   "metadata": {},
   "source": [
    "## Look at distributions of samples from fit functions"
   ]
  },
  {
   "cell_type": "code",
   "execution_count": 10,
   "metadata": {},
   "outputs": [
    {
     "data": {
      "image/png": "[encoded data removed]",
      "text/plain": [
       "<Figure size 432x288 with 4 Axes>"
      ]
     },
     "metadata": {
      "needs_background": "light"
     },
     "output_type": "display_data"
    }
   ],
   "source": [
    "with torch.no_grad():\n",
    "    fit_smps = fit_dist.sample(x)\n",
    "    \n",
    "plot_fit_smps = fit_smps.numpy()\n",
    "n_dists = plot_fit_smps.shape[1]\n",
    "for d_i in range(n_dists):\n",
    "    plt.subplot(1,n_dists,d_i + 1)\n",
    "    plt.hist(plot_fit_smps[:,d_i])"
   ]
  },
  {
   "cell_type": "markdown",
   "metadata": {},
   "source": [
    "## Fit a new distribution to the true one by minimize KL divergences"
   ]
  },
  {
   "cell_type": "code",
   "execution_count": 11,
   "metadata": {},
   "outputs": [],
   "source": [
    "conf_f_kl = ConstantBoundedFcn(lower_bound=.1*np.ones(4), upper_bound=5.0*np.ones(4), \n",
    "                                init_value=1.0*np.ones(4))\n",
    "rate_f_kl = ConstantBoundedFcn(lower_bound=.1*np.ones(4), upper_bound=5.0*np.ones(4), \n",
    "                                init_value=1.0*np.ones(4))\n",
    "\n",
    "dist_kl = CondGammaDistribution(conc_f=conf_f_kl, rate_f=rate_f_kl)"
   ]
  },
  {
   "cell_type": "code",
   "execution_count": 12,
   "metadata": {},
   "outputs": [
    {
     "name": "stdout",
     "output_type": "stream",
     "text": [
      "It: 0, kl: 96154.016\n",
      "It: 100, kl: 8929.938\n",
      "It: 200, kl: 5497.2715\n",
      "It: 300, kl: 4860.984\n",
      "It: 400, kl: 4493.8667\n",
      "It: 500, kl: 4233.2285\n",
      "It: 600, kl: 4037.021\n",
      "It: 700, kl: 3888.166\n",
      "It: 800, kl: 3775.1167\n",
      "It: 900, kl: 3688.676\n",
      "It: 1000, kl: 3621.8284\n",
      "It: 1100, kl: 3569.4866\n",
      "It: 1200, kl: 3527.7542\n",
      "It: 1300, kl: 3494.1306\n",
      "It: 1400, kl: 3466.5857\n",
      "It: 1500, kl: 3443.816\n",
      "It: 1600, kl: 3424.7026\n",
      "It: 1700, kl: 3408.5823\n",
      "It: 1800, kl: 3394.7988\n",
      "It: 1900, kl: 3382.951\n"
     ]
    }
   ],
   "source": [
    "optimizer = torch.optim.Adam(params=dist_kl.parameters(), lr=.01)\n",
    "for it in range(2000):\n",
    "    optimizer.zero_grad()\n",
    "    kl = torch.sum(dist.kl(d_2=dist_kl, x=x))\n",
    "    kl.backward()\n",
    "    optimizer.step()\n",
    "    \n",
    "    if it % 100 == 0:\n",
    "        print('It: ' + str(it) + ', kl: '+ str(kl.detach().numpy()))"
   ]
  },
  {
   "cell_type": "markdown",
   "metadata": {},
   "source": [
    "## Look at distributions of samples from fit functions"
   ]
  },
  {
   "cell_type": "code",
   "execution_count": 13,
   "metadata": {},
   "outputs": [
    {
     "data": {
      "image/png": "[encoded data removed]",
      "text/plain": [
       "<Figure size 432x288 with 4 Axes>"
      ]
     },
     "metadata": {
      "needs_background": "light"
     },
     "output_type": "display_data"
    }
   ],
   "source": [
    "with torch.no_grad():\n",
    "    fit_smps = dist_kl.sample(x)\n",
    "    \n",
    "plot_fit_smps = fit_smps.numpy()\n",
    "n_dists = plot_fit_smps.shape[1]\n",
    "for d_i in range(n_dists):\n",
    "    plt.subplot(1,n_dists,d_i + 1)\n",
    "    plt.hist(plot_fit_smps[:,d_i])"
   ]
  },
  {
   "cell_type": "code",
   "execution_count": null,
   "metadata": {},
   "outputs": [],
   "source": []
  }
 ],
 "metadata": {
  "kernelspec": {
   "display_name": "Python 3",
   "language": "python",
   "name": "python3"
  },
  "language_info": {
   "codemirror_mode": {
    "name": "ipython",
    "version": 3
   },
   "file_extension": ".py",
   "mimetype": "text/x-python",
   "name": "python",
   "nbconvert_exporter": "python",
   "pygments_lexer": "ipython3",
   "version": "3.8.5"
  }
 },
 "nbformat": 4,
 "nbformat_minor": 4
}
