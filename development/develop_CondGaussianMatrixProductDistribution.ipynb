{
 "cells": [
  {
   "cell_type": "code",
   "execution_count": 1,
   "metadata": {},
   "outputs": [],
   "source": [
    "%load_ext autoreload\n",
    "%autoreload 2"
   ]
  },
  {
   "cell_type": "markdown",
   "metadata": {},
   "source": [
    "For testing and development of CondGaussianMatrixProductDistribution objects"
   ]
  },
  {
   "cell_type": "code",
   "execution_count": 2,
   "metadata": {},
   "outputs": [],
   "source": [
    "import torch\n",
    "\n",
    "from janelia_core.ml.extra_torch_modules import IndSmpConstantRealFcn\n",
    "from janelia_core.ml.extra_torch_modules import IndSmpConstantBoundedFcn\n",
    "from janelia_core.ml.torch_distributions import CondGaussianDistribution\n",
    "from janelia_core.ml.torch_distributions import CondGaussianMatrixProductDistribution\n",
    "from janelia_core.ml.torch_distributions import CondMatrixProductDistribution"
   ]
  },
  {
   "cell_type": "markdown",
   "metadata": {},
   "source": [
    "## Parameters go here"
   ]
  },
  {
   "cell_type": "code",
   "execution_count": 3,
   "metadata": {},
   "outputs": [],
   "source": [
    "# Matrix shape\n",
    "n = 10 # No. of rows\n",
    "m = 3 # No. of cols"
   ]
  },
  {
   "cell_type": "markdown",
   "metadata": {},
   "source": [
    "## Generate some properties here"
   ]
  },
  {
   "cell_type": "code",
   "execution_count": 4,
   "metadata": {},
   "outputs": [],
   "source": [
    " x = torch.rand([n,1])"
   ]
  },
  {
   "cell_type": "markdown",
   "metadata": {},
   "source": [
    "## Setup the CondGaussianMatrixProduct distributions here "
   ]
  },
  {
   "cell_type": "code",
   "execution_count": 5,
   "metadata": {},
   "outputs": [],
   "source": [
    "col_dists_0 = [CondGaussianDistribution(mn_f=IndSmpConstantRealFcn(n=n, init_mn = float(m_i)),\n",
    "                                  std_f=IndSmpConstantBoundedFcn(n=n))\n",
    "         for m_i in range(m)]\n",
    "\n",
    "mat_dist_0 = CondGaussianMatrixProductDistribution(dists=col_dists_0)"
   ]
  },
  {
   "cell_type": "code",
   "execution_count": 6,
   "metadata": {},
   "outputs": [],
   "source": [
    "col_dists_1 = [CondGaussianDistribution(mn_f=IndSmpConstantRealFcn(n=n, init_mn = float(m_i)),\n",
    "                                  std_f=IndSmpConstantBoundedFcn(n=n))\n",
    "         for m_i in range(m)]\n",
    "\n",
    "mat_dist_1 = CondGaussianMatrixProductDistribution(dists=col_dists_1)"
   ]
  },
  {
   "cell_type": "code",
   "execution_count": 7,
   "metadata": {},
   "outputs": [],
   "source": [
    "for d in mat_dist_1.dists:\n",
    "    d.std_f.f.v.data = torch.rand(10) + .5"
   ]
  },
  {
   "cell_type": "markdown",
   "metadata": {},
   "source": [
    "## Calculate KL divergence between distribitions 0 and 1"
   ]
  },
  {
   "cell_type": "code",
   "execution_count": 8,
   "metadata": {},
   "outputs": [
    {
     "data": {
      "text/plain": [
       "tensor([5.9728, 6.0131, 6.7857, 6.9815, 6.4792, 6.2577, 6.9412, 6.6398, 6.4518,\n",
       "        5.9142], grad_fn=<AsStridedBackward>)"
      ]
     },
     "execution_count": 8,
     "metadata": {},
     "output_type": "execute_result"
    }
   ],
   "source": [
    "mat_dist_0.kl(mat_dist_1, x)"
   ]
  },
  {
   "cell_type": "markdown",
   "metadata": {},
   "source": [
    "## Now setup a CondGaussianDistribution which is equal to the second CondGaussianMatrixProductDistribution"
   ]
  },
  {
   "cell_type": "code",
   "execution_count": 9,
   "metadata": {},
   "outputs": [],
   "source": [
    "class constant(torch.nn.Module):\n",
    "    \n",
    "    def __init__(self, vl):\n",
    "        super().__init__()\n",
    "        self.vl = torch.nn.Parameter(vl)\n",
    "    \n",
    "    def forward(self, x):\n",
    "        return self.vl"
   ]
  },
  {
   "cell_type": "code",
   "execution_count": 10,
   "metadata": {},
   "outputs": [],
   "source": [
    "mn_1 = mat_dist_1(x)\n",
    "std_1 = torch.cat([d.std_f(x) for d in mat_dist_1.dists], dim=1)"
   ]
  },
  {
   "cell_type": "code",
   "execution_count": 11,
   "metadata": {},
   "outputs": [],
   "source": [
    "mat_dist_2 = CondGaussianDistribution(mn_f=constant(mn_1), std_f=constant(std_1))"
   ]
  },
  {
   "cell_type": "code",
   "execution_count": 12,
   "metadata": {},
   "outputs": [
    {
     "data": {
      "text/plain": [
       "tensor([5.9728, 6.0131, 6.7857, 6.9815, 6.4792, 6.2577, 6.9412, 6.6398, 6.4518,\n",
       "        5.9142], grad_fn=<SqueezeBackward0>)"
      ]
     },
     "execution_count": 12,
     "metadata": {},
     "output_type": "execute_result"
    }
   ],
   "source": [
    "mat_dist_0.kl(mat_dist_2, x)"
   ]
  },
  {
   "cell_type": "code",
   "execution_count": null,
   "metadata": {},
   "outputs": [],
   "source": []
  }
 ],
 "metadata": {
  "kernelspec": {
   "display_name": "Python 3",
   "language": "python",
   "name": "python3"
  },
  "language_info": {
   "codemirror_mode": {
    "name": "ipython",
    "version": 3
   },
   "file_extension": ".py",
   "mimetype": "text/x-python",
   "name": "python",
   "nbconvert_exporter": "python",
   "pygments_lexer": "ipython3",
   "version": "3.8.5"
  }
 },
 "nbformat": 4,
 "nbformat_minor": 4
}
