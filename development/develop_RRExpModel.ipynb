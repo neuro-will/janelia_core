{
 "cells": [
  {
   "cell_type": "markdown",
   "metadata": {},
   "source": [
    "# Code demonstrating exponential reduced rank models"
   ]
  },
  {
   "cell_type": "code",
   "execution_count": 1,
   "metadata": {},
   "outputs": [],
   "source": [
    "%load_ext autoreload\n",
    "%autoreload 2"
   ]
  },
  {
   "cell_type": "code",
   "execution_count": 2,
   "metadata": {},
   "outputs": [],
   "source": [
    "import matplotlib.pyplot as plt\n",
    "import numpy as np\n",
    "import numpy.linalg\n",
    "import torch\n",
    "\n",
    "from janelia_core.ml.reduced_rank_models import RRExpModel"
   ]
  },
  {
   "cell_type": "markdown",
   "metadata": {},
   "source": [
    "## Setup ground truth model"
   ]
  },
  {
   "cell_type": "code",
   "execution_count": 3,
   "metadata": {},
   "outputs": [],
   "source": [
    "d_in, d_out, d_latent, n_smps = 10, 5, 2, 12000"
   ]
  },
  {
   "cell_type": "code",
   "execution_count": 4,
   "metadata": {},
   "outputs": [],
   "source": [
    "true_model = RRExpModel(d_in, d_out, d_latent)\n",
    "true_model.generate_random_model(var_range=[.5, 1])"
   ]
  },
  {
   "cell_type": "markdown",
   "metadata": {},
   "source": [
    "## Generate data"
   ]
  },
  {
   "cell_type": "code",
   "execution_count": 5,
   "metadata": {},
   "outputs": [],
   "source": [
    "x = torch.randn([n_smps, d_in])\n",
    "y = true_model.generate(x)"
   ]
  },
  {
   "cell_type": "markdown",
   "metadata": {},
   "source": [
    "## Create model we will fit to data"
   ]
  },
  {
   "cell_type": "code",
   "execution_count": 6,
   "metadata": {},
   "outputs": [],
   "source": [
    "fitted_model = RRExpModel(d_in, d_out, d_latent)\n",
    "fitted_model.init_weights(y)\n",
    "#fitted_model.to('cuda')"
   ]
  },
  {
   "cell_type": "markdown",
   "metadata": {},
   "source": [
    "## Fit model to data"
   ]
  },
  {
   "cell_type": "code",
   "execution_count": 20,
   "metadata": {
    "scrolled": true
   },
   "outputs": [
    {
     "name": "stdout",
     "output_type": "stream",
     "text": [
      "0: Elapsed time 0.01558232307434082, vl: 3.4341265625\n",
      "1000: Elapsed time 5.981644153594971, vl: 3.43988125\n",
      "2000: Elapsed time 11.889549016952515, vl: 3.1296654296875\n",
      "3000: Elapsed time 51.6052770614624, vl: 2.980594921875\n",
      "4000: Elapsed time 79.68609690666199, vl: 2.860013671875\n",
      "5000: Elapsed time 85.61082363128662, vl: 2.7748107421875\n",
      "6000: Elapsed time 91.53561305999756, vl: 2.743262890625\n",
      "7000: Elapsed time 97.5242931842804, vl: 3.844874609375\n",
      "8000: Elapsed time 106.09387493133545, vl: 2.7128744140625\n",
      "9000: Elapsed time 112.00358247756958, vl: 2.7011265625\n",
      "10000: Elapsed time 117.9877233505249, vl: 2.716837109375\n",
      "11000: Elapsed time 123.9160840511322, vl: 2.72785\n",
      "12000: Elapsed time 129.79482007026672, vl: 4.128894921875\n",
      "13000: Elapsed time 135.72058510780334, vl: 2.73646796875\n",
      "14000: Elapsed time 141.61937355995178, vl: 2.7092826171875\n",
      "15000: Elapsed time 147.6368465423584, vl: 2.720743359375\n",
      "16000: Elapsed time 153.5919852256775, vl: 6.11785859375\n",
      "17000: Elapsed time 161.8570795059204, vl: 2.724699609375\n",
      "18000: Elapsed time 167.7557032108307, vl: 10.08045078125\n",
      "19000: Elapsed time 173.63411378860474, vl: 2.752274609375\n"
     ]
    }
   ],
   "source": [
    "do_prefit = False\n",
    "adam_params = {'lr': .001, 'betas': [.9, .999]} # betas are for mean and second moment (.9, .999)\n",
    "\n",
    "# Initially fit all but variances\n",
    "if do_prefit:\n",
    "    first_parameters = []\n",
    "    for param_name, param in fitted_model.named_parameters():\n",
    "        if param_name not in {'v'}:\n",
    "            first_parameters.append(param)\n",
    "    fitted_model.fit(x,y, batch_size=1000, send_size=1000,\n",
    "                 max_its=10000, update_int=1000, adam_params=adam_params, parameters=first_parameters)\n",
    "\n",
    "# Now fit everything\n",
    "fitted_model.fit(x,y, batch_size=10000, send_size=10000,\n",
    "                 max_its=50000, update_int=1000, adam_params=adam_params)    "
   ]
  },
  {
   "cell_type": "markdown",
   "metadata": {},
   "source": [
    "## See fitted model results"
   ]
  },
  {
   "cell_type": "code",
   "execution_count": 21,
   "metadata": {},
   "outputs": [
    {
     "name": "stdout",
     "output_type": "stream",
     "text": [
      "Standardize called.\n",
      "Standardize called.\n"
     ]
    }
   ],
   "source": [
    "%matplotlib qt\n",
    "true_model.standardize()\n",
    "fitted_model.standardize()\n",
    "fitted_model.to('cpu')\n",
    "true_model.compare_models(true_model, fitted_model, x[0:100,:], [0, 1,2])"
   ]
  },
  {
   "cell_type": "code",
   "execution_count": 9,
   "metadata": {},
   "outputs": [
    {
     "data": {
      "text/plain": [
       "[<matplotlib.lines.Line2D at 0x15bc468acc0>]"
      ]
     },
     "execution_count": 9,
     "metadata": {},
     "output_type": "execute_result"
    }
   ],
   "source": [
    "plt.figure()\n",
    "plt.plot(true_model.w0[:,0].detach().numpy())\n",
    "plt.plot(fitted_model.w0[:,0].detach().numpy())"
   ]
  },
  {
   "cell_type": "markdown",
   "metadata": {},
   "source": [
    "## Look at some input/output curves"
   ]
  },
  {
   "cell_type": "code",
   "execution_count": 10,
   "metadata": {},
   "outputs": [],
   "source": [
    "[mn, g_out, exp_in, l] = true_model.latent_rep(x)\n",
    "\n",
    "mn = mn.cpu().detach().numpy()\n",
    "g_out = g_out.cpu().detach().numpy()\n",
    "exp_in = exp_in.cpu().detach().numpy()\n",
    "l = l.cpu().detach().numpy()"
   ]
  },
  {
   "cell_type": "code",
   "execution_count": 11,
   "metadata": {},
   "outputs": [],
   "source": [
    "n = 2\n",
    "for i in range(n):\n",
    "    plt.plot(exp_in[:,i], g_out[:,i], 'o')"
   ]
  },
  {
   "cell_type": "code",
   "execution_count": 12,
   "metadata": {},
   "outputs": [
    {
     "data": {
      "text/plain": [
       "0.049787068367863944"
      ]
     },
     "execution_count": 12,
     "metadata": {},
     "output_type": "execute_result"
    }
   ],
   "source": [
    "np.exp(-3)"
   ]
  },
  {
   "cell_type": "code",
   "execution_count": 13,
   "metadata": {},
   "outputs": [
    {
     "data": {
      "text/plain": [
       "Parameter containing:\n",
       "tensor([[0.5280],\n",
       "        [0.1163],\n",
       "        [0.5151],\n",
       "        [0.1076],\n",
       "        [0.3607]], requires_grad=True)"
      ]
     },
     "execution_count": 13,
     "metadata": {},
     "output_type": "execute_result"
    }
   ],
   "source": [
    "true_model.o2"
   ]
  },
  {
   "cell_type": "code",
   "execution_count": 14,
   "metadata": {},
   "outputs": [],
   "source": [
    "a = list(true_model.parameters())"
   ]
  },
  {
   "cell_type": "code",
   "execution_count": 15,
   "metadata": {},
   "outputs": [
    {
     "data": {
      "text/plain": [
       "Parameter containing:\n",
       "tensor([[2.6879],\n",
       "        [5.0487],\n",
       "        [1.8011],\n",
       "        [3.0061],\n",
       "        [1.4475]], requires_grad=True)"
      ]
     },
     "execution_count": 15,
     "metadata": {},
     "output_type": "execute_result"
    }
   ],
   "source": [
    "fitted_model.v"
   ]
  },
  {
   "cell_type": "code",
   "execution_count": null,
   "metadata": {},
   "outputs": [],
   "source": []
  }
 ],
 "metadata": {
  "kernelspec": {
   "display_name": "Python 3",
   "language": "python",
   "name": "python3"
  },
  "language_info": {
   "codemirror_mode": {
    "name": "ipython",
    "version": 3
   },
   "file_extension": ".py",
   "mimetype": "text/x-python",
   "name": "python",
   "nbconvert_exporter": "python",
   "pygments_lexer": "ipython3",
   "version": "3.6.7"
  }
 },
 "nbformat": 4,
 "nbformat_minor": 2
}
