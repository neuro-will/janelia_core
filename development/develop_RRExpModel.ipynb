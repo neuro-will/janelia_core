{
 "cells": [
  {
   "cell_type": "markdown",
   "metadata": {},
   "source": [
    "# Code demonstrating exponential reduced rank models"
   ]
  },
  {
   "cell_type": "code",
   "execution_count": 1,
   "metadata": {},
   "outputs": [],
   "source": [
    "%load_ext autoreload\n",
    "%autoreload 2"
   ]
  },
  {
   "cell_type": "code",
   "execution_count": 2,
   "metadata": {},
   "outputs": [],
   "source": [
    "import matplotlib.pyplot as plt\n",
    "import numpy as np\n",
    "import numpy.linalg\n",
    "import torch\n",
    "\n",
    "from janelia_core.ml.reduced_rank_models import RRExpModel"
   ]
  },
  {
   "cell_type": "markdown",
   "metadata": {},
   "source": [
    "## Setup ground truth model"
   ]
  },
  {
   "cell_type": "code",
   "execution_count": 3,
   "metadata": {},
   "outputs": [],
   "source": [
    "d_in, d_out, d_latent, n_smps = 10, 5, 2, 12000"
   ]
  },
  {
   "cell_type": "code",
   "execution_count": 4,
   "metadata": {},
   "outputs": [],
   "source": [
    "true_model = RRExpModel(d_in, d_out, d_latent)\n",
    "true_model.generate_random_model()"
   ]
  },
  {
   "cell_type": "markdown",
   "metadata": {},
   "source": [
    "## Generate data"
   ]
  },
  {
   "cell_type": "code",
   "execution_count": 5,
   "metadata": {},
   "outputs": [],
   "source": [
    "x = .1*torch.randn([n_smps, d_in])\n",
    "y = true_model.generate(x)"
   ]
  },
  {
   "cell_type": "markdown",
   "metadata": {},
   "source": [
    "## Create model we will fit to data"
   ]
  },
  {
   "cell_type": "code",
   "execution_count": 6,
   "metadata": {},
   "outputs": [],
   "source": [
    "fitted_model = RRExpModel(d_in, d_out, d_latent)\n",
    "fitted_model.init_weights(y)\n",
    "#fitted_model.to('cuda')"
   ]
  },
  {
   "cell_type": "markdown",
   "metadata": {},
   "source": [
    "## Fit model to data"
   ]
  },
  {
   "cell_type": "code",
   "execution_count": 7,
   "metadata": {
    "scrolled": true
   },
   "outputs": [
    {
     "name": "stdout",
     "output_type": "stream",
     "text": [
      "0: Elapsed time 0.002688884735107422, vl: 24.297294921875\n",
      "1000: Elapsed time 1.022035837173462, vl: 4.206455688476563\n",
      "2000: Elapsed time 2.0445728302001953, vl: 3.502809753417969\n",
      "3000: Elapsed time 3.1456828117370605, vl: 2.7750323486328123\n",
      "4000: Elapsed time 4.1845996379852295, vl: 2.0274948120117187\n",
      "5000: Elapsed time 5.173861742019653, vl: 1.6162147521972656\n",
      "6000: Elapsed time 6.176631689071655, vl: 1.2902523803710937\n",
      "7000: Elapsed time 7.209240674972534, vl: 1.2164424133300782\n",
      "8000: Elapsed time 8.26312780380249, vl: 1.4680133056640625\n",
      "9000: Elapsed time 9.253959894180298, vl: 1.2944786071777343\n",
      "10000: Elapsed time 10.311578750610352, vl: 1.4995962524414062\n",
      "11000: Elapsed time 11.311465978622437, vl: 1.68470458984375\n",
      "12000: Elapsed time 12.340572834014893, vl: 1.4539814758300782\n",
      "13000: Elapsed time 13.428228855133057, vl: 1.5150009155273438\n",
      "14000: Elapsed time 14.375159740447998, vl: 1.649640350341797\n",
      "15000: Elapsed time 15.455029964447021, vl: 1.6051492309570312\n",
      "16000: Elapsed time 16.48719573020935, vl: 1.223729705810547\n",
      "17000: Elapsed time 17.452186822891235, vl: 1.1824319458007813\n",
      "18000: Elapsed time 18.33789372444153, vl: 1.3108920288085937\n",
      "19000: Elapsed time 19.413144826889038, vl: 1.351537628173828\n"
     ]
    }
   ],
   "source": [
    "adam_params = {'lr': .001, 'betas': [.9, .999]} # betas are for mean and second moment (.9, .999)\n",
    "fitted_model.fit(x,y, batch_size=100, send_size=100,\n",
    "                 max_its=20000, update_int=1000, adam_params=adam_params)"
   ]
  },
  {
   "cell_type": "markdown",
   "metadata": {},
   "source": [
    "## See fitted model results"
   ]
  },
  {
   "cell_type": "code",
   "execution_count": 8,
   "metadata": {},
   "outputs": [],
   "source": [
    "%matplotlib qt\n",
    "true_model.standardize()\n",
    "fitted_model.standardize()\n",
    "fitted_model.to('cpu')\n",
    "true_model.compare_models(true_model, fitted_model, x[0:100,:], [0, 1])"
   ]
  },
  {
   "cell_type": "code",
   "execution_count": 9,
   "metadata": {},
   "outputs": [
    {
     "data": {
      "text/plain": [
       "[<matplotlib.lines.Line2D at 0x1319d85f8>]"
      ]
     },
     "execution_count": 9,
     "metadata": {},
     "output_type": "execute_result"
    }
   ],
   "source": [
    "plt.figure()\n",
    "plt.plot(true_model.w1[:,0].detach().numpy())\n",
    "plt.plot(fitted_model.w1[:,0].detach().numpy())"
   ]
  },
  {
   "cell_type": "code",
   "execution_count": null,
   "metadata": {},
   "outputs": [],
   "source": []
  }
 ],
 "metadata": {
  "kernelspec": {
   "display_name": "Python 3",
   "language": "python",
   "name": "python3"
  },
  "language_info": {
   "codemirror_mode": {
    "name": "ipython",
    "version": 3
   },
   "file_extension": ".py",
   "mimetype": "text/x-python",
   "name": "python",
   "nbconvert_exporter": "python",
   "pygments_lexer": "ipython3",
   "version": "3.6.7"
  }
 },
 "nbformat": 4,
 "nbformat_minor": 2
}
