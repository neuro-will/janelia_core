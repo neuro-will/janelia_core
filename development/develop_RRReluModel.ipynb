{
 "cells": [
  {
   "cell_type": "markdown",
   "metadata": {},
   "source": [
    "# Code demonstrating basic non-linear reduced rank models"
   ]
  },
  {
   "cell_type": "code",
   "execution_count": 1,
   "metadata": {},
   "outputs": [],
   "source": [
    "%load_ext autoreload\n",
    "%autoreload 2"
   ]
  },
  {
   "cell_type": "code",
   "execution_count": 2,
   "metadata": {},
   "outputs": [],
   "source": [
    "import copy\n",
    "\n",
    "import matplotlib.pyplot as plt\n",
    "import numpy as np\n",
    "import numpy.linalg\n",
    "import torch\n",
    "\n",
    "from janelia_core.ml.reduced_rank_models import RRReluModel"
   ]
  },
  {
   "cell_type": "markdown",
   "metadata": {},
   "source": [
    "## Setup ground truth model"
   ]
  },
  {
   "cell_type": "code",
   "execution_count": 3,
   "metadata": {},
   "outputs": [],
   "source": [
    "d_in, d_out, d_latent, n_smps = 30000, 30000, 10, 10000"
   ]
  },
  {
   "cell_type": "code",
   "execution_count": 4,
   "metadata": {},
   "outputs": [],
   "source": [
    "true_model = RRReluModel(d_in, d_out, d_latent)\n",
    "true_model.generate_random_model(var_range=[.1, 1])"
   ]
  },
  {
   "cell_type": "markdown",
   "metadata": {},
   "source": [
    "## Generate data"
   ]
  },
  {
   "cell_type": "code",
   "execution_count": 5,
   "metadata": {},
   "outputs": [],
   "source": [
    "x = 3*torch.randn([n_smps, d_in])\n",
    "y = true_model.generate(x)"
   ]
  },
  {
   "cell_type": "markdown",
   "metadata": {},
   "source": [
    "## Create model we will fit to data"
   ]
  },
  {
   "cell_type": "code",
   "execution_count": 6,
   "metadata": {},
   "outputs": [
    {
     "data": {
      "text/plain": [
       "RRReluModel()"
      ]
     },
     "execution_count": 6,
     "metadata": {},
     "output_type": "execute_result"
    }
   ],
   "source": [
    "fitted_model = RRReluModel(d_in, d_out, d_latent)\n",
    "fitted_model.init_weights(y, w_gain=.0001)\n",
    "fitted_model.to('cuda')"
   ]
  },
  {
   "cell_type": "markdown",
   "metadata": {},
   "source": [
    "## Fit model to data"
   ]
  },
  {
   "cell_type": "code",
   "execution_count": 7,
   "metadata": {
    "scrolled": true
   },
   "outputs": [
    {
     "name": "stdout",
     "output_type": "stream",
     "text": [
      "0: Elapsed time 0.42189788818359375, vl: 107877.61\n",
      "1000: Elapsed time 93.51170349121094, vl: 47366.73\n",
      "2000: Elapsed time 195.86776328086853, vl: 45142.1\n",
      "3000: Elapsed time 286.578360080719, vl: 40423.895\n",
      "4000: Elapsed time 377.4561915397644, vl: 38186.0425\n",
      "5000: Elapsed time 475.69967341423035, vl: 36334.21\n",
      "6000: Elapsed time 566.3487257957458, vl: 34284.755\n",
      "7000: Elapsed time 657.4675290584564, vl: 32155.645\n",
      "8000: Elapsed time 761.5442547798157, vl: 30096.44\n",
      "9000: Elapsed time 852.1900060176849, vl: 27812.565\n",
      "10000: Elapsed time 942.9223656654358, vl: 25627.095\n",
      "11000: Elapsed time 1033.670084953308, vl: 23654.65\n",
      "12000: Elapsed time 1124.2460460662842, vl: 21450.01\n",
      "13000: Elapsed time 1214.8382019996643, vl: 19615.86875\n",
      "14000: Elapsed time 1305.4274833202362, vl: 17586.89\n",
      "15000: Elapsed time 1408.9329340457916, vl: 16296.1475\n",
      "16000: Elapsed time 1499.9409878253937, vl: 14845.98625\n",
      "17000: Elapsed time 1592.6779382228851, vl: 13609.6925\n",
      "18000: Elapsed time 1695.458619594574, vl: 12647.10625\n",
      "19000: Elapsed time 1786.0371849536896, vl: 11763.4225\n",
      "20000: Elapsed time 1876.4863555431366, vl: 10670.3725\n",
      "21000: Elapsed time 1980.1761963367462, vl: 9935.9\n",
      "22000: Elapsed time 2070.689510822296, vl: 9241.971875\n",
      "23000: Elapsed time 2161.30477976799, vl: 9022.27875\n",
      "24000: Elapsed time 2251.889658689499, vl: 8300.640625\n",
      "25000: Elapsed time 2349.2865841388702, vl: 8088.008125\n",
      "26000: Elapsed time 2439.6894960403442, vl: 7859.6575\n",
      "27000: Elapsed time 2529.666734933853, vl: 7503.79\n",
      "28000: Elapsed time 2633.929306745529, vl: 7337.2425\n",
      "29000: Elapsed time 2723.9551033973694, vl: 7361.480625\n"
     ]
    }
   ],
   "source": [
    "adam_params = {'lr': .001, 'betas': [.9, .999]} # betas are for mean and second moment (.9, .999)\n",
    "fitted_model.fit(x,y, batch_size=100, send_size=100,\n",
    "                 max_its=30000, update_int=1000, adam_params=adam_params)"
   ]
  },
  {
   "cell_type": "markdown",
   "metadata": {},
   "source": [
    "## See fitted model results"
   ]
  },
  {
   "cell_type": "code",
   "execution_count": 20,
   "metadata": {},
   "outputs": [
    {
     "name": "stdout",
     "output_type": "stream",
     "text": [
      "Flipping signs for dimension 7\n",
      "Flipping signs for dimension 8\n"
     ]
    },
    {
     "data": {
      "text/plain": [
       "RRReluModel()"
      ]
     },
     "execution_count": 20,
     "metadata": {},
     "output_type": "execute_result"
    }
   ],
   "source": [
    "%matplotlib qt\n",
    "true_model.standardize()\n",
    "fitted_model.standardize()\n",
    "fitted_model.to('cpu')\n",
    "RRReluModel.compare_models(true_model, fitted_model, x[0:100,:], [10, 100, 1000])\n",
    "fitted_model.to('cuda')"
   ]
  },
  {
   "cell_type": "code",
   "execution_count": 14,
   "metadata": {},
   "outputs": [],
   "source": [
    "w0_true = true_model.w0.cpu().detach().numpy()\n",
    "w1_true = true_model.w1.cpu().detach().numpy()\n",
    "\n",
    "w0_fitted = fitted_model.w0.cpu().detach().numpy()\n",
    "w1_fitted = fitted_model.w1.cpu().detach().numpy()\n",
    "\n",
    "w_true = np.matmul(w1_true, w0_true.T)\n",
    "w_fitted = np.matmul(w1_fitted, w0_fitted.T)"
   ]
  },
  {
   "cell_type": "code",
   "execution_count": 15,
   "metadata": {},
   "outputs": [],
   "source": [
    "from janelia_core.visualization.matrix_visualization import cmp_n_mats"
   ]
  },
  {
   "cell_type": "code",
   "execution_count": 18,
   "metadata": {},
   "outputs": [
    {
     "data": {
      "text/plain": [
       "[<matplotlib.axes._subplots.AxesSubplot at 0x2434d4c7438>,\n",
       " <matplotlib.axes._subplots.AxesSubplot at 0x243535afa20>,\n",
       " <matplotlib.axes._subplots.AxesSubplot at 0x2437567def0>]"
      ]
     },
     "execution_count": 18,
     "metadata": {},
     "output_type": "execute_result"
    }
   ],
   "source": [
    "cmp_n_mats([w_true[0:100, 0:100], w_fitted[0:100, 0:100], w_true[0:100, 0:100]-w_fitted[0:100, 0:100]])"
   ]
  },
  {
   "cell_type": "code",
   "execution_count": null,
   "metadata": {},
   "outputs": [],
   "source": []
  }
 ],
 "metadata": {
  "kernelspec": {
   "display_name": "Python 3",
   "language": "python",
   "name": "python3"
  },
  "language_info": {
   "codemirror_mode": {
    "name": "ipython",
    "version": 3
   },
   "file_extension": ".py",
   "mimetype": "text/x-python",
   "name": "python",
   "nbconvert_exporter": "python",
   "pygments_lexer": "ipython3",
   "version": "3.6.7"
  }
 },
 "nbformat": 4,
 "nbformat_minor": 2
}
