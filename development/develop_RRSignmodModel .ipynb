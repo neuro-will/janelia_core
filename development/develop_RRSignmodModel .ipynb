{
 "cells": [
  {
   "cell_type": "markdown",
   "metadata": {},
   "source": [
    "# Code demonstrating basic non-linear reduced rank models"
   ]
  },
  {
   "cell_type": "code",
   "execution_count": 1,
   "metadata": {},
   "outputs": [],
   "source": [
    "%load_ext autoreload\n",
    "%autoreload 2"
   ]
  },
  {
   "cell_type": "code",
   "execution_count": 2,
   "metadata": {},
   "outputs": [],
   "source": [
    "import matplotlib.pyplot as plt\n",
    "import numpy as np\n",
    "import numpy.linalg\n",
    "import torch\n",
    "\n",
    "from janelia_core.ml.reduced_rank_models import RRSigmoidModel"
   ]
  },
  {
   "cell_type": "markdown",
   "metadata": {},
   "source": [
    "## Setup ground truth model"
   ]
  },
  {
   "cell_type": "code",
   "execution_count": 3,
   "metadata": {},
   "outputs": [],
   "source": [
    "d_in, d_out, d_latent, n_smps = 1000, 1000, 2, 10000"
   ]
  },
  {
   "cell_type": "code",
   "execution_count": 4,
   "metadata": {},
   "outputs": [],
   "source": [
    "true_model = RRSigmoidModel(d_in, d_out, d_latent)\n",
    "true_model.generate_random_model()"
   ]
  },
  {
   "cell_type": "markdown",
   "metadata": {},
   "source": [
    "## Generate data"
   ]
  },
  {
   "cell_type": "code",
   "execution_count": 5,
   "metadata": {},
   "outputs": [],
   "source": [
    "x = 3*torch.randn([n_smps, d_in])\n",
    "y = true_model.generate(x)"
   ]
  },
  {
   "cell_type": "markdown",
   "metadata": {},
   "source": [
    "## Create model we will fit to data"
   ]
  },
  {
   "cell_type": "code",
   "execution_count": 6,
   "metadata": {},
   "outputs": [
    {
     "data": {
      "text/plain": [
       "RRSigmoidModel()"
      ]
     },
     "execution_count": 6,
     "metadata": {},
     "output_type": "execute_result"
    }
   ],
   "source": [
    "fitted_model = RRSigmoidModel(d_in, d_out, d_latent)\n",
    "fitted_model.init_weights(y)\n",
    "fitted_model.to('cuda')"
   ]
  },
  {
   "cell_type": "markdown",
   "metadata": {},
   "source": [
    "## Fit model to data"
   ]
  },
  {
   "cell_type": "code",
   "execution_count": 7,
   "metadata": {
    "scrolled": true
   },
   "outputs": [
    {
     "name": "stdout",
     "output_type": "stream",
     "text": [
      "0: Elapsed time 0.3125019073486328, vl: 2537.8203\n",
      "1000: Elapsed time 9.17391300201416, vl: 1016.02203\n",
      "2000: Elapsed time 18.03274655342102, vl: 753.5513\n",
      "3000: Elapsed time 26.844460248947144, vl: 524.4022\n",
      "4000: Elapsed time 35.769606590270996, vl: 404.42038\n",
      "5000: Elapsed time 44.80033564567566, vl: 366.1223\n",
      "6000: Elapsed time 53.54950451850891, vl: 352.73053\n",
      "7000: Elapsed time 88.58247566223145, vl: 353.83453\n",
      "8000: Elapsed time 97.74422669410706, vl: 350.7735\n",
      "9000: Elapsed time 106.93201351165771, vl: 351.28784\n"
     ]
    }
   ],
   "source": [
    "adam_params = {'lr': .002, 'betas': [.9, .999]} # betas are for mean and second moment (.9, .999)\n",
    "fitted_model.fit(x,y, batch_size=100, max_its=10000, update_int=1000, adam_params=adam_params)"
   ]
  },
  {
   "cell_type": "markdown",
   "metadata": {},
   "source": [
    "## See fitted model results"
   ]
  },
  {
   "cell_type": "code",
   "execution_count": 8,
   "metadata": {},
   "outputs": [
    {
     "name": "stdout",
     "output_type": "stream",
     "text": [
      "Changing sign of gain 166\n",
      "Changing sign of gain 195\n",
      "Changing sign of gain 204\n",
      "Changing sign of gain 297\n",
      "Changing sign of gain 324\n"
     ]
    }
   ],
   "source": [
    "%matplotlib qt\n",
    "true_model.standardize()\n",
    "fitted_model.standardize()\n",
    "fitted_model.to('cpu')\n",
    "RRSigmoidModel.compare_models(true_model, fitted_model, x[0:100,:], [0, 3])"
   ]
  },
  {
   "cell_type": "code",
   "execution_count": null,
   "metadata": {},
   "outputs": [],
   "source": []
  }
 ],
 "metadata": {
  "kernelspec": {
   "display_name": "Python 3",
   "language": "python",
   "name": "python3"
  },
  "language_info": {
   "codemirror_mode": {
    "name": "ipython",
    "version": 3
   },
   "file_extension": ".py",
   "mimetype": "text/x-python",
   "name": "python",
   "nbconvert_exporter": "python",
   "pygments_lexer": "ipython3",
   "version": "3.6.7"
  }
 },
 "nbformat": 4,
 "nbformat_minor": 2
}
