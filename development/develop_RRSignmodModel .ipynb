{
 "cells": [
  {
   "cell_type": "markdown",
   "metadata": {},
   "source": [
    "# Code demonstrating basic non-linear reduced rank models"
   ]
  },
  {
   "cell_type": "code",
   "execution_count": 1,
   "metadata": {},
   "outputs": [],
   "source": [
    "%load_ext autoreload\n",
    "%autoreload 2"
   ]
  },
  {
   "cell_type": "code",
   "execution_count": 2,
   "metadata": {},
   "outputs": [],
   "source": [
    "import matplotlib.pyplot as plt\n",
    "import numpy as np\n",
    "import numpy.linalg\n",
    "import torch\n",
    "\n",
    "from janelia_core.ml.reduced_rank_models import RRSigmoidModel"
   ]
  },
  {
   "cell_type": "markdown",
   "metadata": {},
   "source": [
    "## Setup ground truth model"
   ]
  },
  {
   "cell_type": "code",
   "execution_count": 3,
   "metadata": {},
   "outputs": [],
   "source": [
    "d_in, d_out, d_latent, n_smps = 30000, 30000, 2, 12000"
   ]
  },
  {
   "cell_type": "code",
   "execution_count": 4,
   "metadata": {},
   "outputs": [],
   "source": [
    "true_model = RRSigmoidModel(d_in, d_out, d_latent)\n",
    "true_model.generate_random_model()"
   ]
  },
  {
   "cell_type": "markdown",
   "metadata": {},
   "source": [
    "## Generate data"
   ]
  },
  {
   "cell_type": "code",
   "execution_count": null,
   "metadata": {},
   "outputs": [],
   "source": [
    "x = 3*torch.randn([n_smps, d_in])\n",
    "y = true_model.generate(x)"
   ]
  },
  {
   "cell_type": "markdown",
   "metadata": {},
   "source": [
    "## Create model we will fit to data"
   ]
  },
  {
   "cell_type": "code",
   "execution_count": null,
   "metadata": {},
   "outputs": [
    {
     "data": {
      "text/plain": [
       "RRSigmoidModel()"
      ]
     },
     "execution_count": 6,
     "metadata": {},
     "output_type": "execute_result"
    }
   ],
   "source": [
    "fitted_model = RRSigmoidModel(d_in, d_out, d_latent)\n",
    "fitted_model.init_weights(y)\n",
    "fitted_model.to('cuda')"
   ]
  },
  {
   "cell_type": "markdown",
   "metadata": {},
   "source": [
    "## Fit model to data"
   ]
  },
  {
   "cell_type": "code",
   "execution_count": null,
   "metadata": {
    "scrolled": true
   },
   "outputs": [
    {
     "name": "stdout",
     "output_type": "stream",
     "text": [
      "0: Elapsed time 0.6094083786010742, vl: 74889.91\n",
      "1000: Elapsed time 92.25786662101746, vl: 36447.705\n",
      "2000: Elapsed time 179.34318614006042, vl: 28423.63\n",
      "3000: Elapsed time 266.51023292541504, vl: 23784.05\n",
      "4000: Elapsed time 361.0436792373657, vl: 20853.5025\n",
      "5000: Elapsed time 472.426233291626, vl: 17061.63\n",
      "6000: Elapsed time 587.4308550357819, vl: 14883.58875\n",
      "7000: Elapsed time 674.3743813037872, vl: 14718.14125\n",
      "8000: Elapsed time 761.3334362506866, vl: 14511.47375\n",
      "9000: Elapsed time 848.3565666675568, vl: 14478.745\n",
      "10000: Elapsed time 935.1934342384338, vl: 14374.48125\n",
      "11000: Elapsed time 1029.4237546920776, vl: 13261.58875\n",
      "12000: Elapsed time 1122.0585129261017, vl: 13399.3625\n",
      "13000: Elapsed time 1208.8312509059906, vl: 13229.1325\n",
      "14000: Elapsed time 1295.7152352333069, vl: 13857.44875\n",
      "15000: Elapsed time 1382.8678736686707, vl: 13849.96375\n"
     ]
    }
   ],
   "source": [
    "adam_params = {'lr': .002, 'betas': [.9, .999]} # betas are for mean and second moment (.9, .999)\n",
    "fitted_model.fit(x,y, batch_size=100, send_size=100,\n",
    "                 max_its=20000, update_int=1000, adam_params=adam_params)"
   ]
  },
  {
   "cell_type": "markdown",
   "metadata": {},
   "source": [
    "## See fitted model results"
   ]
  },
  {
   "cell_type": "code",
   "execution_count": null,
   "metadata": {},
   "outputs": [],
   "source": [
    "%matplotlib qt\n",
    "true_model.standardize()\n",
    "fitted_model.standardize()\n",
    "fitted_model.to('cpu')\n",
    "RRSigmoidModel.compare_models(true_model, fitted_model, x[0:100,:], [0, 1])"
   ]
  },
  {
   "cell_type": "code",
   "execution_count": null,
   "metadata": {},
   "outputs": [],
   "source": []
  }
 ],
 "metadata": {
  "kernelspec": {
   "display_name": "Python 3",
   "language": "python",
   "name": "python3"
  },
  "language_info": {
   "codemirror_mode": {
    "name": "ipython",
    "version": 3
   },
   "file_extension": ".py",
   "mimetype": "text/x-python",
   "name": "python",
   "nbconvert_exporter": "python",
   "pygments_lexer": "ipython3",
   "version": "3.6.7"
  }
 },
 "nbformat": 4,
 "nbformat_minor": 2
}
