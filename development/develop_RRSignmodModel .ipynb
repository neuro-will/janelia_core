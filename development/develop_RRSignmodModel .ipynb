{
 "cells": [
  {
   "cell_type": "markdown",
   "metadata": {},
   "source": [
    "# Code demonstrating basic non-linear reduced rank models"
   ]
  },
  {
   "cell_type": "code",
   "execution_count": 1,
   "metadata": {},
   "outputs": [],
   "source": [
    "%load_ext autoreload\n",
    "%autoreload 2"
   ]
  },
  {
   "cell_type": "code",
   "execution_count": 2,
   "metadata": {},
   "outputs": [],
   "source": [
    "import matplotlib.pyplot as plt\n",
    "import numpy as np\n",
    "import numpy.linalg\n",
    "import torch\n",
    "\n",
    "from janelia_core.ml.reduced_rank_models import RRSigmoidModel"
   ]
  },
  {
   "cell_type": "markdown",
   "metadata": {},
   "source": [
    "## Setup ground truth model"
   ]
  },
  {
   "cell_type": "code",
   "execution_count": 3,
   "metadata": {},
   "outputs": [],
   "source": [
    "d_in, d_out, d_latent, n_smps = 100, 50, 2, 10000"
   ]
  },
  {
   "cell_type": "code",
   "execution_count": 4,
   "metadata": {},
   "outputs": [],
   "source": [
    "true_model = RRSigmoidModel(d_in, d_out, d_latent)\n",
    "true_model.generate_random_model()"
   ]
  },
  {
   "cell_type": "markdown",
   "metadata": {},
   "source": [
    "## Generate data"
   ]
  },
  {
   "cell_type": "code",
   "execution_count": 5,
   "metadata": {},
   "outputs": [],
   "source": [
    "x = 9*torch.randn([n_smps, d_in])\n",
    "y = true_model.generate(x)"
   ]
  },
  {
   "cell_type": "markdown",
   "metadata": {},
   "source": [
    "## Create model we will fit to data"
   ]
  },
  {
   "cell_type": "code",
   "execution_count": 6,
   "metadata": {},
   "outputs": [
    {
     "data": {
      "text/plain": [
       "RRSigmoidModel()"
      ]
     },
     "execution_count": 6,
     "metadata": {},
     "output_type": "execute_result"
    }
   ],
   "source": [
    "fitted_model = RRSigmoidModel(d_in, d_out, d_latent)\n",
    "fitted_model.init_weights(y)\n",
    "fitted_model.to('cuda')"
   ]
  },
  {
   "cell_type": "markdown",
   "metadata": {},
   "source": [
    "## Fit model to data"
   ]
  },
  {
   "cell_type": "code",
   "execution_count": 7,
   "metadata": {
    "scrolled": true
   },
   "outputs": [
    {
     "name": "stdout",
     "output_type": "stream",
     "text": [
      "0: Elapsed time 0.39064502716064453, vl: 89.16423\n",
      "1000: Elapsed time 20.258496522903442, vl: 40.460808\n",
      "2000: Elapsed time 33.6842885017395, vl: 32.28957\n",
      "3000: Elapsed time 44.074870347976685, vl: 26.164526\n",
      "4000: Elapsed time 52.578508377075195, vl: 21.549137\n",
      "5000: Elapsed time 61.26841902732849, vl: 18.559383\n",
      "6000: Elapsed time 69.82774066925049, vl: 17.553823\n",
      "7000: Elapsed time 78.52586722373962, vl: 17.046898\n",
      "8000: Elapsed time 87.17361760139465, vl: 16.976904\n",
      "9000: Elapsed time 95.89242768287659, vl: 16.833227\n"
     ]
    }
   ],
   "source": [
    "adam_params = {'lr': .001}\n",
    "fitted_model.fit(x,y, batch_size=1000, max_its=10000, update_int=1000, adam_params=adam_params)"
   ]
  },
  {
   "cell_type": "markdown",
   "metadata": {},
   "source": [
    "## See fitted model results"
   ]
  },
  {
   "cell_type": "code",
   "execution_count": 12,
   "metadata": {},
   "outputs": [],
   "source": [
    "%matplotlib qt\n",
    "true_model.standardize()\n",
    "fitted_model.standardize()\n",
    "fitted_model.to('cpu')\n",
    "RRSigmoidModel.compare_models(true_model, fitted_model, x[0:100,:], [0, 4])"
   ]
  },
  {
   "cell_type": "code",
   "execution_count": null,
   "metadata": {},
   "outputs": [],
   "source": []
  }
 ],
 "metadata": {
  "kernelspec": {
   "display_name": "Python 3",
   "language": "python",
   "name": "python3"
  },
  "language_info": {
   "codemirror_mode": {
    "name": "ipython",
    "version": 3
   },
   "file_extension": ".py",
   "mimetype": "text/x-python",
   "name": "python",
   "nbconvert_exporter": "python",
   "pygments_lexer": "ipython3",
   "version": "3.6.7"
  }
 },
 "nbformat": 4,
 "nbformat_minor": 2
}
