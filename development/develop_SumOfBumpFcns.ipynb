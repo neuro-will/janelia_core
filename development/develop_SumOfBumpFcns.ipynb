{
 "cells": [
  {
   "cell_type": "markdown",
   "metadata": {},
   "source": [
    "For development and testing of the Module SumOfBumpFcns"
   ]
  },
  {
   "cell_type": "code",
   "execution_count": 1,
   "metadata": {},
   "outputs": [],
   "source": [
    "%load_ext autoreload\n",
    "%autoreload 2"
   ]
  },
  {
   "cell_type": "code",
   "execution_count": 2,
   "metadata": {},
   "outputs": [],
   "source": [
    "import time\n",
    "from typing import Callable\n",
    "\n",
    "import matplotlib.pyplot as plt\n",
    "import numpy as np\n",
    "import torch\n",
    "\n",
    "from janelia_core.math.basic_functions import generate_hypergrid_pts\n",
    "from janelia_core.ml.generation import BumpFcnGenerator\n",
    "from janelia_core.ml.utils import torch_mod_to_fcn\n",
    "from janelia_core.ml.wandering_modules import SumOfBumpFcns"
   ]
  },
  {
   "cell_type": "markdown",
   "metadata": {},
   "source": [
    "## Parameters go here"
   ]
  },
  {
   "cell_type": "code",
   "execution_count": 3,
   "metadata": {},
   "outputs": [],
   "source": [
    "n_dims = 3\n",
    "n_smps = 100000"
   ]
  },
  {
   "cell_type": "markdown",
   "metadata": {},
   "source": [
    "## Helper functions go here"
   ]
  },
  {
   "cell_type": "code",
   "execution_count": 4,
   "metadata": {},
   "outputs": [],
   "source": [
    "def plot_2d_f(f: Callable, n_smps_per_dim = 100, dims=[0, 1], fixed_values=None):\n",
    "    \n",
    "    pts = generate_hypergrid_pts(d = 2, n_smps_per_dim=n_smps_per_dim)\n",
    "\n",
    "    if fixed_values is None:\n",
    "        full_pts = np.zeros([pts.shape[0], n_dims])\n",
    "    else:\n",
    "        full_pts = np.tile(np.expand_dims(fixed_values, 1), pts.shape[0]).transpose()\n",
    "    \n",
    "    \n",
    "    full_pts[:, dims[0]] = pts[:,0]\n",
    "    full_pts[:, dims[1]] = pts[:, 1]\n",
    "    \n",
    "    y_grid = f(full_pts).reshape([n_smps_per_dim, n_smps_per_dim])\n",
    "    plt.imshow(y_grid)\n",
    "    plt.colorbar()"
   ]
  },
  {
   "cell_type": "code",
   "execution_count": 5,
   "metadata": {},
   "outputs": [],
   "source": [
    "def fit(nn: torch.nn.Module, x: torch.Tensor, y: torch.Tensor, n_its = 1000, lr=.01, batch_size: int = None,\n",
    "        update_int=100):\n",
    "\n",
    "    params = nn.parameters()\n",
    "    \n",
    "    optimizer = torch.optim.Adam(params = params, lr=lr)\n",
    "    \n",
    "    n_smps = x.shape[0]\n",
    "    if batch_size is None:\n",
    "        batch_size = n_smps\n",
    "    \n",
    "    for i in range(n_its):\n",
    "        \n",
    "        # Select samples for this iteration \n",
    "        if batch_size != n_smps:\n",
    "            inds = torch.randperm(n_smps)[1:batch_size]\n",
    "            batch_x = x[inds, :]\n",
    "            batch_y = y[inds]\n",
    "        else:\n",
    "            batch_x = x\n",
    "            batch_y = y\n",
    "        \n",
    "        optimizer.zero_grad()\n",
    "        \n",
    "        y_pred = nn(batch_x)\n",
    "        er = torch.sum((batch_y - y_pred)**2)/batch_size\n",
    "        er.backward()\n",
    "        \n",
    "        nn.pert_grads()\n",
    "        optimizer.step()\n",
    "        nn.bound()\n",
    "        \n",
    "        if i % update_int == 0:\n",
    "            er_log = float(er.detach().cpu().numpy())\n",
    "            print('It ' + str(i) +  ': {:e}'.format(er_log))\n",
    "            #print('c: ' + str(nn.c))\n",
    "            #print('w: ' + str(nn.w))\n",
    "           # print('m: ' + str(nn.m))"
   ]
  },
  {
   "cell_type": "markdown",
   "metadata": {},
   "source": [
    "## Generate the true function and data"
   ]
  },
  {
   "cell_type": "code",
   "execution_count": 7,
   "metadata": {},
   "outputs": [],
   "source": [
    "run_on_gpu = False"
   ]
  },
  {
   "cell_type": "code",
   "execution_count": 8,
   "metadata": {},
   "outputs": [],
   "source": [
    "fcn_generator = BumpFcnGenerator(n_bumps = 20, d=n_dims, bump_peak_vl_range = [-1, 1], cov_ev_range = [.01, .01])\n",
    "f_true = fcn_generator.generate()\n",
    "\n",
    "x = np.random.rand(10000,n_dims)\n",
    "y = f_true(x)\n",
    "\n",
    "x = torch.tensor(x, dtype=torch.float32)\n",
    "y = torch.tensor(y, dtype=torch.float32)"
   ]
  },
  {
   "cell_type": "code",
   "execution_count": 9,
   "metadata": {},
   "outputs": [],
   "source": [
    "n_fit_bumps = 100\n",
    "f_fit = SumOfBumpFcns(c=torch.rand([n_dims, n_fit_bumps]), w=5*torch.ones([n_dims, n_fit_bumps]),\n",
    "                      m=torch.zeros(n_fit_bumps),\n",
    "                      c_bounds=torch.stack((torch.zeros(n_dims), torch.ones(n_dims))).t(),\n",
    "                      w_bounds=torch.stack((.01*torch.ones(n_dims), 10*torch.ones(n_dims))).t())"
   ]
  },
  {
   "cell_type": "code",
   "execution_count": 10,
   "metadata": {},
   "outputs": [],
   "source": [
    "if run_on_gpu:\n",
    "    f_fit.to('cuda')\n",
    "    x = x.to('cuda')\n",
    "    y = y.to('cuda')\n",
    "else:\n",
    "    f_fit.to('cpu')\n",
    "    x = x.to('cpu')\n",
    "    y = y.to('cpu')"
   ]
  },
  {
   "cell_type": "code",
   "execution_count": 11,
   "metadata": {},
   "outputs": [
    {
     "name": "stdout",
     "output_type": "stream",
     "text": [
      "It 0: 1.062438e-02\n",
      "It 1000: 1.158785e-02\n",
      "It 2000: 7.800065e-03\n",
      "It 3000: 5.428943e-03\n",
      "It 4000: 9.624608e-03\n",
      "It 5000: 3.473639e-03\n",
      "It 6000: 1.115435e-03\n",
      "It 7000: 6.882277e-04\n",
      "It 8000: 3.663326e-04\n",
      "It 9000: 1.523609e-04\n",
      "It 10000: 1.473235e-04\n",
      "Elapsed time: 30.723909854888916\n"
     ]
    }
   ],
   "source": [
    "t_0 = time.time()\n",
    "\n",
    "for i in range(1):\n",
    "    fit(nn=f_fit, x=x, y=y, lr=.01, n_its=10001, batch_size=1000, update_int=1000)\n",
    "\n",
    "    t_stop = time.time()\n",
    "print('Elapsed time: ' + str(t_stop - t_0))"
   ]
  },
  {
   "cell_type": "code",
   "execution_count": null,
   "metadata": {},
   "outputs": [],
   "source": [
    "f_fit.to('cpu') \n",
    "x = x.to('cpu')\n",
    "y = y.to('cpu')"
   ]
  },
  {
   "cell_type": "markdown",
   "metadata": {},
   "source": [
    "## View the true and fit functions"
   ]
  },
  {
   "cell_type": "code",
   "execution_count": null,
   "metadata": {},
   "outputs": [],
   "source": [
    "z_values = np.arange(0, 1, .2)\n",
    "for z_v in z_values:\n",
    "    plt.figure()\n",
    "    plt.subplot(1,2,1)\n",
    "    plot_2d_f(f_true, n_smps_per_dim=200, dims = [0, 1], fixed_values = z_v*np.ones(n_dims))\n",
    "    plt.clim([-1, 1])\n",
    "    plt.subplot(1,2,2)\n",
    "    plot_2d_f(torch_mod_to_fcn(f_fit), n_smps_per_dim=200, dims = [0, 1], fixed_values = z_v*np.ones(n_dims))\n",
    "    plt.clim([-1, 1])"
   ]
  },
  {
   "cell_type": "code",
   "execution_count": null,
   "metadata": {},
   "outputs": [],
   "source": []
  }
 ],
 "metadata": {
  "kernelspec": {
   "display_name": "Python 3",
   "language": "python",
   "name": "python3"
  },
  "language_info": {
   "codemirror_mode": {
    "name": "ipython",
    "version": 3
   },
   "file_extension": ".py",
   "mimetype": "text/x-python",
   "name": "python",
   "nbconvert_exporter": "python",
   "pygments_lexer": "ipython3",
   "version": "3.8.5"
  }
 },
 "nbformat": 4,
 "nbformat_minor": 4
}
