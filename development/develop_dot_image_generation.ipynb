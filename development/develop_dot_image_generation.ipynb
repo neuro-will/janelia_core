{
 "cells": [
  {
   "cell_type": "code",
   "execution_count": null,
   "metadata": {},
   "outputs": [],
   "source": [
    "%load_ext autoreload\n",
    "%autoreload 2"
   ]
  },
  {
   "cell_type": "code",
   "execution_count": 144,
   "metadata": {},
   "outputs": [],
   "source": [
    "import matplotlib.pyplot as plt\n",
    "import numpy as np\n",
    "\n",
    "from PIL import Image, ImageDraw\n",
    "\n",
    "from janelia_core.visualization.image_generation import alpha_composite\n",
    "from janelia_core.visualization.image_generation import generate_dot_image\n",
    "from janelia_core.visualization.image_generation import standard_rgba_to_premultiplied\n",
    "from janelia_core.visualization.image_generation import premultiplied_rgba_to_standard"
   ]
  },
  {
   "cell_type": "code",
   "execution_count": 263,
   "metadata": {},
   "outputs": [],
   "source": [
    "image_shape = (2000, 2000)\n",
    "diameter = 211\n",
    "n_dots = 200"
   ]
  },
  {
   "cell_type": "code",
   "execution_count": 267,
   "metadata": {},
   "outputs": [],
   "source": [
    "dot_ctrs = np.round(np.random.rand(n_dots,2)*image_shape) - 1\n",
    "dot_ctrs[dot_ctrs < 0] = 0\n",
    "\n",
    "dot_clrs = np.ones([n_dots,4])*(1,0.0,0.0,.2)\n",
    "dot_clrs[100:, 0] = 0\n",
    "dot_clrs[100:, 1] = 1\n",
    "dot_clrs[100:, 3] = 1"
   ]
  },
  {
   "cell_type": "code",
   "execution_count": 268,
   "metadata": {},
   "outputs": [],
   "source": [
    "img = generate_dot_image(image_shape=image_shape, dot_ctrs=dot_ctrs, dot_clrs=dot_clrs, dot_diameter=diameter)"
   ]
  },
  {
   "cell_type": "code",
   "execution_count": 269,
   "metadata": {},
   "outputs": [
    {
     "data": {
      "text/plain": [
       "<matplotlib.image.AxesImage at 0x15f87a681d0>"
      ]
     },
     "execution_count": 269,
     "metadata": {},
     "output_type": "execute_result"
    }
   ],
   "source": [
    "%matplotlib qt\n",
    "plt.imshow(img)"
   ]
  },
  {
   "cell_type": "code",
   "execution_count": null,
   "metadata": {},
   "outputs": [],
   "source": []
  }
 ],
 "metadata": {
  "kernelspec": {
   "display_name": "Python 3",
   "language": "python",
   "name": "python3"
  },
  "language_info": {
   "codemirror_mode": {
    "name": "ipython",
    "version": 3
   },
   "file_extension": ".py",
   "mimetype": "text/x-python",
   "name": "python",
   "nbconvert_exporter": "python",
   "pygments_lexer": "ipython3",
   "version": "3.7.3"
  }
 },
 "nbformat": 4,
 "nbformat_minor": 2
}
