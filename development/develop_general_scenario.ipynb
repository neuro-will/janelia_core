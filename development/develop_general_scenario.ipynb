{
 "cells": [
  {
   "cell_type": "markdown",
   "metadata": {},
   "source": [
    "Notebook for testing and development of general_scenario object"
   ]
  },
  {
   "cell_type": "code",
   "execution_count": 1,
   "metadata": {},
   "outputs": [],
   "source": [
    "%load_ext autoreload\n",
    "%autoreload 2"
   ]
  },
  {
   "cell_type": "code",
   "execution_count": 6,
   "metadata": {},
   "outputs": [],
   "source": [
    "import numpy as np\n",
    "import torch\n",
    "\n",
    "from janelia_core.ml.latent_regression.general_scenario import GeneralInputOutputScenario"
   ]
  },
  {
   "cell_type": "markdown",
   "metadata": {},
   "source": [
    "## Parmeters go here"
   ]
  },
  {
   "cell_type": "code",
   "execution_count": 12,
   "metadata": {},
   "outputs": [],
   "source": [
    "input_dims = np.asarray([[1000, 2], [1100, 2]])\n",
    "output_dims = np.asarray([[300, 2], [700, 2]])"
   ]
  },
  {
   "cell_type": "code",
   "execution_count": 90,
   "metadata": {},
   "outputs": [],
   "source": [
    "scenario = GeneralInputOutputScenario(input_dims = input_dims, output_dims=output_dims, n_input_modes=[2, 2], \n",
    "                                      n_output_modes=[2, 2], shared_m_core=torch.nn.Identity(), \n",
    "                                      use_scales=True, use_offsets=False, direct_pairs=[(1,1)], \n",
    "                                      scales_point_ests=[True, True],\n",
    "                                      fixed_scales=[(0, torch.Tensor([.5]))],\n",
    "                                      direct_mappings_point_ests=[False], \n",
    "                                      fixed_direct_mappings=[(0, torch.Tensor([[.75, .55]]))])"
   ]
  }
 ],
 "metadata": {
  "kernelspec": {
   "display_name": "Python 3",
   "language": "python",
   "name": "python3"
  },
  "language_info": {
   "codemirror_mode": {
    "name": "ipython",
    "version": 3
   },
   "file_extension": ".py",
   "mimetype": "text/x-python",
   "name": "python",
   "nbconvert_exporter": "python",
   "pygments_lexer": "ipython3",
   "version": "3.8.5"
  }
 },
 "nbformat": 4,
 "nbformat_minor": 4
}
