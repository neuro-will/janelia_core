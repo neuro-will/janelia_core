{
 "cells": [
  {
   "cell_type": "markdown",
   "metadata": {},
   "source": [
    "Code for the testing and development of group_linear_regression_boot_strap"
   ]
  },
  {
   "cell_type": "code",
   "execution_count": 1,
   "metadata": {},
   "outputs": [],
   "source": [
    "%load_ext autoreload\n",
    "%autoreload 2"
   ]
  },
  {
   "cell_type": "code",
   "execution_count": 2,
   "metadata": {},
   "outputs": [],
   "source": [
    "import numpy as np\n",
    "\n",
    "from janelia_core.stats.regression import grouped_linear_regression_boot_strap"
   ]
  },
  {
   "cell_type": "markdown",
   "metadata": {},
   "source": [
    "## Parameters go here"
   ]
  },
  {
   "cell_type": "code",
   "execution_count": 56,
   "metadata": {},
   "outputs": [],
   "source": [
    "# Coefficients of the true model here\n",
    "coefs = np.asarray([1.0, 3.0, 0.0, 4.0, 5.0])\n",
    "\n",
    "# True model mean here\n",
    "mn = 7\n",
    "\n",
    "# Number of groups to sample\n",
    "n_grps = 1000\n",
    "\n",
    "# Range of the number of samples to generate from each group\n",
    "n_smps_per_group = [1, 5]\n"
   ]
  },
  {
   "cell_type": "markdown",
   "metadata": {},
   "source": [
    "## Generate true data"
   ]
  },
  {
   "cell_type": "code",
   "execution_count": 57,
   "metadata": {},
   "outputs": [],
   "source": [
    "n_coefs = len(coefs)\n",
    "\n",
    "x_grp = [None]*n_grps\n",
    "y_grp = [None]*n_grps\n",
    "i_grp = [None]*n_grps\n",
    "\n",
    "for g_i in range(n_grps):\n",
    "    n_grp_smps = np.random.randint(n_smps_per_group[0], n_smps_per_group[1] + 1)\n",
    "    \n",
    "    \n",
    "    x_base = np.random.randn(1, n_coefs)\n",
    "    x_add = .1*np.random.randn(n_grp_smps, n_coefs)\n",
    "    x_grp[g_i] = x_base + x_add\n",
    "    \n",
    "    y_grp[g_i] = np.matmul(x_grp[g_i], coefs) + np.random.randn(n_grp_smps) + mn\n",
    "\n",
    "    i_grp[g_i] = np.ones(n_grp_smps)*g_i\n",
    "    \n",
    "x = np.concatenate(x_grp)\n",
    "y = np.concatenate(y_grp)\n",
    "grps = np.concatenate(i_grp)"
   ]
  },
  {
   "cell_type": "code",
   "execution_count": 58,
   "metadata": {},
   "outputs": [],
   "source": [
    "grp_inds = grouped_linear_regression_boot_strap(x=x, y=y, g=grps, n_bs_smps=10000)"
   ]
  },
  {
   "cell_type": "code",
   "execution_count": 59,
   "metadata": {},
   "outputs": [
    {
     "data": {
      "text/plain": [
       "array([ 9.98713930e-01,  3.00631931e+00, -1.16847958e-03,  3.99188397e+00,\n",
       "        4.98725898e+00,  6.97968932e+00])"
      ]
     },
     "execution_count": 59,
     "metadata": {},
     "output_type": "execute_result"
    }
   ],
   "source": [
    "np.mean(grp_inds, axis=0)"
   ]
  },
  {
   "cell_type": "code",
   "execution_count": 60,
   "metadata": {},
   "outputs": [
    {
     "data": {
      "text/plain": [
       "array([0.01705191, 0.01797086, 0.01905397, 0.01780462, 0.01788956,\n",
       "       0.0182089 ])"
      ]
     },
     "execution_count": 60,
     "metadata": {},
     "output_type": "execute_result"
    }
   ],
   "source": [
    "np.std(grp_inds, axis=0)"
   ]
  },
  {
   "cell_type": "code",
   "execution_count": null,
   "metadata": {},
   "outputs": [],
   "source": []
  }
 ],
 "metadata": {
  "kernelspec": {
   "display_name": "Python 3",
   "language": "python",
   "name": "python3"
  },
  "language_info": {
   "codemirror_mode": {
    "name": "ipython",
    "version": 3
   },
   "file_extension": ".py",
   "mimetype": "text/x-python",
   "name": "python",
   "nbconvert_exporter": "python",
   "pygments_lexer": "ipython3",
   "version": "3.7.1"
  }
 },
 "nbformat": 4,
 "nbformat_minor": 2
}
