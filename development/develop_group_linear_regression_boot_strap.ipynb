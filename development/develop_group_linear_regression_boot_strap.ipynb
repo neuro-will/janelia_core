{
 "cells": [
  {
   "cell_type": "markdown",
   "metadata": {},
   "source": [
    "Code for the testing and development of group_linear_regression_boot_strap"
   ]
  },
  {
   "cell_type": "code",
   "execution_count": 1,
   "metadata": {},
   "outputs": [],
   "source": [
    "%load_ext autoreload\n",
    "%autoreload 2"
   ]
  },
  {
   "cell_type": "code",
   "execution_count": 26,
   "metadata": {},
   "outputs": [],
   "source": [
    "import matplotlib.pyplot as plt\n",
    "import numpy as np\n",
    "\n",
    "from janelia_core.stats.regression import grouped_linear_regression_boot_strap\n",
    "from janelia_core.stats.regression import grouped_linear_regression_boot_strap_stats"
   ]
  },
  {
   "cell_type": "markdown",
   "metadata": {},
   "source": [
    "## Parameters go here"
   ]
  },
  {
   "cell_type": "code",
   "execution_count": 38,
   "metadata": {},
   "outputs": [],
   "source": [
    "# Coefficients of the true model here\n",
    "coefs = np.asarray([1.0, 3.0, 0.0, 4.0, 5.0])\n",
    "\n",
    "# True model mean here\n",
    "mn = 7.0\n",
    "\n",
    "# Number of groups to sample\n",
    "n_grps = 100\n",
    "\n",
    "# Range of the number of samples to generate from each group\n",
    "n_smps_per_group = [1, 5]\n"
   ]
  },
  {
   "cell_type": "markdown",
   "metadata": {},
   "source": [
    "## Generate true data"
   ]
  },
  {
   "cell_type": "code",
   "execution_count": 4,
   "metadata": {},
   "outputs": [],
   "source": [
    "n_coefs = len(coefs)\n",
    "\n",
    "x_grp = [None]*n_grps\n",
    "y_grp = [None]*n_grps\n",
    "i_grp = [None]*n_grps\n",
    "\n",
    "for g_i in range(n_grps):\n",
    "    n_grp_smps = np.random.randint(n_smps_per_group[0], n_smps_per_group[1] + 1)\n",
    "    \n",
    "    \n",
    "    x_base = np.random.randn(1, n_coefs)\n",
    "    x_add = .1*np.random.randn(n_grp_smps, n_coefs)\n",
    "    x_grp[g_i] = x_base + x_add\n",
    "    \n",
    "    y_grp[g_i] = np.matmul(x_grp[g_i], coefs) + np.random.randn(n_grp_smps) + mn\n",
    "\n",
    "    i_grp[g_i] = np.ones(n_grp_smps)*g_i\n",
    "    \n",
    "x = np.concatenate(x_grp)\n",
    "y = np.concatenate(y_grp)\n",
    "grps = np.concatenate(i_grp)"
   ]
  },
  {
   "cell_type": "code",
   "execution_count": 5,
   "metadata": {},
   "outputs": [],
   "source": [
    "results = grouped_linear_regression_boot_strap(x=x, y=y, g=grps, n_bs_smps=10000)"
   ]
  },
  {
   "cell_type": "code",
   "execution_count": 6,
   "metadata": {},
   "outputs": [],
   "source": [
    "stats = grouped_linear_regression_boot_strap_stats(results[0], alpha=.01)"
   ]
  },
  {
   "cell_type": "code",
   "execution_count": 7,
   "metadata": {},
   "outputs": [
    {
     "data": {
      "text/plain": [
       "{'alpha': 0.01,\n",
       " 'c_ints': array([[ 0.84583538,  2.87920586, -0.27283673,  3.82644203,  4.81409744,\n",
       "          6.97980852],\n",
       "        [ 1.15857362,  3.16443717,  0.05833783,  4.15211389,  5.19520414,\n",
       "          7.2875841 ]]),\n",
       " 'non_zero_p': array([0.0002, 0.0002, 0.08  , 0.0002, 0.0002, 0.0002]),\n",
       " 'non_zero': array([ True,  True, False,  True,  True,  True])}"
      ]
     },
     "execution_count": 7,
     "metadata": {},
     "output_type": "execute_result"
    }
   ],
   "source": [
    "stats"
   ]
  },
  {
   "cell_type": "markdown",
   "metadata": {},
   "source": [
    "# Code to look at distribution of p-values when null hypothesis is true"
   ]
  },
  {
   "cell_type": "code",
   "execution_count": 49,
   "metadata": {},
   "outputs": [],
   "source": [
    "coefs = np.asarray([0.0, 3.0, 0.0, 0.0, 0.0])\n",
    "mn = 2.0\n",
    "n_sims = 1000"
   ]
  },
  {
   "cell_type": "code",
   "execution_count": 50,
   "metadata": {},
   "outputs": [],
   "source": [
    "p_values = np.zeros([n_sims, len(coefs)+1])"
   ]
  },
  {
   "cell_type": "code",
   "execution_count": 51,
   "metadata": {},
   "outputs": [
    {
     "name": "stdout",
     "output_type": "stream",
     "text": [
      "Done with simulation 0\n",
      "Done with simulation 100\n",
      "Done with simulation 200\n",
      "Done with simulation 300\n",
      "Done with simulation 400\n",
      "Done with simulation 500\n",
      "Done with simulation 600\n",
      "Done with simulation 700\n",
      "Done with simulation 800\n",
      "Done with simulation 900\n"
     ]
    }
   ],
   "source": [
    "for s_i in range(n_sims):\n",
    "    n_coefs = len(coefs)\n",
    "\n",
    "    x_grp = [None]*n_grps\n",
    "    y_grp = [None]*n_grps\n",
    "    i_grp = [None]*n_grps\n",
    "\n",
    "    for g_i in range(n_grps):\n",
    "        n_grp_smps = np.random.randint(n_smps_per_group[0], n_smps_per_group[1] + 1)\n",
    "    \n",
    "    \n",
    "        x_base = np.random.randn(1, n_coefs)\n",
    "        x_add = .1*np.random.randn(n_grp_smps, n_coefs)\n",
    "        x_grp[g_i] = x_base + x_add\n",
    "    \n",
    "        y_grp[g_i] = np.matmul(x_grp[g_i], coefs) + np.random.randn(n_grp_smps) + mn\n",
    "\n",
    "        i_grp[g_i] = np.ones(n_grp_smps)*g_i\n",
    "    \n",
    "    x = np.concatenate(x_grp)\n",
    "    y = np.concatenate(y_grp)\n",
    "    grps = np.concatenate(i_grp)\n",
    "    \n",
    "    results = grouped_linear_regression_boot_strap(x=x, y=y, g=grps, n_bs_smps=10000)\n",
    "    stats = grouped_linear_regression_boot_strap_stats(results[0], alpha=.01)\n",
    "    p_values[s_i,:] = stats['non_zero_p']\n",
    "    if s_i % 100 == 0:\n",
    "        print('Done with simulation ' + str(s_i))"
   ]
  },
  {
   "cell_type": "code",
   "execution_count": 52,
   "metadata": {},
   "outputs": [
    {
     "data": {
      "image/png": "[encoded data removed]",
      "text/plain": [
       "<Figure size 432x288 with 6 Axes>"
      ]
     },
     "metadata": {
      "needs_background": "light"
     },
     "output_type": "display_data"
    }
   ],
   "source": [
    "n_vls = p_values.shape[1]\n",
    "for i in range(p_values.shape[1]):\n",
    "    plt.subplot(1, n_vls, i+1)\n",
    "    plt.hist(p_values[:, i])"
   ]
  }
 ],
 "metadata": {
  "kernelspec": {
   "display_name": "Python 3",
   "language": "python",
   "name": "python3"
  },
  "language_info": {
   "codemirror_mode": {
    "name": "ipython",
    "version": 3
   },
   "file_extension": ".py",
   "mimetype": "text/x-python",
   "name": "python",
   "nbconvert_exporter": "python",
   "pygments_lexer": "ipython3",
   "version": "3.7.2"
  }
 },
 "nbformat": 4,
 "nbformat_minor": 2
}
