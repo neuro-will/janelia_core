{
 "cells": [
  {
   "cell_type": "markdown",
   "metadata": {},
   "source": [
    "Code for testing and development of the function grouped_linear_regression_within_estimator\n",
    "\n",
    "This code will test for three things: \n",
    "\n",
    "1) It will test that 1-alpha confidence intervals capture the true model coefficients 1-alpha percent of the time\n",
    "\n",
    "2) It will verify that under the hypothesis that all $\\beta$ coefficients are 0, the distribution of p-values for hypothesis tests of non-zero coefficents are uniformly distributed\n",
    "\n",
    "3) It will make sure offsets are learned correctly"
   ]
  },
  {
   "cell_type": "code",
   "execution_count": 1,
   "metadata": {},
   "outputs": [],
   "source": [
    "%load_ext autoreload\n",
    "%autoreload 2"
   ]
  },
  {
   "cell_type": "code",
   "execution_count": 2,
   "metadata": {},
   "outputs": [],
   "source": [
    "import matplotlib.pyplot as plt\n",
    "import numpy as np\n",
    "import scipy.stats as stats\n",
    "\n",
    "from janelia_core.stats.regression import grouped_linear_regression_within_estimator\n",
    "from janelia_core.stats.regression import grouped_linear_regression_within_estimator_stats"
   ]
  },
  {
   "cell_type": "markdown",
   "metadata": {},
   "source": [
    "# Make sure confidence intervals are correct"
   ]
  },
  {
   "cell_type": "markdown",
   "metadata": {},
   "source": [
    "## Parameters go here"
   ]
  },
  {
   "cell_type": "code",
   "execution_count": 3,
   "metadata": {},
   "outputs": [],
   "source": [
    "# Coefficients of the true model here\n",
    "coefs = np.arange(10)\n",
    "\n",
    "# Range of group offsets\n",
    "grp_offset_range = [-10, 10]\n",
    "\n",
    "# Range of group noise standard deviations\n",
    "grp_std_range = [1, 10]\n",
    "\n",
    "# Number of groups to sample\n",
    "n_grps = 500\n",
    "\n",
    "# Range of the number of samples to generate from each group\n",
    "n_smps_per_group = [1, 5]\n",
    "\n",
    "# Number of simulations to perform\n",
    "n_sims = 1000\n",
    "# Size of 1-alpha confidence interval\n",
    "alpha = .05\n"
   ]
  },
  {
   "cell_type": "code",
   "execution_count": 4,
   "metadata": {},
   "outputs": [],
   "source": [
    "def gen_data(coefs, n_grps, n_smps_per_group, grp_offset_range, grp_std_range):\n",
    "\n",
    "    n_coefs = len(coefs)\n",
    "\n",
    "    grp_offsets = np.zeros(n_grps)\n",
    "    grp_stds = np.zeros(n_grps)\n",
    "    x_grp = [None]*n_grps\n",
    "    y_grp = [None]*n_grps\n",
    "    i_grp = [None]*n_grps\n",
    "\n",
    "    for g_i in range(n_grps):\n",
    "        n_grp_smps = np.random.randint(n_smps_per_group[0], n_smps_per_group[1] + 1)\n",
    "    \n",
    "        grp_offset = (np.random.rand(1)*(grp_offset_range[1] - grp_offset_range[0]) + \n",
    "                      grp_offset_range[0])\n",
    "        grp_offsets[g_i] = grp_offset\n",
    "    \n",
    "        grp_std = (np.random.rand(1)*(grp_std_range[1] - grp_std_range[0]) + \n",
    "                   grp_std_range[0])\n",
    "        grp_stds[g_i] = grp_std\n",
    "    \n",
    "        x_grp[g_i] = np.random.randn(n_grp_smps, n_coefs)\n",
    "        y_grp[g_i] = (np.matmul(x_grp[g_i], coefs) + grp_std*np.random.randn(n_grp_smps) +\n",
    "                      grp_offset)\n",
    "        i_grp[g_i] = np.ones(n_grp_smps)*g_i\n",
    "    \n",
    "    x = np.concatenate(x_grp)\n",
    "    y = np.concatenate(y_grp)\n",
    "    grps = np.concatenate(i_grp)\n",
    "    \n",
    "    return [x, y, grps, grp_offsets]"
   ]
  },
  {
   "cell_type": "markdown",
   "metadata": {},
   "source": [
    "## Check accuracy of confidence intervals"
   ]
  },
  {
   "cell_type": "code",
   "execution_count": 5,
   "metadata": {},
   "outputs": [
    {
     "name": "stdout",
     "output_type": "stream",
     "text": [
      "Done with simulation 0.\n",
      "Done with simulation 100.\n",
      "Done with simulation 200.\n",
      "Done with simulation 300.\n",
      "Done with simulation 400.\n",
      "Done with simulation 500.\n",
      "Done with simulation 600.\n",
      "Done with simulation 700.\n",
      "Done with simulation 800.\n",
      "Done with simulation 900.\n"
     ]
    }
   ],
   "source": [
    "captured = np.zeros([n_sims, len(coefs)])\n",
    "\n",
    "for s_i in range(n_sims):\n",
    "    x, y, g, _ = gen_data(coefs, n_grps, n_smps_per_group, grp_offset_range, grp_std_range)\n",
    "    \n",
    "    beta, avm, _, n_g = grouped_linear_regression_within_estimator(y=y,x=x,g=g)\n",
    "    stats = grouped_linear_regression_within_estimator_stats(beta,avm,n_g, alpha)\n",
    "    \n",
    "    # See if coefficients are in the confidence interval\n",
    "    captured[s_i, :] = np.logical_and(stats['c_ints'][0,:] <= coefs, coefs <= stats['c_ints'][1,:] )\n",
    "    \n",
    "    if s_i % 100 == 0:\n",
    "        print('Done with simulation ' + str(s_i) + '.')"
   ]
  },
  {
   "cell_type": "code",
   "execution_count": 6,
   "metadata": {
    "scrolled": true
   },
   "outputs": [
    {
     "name": "stdout",
     "output_type": "stream",
     "text": [
      "Percent captured: [0.945 0.945 0.943 0.948 0.946 0.955 0.943 0.952 0.962 0.959]\n"
     ]
    }
   ],
   "source": [
    "p_captured = np.mean(captured, axis=0)\n",
    "print('Percent captured: ' + str(p_captured))"
   ]
  },
  {
   "cell_type": "markdown",
   "metadata": {},
   "source": [
    "# Make sure that under then null hypothesis distributions of p-values are uniformly distributed"
   ]
  },
  {
   "cell_type": "markdown",
   "metadata": {},
   "source": [
    "## Parameters go here"
   ]
  },
  {
   "cell_type": "code",
   "execution_count": 7,
   "metadata": {},
   "outputs": [],
   "source": [
    "# Number of coefficents in the model\n",
    "n_coefs = 10\n",
    "\n",
    "# Range of group offsets\n",
    "grp_offset_range = [-10, 10]\n",
    "\n",
    "# Range of group noise standard deviations\n",
    "grp_std_range = [1, 10]\n",
    "\n",
    "# Number of groups to sample\n",
    "n_grps = 500\n",
    "\n",
    "# Range of the number of samples to generate from each group\n",
    "n_smps_per_group = [1, 5]\n",
    "\n",
    "# Number of simulations to perform\n",
    "n_sims = 10000\n",
    "# Size of 1-alpha confidence interval\n",
    "alpha = .05\n"
   ]
  },
  {
   "cell_type": "code",
   "execution_count": 8,
   "metadata": {},
   "outputs": [
    {
     "name": "stdout",
     "output_type": "stream",
     "text": [
      "Done with simulation 0.\n",
      "Done with simulation 100.\n",
      "Done with simulation 200.\n",
      "Done with simulation 300.\n",
      "Done with simulation 400.\n",
      "Done with simulation 500.\n",
      "Done with simulation 600.\n",
      "Done with simulation 700.\n",
      "Done with simulation 800.\n",
      "Done with simulation 900.\n",
      "Done with simulation 1000.\n",
      "Done with simulation 1100.\n",
      "Done with simulation 1200.\n",
      "Done with simulation 1300.\n",
      "Done with simulation 1400.\n",
      "Done with simulation 1500.\n",
      "Done with simulation 1600.\n",
      "Done with simulation 1700.\n",
      "Done with simulation 1800.\n",
      "Done with simulation 1900.\n",
      "Done with simulation 2000.\n",
      "Done with simulation 2100.\n",
      "Done with simulation 2200.\n",
      "Done with simulation 2300.\n",
      "Done with simulation 2400.\n",
      "Done with simulation 2500.\n",
      "Done with simulation 2600.\n",
      "Done with simulation 2700.\n",
      "Done with simulation 2800.\n",
      "Done with simulation 2900.\n",
      "Done with simulation 3000.\n",
      "Done with simulation 3100.\n",
      "Done with simulation 3200.\n",
      "Done with simulation 3300.\n",
      "Done with simulation 3400.\n",
      "Done with simulation 3500.\n",
      "Done with simulation 3600.\n",
      "Done with simulation 3700.\n",
      "Done with simulation 3800.\n",
      "Done with simulation 3900.\n",
      "Done with simulation 4000.\n",
      "Done with simulation 4100.\n",
      "Done with simulation 4200.\n",
      "Done with simulation 4300.\n",
      "Done with simulation 4400.\n",
      "Done with simulation 4500.\n",
      "Done with simulation 4600.\n",
      "Done with simulation 4700.\n",
      "Done with simulation 4800.\n",
      "Done with simulation 4900.\n",
      "Done with simulation 5000.\n",
      "Done with simulation 5100.\n",
      "Done with simulation 5200.\n",
      "Done with simulation 5300.\n",
      "Done with simulation 5400.\n",
      "Done with simulation 5500.\n",
      "Done with simulation 5600.\n",
      "Done with simulation 5700.\n",
      "Done with simulation 5800.\n",
      "Done with simulation 5900.\n",
      "Done with simulation 6000.\n",
      "Done with simulation 6100.\n",
      "Done with simulation 6200.\n",
      "Done with simulation 6300.\n",
      "Done with simulation 6400.\n",
      "Done with simulation 6500.\n",
      "Done with simulation 6600.\n",
      "Done with simulation 6700.\n",
      "Done with simulation 6800.\n",
      "Done with simulation 6900.\n",
      "Done with simulation 7000.\n",
      "Done with simulation 7100.\n",
      "Done with simulation 7200.\n",
      "Done with simulation 7300.\n",
      "Done with simulation 7400.\n",
      "Done with simulation 7500.\n",
      "Done with simulation 7600.\n",
      "Done with simulation 7700.\n",
      "Done with simulation 7800.\n",
      "Done with simulation 7900.\n",
      "Done with simulation 8000.\n",
      "Done with simulation 8100.\n",
      "Done with simulation 8200.\n",
      "Done with simulation 8300.\n",
      "Done with simulation 8400.\n",
      "Done with simulation 8500.\n",
      "Done with simulation 8600.\n",
      "Done with simulation 8700.\n",
      "Done with simulation 8800.\n",
      "Done with simulation 8900.\n",
      "Done with simulation 9000.\n",
      "Done with simulation 9100.\n",
      "Done with simulation 9200.\n",
      "Done with simulation 9300.\n",
      "Done with simulation 9400.\n",
      "Done with simulation 9500.\n",
      "Done with simulation 9600.\n",
      "Done with simulation 9700.\n",
      "Done with simulation 9800.\n",
      "Done with simulation 9900.\n"
     ]
    }
   ],
   "source": [
    "p_vls = np.zeros([n_sims, n_coefs])\n",
    "\n",
    "for s_i in range(n_sims):\n",
    "    x, y, g, _ = gen_data(np.zeros(n_coefs), n_grps, n_smps_per_group, grp_offset_range, grp_std_range)\n",
    "    \n",
    "    beta, avm, _, n_g = grouped_linear_regression_within_estimator(y=y,x=x,g=g)\n",
    "    stats = grouped_linear_regression_within_estimator_stats(beta,avm,n_g, alpha)\n",
    "    \n",
    "    p_vls[s_i, :] = stats['non_zero_p']\n",
    "    \n",
    "    if s_i % 100 == 0:\n",
    "        print('Done with simulation ' + str(s_i) + '.')"
   ]
  },
  {
   "cell_type": "markdown",
   "metadata": {},
   "source": [
    "## Visualize distribution of p-values"
   ]
  },
  {
   "cell_type": "code",
   "execution_count": 9,
   "metadata": {},
   "outputs": [
    {
     "data": {
      "image/png": "[encoded data removed]",
      "text/plain": [
       "<Figure size 432x288 with 10 Axes>"
      ]
     },
     "metadata": {
      "needs_background": "light"
     },
     "output_type": "display_data"
    }
   ],
   "source": [
    "plt.figure()\n",
    "for c_i in range(n_coefs):\n",
    "    plt.subplot(2, 5, c_i+1)\n",
    "    plt.hist(p_vls[:, c_i])"
   ]
  },
  {
   "cell_type": "markdown",
   "metadata": {},
   "source": [
    "# Make sure offsets are learned correctly"
   ]
  },
  {
   "cell_type": "markdown",
   "metadata": {},
   "source": [
    "## Parameters go here"
   ]
  },
  {
   "cell_type": "code",
   "execution_count": 10,
   "metadata": {},
   "outputs": [],
   "source": [
    "# Coefficients of the true model here\n",
    "coefs = np.arange(10)\n",
    "\n",
    "# Range of group offsets\n",
    "grp_offset_range = [-10, 10]\n",
    "\n",
    "# Range of group noise standard deviations\n",
    "grp_std_range = [1, 1]\n",
    "\n",
    "# Number of groups to sample\n",
    "n_grps = 50\n",
    "\n",
    "# Range of the number of samples to generate from each group\n",
    "n_smps_per_group = [100, 100]"
   ]
  },
  {
   "cell_type": "markdown",
   "metadata": {},
   "source": [
    "## We perform the check here"
   ]
  },
  {
   "cell_type": "code",
   "execution_count": 11,
   "metadata": {},
   "outputs": [],
   "source": [
    "x, y, g, true_offsets = gen_data(coefs, n_grps, n_smps_per_group, \n",
    "                                 grp_offset_range, grp_std_range)\n",
    "\n",
    "beta, avm, offsets, n_g = grouped_linear_regression_within_estimator(y=y,x=x,g=g)\n",
    "\n",
    "est_offsets = np.asarray([offsets[g] for g in np.sort(list(offsets.keys()))])"
   ]
  },
  {
   "cell_type": "code",
   "execution_count": 12,
   "metadata": {},
   "outputs": [
    {
     "data": {
      "text/plain": [
       "[<matplotlib.lines.Line2D at 0x124d004a8>]"
      ]
     },
     "execution_count": 12,
     "metadata": {},
     "output_type": "execute_result"
    },
    {
     "data": {
      "image/png": "[encoded data removed]",
      "text/plain": [
       "<Figure size 432x288 with 1 Axes>"
      ]
     },
     "metadata": {
      "needs_background": "light"
     },
     "output_type": "display_data"
    }
   ],
   "source": [
    "plt.figure()\n",
    "plt.plot(true_offsets, 'bo')\n",
    "plt.plot(est_offsets, 'r.')"
   ]
  },
  {
   "cell_type": "code",
   "execution_count": null,
   "metadata": {},
   "outputs": [],
   "source": []
  }
 ],
 "metadata": {
  "kernelspec": {
   "display_name": "Python 3",
   "language": "python",
   "name": "python3"
  },
  "language_info": {
   "codemirror_mode": {
    "name": "ipython",
    "version": 3
   },
   "file_extension": ".py",
   "mimetype": "text/x-python",
   "name": "python",
   "nbconvert_exporter": "python",
   "pygments_lexer": "ipython3",
   "version": "3.7.2"
  }
 },
 "nbformat": 4,
 "nbformat_minor": 2
}
