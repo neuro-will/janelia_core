{
 "cells": [
  {
   "cell_type": "markdown",
   "metadata": {},
   "source": [
    "A notebook for development and testing of linear_regression_ols_estimator "
   ]
  },
  {
   "cell_type": "code",
   "execution_count": 1,
   "metadata": {},
   "outputs": [],
   "source": [
    "%load_ext autoreload\n",
    "%autoreload 2"
   ]
  },
  {
   "cell_type": "code",
   "execution_count": 6,
   "metadata": {},
   "outputs": [],
   "source": [
    "import matplotlib.pyplot as plt\n",
    "import numpy as np\n",
    "\n",
    "from janelia_core.stats.regression import linear_regression_ols_estimator\n",
    "from janelia_core.stats.regression import grouped_linear_regression_acm_linear_restriction_stats"
   ]
  },
  {
   "cell_type": "markdown",
   "metadata": {},
   "source": [
    "## Parameters go here"
   ]
  },
  {
   "cell_type": "code",
   "execution_count": 44,
   "metadata": {},
   "outputs": [],
   "source": [
    "coefs = np.asarray([2.0, 2.0, 0.0]) # List average actual values for each variable\n",
    "\n",
    "err_std = .2 # Standard deviation of error that is added to each subject's values \n",
    "\n",
    "n_smps = 1000 # Number of subjects\n",
    "\n",
    "n_sims = 1000 # Number of simulations we run to get distributions of p-values\n",
    "\n",
    "# Linear resrictions we want to test for\n",
    "r = np.asarray([[1, -1, 0], [1, 0, 0]])\n",
    "q = np.asarray([0, 2])"
   ]
  },
  {
   "cell_type": "markdown",
   "metadata": {},
   "source": [
    "## Define some helper functions "
   ]
  },
  {
   "cell_type": "code",
   "execution_count": 45,
   "metadata": {},
   "outputs": [],
   "source": [
    "def gen_data():\n",
    "    \n",
    "    n_coefs = len(coefs)\n",
    "\n",
    "    y = np.zeros(n_smps)\n",
    "    x = np.zeros([n_smps, n_coefs])\n",
    "    \n",
    "    for s_i in range(n_smps):\n",
    "        coef_i = np.random.randint(0, n_coefs)\n",
    "        y[s_i] = coefs[coef_i]\n",
    "        x[s_i, coef_i] = 1\n",
    "        \n",
    "    y = y + err_std*np.random.randn(n_smps)\n",
    "        \n",
    "    return y, x"
   ]
  },
  {
   "cell_type": "markdown",
   "metadata": {},
   "source": [
    "## Do a whole bunch of simulations and get distribution of p-values for each coefficient"
   ]
  },
  {
   "cell_type": "code",
   "execution_count": 46,
   "metadata": {},
   "outputs": [],
   "source": [
    "n_coefs = len(coefs)\n",
    "p_vls = np.zeros(n_sims)\n",
    "for sim_i in range(n_sims):\n",
    "    y_i, x_i = gen_data()\n",
    "    n_smps_i = len(y_i)\n",
    "    beta, acm = linear_regression_ols_estimator(x=x_i, y=y_i)\n",
    "    p_vls[sim_i] = grouped_linear_regression_acm_linear_restriction_stats(beta=beta, acm=acm, \n",
    "                                                                             r=r, q=q, n_grps=n_smps_i)"
   ]
  },
  {
   "cell_type": "markdown",
   "metadata": {},
   "source": [
    "## Now generate histograms of distributions of p-values"
   ]
  },
  {
   "cell_type": "code",
   "execution_count": 47,
   "metadata": {},
   "outputs": [
    {
     "data": {
      "image/png": "[encoded data removed]",
      "text/plain": [
       "<Figure size 432x288 with 1 Axes>"
      ]
     },
     "metadata": {
      "needs_background": "light"
     },
     "output_type": "display_data"
    }
   ],
   "source": [
    "plt.figure()\n",
    "_ = plt.hist(p_vls, bins=np.linspace(0, 1, 20))"
   ]
  },
  {
   "cell_type": "code",
   "execution_count": null,
   "metadata": {},
   "outputs": [],
   "source": []
  }
 ],
 "metadata": {
  "kernelspec": {
   "display_name": "Python 3",
   "language": "python",
   "name": "python3"
  },
  "language_info": {
   "codemirror_mode": {
    "name": "ipython",
    "version": 3
   },
   "file_extension": ".py",
   "mimetype": "text/x-python",
   "name": "python",
   "nbconvert_exporter": "python",
   "pygments_lexer": "ipython3",
   "version": "3.8.5"
  }
 },
 "nbformat": 4,
 "nbformat_minor": 4
}
