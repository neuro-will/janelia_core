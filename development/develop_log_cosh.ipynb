{
 "cells": [
  {
   "cell_type": "markdown",
   "metadata": {},
   "source": [
    "Code for development and testing of the function log_cosh"
   ]
  },
  {
   "cell_type": "code",
   "execution_count": 1,
   "metadata": {},
   "outputs": [],
   "source": [
    "%load_ext autoreload\n",
    "%autoreload 2"
   ]
  },
  {
   "cell_type": "code",
   "execution_count": 2,
   "metadata": {},
   "outputs": [],
   "source": [
    "import numpy as np\n",
    "import torch\n",
    "\n",
    "from janelia_core.ml.extra_torch_functions import log_cosh"
   ]
  },
  {
   "cell_type": "code",
   "execution_count": 3,
   "metadata": {},
   "outputs": [],
   "source": [
    "x = torch.randn([10, 2])"
   ]
  },
  {
   "cell_type": "code",
   "execution_count": 10,
   "metadata": {},
   "outputs": [],
   "source": [
    "y_test = log_cosh(x).numpy()\n",
    "y_true = np.log(np.cosh(x.numpy()))"
   ]
  },
  {
   "cell_type": "code",
   "execution_count": 12,
   "metadata": {},
   "outputs": [
    {
     "data": {
      "text/plain": [
       "array([[2.0812538e-06, 9.5687824e-07],\n",
       "       [5.1708668e-07, 3.4527602e-07],\n",
       "       [0.0000000e+00, 6.9699595e-08],\n",
       "       [9.3711300e-08, 1.9602226e-07],\n",
       "       [1.1108871e-07, 2.7610909e-07],\n",
       "       [0.0000000e+00, 7.1023857e-07],\n",
       "       [1.1912549e-07, 0.0000000e+00],\n",
       "       [1.0456555e-07, 1.8340631e-06],\n",
       "       [0.0000000e+00, 7.6557200e-08],\n",
       "       [4.4100966e-07, 0.0000000e+00]], dtype=float32)"
      ]
     },
     "execution_count": 12,
     "metadata": {},
     "output_type": "execute_result"
    }
   ],
   "source": [
    "np.abs(y_test - y_true)/np.abs(y_true)"
   ]
  },
  {
   "cell_type": "code",
   "execution_count": 13,
   "metadata": {},
   "outputs": [
    {
     "data": {
      "text/plain": [
       "array([[0.01029205, 0.04671809],\n",
       "       [0.05043066, 0.03236794],\n",
       "       [0.86679727, 0.21379124],\n",
       "       [1.272091  , 0.11402658],\n",
       "       [0.13413751, 0.16190511],\n",
       "       [1.1916792 , 0.02360308],\n",
       "       [0.12508795, 0.6067208 ],\n",
       "       [0.28501087, 0.03249863],\n",
       "       [1.675906  , 1.557127  ],\n",
       "       [0.06757745, 1.016578  ]], dtype=float32)"
      ]
     },
     "execution_count": 13,
     "metadata": {},
     "output_type": "execute_result"
    }
   ],
   "source": [
    "y_test"
   ]
  },
  {
   "cell_type": "code",
   "execution_count": 14,
   "metadata": {},
   "outputs": [
    {
     "data": {
      "text/plain": [
       "array([[0.01029207, 0.04671805],\n",
       "       [0.05043068, 0.03236793],\n",
       "       [0.86679727, 0.21379122],\n",
       "       [1.2720909 , 0.11402655],\n",
       "       [0.1341375 , 0.16190515],\n",
       "       [1.1916792 , 0.02360306],\n",
       "       [0.12508793, 0.6067208 ],\n",
       "       [0.2850109 , 0.03249869],\n",
       "       [1.675906  , 1.5571271 ],\n",
       "       [0.06757748, 1.016578  ]], dtype=float32)"
      ]
     },
     "execution_count": 14,
     "metadata": {},
     "output_type": "execute_result"
    }
   ],
   "source": [
    "y_true"
   ]
  },
  {
   "cell_type": "code",
   "execution_count": null,
   "metadata": {},
   "outputs": [],
   "source": []
  }
 ],
 "metadata": {
  "kernelspec": {
   "display_name": "Python 3",
   "language": "python",
   "name": "python3"
  },
  "language_info": {
   "codemirror_mode": {
    "name": "ipython",
    "version": 3
   },
   "file_extension": ".py",
   "mimetype": "text/x-python",
   "name": "python",
   "nbconvert_exporter": "python",
   "pygments_lexer": "ipython3",
   "version": "3.8.5"
  }
 },
 "nbformat": 4,
 "nbformat_minor": 4
}
