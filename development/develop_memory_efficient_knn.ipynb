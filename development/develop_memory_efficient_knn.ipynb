{
 "cells": [
  {
   "cell_type": "markdown",
   "metadata": {},
   "source": [
    "A notebook for development and testing of a memory constrained knn function"
   ]
  },
  {
   "cell_type": "code",
   "execution_count": 1,
   "metadata": {},
   "outputs": [],
   "source": [
    "%load_ext autoreload\n",
    "%autoreload 2"
   ]
  },
  {
   "cell_type": "code",
   "execution_count": 2,
   "metadata": {},
   "outputs": [],
   "source": [
    "import torch\n",
    "from torch.cuda import memory_stats\n",
    "\n",
    "from janelia_core.ml.torch_fcns import knn_mc\n",
    "from janelia_core.ml.utils import list_torch_devices\n",
    "from janelia_core.ml.utils import torch_devices_memory_usage"
   ]
  },
  {
   "cell_type": "markdown",
   "metadata": {},
   "source": [
    "## Parameters go here "
   ]
  },
  {
   "cell_type": "code",
   "execution_count": 3,
   "metadata": {},
   "outputs": [],
   "source": [
    "n_centers = 1050\n",
    "n_data_pts = 130000\n",
    "d = 3"
   ]
  },
  {
   "cell_type": "markdown",
   "metadata": {},
   "source": [
    "## Randomly generate centers and data"
   ]
  },
  {
   "cell_type": "code",
   "execution_count": 4,
   "metadata": {},
   "outputs": [
    {
     "name": "stdout",
     "output_type": "stream",
     "text": [
      "Found 1 GPUs\n"
     ]
    }
   ],
   "source": [
    "device = list_torch_devices()[0][0]"
   ]
  },
  {
   "cell_type": "code",
   "execution_count": 5,
   "metadata": {},
   "outputs": [],
   "source": [
    "x = torch.randn([n_data_pts, d], device=device)\n",
    "ctrs = torch.randn([n_centers, d], device=device)"
   ]
  },
  {
   "cell_type": "code",
   "execution_count": 10,
   "metadata": {},
   "outputs": [],
   "source": [
    "def knn(x, ctrs, k):\n",
    "    \"\"\" Non memory efficient implementation - just for comparison. \"\"\"\n",
    "    d = ctrs.shape[1]\n",
    "    n_ctrs = ctrs.shape[0]\n",
    "    \n",
    "    diffs = x - torch.reshape(ctrs, [n_ctrs, 1, d])\n",
    "    sq_distances = torch.sum(diffs**2, dim=2)\n",
    "    \n",
    "    return torch.topk(-sq_distances, k=k, dim=0).indices"
   ]
  },
  {
   "cell_type": "code",
   "execution_count": 11,
   "metadata": {},
   "outputs": [],
   "source": [
    "#nn0 = knn(x=x, ctrs=ctrs, k=3)"
   ]
  },
  {
   "cell_type": "code",
   "execution_count": 12,
   "metadata": {},
   "outputs": [],
   "source": [
    "nn = knn_mc(x=x, ctrs=ctrs, k=3, m=10)"
   ]
  },
  {
   "cell_type": "markdown",
   "metadata": {},
   "source": [
    "## Print max memory usage"
   ]
  },
  {
   "cell_type": "code",
   "execution_count": 13,
   "metadata": {},
   "outputs": [
    {
     "name": "stdout",
     "output_type": "stream",
     "text": [
      "Max memory used: 7.315661e+07\n",
      "Expected max memory for naive implementation: 3.276000e+09\n"
     ]
    }
   ],
   "source": [
    "max_memory_used = torch_devices_memory_usage([device], 'max_memory_allocated')\n",
    "print('Max memory used: ' + \"{:e}\".format(max_memory_used[0]))\n",
    "\n",
    "\n",
    "exp_max_memory = 2*n_centers*n_data_pts*d*4\n",
    "print('Expected max memory for naive implementation: ' + \"{:e}\".format(exp_max_memory))"
   ]
  },
  {
   "cell_type": "code",
   "execution_count": null,
   "metadata": {},
   "outputs": [],
   "source": []
  }
 ],
 "metadata": {
  "kernelspec": {
   "display_name": "Python 3",
   "language": "python",
   "name": "python3"
  },
  "language_info": {
   "codemirror_mode": {
    "name": "ipython",
    "version": 3
   },
   "file_extension": ".py",
   "mimetype": "text/x-python",
   "name": "python",
   "nbconvert_exporter": "python",
   "pygments_lexer": "ipython3",
   "version": "3.7.3"
  }
 },
 "nbformat": 4,
 "nbformat_minor": 2
}
