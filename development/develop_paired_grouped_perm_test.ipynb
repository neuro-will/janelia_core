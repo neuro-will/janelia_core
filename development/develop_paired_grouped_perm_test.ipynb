{
 "cells": [
  {
   "cell_type": "markdown",
   "metadata": {},
   "source": [
    "This is a script for development and testing of the function paired_grouped_perm_test"
   ]
  },
  {
   "cell_type": "code",
   "execution_count": 1,
   "metadata": {},
   "outputs": [],
   "source": [
    "%load_ext autoreload\n",
    "%autoreload 2"
   ]
  },
  {
   "cell_type": "code",
   "execution_count": 127,
   "metadata": {},
   "outputs": [],
   "source": [
    "import numpy as np\n",
    "\n",
    "from janelia_core.stats.permutation_tests import paired_grouped_perm_test"
   ]
  },
  {
   "cell_type": "markdown",
   "metadata": {},
   "source": [
    "## Parameters go here"
   ]
  },
  {
   "cell_type": "code",
   "execution_count": 128,
   "metadata": {},
   "outputs": [],
   "source": [
    "n_grps = 100\n",
    "\n",
    "grp_smp_range = [1, 5]\n",
    "\n",
    "x0_mean = 1\n",
    "x1_mean = 1.5\n",
    "x0_std = 1\n",
    "x1_std = 1\n",
    "\n",
    "grp_offset_std = 10"
   ]
  },
  {
   "cell_type": "markdown",
   "metadata": {},
   "source": [
    "## Generate data"
   ]
  },
  {
   "cell_type": "code",
   "execution_count": 129,
   "metadata": {},
   "outputs": [],
   "source": [
    "n_grp_smps = np.random.randint(low=grp_smp_range[0], high=grp_smp_range[1]+1, size=n_grps)\n",
    "\n",
    "x0_list = [None]*n_grps\n",
    "x1_list = [None]*n_grps\n",
    "grp_ids_list = [None]*n_grps\n",
    "for g_i in range(n_grps):\n",
    "    cur_n_smps = n_grp_smps[g_i]\n",
    "    cur_x0 = x0_std*np.random.randn(cur_n_smps) + x0_mean\n",
    "    cur_x1 = x1_std*np.random.randn(cur_n_smps) + x1_mean\n",
    "    cur_grp_offset = grp_offset_std*np.random.randn()\n",
    "    cur_x0 += cur_grp_offset\n",
    "    cur_x1 += cur_grp_offset\n",
    "    \n",
    "    x0_list[g_i] = cur_x0\n",
    "    x1_list[g_i] = cur_x1\n",
    "    grp_ids_list[g_i] = g_i*np.ones(cur_n_smps)\n",
    "    \n",
    "x0 = np.concatenate(x0_list)\n",
    "x1 = np.concatenate(x1_list)\n",
    "grp_ids = np.concatenate(grp_ids_list)"
   ]
  },
  {
   "cell_type": "markdown",
   "metadata": {},
   "source": [
    "## Calculate stats"
   ]
  },
  {
   "cell_type": "code",
   "execution_count": 130,
   "metadata": {},
   "outputs": [
    {
     "name": "stdout",
     "output_type": "stream",
     "text": [
      "t: 0.4368331197962396, p: 0.0\n"
     ]
    }
   ],
   "source": [
    "t, p = paired_grouped_perm_test(x0=x0, x1=x1, grp_ids=grp_ids)\n",
    "print('t: ' + str(t) + ', p: ' + str(p))"
   ]
  }
 ],
 "metadata": {
  "kernelspec": {
   "display_name": "Python 3",
   "language": "python",
   "name": "python3"
  },
  "language_info": {
   "codemirror_mode": {
    "name": "ipython",
    "version": 3
   },
   "file_extension": ".py",
   "mimetype": "text/x-python",
   "name": "python",
   "nbconvert_exporter": "python",
   "pygments_lexer": "ipython3",
   "version": "3.7.3"
  }
 },
 "nbformat": 4,
 "nbformat_minor": 4
}
