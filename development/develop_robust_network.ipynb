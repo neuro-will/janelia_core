{
 "cells": [
  {
   "cell_type": "markdown",
   "metadata": {},
   "source": [
    "The goal of this code is to develop a network, $g$ that can learn functions $f_t: \\mathbb{R}^n -> \\mathbb{R}^M$.  The idea is there will be a series of functions for $t = 0, 1, \\ldots$ and we will sequentially train the same network to learn $f_0$, then $f_1$, etc...\n",
    "\n",
    "The challenge will be that some $f_i = 0$ and we are not permitted to reinitiaize $g$ before when going from learning $f_i$ to learning $f_{i+1}$.  Essentially, the challenge is we need a network $g$ that can learn any $f_{t+1}$ after it is has learned any $f_t$, even when $f_t$ is the zero function. \n",
    "\n",
    "This exercise is useful because in variational inference we may have to learn a representation of a prior distribution.  Through the course of training, the optimal prior may change (optimal with respect to the current parameters of the likelihood models) and may (at the start) be flat.  It is beneficial to have a robust way of learning the optimal prior \n"
   ]
  },
  {
   "cell_type": "code",
   "execution_count": 1,
   "metadata": {},
   "outputs": [],
   "source": [
    "%load_ext autoreload\n",
    "%autoreload 2"
   ]
  },
  {
   "cell_type": "code",
   "execution_count": 2,
   "metadata": {},
   "outputs": [],
   "source": [
    "from typing import Callable, Sequence\n",
    "\n",
    "import matplotlib.pyplot as plt\n",
    "import numpy as np\n",
    "import torch\n",
    "\n",
    "from janelia_core.ml.extra_torch_modules import SumOfTiledHyperCubeBasisFcns\n",
    "from janelia_core.ml.extra_torch_modules import DenseLNLNet\n",
    "from janelia_core.ml.utils import torch_mod_to_fcn"
   ]
  },
  {
   "cell_type": "markdown",
   "metadata": {},
   "source": [
    "## Define objects and functions we will use throughout the code"
   ]
  },
  {
   "cell_type": "markdown",
   "metadata": {},
   "source": [
    "Define an object for generating $f_t$ functions.  For the moment, the functions will differ only in a scale term."
   ]
  },
  {
   "cell_type": "code",
   "execution_count": 3,
   "metadata": {},
   "outputs": [],
   "source": [
    "class F_t():\n",
    "    \"\"\"\n",
    "    An object for generating a sequence of functions on the unit hypercube. \n",
    "    \n",
    "    The function f_t is formed as t*f_base, where f_base is a base function\n",
    "    made up of a sum of Gaussian bumps.  \n",
    "    \n",
    "    Bump centers will be uniformly distributed throughout the hypercube.  Bump\n",
    "    magnitudes and shapes (how fast they fall off in different directions) will\n",
    "    be randomly generated according to parameters set by the user. \n",
    "    \n",
    "    \"\"\"\n",
    "    \n",
    "    def __init__(self, d: int = 2, n_bumps: int = 100, \n",
    "                 bump_peak_vl_range: Sequence[int] = [-1, 1], \n",
    "                 cov_ev_range: Sequence[int] = [.5, 1]):\n",
    "        \"\"\"\n",
    "        Creates a new F_t object. \n",
    "    \n",
    "        Args:\n",
    "            d: The input dimensionality. \n",
    "        \n",
    "            n_bumps: The number of Gaussian bumps in the base function. \n",
    "        \n",
    "            bump_peak_vl_range: Values for the peak of each bump function will be pulled\n",
    "            uniformly from this interval. \n",
    "        \n",
    "            cov_ev_range: Values for the eigenvalues of the covariance matrix of the \n",
    "            Gaussian bump functions will be pulled uniformly from this range. \n",
    "    \n",
    "        \"\"\"\n",
    "    \n",
    "        self.d = d\n",
    "        self.n_bumps = n_bumps\n",
    "        \n",
    "        self.ctrs = np.random.uniform(size=[n_bumps, d])\n",
    "        self.peak_vls = np.random.uniform(low=bump_peak_vl_range[0], \n",
    "                                          high=bump_peak_vl_range[1],\n",
    "                                          size=n_bumps)\n",
    "        \n",
    "        # Generate the covariance for each bump function \n",
    "        eig_vls = np.random.uniform(low=cov_ev_range[0], \n",
    "                                          high=cov_ev_range[1],\n",
    "                                          size=[n_bumps, d])\n",
    "        \n",
    "        inv_covs = np.zeros([d, d, n_bumps])\n",
    "        for b_i in range(n_bumps):\n",
    "            # Generate a random orthogonal matrix \n",
    "            u_i = np.linalg.svd(np.random.randn(d,d))[0]\n",
    "            eig_vls_i = np.diag(1/eig_vls[b_i,:])\n",
    "            inv_covs[:,:, b_i] = np.matmul(np.matmul(u_i, eig_vls_i), u_i.transpose())\n",
    "            \n",
    "        self.inv_covs = inv_covs\n",
    "        \n",
    "    def _f(self, x: np.ndarray) -> np.ndarray:\n",
    "        \"\"\" Computes output given input. \n",
    "           \n",
    "        Args:\n",
    "            x: input of shape n_smps*d_in.  \n",
    "            \n",
    "        Returns:\n",
    "            y: output of shape n_smps\n",
    "        \"\"\"\n",
    "        \n",
    "        n_smps = x.shape[0]\n",
    "        \n",
    "        y = np.zeros(n_smps)\n",
    "        \n",
    "        for b_i in range(self.n_bumps):\n",
    "            x_ctr = x - self.ctrs[b_i,:]\n",
    "            \n",
    "            inv_cov_i = np.squeeze(self.inv_covs[:, :, b_i])\n",
    "            \n",
    "            temp = np.squeeze(np.sum(np.matmul(x_ctr, inv_cov_i.transpose())*x_ctr,1))\n",
    "            \n",
    "            y += self.peak_vls[b_i]*np.exp(-1*temp)\n",
    "        \n",
    "        return y\n",
    "    \n",
    "    def generate(self, scale: float = 1.0) -> Callable:\n",
    "        \"\"\" Generates a function at a given scale. \n",
    "        \n",
    "        Args:\n",
    "            f: The scale to generate the function at\n",
    "        \"\"\"\n",
    "        \n",
    "        def s_f(x):\n",
    "            return scale*self._f(x)\n",
    "        \n",
    "        return s_f"
   ]
  },
  {
   "cell_type": "code",
   "execution_count": 4,
   "metadata": {},
   "outputs": [],
   "source": [
    "def generate_pts(d: int = 2, n_smps_per_dim = 100):\n",
    "    \"\"\" Generates points on a hyper grid for evaluating a function.\n",
    "    \n",
    "    Args:\n",
    "        d: The dimensionality of the grid. \n",
    "        \n",
    "        n_smps_per_dim: The number of samples per dimension to generate. \n",
    "    \"\"\"\n",
    "    \n",
    "    dim_coords = (1/n_smps_per_dim)*np.arange(n_smps_per_dim)\n",
    "    all_coords = [dim_coords]*d\n",
    "    grid_coords = np.meshgrid(*all_coords)\n",
    "    coords = np.stack([np.ravel(g) for g in grid_coords]).transpose()\n",
    "    \n",
    "    return coords\n",
    "    "
   ]
  },
  {
   "cell_type": "code",
   "execution_count": 5,
   "metadata": {},
   "outputs": [],
   "source": [
    "def plot_2d_f(f: Callable, n_smps_per_dim = 100):\n",
    "    \"\"\" Plots a 2-d function on the unit square. \n",
    "    \n",
    "    Args:\n",
    "        f: The function to plot\n",
    "        \n",
    "        n_smps_per_dim: The number of samples per dimension to use when generating\n",
    "        a grid to use for visualizing the function. \n",
    "    \"\"\"\n",
    "    \n",
    "    pts = generate_pts(d = 2, n_smps_per_dim=n_smps_per_dim)  \n",
    "    \n",
    "    y_grid = f(pts).reshape([n_smps_per_dim, n_smps_per_dim])\n",
    "    \n",
    "    plt.imshow(y_grid)\n",
    "    plt.colorbar()\n",
    "    "
   ]
  },
  {
   "cell_type": "code",
   "execution_count": 6,
   "metadata": {},
   "outputs": [],
   "source": [
    "def fit(nn: torch.nn.Module, x: torch.Tensor, y: torch.Tensor, n_its = 1000, lr=.01):\n",
    "    \"\"\" Fits a neural network. \n",
    "    \n",
    "    Args:\n",
    "        x: Input data of shape n_smps*d_in\n",
    "        \n",
    "        y: Output data of shape n_smps*1\n",
    "        \n",
    "        n_its: The number of iterations to run optimization for\n",
    "        \n",
    "        lr: The learning rate to use\n",
    "    \n",
    "    \"\"\"\n",
    "    \n",
    "    params = nn.parameters()\n",
    "    \n",
    "    optimizer = torch.optim.Adam(params = params, lr=lr)\n",
    "    \n",
    "    for i in range(n_its):\n",
    "        \n",
    "        optimizer.zero_grad()\n",
    "        \n",
    "        y_pred = nn(x)\n",
    "        er = torch.sum((y - y_pred)**2)\n",
    "        \n",
    "        er.backward()\n",
    "        optimizer.step()\n",
    "        \n",
    "        if i % 100 == 0:\n",
    "            er_log = float(er.detach().cpu().numpy())\n",
    "            print('It ' + str(i) +  ': {:e}'.format(er_log))\n",
    "    "
   ]
  },
  {
   "cell_type": "markdown",
   "metadata": {},
   "source": [
    "## Code for the new networks we are testing"
   ]
  },
  {
   "cell_type": "code",
   "execution_count": 40,
   "metadata": {},
   "outputs": [],
   "source": [
    "class basic_layer(torch.nn.Module):\n",
    "    \n",
    "    def __init__(self, d_in: int = 2, d_out: int = 1, n_units: int = 100):\n",
    "        \n",
    "        super().__init__()\n",
    "        \n",
    "        self.bias = torch.nn.Parameter(torch.zeros([d_out, d_in]))\n",
    "        torch.nn.init.normal_(self.bias, std=1)\n",
    "        \n",
    "    def forward(self, x: torch.Tensor):\n",
    "        \"\"\" Computes output from input. \n",
    "        \n",
    "        Args: \n",
    "            x: Input of size n_smps*d_in\n",
    "            \n",
    "        Returns: \n",
    "            y: Output of size n_smps*d_out\n",
    "        \"\"\"\n",
    "        \n",
    "        x_ctr = x - self.bias\n",
    "        \n",
    "        "
   ]
  },
  {
   "cell_type": "code",
   "execution_count": 38,
   "metadata": {},
   "outputs": [],
   "source": [
    "bl = basic_layer()"
   ]
  },
  {
   "cell_type": "code",
   "execution_count": 39,
   "metadata": {},
   "outputs": [
    {
     "data": {
      "text/plain": [
       "[Parameter containing:\n",
       " tensor([[ 0.6609, -0.6809]], requires_grad=True)]"
      ]
     },
     "execution_count": 39,
     "metadata": {},
     "output_type": "execute_result"
    }
   ],
   "source": [
    "list(bl.parameters())"
   ]
  },
  {
   "cell_type": "markdown",
   "metadata": {},
   "source": [
    "## Testing code goes here"
   ]
  },
  {
   "cell_type": "code",
   "execution_count": 8,
   "metadata": {},
   "outputs": [],
   "source": [
    "f_generator = F_t(n_bumps=10, cov_ev_range=[.01, .02], bump_peak_vl_range=[-10, 10])"
   ]
  },
  {
   "cell_type": "code",
   "execution_count": 9,
   "metadata": {},
   "outputs": [],
   "source": [
    "f_t = f_generator.generate(1.0)"
   ]
  },
  {
   "cell_type": "code",
   "execution_count": 10,
   "metadata": {},
   "outputs": [
    {
     "data": {
      "image/png": "[encoded data removed]",
      "text/plain": [
       "<Figure size 432x288 with 2 Axes>"
      ]
     },
     "metadata": {
      "needs_background": "light"
     },
     "output_type": "display_data"
    }
   ],
   "source": [
    "plot_2d_f(f_t, n_smps_per_dim=200)"
   ]
  },
  {
   "cell_type": "code",
   "execution_count": 11,
   "metadata": {},
   "outputs": [],
   "source": [
    "f_fit = SumOfTiledHyperCubeBasisFcns(n_divisions_per_dim=[100, 100], \n",
    "                                     dim_ranges=np.asarray([[0, 1], [0,1]]),\n",
    "                                     n_div_per_hc_side_per_dim = [3, 3])"
   ]
  },
  {
   "cell_type": "code",
   "execution_count": 12,
   "metadata": {},
   "outputs": [],
   "source": [
    "f_fit = torch.nn.Sequential(torch.nn.Linear(in_features=2, out_features=500), \n",
    "                            torch.nn.ReLU(), \n",
    "                            torch.nn.Linear(in_features=500, out_features=10),\n",
    "                            torch.nn.ReLU(),\n",
    "                            torch.nn.Linear(in_features=10, out_features=1))"
   ]
  },
  {
   "cell_type": "code",
   "execution_count": 26,
   "metadata": {},
   "outputs": [],
   "source": [
    "n_layers = 10\n",
    "growth_rate = 30\n",
    "dense_out = 2 + n_layers*growth_rate\n",
    "\n",
    "\n",
    "f_fit = torch.nn.Sequential(DenseLNLNet(nl_class=torch.nn.ReLU, d_in=2, \n",
    "                                        n_layers=n_layers, growth_rate=growth_rate, bias=True),\n",
    "                            torch.nn.Linear(in_features=dense_out, out_features=1))"
   ]
  },
  {
   "cell_type": "code",
   "execution_count": 27,
   "metadata": {},
   "outputs": [],
   "source": [
    "x_eval = torch.Tensor(generate_pts(n_smps_per_dim=100))\n",
    "y_eval = f_t(x_eval.numpy())\n",
    "\n",
    "y_eval_tensor = torch.Tensor(np.reshape(y_eval, [len(y_eval), 1]))"
   ]
  },
  {
   "cell_type": "code",
   "execution_count": 28,
   "metadata": {},
   "outputs": [
    {
     "name": "stdout",
     "output_type": "stream",
     "text": [
      "It 0: 1.269024e+05\n",
      "It 100: 3.647143e+03\n",
      "It 200: 1.470400e+03\n",
      "It 300: 1.061643e+03\n",
      "It 400: 7.197808e+02\n",
      "It 500: 4.282338e+02\n",
      "It 600: 1.612243e+02\n",
      "It 700: 1.715035e+02\n",
      "It 800: 1.573198e+02\n",
      "It 900: 1.075320e+02\n"
     ]
    }
   ],
   "source": [
    "fit(f_fit, x_eval, y_eval_tensor, lr=.01)"
   ]
  },
  {
   "cell_type": "code",
   "execution_count": 29,
   "metadata": {},
   "outputs": [
    {
     "data": {
      "image/png": "[encoded data removed]",
      "text/plain": [
       "<Figure size 432x288 with 2 Axes>"
      ]
     },
     "metadata": {
      "needs_background": "light"
     },
     "output_type": "display_data"
    }
   ],
   "source": [
    "plot_2d_f(torch_mod_to_fcn(f_fit), n_smps_per_dim=200)"
   ]
  },
  {
   "cell_type": "code",
   "execution_count": 41,
   "metadata": {},
   "outputs": [
    {
     "data": {
      "text/plain": [
       "torch.Size([10000, 2])"
      ]
     },
     "execution_count": 41,
     "metadata": {},
     "output_type": "execute_result"
    }
   ],
   "source": [
    "x_eval.shape"
   ]
  },
  {
   "cell_type": "code",
   "execution_count": null,
   "metadata": {},
   "outputs": [],
   "source": []
  }
 ],
 "metadata": {
  "kernelspec": {
   "display_name": "Python 3",
   "language": "python",
   "name": "python3"
  },
  "language_info": {
   "codemirror_mode": {
    "name": "ipython",
    "version": 3
   },
   "file_extension": ".py",
   "mimetype": "text/x-python",
   "name": "python",
   "nbconvert_exporter": "python",
   "pygments_lexer": "ipython3",
   "version": "3.7.2"
  }
 },
 "nbformat": 4,
 "nbformat_minor": 2
}
