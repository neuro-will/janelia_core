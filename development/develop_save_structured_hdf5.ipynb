{
 "cells": [
  {
   "cell_type": "code",
   "execution_count": 1,
   "metadata": {},
   "outputs": [],
   "source": [
    "%load_ext autoreload\n",
    "%autoreload 2"
   ]
  },
  {
   "cell_type": "code",
   "execution_count": 2,
   "metadata": {},
   "outputs": [],
   "source": [
    "from pathlib import Path\n",
    "\n",
    "import h5py\n",
    "import numpy as np\n",
    "\n",
    "from janelia_core.utils.data_saving import load_structured_hdf5\n",
    "from janelia_core.utils.data_saving import save_structured_hdf5"
   ]
  },
  {
   "cell_type": "markdown",
   "metadata": {},
   "source": [
    "## Parameters go here"
   ]
  },
  {
   "cell_type": "code",
   "execution_count": 7,
   "metadata": {},
   "outputs": [],
   "source": [
    "save_file = r'/Users/bishopw/Desktop/data.h5'\n",
    "\n",
    "#data = np.asarray([[0, 1, 2], [3, 4, 5]])\n",
    "data = {0: np.asarray([[0, 1, 2], [3, 4, 5]]), \n",
    "        1: [2*np.asarray([[0, 1, 2], [3, 4, 5]]), np.asarray([0, 1, 2])], \n",
    "        2: [np.asarray([i]) for i in range(23)],\n",
    "        3: [np.asarray([0]), {'k0': [np.asarray([2]), np.asarray([3.3])]}]}"
   ]
  },
  {
   "cell_type": "markdown",
   "metadata": {},
   "source": [
    "## Save the data here"
   ]
  },
  {
   "cell_type": "code",
   "execution_count": 9,
   "metadata": {},
   "outputs": [],
   "source": [
    "save_structured_hdf5(o = data, f=Path(save_file), name='data', overwrite=True)"
   ]
  },
  {
   "cell_type": "markdown",
   "metadata": {},
   "source": [
    "## Load the data here"
   ]
  },
  {
   "cell_type": "code",
   "execution_count": 18,
   "metadata": {},
   "outputs": [],
   "source": [
    "data = load_structured_hdf5(f=Path(save_file))"
   ]
  },
  {
   "cell_type": "code",
   "execution_count": 19,
   "metadata": {},
   "outputs": [
    {
     "data": {
      "text/plain": [
       "{0: array([[0, 1, 2],\n",
       "        [3, 4, 5]]),\n",
       " 1: [array([[ 0,  2,  4],\n",
       "         [ 6,  8, 10]]),\n",
       "  array([0, 1, 2])],\n",
       " 2: [array([0]),\n",
       "  array([1]),\n",
       "  array([2]),\n",
       "  array([3]),\n",
       "  array([4]),\n",
       "  array([5]),\n",
       "  array([6]),\n",
       "  array([7]),\n",
       "  array([8]),\n",
       "  array([9]),\n",
       "  array([10]),\n",
       "  array([11]),\n",
       "  array([12]),\n",
       "  array([13]),\n",
       "  array([14]),\n",
       "  array([15]),\n",
       "  array([16]),\n",
       "  array([17]),\n",
       "  array([18]),\n",
       "  array([19]),\n",
       "  array([20]),\n",
       "  array([21]),\n",
       "  array([22])],\n",
       " 3: [array([0]), {'k0': [array([2]), array([3.3])]}]}"
      ]
     },
     "execution_count": 19,
     "metadata": {},
     "output_type": "execute_result"
    }
   ],
   "source": [
    "data"
   ]
  },
  {
   "cell_type": "code",
   "execution_count": null,
   "metadata": {},
   "outputs": [],
   "source": []
  }
 ],
 "metadata": {
  "kernelspec": {
   "display_name": "Python 3",
   "language": "python",
   "name": "python3"
  },
  "language_info": {
   "codemirror_mode": {
    "name": "ipython",
    "version": 3
   },
   "file_extension": ".py",
   "mimetype": "text/x-python",
   "name": "python",
   "nbconvert_exporter": "python",
   "pygments_lexer": "ipython3",
   "version": "3.8.5"
  }
 },
 "nbformat": 4,
 "nbformat_minor": 4
}
