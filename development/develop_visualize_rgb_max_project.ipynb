{
 "cells": [
  {
   "cell_type": "markdown",
   "metadata": {},
   "source": [
    "Code for the development and testing of the function visualize_rgb_max_project"
   ]
  },
  {
   "cell_type": "code",
   "execution_count": 1,
   "metadata": {},
   "outputs": [],
   "source": [
    "%load_ext autoreload\n",
    "%autoreload 2"
   ]
  },
  {
   "cell_type": "code",
   "execution_count": 5,
   "metadata": {},
   "outputs": [],
   "source": [
    "%matplotlib qt"
   ]
  },
  {
   "cell_type": "code",
   "execution_count": 50,
   "metadata": {},
   "outputs": [],
   "source": [
    "import matplotlib.pyplot as plt\n",
    "import numpy as np\n",
    "\n",
    "from janelia_core.visualization.volume_visualization import visualize_rgb_max_project\n",
    "from janelia_core.visualization.custom_color_maps import generate_two_param_hsv_map\n",
    "from janelia_core.visualization.custom_color_maps import make_red_green_c_map"
   ]
  },
  {
   "cell_type": "markdown",
   "metadata": {},
   "source": [
    "### Create RGB volume we will visualize"
   ]
  },
  {
   "cell_type": "code",
   "execution_count": 45,
   "metadata": {},
   "outputs": [],
   "source": [
    "vol = np.zeros([40, 20, 5, 3])\n",
    "vol[5,:,:, 0] = vol[5, :, :, 0] + 1\n",
    "vol[:, 3, :, 1] = vol[:, 3, :, 1] + 1\n",
    "vol[:, :, 3, 2] = vol[:, :, 3, 2] + 1\n",
    "vol = vol"
   ]
  },
  {
   "cell_type": "markdown",
   "metadata": {},
   "source": [
    "## Create a colormap image we will also add"
   ]
  },
  {
   "cell_type": "code",
   "execution_count": 94,
   "metadata": {},
   "outputs": [],
   "source": [
    "p0_range = (0, 10, .1)\n",
    "p1_range = (0, 20, .5)\n",
    "\n",
    "cmap = generate_two_param_hsv_map(p0_range, p1_range,\n",
    "                                  make_red_green_c_map(1024), clims=(p0_range[0], p0_range[1]), \n",
    "                                  vllims=(p1_range[0], p1_range[1]))\n",
    "\n",
    "p0_unique_vls = np.arange(*p0_range)\n",
    "p1_unique_vls = np.arange(*p1_range)\n",
    "\n",
    "param_grid = np.mgrid[0:len(p0_unique_vls), 0:len(p1_unique_vls)]\n",
    "\n",
    "p0_vls = p0_unique_vls[param_grid[0]]\n",
    "p1_vls = p1_unique_vls[param_grid[1]]\n",
    "\n",
    "cmap_im = cmap[p0_vls, p1_vls]"
   ]
  },
  {
   "cell_type": "markdown",
   "metadata": {},
   "source": [
    "### Visualize the volume"
   ]
  },
  {
   "cell_type": "code",
   "execution_count": 120,
   "metadata": {},
   "outputs": [],
   "source": [
    "visualize_rgb_max_project(vol=vol, cmap_im=cmap_im, \n",
    "                          cmap_extent=[p1_range[0], p1_range[1], p0_range[0], p0_range[1]],\n",
    "                          cmap_xlabel='x_label', cmap_ylabel='y_label', \n",
    "                          title='test_title')"
   ]
  },
  {
   "cell_type": "code",
   "execution_count": null,
   "metadata": {},
   "outputs": [],
   "source": []
  }
 ],
 "metadata": {
  "kernelspec": {
   "display_name": "Python 3",
   "language": "python",
   "name": "python3"
  },
  "language_info": {
   "codemirror_mode": {
    "name": "ipython",
    "version": 3
   },
   "file_extension": ".py",
   "mimetype": "text/x-python",
   "name": "python",
   "nbconvert_exporter": "python",
   "pygments_lexer": "ipython3",
   "version": "3.7.2"
  }
 },
 "nbformat": 4,
 "nbformat_minor": 2
}
