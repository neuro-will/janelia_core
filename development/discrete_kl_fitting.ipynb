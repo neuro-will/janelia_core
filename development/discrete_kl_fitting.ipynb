{
 "cells": [
  {
   "cell_type": "markdown",
   "metadata": {},
   "source": [
    "# Looking at how we can fit discrete models with variational inference \n",
    "\n",
    "This code mainly looks at simpler problem of finding a discrete Q which approximates a fixed, known discrete P by minimizing KL divergence."
   ]
  },
  {
   "cell_type": "code",
   "execution_count": 1,
   "metadata": {
    "scrolled": true
   },
   "outputs": [],
   "source": [
    "%load_ext autoreload\n",
    "%autoreload 2"
   ]
  },
  {
   "cell_type": "code",
   "execution_count": 2,
   "metadata": {
    "scrolled": true
   },
   "outputs": [],
   "source": [
    "import matplotlib.pyplot as plt\n",
    "import numpy as np\n",
    "import torch\n",
    "\n",
    "from multiple_subject_vae_2 import BernoulliCondDistribution\n",
    "from multiple_subject_vae_2 import CondSpikeSlabDistribution\n",
    "from multiple_subject_vae_2 import CondGaussianDistribution\n",
    "from multiple_subject_vae_2 import ConstantRealFcn\n",
    "from multiple_subject_vae_2 import ConstantLowerBoundedFcn\n",
    "from multiple_subject_vae_2 import ConstantLowerUpperBoundedFcn\n",
    "from multiple_subject_vae_2 import LogBumpFcn\n",
    "from multiple_subject_vae_2 import LogProbTanhFcn\n",
    "from multiple_subject_vae_2 import make_bernoulli_vi_debug_figure\n",
    "from multiple_subject_vae_2 import visualize_bernoulli_distribution\n",
    "from multiple_subject_vae_2 import visualize_spike_slab_distribution"
   ]
  },
  {
   "cell_type": "markdown",
   "metadata": {},
   "source": [
    "## Generate neuron properties for all of the simulations below"
   ]
  },
  {
   "cell_type": "code",
   "execution_count": 3,
   "metadata": {
    "scrolled": true
   },
   "outputs": [],
   "source": [
    "# Properties of neurons we condition on \n",
    "n_neurons = 2000\n",
    "neuron_props = torch.zeros(n_neurons, 2).uniform_()"
   ]
  },
  {
   "cell_type": "markdown",
   "metadata": {},
   "source": [
    "## Here we find a q distribution which approximates a fixed p by minimizing kl divergencve"
   ]
  },
  {
   "cell_type": "code",
   "execution_count": 13,
   "metadata": {
    "scrolled": true
   },
   "outputs": [],
   "source": [
    "# Basic Bernoulli distributions\n",
    "#p = BernoulliCondDistribution(ConstantLowerUpperBoundedFcn(1, lower_bound=-10.0, upper_bound=0.0))\n",
    "#q = BernoulliCondDistribution(ConstantLowerUpperBoundedFcn(1, lower_bound=-10.0, upper_bound=0.0))\n",
    "#p.log_prob_fcn.v.data = torch.tensor([2.0])\n",
    "\n",
    "# Bernoulli distributions which change probabilities condition on neuron properties\n",
    "p_log_prob_fcn = LogBumpFcn(2)\n",
    "p_log_prob_fcn.log_gain_vl.v.data = torch.tensor([10.0])\n",
    "p_log_prob_fcn.ctr.data = torch.tensor([.25, .25])\n",
    "p_log_prob_fcn.ctr_stds.v.data = torch.tensor([-3.5, -3.5])\n",
    "p = BernoulliCondDistribution(p_log_prob_fcn)\n",
    "\n",
    "q_log_prob_fcn = LogBumpFcn(2, f_type='exp')\n",
    "q_log_prob_fcn.ctr_stds.v.data = torch.tensor([-2.0, -2.0])\n",
    "q_log_prob_fcn.log_gain_vl.lower_bound = np.log(.002)\n",
    "q_log_prob_fcn.log_gain_vl.v.data = torch.tensor(200.0)\n",
    "\n",
    "q = BernoulliCondDistribution(q_log_prob_fcn)\n",
    "\n",
    "c_net = torch.nn.Sequential(torch.nn.Linear(2, 2), torch.nn.ReLU(), \n",
    "                            torch.nn.Linear(2, 10), torch.nn.ReLU(), \n",
    "                            torch.nn.Linear(10, 10), torch.nn.ReLU(), \n",
    "                            torch.nn.Linear(10, 10), torch.nn.ReLU(),\n",
    "                            torch.nn.Linear(10,1))"
   ]
  },
  {
   "cell_type": "code",
   "execution_count": 16,
   "metadata": {
    "scrolled": false
   },
   "outputs": [
    {
     "name": "stdout",
     "output_type": "stream",
     "text": [
      "it: 0, o: -3327.7432 , c: 377176.38\n"
     ]
    },
    {
     "ename": "KeyboardInterrupt",
     "evalue": "",
     "output_type": "error",
     "traceback": [
      "\u001b[0;31m---------------------------------------------------------------------------\u001b[0m",
      "\u001b[0;31mKeyboardInterrupt\u001b[0m                         Traceback (most recent call last)",
      "\u001b[0;32m<ipython-input-16-3c378bec0fd9>\u001b[0m in \u001b[0;36m<module>\u001b[0;34m\u001b[0m\n\u001b[1;32m     26\u001b[0m         \u001b[0msmp_inds\u001b[0m \u001b[0;34m=\u001b[0m \u001b[0mnp\u001b[0m\u001b[0;34m.\u001b[0m\u001b[0mrandom\u001b[0m\u001b[0;34m.\u001b[0m\u001b[0mchoice\u001b[0m\u001b[0;34m(\u001b[0m\u001b[0mneuron_props\u001b[0m\u001b[0;34m.\u001b[0m\u001b[0mshape\u001b[0m\u001b[0;34m[\u001b[0m\u001b[0;36m0\u001b[0m\u001b[0;34m]\u001b[0m\u001b[0;34m,\u001b[0m \u001b[0mbatch_size\u001b[0m\u001b[0;34m)\u001b[0m\u001b[0;34m\u001b[0m\u001b[0;34m\u001b[0m\u001b[0m\n\u001b[1;32m     27\u001b[0m         \u001b[0msmp_i\u001b[0m \u001b[0;34m=\u001b[0m \u001b[0mq\u001b[0m\u001b[0;34m.\u001b[0m\u001b[0msample\u001b[0m\u001b[0;34m(\u001b[0m\u001b[0mneuron_props\u001b[0m\u001b[0;34m[\u001b[0m\u001b[0msmp_inds\u001b[0m\u001b[0;34m,\u001b[0m\u001b[0;34m:\u001b[0m\u001b[0;34m]\u001b[0m\u001b[0;34m)\u001b[0m\u001b[0;34m\u001b[0m\u001b[0;34m\u001b[0m\u001b[0m\n\u001b[0;32m---> 28\u001b[0;31m         \u001b[0ml\u001b[0m \u001b[0;34m=\u001b[0m \u001b[0mq\u001b[0m\u001b[0;34m.\u001b[0m\u001b[0mlog_prob\u001b[0m\u001b[0;34m(\u001b[0m\u001b[0mneuron_props\u001b[0m\u001b[0;34m[\u001b[0m\u001b[0msmp_inds\u001b[0m\u001b[0;34m,\u001b[0m\u001b[0;34m:\u001b[0m\u001b[0;34m]\u001b[0m\u001b[0;34m,\u001b[0m \u001b[0msmp_i\u001b[0m\u001b[0;34m)\u001b[0m \u001b[0;34m-\u001b[0m \u001b[0mp\u001b[0m\u001b[0;34m.\u001b[0m\u001b[0mlog_prob\u001b[0m\u001b[0;34m(\u001b[0m\u001b[0mneuron_props\u001b[0m\u001b[0;34m[\u001b[0m\u001b[0msmp_inds\u001b[0m\u001b[0;34m,\u001b[0m\u001b[0;34m:\u001b[0m\u001b[0;34m]\u001b[0m\u001b[0;34m,\u001b[0m \u001b[0msmp_i\u001b[0m\u001b[0;34m)\u001b[0m\u001b[0;34m\u001b[0m\u001b[0;34m\u001b[0m\u001b[0m\n\u001b[0m\u001b[1;32m     29\u001b[0m         \u001b[0msum_l\u001b[0m\u001b[0;34m[\u001b[0m\u001b[0mi\u001b[0m\u001b[0;34m]\u001b[0m \u001b[0;34m=\u001b[0m \u001b[0mtorch\u001b[0m\u001b[0;34m.\u001b[0m\u001b[0msum\u001b[0m\u001b[0;34m(\u001b[0m\u001b[0ml\u001b[0m\u001b[0;34m)\u001b[0m\u001b[0;34m.\u001b[0m\u001b[0mnumpy\u001b[0m\u001b[0;34m(\u001b[0m\u001b[0;34m)\u001b[0m\u001b[0;34m\u001b[0m\u001b[0;34m\u001b[0m\u001b[0m\n\u001b[1;32m     30\u001b[0m \u001b[0;34m\u001b[0m\u001b[0m\n",
      "\u001b[0;32m~/Documents/Janelia_Research/Projects/janelia_core/development/multiple_subject_vae_2.py\u001b[0m in \u001b[0;36mlog_prob\u001b[0;34m(self, x, y)\u001b[0m\n\u001b[1;32m     50\u001b[0m         \u001b[0mzero_inds\u001b[0m \u001b[0;34m=\u001b[0m \u001b[0my\u001b[0m \u001b[0;34m==\u001b[0m \u001b[0;36m0\u001b[0m\u001b[0;34m\u001b[0m\u001b[0;34m\u001b[0m\u001b[0m\n\u001b[1;32m     51\u001b[0m \u001b[0;34m\u001b[0m\u001b[0m\n\u001b[0;32m---> 52\u001b[0;31m         \u001b[0mlog_nz_prob\u001b[0m \u001b[0;34m=\u001b[0m \u001b[0mself\u001b[0m\u001b[0;34m.\u001b[0m\u001b[0mlog_prob_fcn\u001b[0m\u001b[0;34m(\u001b[0m\u001b[0mx\u001b[0m\u001b[0;34m)\u001b[0m\u001b[0;34m.\u001b[0m\u001b[0mreshape\u001b[0m\u001b[0;34m(\u001b[0m\u001b[0;34m[\u001b[0m\u001b[0mn_smps\u001b[0m\u001b[0;34m]\u001b[0m\u001b[0;34m)\u001b[0m\u001b[0;34m\u001b[0m\u001b[0;34m\u001b[0m\u001b[0m\n\u001b[0m\u001b[1;32m     53\u001b[0m \u001b[0;34m\u001b[0m\u001b[0m\n\u001b[1;32m     54\u001b[0m         \u001b[0mlog_prob\u001b[0m \u001b[0;34m=\u001b[0m \u001b[0mtorch\u001b[0m\u001b[0;34m.\u001b[0m\u001b[0mzeros\u001b[0m\u001b[0;34m(\u001b[0m\u001b[0mn_smps\u001b[0m\u001b[0;34m)\u001b[0m\u001b[0;34m\u001b[0m\u001b[0;34m\u001b[0m\u001b[0m\n",
      "\u001b[0;32m/anaconda3/envs/janelia_core/lib/python3.7/site-packages/torch/nn/modules/module.py\u001b[0m in \u001b[0;36m__call__\u001b[0;34m(self, *input, **kwargs)\u001b[0m\n\u001b[1;32m    487\u001b[0m             \u001b[0mresult\u001b[0m \u001b[0;34m=\u001b[0m \u001b[0mself\u001b[0m\u001b[0;34m.\u001b[0m\u001b[0m_slow_forward\u001b[0m\u001b[0;34m(\u001b[0m\u001b[0;34m*\u001b[0m\u001b[0minput\u001b[0m\u001b[0;34m,\u001b[0m \u001b[0;34m**\u001b[0m\u001b[0mkwargs\u001b[0m\u001b[0;34m)\u001b[0m\u001b[0;34m\u001b[0m\u001b[0;34m\u001b[0m\u001b[0m\n\u001b[1;32m    488\u001b[0m         \u001b[0;32melse\u001b[0m\u001b[0;34m:\u001b[0m\u001b[0;34m\u001b[0m\u001b[0;34m\u001b[0m\u001b[0m\n\u001b[0;32m--> 489\u001b[0;31m             \u001b[0mresult\u001b[0m \u001b[0;34m=\u001b[0m \u001b[0mself\u001b[0m\u001b[0;34m.\u001b[0m\u001b[0mforward\u001b[0m\u001b[0;34m(\u001b[0m\u001b[0;34m*\u001b[0m\u001b[0minput\u001b[0m\u001b[0;34m,\u001b[0m \u001b[0;34m**\u001b[0m\u001b[0mkwargs\u001b[0m\u001b[0;34m)\u001b[0m\u001b[0;34m\u001b[0m\u001b[0;34m\u001b[0m\u001b[0m\n\u001b[0m\u001b[1;32m    490\u001b[0m         \u001b[0;32mfor\u001b[0m \u001b[0mhook\u001b[0m \u001b[0;32min\u001b[0m \u001b[0mself\u001b[0m\u001b[0;34m.\u001b[0m\u001b[0m_forward_hooks\u001b[0m\u001b[0;34m.\u001b[0m\u001b[0mvalues\u001b[0m\u001b[0;34m(\u001b[0m\u001b[0;34m)\u001b[0m\u001b[0;34m:\u001b[0m\u001b[0;34m\u001b[0m\u001b[0;34m\u001b[0m\u001b[0m\n\u001b[1;32m    491\u001b[0m             \u001b[0mhook_result\u001b[0m \u001b[0;34m=\u001b[0m \u001b[0mhook\u001b[0m\u001b[0;34m(\u001b[0m\u001b[0mself\u001b[0m\u001b[0;34m,\u001b[0m \u001b[0minput\u001b[0m\u001b[0;34m,\u001b[0m \u001b[0mresult\u001b[0m\u001b[0;34m)\u001b[0m\u001b[0;34m\u001b[0m\u001b[0;34m\u001b[0m\u001b[0m\n",
      "\u001b[0;32m~/Documents/Janelia_Research/Projects/janelia_core/development/multiple_subject_vae_2.py\u001b[0m in \u001b[0;36mforward\u001b[0;34m(self, x)\u001b[0m\n\u001b[1;32m    413\u001b[0m \u001b[0;34m\u001b[0m\u001b[0m\n\u001b[1;32m    414\u001b[0m \u001b[0;34m\u001b[0m\u001b[0m\n\u001b[0;32m--> 415\u001b[0;31m         \u001b[0mx_ctr\u001b[0m \u001b[0;34m=\u001b[0m \u001b[0mx\u001b[0m \u001b[0;34m-\u001b[0m \u001b[0mself\u001b[0m\u001b[0;34m.\u001b[0m\u001b[0mctr\u001b[0m\u001b[0;34m\u001b[0m\u001b[0;34m\u001b[0m\u001b[0m\n\u001b[0m\u001b[1;32m    416\u001b[0m         \u001b[0mx_ctr_scaled\u001b[0m \u001b[0;34m=\u001b[0m \u001b[0mx_ctr\u001b[0m\u001b[0;34m/\u001b[0m\u001b[0mctr_stds\u001b[0m\u001b[0;34m\u001b[0m\u001b[0;34m\u001b[0m\u001b[0m\n\u001b[1;32m    417\u001b[0m         \u001b[0mx_dist\u001b[0m \u001b[0;34m=\u001b[0m \u001b[0mtorch\u001b[0m\u001b[0;34m.\u001b[0m\u001b[0msum\u001b[0m\u001b[0;34m(\u001b[0m\u001b[0mx_ctr_scaled\u001b[0m\u001b[0;34m**\u001b[0m\u001b[0;36m2\u001b[0m\u001b[0;34m,\u001b[0m \u001b[0mdim\u001b[0m\u001b[0;34m=\u001b[0m\u001b[0;36m1\u001b[0m\u001b[0;34m)\u001b[0m\u001b[0;34m\u001b[0m\u001b[0;34m\u001b[0m\u001b[0m\n",
      "\u001b[0;31mKeyboardInterrupt\u001b[0m: "
     ]
    },
    {
     "data": {
      "image/png": "[encoded data removed]",
      "text/plain": [
       "<Figure size 432x288 with 6 Axes>"
      ]
     },
     "metadata": {
      "needs_background": "light"
     },
     "output_type": "display_data"
    }
   ],
   "source": [
    "## Fit q to p with variational inference\n",
    "\n",
    "#params = q.parameters()\n",
    "\n",
    "enforce_borders = True\n",
    "lower_border = 0.01\n",
    "upper_border = 0.99\n",
    "\n",
    "params = [{'params': q.log_prob_fcn.ctr_stds.parameters(), 'lr': .01},\n",
    "          {'params': q.log_prob_fcn.log_gain_vl.parameters(), 'lr': .01},\n",
    "          {'params': q.log_prob_fcn.ctr, 'lr': .01}]\n",
    "\n",
    "optim = torch.optim.Adam(params=params, lr=.01)\n",
    "c_optim = torch.optim.Adam(params=c_net.parameters(), lr=.01)\n",
    "\n",
    "n_its = 10000\n",
    "batch_size = n_neurons # Set this to more than the number of samples to have more Q samples than neurons\n",
    "o_vls = np.zeros(n_its)\n",
    "sum_l = np.zeros(n_its)\n",
    "l_log = [None]*n_its\n",
    "\n",
    "for i in range(n_its):\n",
    "    optim.zero_grad()\n",
    "    \n",
    "    with torch.no_grad():\n",
    "        smp_inds = np.random.choice(neuron_props.shape[0], batch_size)\n",
    "        smp_i = q.sample(neuron_props[smp_inds,:])\n",
    "        l = q.log_prob(neuron_props[smp_inds,:], smp_i) - p.log_prob(neuron_props[smp_inds,:], smp_i)\n",
    "        sum_l[i] = torch.sum(l).numpy()\n",
    "    \n",
    "    c = c_net(neuron_props[smp_inds,:]).squeeze()\n",
    "    \n",
    "    o = torch.sum((l- c.detach())*q.log_prob(neuron_props[smp_inds,:], smp_i))\n",
    "    #o = torch.sum(l*q.log_prob(neuron_props[smp_inds,:], smp_i))\n",
    "    \n",
    "    o.backward()\n",
    "    \n",
    "    optim.step();\n",
    "    \n",
    "    # Update c\n",
    "    c_optim.zero_grad()\n",
    "    c_obj = torch.sum((l - c)**2)\n",
    "    c_obj.backward()\n",
    "    c_optim.step()\n",
    "    \n",
    "    \n",
    "    if enforce_borders:\n",
    "        with torch.no_grad():\n",
    "            cur_c = q.log_prob_fcn.ctr.data.detach().numpy()\n",
    "            cur_c[0] = np.min([np.max([cur_c[0], lower_border]), upper_border])\n",
    "            cur_c[1] = np.min([np.max([cur_c[0], lower_border]), upper_border])\n",
    "            q.log_prob_fcn.ctr.data = torch.from_numpy(cur_c)\n",
    "    \n",
    "    record_o = o.detach().numpy()\n",
    "    record_c = c_obj.detach().numpy()\n",
    "    if i % 1000 == 0:\n",
    "        print('it: ' + str(i) + ', o: ' + str(record_o), ', c: ' + str(record_c))\n",
    "        j_range = np.arange(0, neuron_props.shape[0], 10)\n",
    "        l_d = l.detach().numpy()\n",
    "        smp_i_plot = smp_i.detach().numpy()\n",
    "        \n",
    "        grads = np.zeros([len(j_range), 2])\n",
    "        for j_i, j in enumerate(j_range):\n",
    "            optim.zero_grad()\n",
    "            with torch.no_grad():\n",
    "                l_j = (q.log_prob(neuron_props[j, :].unsqueeze(0), smp_i[j].unsqueeze(0)) - \n",
    "                        p.log_prob(neuron_props[j, :].unsqueeze(0), smp_i[j].unsqueeze(0)))\n",
    "            \n",
    "            o_j = l_j*q.log_prob(neuron_props[j, :].unsqueeze(0), smp_i[j].reshape([1]))\n",
    "            o_j.backward()\n",
    "            grads[j_i,:] = q.log_prob_fcn.ctr.grad.data.numpy().copy()\n",
    "        \n",
    "        make_bernoulli_vi_debug_figure(q, p, smp_x=neuron_props[j_range], smp_y=smp_i_plot[j_range],\n",
    "                                       grads=grads)\n",
    "\n",
    "    o_vls[i] = record_o\n",
    "    "
   ]
  },
  {
   "cell_type": "markdown",
   "metadata": {},
   "source": [
    "## Generate data from one spike and slab distribution and fit another with maximum likelihood\n",
    "\n",
    "We use the same ground truth data and distribution we used with the variational inference approach"
   ]
  },
  {
   "cell_type": "code",
   "execution_count": null,
   "metadata": {
    "scrolled": true
   },
   "outputs": [],
   "source": [
    "# Ground truth distribution \n",
    "spike_log_prob_fcn = LogBumpFcn(2)\n",
    "spike_log_prob_fcn.ctr_stds.v.data = torch.tensor([-2.0, -2.0])\n",
    "spike_dist = BernoulliCondDistribution(log_prob_fcn=spike_log_prob_fcn)\n",
    "\n",
    "\n",
    "\n",
    "slab_mn_fcn = ConstantRealFcn(n_dims=1)\n",
    "slab_mn_fcn.vl.data = torch.tensor([5.0])\n",
    "slab_std_fcn = ConstantLowerBoundedFcn(n_dims=1, lower_bound=.05)\n",
    "slab_std_fcn.log_vl.data = torch.tensor([0.0])\n",
    "slab_dist = CondGaussianDistribution(slab_mn_fcn, slab_std_fcn)\n",
    "\n",
    "spike_slab_dist = CondSpikeSlabDistribution(spike_dist=spike_dist, slab_dist=slab_dist, d=1)"
   ]
  },
  {
   "cell_type": "code",
   "execution_count": null,
   "metadata": {
    "scrolled": true
   },
   "outputs": [],
   "source": [
    "# Get samples for true distribution\n",
    "with torch.no_grad():\n",
    "    support, nz_vls = spike_slab_dist.sample(neuron_props)\n",
    "\n",
    "    y = torch.zeros(len(support))\n",
    "    y[support] = nz_vls\n",
    "    y = y.unsqueeze(1)"
   ]
  },
  {
   "cell_type": "code",
   "execution_count": null,
   "metadata": {
    "scrolled": true
   },
   "outputs": [],
   "source": [
    "# Fitted distribution \n",
    "\n",
    "f_spike_log_prob_fcn = LogBumpFcn(2)\n",
    "f_spike_dist = BernoulliCondDistribution(f_spike_log_prob_fcn)\n",
    "\n",
    "f_slab_mn_fcn = ConstantRealFcn(n_dims=1)\n",
    "f_slab_std_fcn = ConstantLowerBoundedFcn(n_dims=1, lower_bound=.05)\n",
    "f_slab_std_fcn.log_vl.data = torch.tensor([5.0])\n",
    "f_slab_dist = CondGaussianDistribution(f_slab_mn_fcn, f_slab_std_fcn)\n",
    "\n",
    "f_spike_slab_dist = CondSpikeSlabDistribution(spike_dist=f_spike_dist, slab_dist=f_slab_dist,\n",
    "                                              d=1)\n"
   ]
  },
  {
   "cell_type": "code",
   "execution_count": null,
   "metadata": {
    "scrolled": true
   },
   "outputs": [],
   "source": [
    "## Fit spike slab distribution with maximum likelihood\n",
    "\n",
    "params = f_spike_slab_dist.parameters()\n",
    "optim = torch.optim.Adam(params=params, lr=.01)\n",
    "\n",
    "for i in range(2000): \n",
    "    optim.zero_grad()\n",
    "    \n",
    "    nll = -1*torch.sum(f_spike_slab_dist.log_prob(neuron_props, y))\n",
    "    nll.backward()\n",
    "    optim.step()\n",
    "    if i % 200 == 0:\n",
    "        print('i:' + str(i) + ', nll: ' +  str(nll.detach()))"
   ]
  },
  {
   "cell_type": "code",
   "execution_count": null,
   "metadata": {
    "scrolled": true
   },
   "outputs": [],
   "source": [
    "# Visualize True distribution\n",
    "visualize_spike_slab_distribution(spike_slab_dist, smp_x=neuron_props, smp_y=y.squeeze())"
   ]
  },
  {
   "cell_type": "code",
   "execution_count": null,
   "metadata": {
    "scrolled": true
   },
   "outputs": [],
   "source": [
    "# Visualize Fit distribution\n",
    "visualize_spike_slab_distribution(f_spike_slab_dist)"
   ]
  }
 ],
 "metadata": {
  "kernelspec": {
   "display_name": "Python 3",
   "language": "python",
   "name": "python3"
  },
  "language_info": {
   "codemirror_mode": {
    "name": "ipython",
    "version": 3
   },
   "file_extension": ".py",
   "mimetype": "text/x-python",
   "name": "python",
   "nbconvert_exporter": "python",
   "pygments_lexer": "ipython3",
   "version": "3.7.2"
  }
 },
 "nbformat": 4,
 "nbformat_minor": 2
}
