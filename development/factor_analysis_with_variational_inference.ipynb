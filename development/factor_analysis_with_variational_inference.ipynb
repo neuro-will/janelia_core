{
 "cells": [
  {
   "cell_type": "markdown",
   "metadata": {},
   "source": [
    "A notebook to try fitting FA models with variational inference"
   ]
  },
  {
   "cell_type": "code",
   "execution_count": 1,
   "metadata": {},
   "outputs": [],
   "source": [
    "%load_ext autoreload\n",
    "%autoreload 2"
   ]
  },
  {
   "cell_type": "code",
   "execution_count": 2,
   "metadata": {},
   "outputs": [],
   "source": [
    "import matplotlib.pyplot as plt\n",
    "import numpy as np\n",
    "import torch\n",
    "\n",
    "from janelia_core.ml.extra_torch_modules import ConstantBoundedFcn\n",
    "from janelia_core.ml.torch_distributions import CondGaussianDistribution\n",
    "from janelia_core.visualization.utils import enforce_constant_clims"
   ]
  },
  {
   "cell_type": "markdown",
   "metadata": {},
   "source": [
    "## Parameters go here"
   ]
  },
  {
   "cell_type": "code",
   "execution_count": 3,
   "metadata": {},
   "outputs": [],
   "source": [
    "d = 10000 # Number of observed variables\n",
    "m = 5 # Number of latents\n",
    "n = 5000 # Number of samples"
   ]
  },
  {
   "cell_type": "markdown",
   "metadata": {},
   "source": [
    "## Generate true model parameters"
   ]
  },
  {
   "cell_type": "code",
   "execution_count": 4,
   "metadata": {},
   "outputs": [],
   "source": [
    "mu = torch.randn(d)\n",
    "lam = torch.randn(d,m)\n",
    "psi_diag = torch.randn(d)**2 + 1"
   ]
  },
  {
   "cell_type": "markdown",
   "metadata": {},
   "source": [
    "## Generate data"
   ]
  },
  {
   "cell_type": "code",
   "execution_count": 5,
   "metadata": {},
   "outputs": [],
   "source": [
    "z = torch.randn(n, m)\n",
    "x = torch.matmul(z, lam.t()) + torch.randn(n,d)*torch.sqrt(psi_diag) + mu"
   ]
  },
  {
   "cell_type": "markdown",
   "metadata": {},
   "source": [
    "## Fit the model with variational inference"
   ]
  },
  {
   "cell_type": "code",
   "execution_count": 6,
   "metadata": {},
   "outputs": [],
   "source": [
    "# Setup the observation model P(x|z) = N(\\mu + lam*z, psi)\n",
    "\n",
    "cond_mn_f = torch.nn.Linear(in_features=m, out_features=d, bias=True)\n",
    "cond_std_f = ConstantBoundedFcn(lower_bound=.001*np.ones(d), \n",
    "                                upper_bound=10*np.ones(d),\n",
    "                                init_value=.1*np.ones(d))\n",
    "condObsDist = CondGaussianDistribution(mn_f=cond_mn_f, std_f=cond_std_f)"
   ]
  },
  {
   "cell_type": "code",
   "execution_count": 7,
   "metadata": {},
   "outputs": [],
   "source": [
    "# Setup the variational posterior"
   ]
  },
  {
   "cell_type": "code",
   "execution_count": 8,
   "metadata": {},
   "outputs": [],
   "source": [
    "class FAVariationalPosterior(torch.nn.Module):\n",
    "    \n",
    "    def __init__(self, latent_d: int, n_smps: int):\n",
    "        \"\"\" Creates a new FAVariationalPosterior object. \n",
    "        \n",
    "        Args:\n",
    "        \n",
    "            latent_d: Latent dimensionality\n",
    "            \n",
    "            n_smps: The number of samples we will calculate posteriors over \n",
    "        \n",
    "        \"\"\"\n",
    "        super().__init__()\n",
    "        \n",
    "        self.m = latent_d\n",
    "        self.n = n_smps\n",
    "        \n",
    "        #self.mns = torch.nn.Parameter(torch.randn(n_smps, latent_d))\n",
    "        #self.c = torch.nn.Parameter(torch.randn(latent_d, latent_d))\n",
    "        self.mns = torch.nn.Parameter(torch.zeros(n_smps, latent_d))\n",
    "        self.c = torch.nn.Parameter(torch.diag(torch.ones(latent_d)))\n",
    "        \n",
    "    def kl(self, inds):\n",
    "        \"\"\" Computes KL divergence between posterior of latent state over a given set of data points and the standard normal.\n",
    "        \n",
    "        Args: \n",
    "        \n",
    "            inds: Indices of data points we form the posterior of latent state over. \n",
    "            \n",
    "        Returns:\n",
    "        \n",
    "            kl: The kl divergence for the posterior relative to the standard normal\n",
    "        \"\"\"\n",
    "        \n",
    "        n_kl_data_pts = len(inds)\n",
    "        \n",
    "        cov_m = self.c.mm(self.c.T)\n",
    "        \n",
    "        cov_trace_sum = n_kl_data_pts*torch.trace(cov_m) \n",
    "        m_norm_sum = torch.sum(self.mns[inds]**2)\n",
    "        m_sum = n_kl_data_pts*self.m\n",
    "        log_det_sum = n_kl_data_pts*torch.logdet(cov_m)\n",
    "        \n",
    "        return .5*(cov_trace_sum + m_norm_sum - m_sum - log_det_sum)\n",
    "    \n",
    "    def sample(self, inds):\n",
    "        \"\"\" Samples latent values from the posterior for given data points. \"\"\"\n",
    "        \n",
    "        n_data_pts = len(inds)\n",
    "        \n",
    "        return torch.randn(n_data_pts, self.m).mm(self.c.T) + self.mns[inds,:]\n",
    "        "
   ]
  },
  {
   "cell_type": "code",
   "execution_count": 9,
   "metadata": {},
   "outputs": [],
   "source": [
    "posterior = FAVariationalPosterior(latent_d=m, n_smps=n)"
   ]
  },
  {
   "cell_type": "markdown",
   "metadata": {},
   "source": [
    "## Fit the model"
   ]
  },
  {
   "cell_type": "code",
   "execution_count": 10,
   "metadata": {},
   "outputs": [],
   "source": [
    "batch_size = 100\n",
    "n_fit_its = 10000"
   ]
  },
  {
   "cell_type": "code",
   "execution_count": 11,
   "metadata": {},
   "outputs": [],
   "source": [
    "params = list(posterior.parameters()) + list(condObsDist.parameters())\n",
    "optimizer = torch.optim.Adam(params=params, lr=.01)"
   ]
  },
  {
   "cell_type": "code",
   "execution_count": 12,
   "metadata": {},
   "outputs": [
    {
     "name": "stdout",
     "output_type": "stream",
     "text": [
      "***** Iteration 0 *****\n",
      "Log Prob: -399335330.0\n",
      "KL: 0.0\n",
      "Objective: 399335330.0\n",
      "***** Iteration 1000 *****\n",
      "Log Prob: -2580194.5\n",
      "KL: 1185.4878\n",
      "Objective: 2581380.0\n",
      "***** Iteration 2000 *****\n",
      "Log Prob: -1975559.2\n",
      "KL: 1563.2065\n",
      "Objective: 1977122.5\n",
      "***** Iteration 3000 *****\n",
      "Log Prob: -1739212.4\n",
      "KL: 1998.4895\n",
      "Objective: 1741210.9\n",
      "***** Iteration 4000 *****\n",
      "Log Prob: -1693594.6\n",
      "KL: 2147.6074\n",
      "Objective: 1695742.2\n",
      "***** Iteration 5000 *****\n",
      "Log Prob: -1688104.0\n",
      "KL: 2155.8374\n",
      "Objective: 1690259.9\n",
      "***** Iteration 6000 *****\n",
      "Log Prob: -1688106.0\n",
      "KL: 2178.319\n",
      "Objective: 1690284.4\n",
      "***** Iteration 7000 *****\n",
      "Log Prob: -1688098.1\n",
      "KL: 2139.7234\n",
      "Objective: 1690237.9\n",
      "***** Iteration 8000 *****\n",
      "Log Prob: -1689127.5\n",
      "KL: 2230.688\n",
      "Objective: 1691358.2\n",
      "***** Iteration 9000 *****\n",
      "Log Prob: -1688346.6\n",
      "KL: 2173.8545\n",
      "Objective: 1690520.5\n"
     ]
    }
   ],
   "source": [
    "for b_i in range(n_fit_its):\n",
    "    \n",
    "    optimizer.zero_grad()\n",
    "    \n",
    "    # Determine which data points we will fit for\n",
    "    batch_smp_indices = torch.randperm(n)[0:batch_size]\n",
    "    \n",
    "    batch_x = x[batch_smp_indices,:]\n",
    "    \n",
    "    # Sample the posteriors over latents for these data points\n",
    "    batch_post_smps = posterior.sample(batch_smp_indices)\n",
    "    \n",
    "    # Calculate the log-likelihood of the observed data given the sampled latents\n",
    "    log_prob = torch.sum(condObsDist.log_prob(batch_post_smps, batch_x))\n",
    "    \n",
    "    # Calculate kl divergence of the posterior for the batch data points and the prior\n",
    "    kl = posterior.kl(batch_smp_indices)\n",
    "    \n",
    "    # Calculate the final objective \n",
    "    obj = -log_prob + kl\n",
    "    \n",
    "    # Give user some feedback\n",
    "    if b_i % 1000 == 0:\n",
    "        print('***** Iteration ' + str(b_i) + ' *****')\n",
    "        print('NLL: ' + str(log_prob.detach().numpy()))\n",
    "        print('KL: ' + str(kl.detach().numpy()))\n",
    "        print('Objective: ' + str(obj.detach().numpy()))\n",
    "        \n",
    "    obj.backward()\n",
    "    optimizer.step()\n",
    "    "
   ]
  },
  {
   "cell_type": "markdown",
   "metadata": {},
   "source": [
    "## Examine results of fit"
   ]
  },
  {
   "cell_type": "code",
   "execution_count": 13,
   "metadata": {},
   "outputs": [],
   "source": [
    "lambda_hat = cond_mn_f.weight.detach()\n",
    "mu_hat = cond_mn_f.bias.detach().numpy()\n",
    "psi_diag_hat = cond_std_f(torch.ones(1)).detach().numpy().squeeze()**2"
   ]
  },
  {
   "cell_type": "code",
   "execution_count": 14,
   "metadata": {},
   "outputs": [],
   "source": [
    "true_cov_str = lam.matmul(lam.T).numpy()\n",
    "cov_str_hat = lambda_hat.matmul(lambda_hat.T).numpy()"
   ]
  },
  {
   "cell_type": "code",
   "execution_count": 15,
   "metadata": {},
   "outputs": [
    {
     "data": {
      "image/png": "[encoded data removed]",
      "text/plain": [
       "<Figure size 432x288 with 4 Axes>"
      ]
     },
     "metadata": {
      "needs_background": "light"
     },
     "output_type": "display_data"
    }
   ],
   "source": [
    "plt.figure()\n",
    "\n",
    "ax = plt.subplot(2,2,1)\n",
    "ax.plot(mu, mu_hat, 'ro')\n",
    "ax.set_aspect('equal', 'box')\n",
    "plt.title('Means')\n",
    "\n",
    "ax = plt.subplot(2,2,2)\n",
    "ax.plot(psi_diag, psi_diag_hat, 'ro')\n",
    "ax.set_aspect('equal', 'box')\n",
    "plt.title('Variances')\n",
    "\n",
    "ax_tc = plt.subplot(2,2,3)\n",
    "im_tc = ax_tc.imshow(true_cov_str[0:100, 0:100])\n",
    "plt.title('True Cov Str')\n",
    "\n",
    "ax_ch =plt.subplot(2,2,4)\n",
    "im_ch = ax_ch.imshow(cov_str_hat[0:100, 0:100])\n",
    "plt.title('Est Cov Str')\n",
    "\n",
    "enforce_constant_clims(ims=[im_tc, im_ch])"
   ]
  },
  {
   "cell_type": "code",
   "execution_count": null,
   "metadata": {},
   "outputs": [],
   "source": []
  }
 ],
 "metadata": {
  "kernelspec": {
   "display_name": "Python 3",
   "language": "python",
   "name": "python3"
  },
  "language_info": {
   "codemirror_mode": {
    "name": "ipython",
    "version": 3
   },
   "file_extension": ".py",
   "mimetype": "text/x-python",
   "name": "python",
   "nbconvert_exporter": "python",
   "pygments_lexer": "ipython3",
   "version": "3.8.5"
  }
 },
 "nbformat": 4,
 "nbformat_minor": 4
}
