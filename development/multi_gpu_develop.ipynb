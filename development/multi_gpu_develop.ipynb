{
 "cells": [
  {
   "cell_type": "markdown",
   "metadata": {},
   "source": [
    "Code to develop code to train models across multiple GPUS"
   ]
  },
  {
   "cell_type": "code",
   "execution_count": 1,
   "metadata": {},
   "outputs": [],
   "source": [
    "%load_ext autoreload\n",
    "%autoreload 2"
   ]
  },
  {
   "cell_type": "code",
   "execution_count": 185,
   "metadata": {},
   "outputs": [],
   "source": [
    "import matplotlib.pyplot as plt\n",
    "\n",
    "import torch"
   ]
  },
  {
   "cell_type": "code",
   "execution_count": 38,
   "metadata": {},
   "outputs": [],
   "source": [
    "n_gpu = torch.cuda.device_count()\n",
    "devices = [torch.device('cuda:'+str(i)) for i in range(n_gpu)]"
   ]
  },
  {
   "cell_type": "markdown",
   "metadata": {},
   "source": [
    "#### Parameters go here"
   ]
  },
  {
   "cell_type": "code",
   "execution_count": 99,
   "metadata": {},
   "outputs": [],
   "source": [
    "input_d = 10\n",
    "n_smps = 100 "
   ]
  },
  {
   "cell_type": "code",
   "execution_count": 172,
   "metadata": {},
   "outputs": [],
   "source": [
    "class ExModel(torch.nn.Module):\n",
    "    \n",
    "    def __init__(self, n, devices):\n",
    "        \"\"\" Creates a new ExModel object. \n",
    "        \n",
    "        Arg:\n",
    "            n: The dimensionality of the input\n",
    "            \n",
    "            devices: A list of devices to distribute model on.  Should be of length 2. \n",
    "        \n",
    "        \"\"\"\n",
    "        \n",
    "        super().__init__()\n",
    "        \n",
    "        p = torch.zeros([1, n], device=devices[0])\n",
    "        self.p = torch.nn.Parameter(p)\n",
    "        torch.nn.init.xavier_normal_(self.p)\n",
    "        \n",
    "        u = torch.zeros([1, 1], device=devices[1])\n",
    "        u.data[:] = 2.0\n",
    "        self.u = torch.nn.Parameter(u)\n",
    "        \n",
    "        self.devices = devices\n",
    "        \n",
    "    def forward(self, x: torch.Tensor):\n",
    "        \"\"\" Compute mean input from output \"\"\"\n",
    "        l = torch.matmul(self.p, 10*x.t())\n",
    "        l = l.to(self.devices[1])\n",
    "        return torch.matmul(self.u, l)\n",
    "    \n",
    "    def gen_output(self, x: torch.Tensor):\n",
    "        \"\"\" Simulate output (mean + noise) from input. \"\"\"\n",
    "        with torch.no_grad():\n",
    "            mn = self.forward(x)\n",
    "            noise = torch.randn_like(mn)\n",
    "        return [mn + noise, mn]"
   ]
  },
  {
   "cell_type": "markdown",
   "metadata": {},
   "source": [
    "#### Generate true data and model"
   ]
  },
  {
   "cell_type": "code",
   "execution_count": 173,
   "metadata": {},
   "outputs": [],
   "source": [
    "true_mdl = ExModel(n=input_d, devices=devices)\n",
    "x = torch.randn([n_smps, input_d], device=devices[0])\n",
    "data_true, mn_true = true_mdl.gen_output(x)"
   ]
  },
  {
   "cell_type": "markdown",
   "metadata": {},
   "source": [
    "### Train a new model"
   ]
  },
  {
   "cell_type": "code",
   "execution_count": 178,
   "metadata": {},
   "outputs": [],
   "source": [
    "fit_mdl = ExModel(n=input_d, devices=devices)"
   ]
  },
  {
   "cell_type": "code",
   "execution_count": 179,
   "metadata": {},
   "outputs": [],
   "source": [
    "parameters = fit_mdl.parameters()\n",
    "optimizer = torch.optim.Adam(params=parameters, lr=.01)"
   ]
  },
  {
   "cell_type": "code",
   "execution_count": 181,
   "metadata": {},
   "outputs": [],
   "source": [
    "n_its = 1000\n",
    "for i in range(n_its):\n",
    "    \n",
    "    optimizer.zero_grad()\n",
    "    \n",
    "    y_hat = fit_mdl(x)\n",
    "    er = torch.sum((y_hat - data_true)**2)\n",
    "    \n",
    "    er.backward()\n",
    "    optimizer.step()"
   ]
  },
  {
   "cell_type": "markdown",
   "metadata": {},
   "source": [
    "### Look at predictions"
   ]
  },
  {
   "cell_type": "code",
   "execution_count": 187,
   "metadata": {},
   "outputs": [],
   "source": [
    "with torch.no_grad():\n",
    "    y_hat = fit_mdl(x)\n",
    "    \n",
    "y_true_plot = mn_true.cpu().numpy().squeeze()\n",
    "y_hat_plot = y_hat.cpu().numpy().squeeze()"
   ]
  },
  {
   "cell_type": "code",
   "execution_count": 189,
   "metadata": {},
   "outputs": [
    {
     "data": {
      "text/plain": [
       "[<matplotlib.lines.Line2D at 0x2b365f6a04a8>]"
      ]
     },
     "execution_count": 189,
     "metadata": {},
     "output_type": "execute_result"
    },
    {
     "data": {
      "image/png": "[encoded data removed]",
      "text/plain": [
       "<Figure size 432x288 with 1 Axes>"
      ]
     },
     "metadata": {
      "needs_background": "light"
     },
     "output_type": "display_data"
    }
   ],
   "source": [
    "plt.plot(y_true_plot, 'ro')\n",
    "plt.plot(y_hat_plot, 'b.')"
   ]
  },
  {
   "cell_type": "code",
   "execution_count": null,
   "metadata": {},
   "outputs": [],
   "source": []
  }
 ],
 "metadata": {
  "kernelspec": {
   "display_name": "Python 3",
   "language": "python",
   "name": "python3"
  },
  "language_info": {
   "codemirror_mode": {
    "name": "ipython",
    "version": 3
   },
   "file_extension": ".py",
   "mimetype": "text/x-python",
   "name": "python",
   "nbconvert_exporter": "python",
   "pygments_lexer": "ipython3",
   "version": "3.7.3"
  }
 },
 "nbformat": 4,
 "nbformat_minor": 2
}
