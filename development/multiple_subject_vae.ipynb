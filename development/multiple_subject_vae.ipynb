{
 "cells": [
  {
   "cell_type": "markdown",
   "metadata": {},
   "source": [
    "This notebook contains a simulation and code for testing and developing a VAE for fitting models across multiple subjects"
   ]
  },
  {
   "cell_type": "code",
   "execution_count": 1,
   "metadata": {},
   "outputs": [],
   "source": [
    "%load_ext autoreload\n",
    "%autoreload 2"
   ]
  },
  {
   "cell_type": "code",
   "execution_count": 2,
   "metadata": {},
   "outputs": [],
   "source": [
    "#%matplotlib qt \n",
    "%matplotlib inline"
   ]
  },
  {
   "cell_type": "code",
   "execution_count": 3,
   "metadata": {},
   "outputs": [],
   "source": [
    "import itertools\n",
    "\n",
    "from IPython.display import clear_output\n",
    "import matplotlib\n",
    "import matplotlib.pyplot as plt\n",
    "import numpy as np\n",
    "import torch\n",
    "\n",
    "from janelia_core.visualization.matrix_visualization import cmp_n_mats"
   ]
  },
  {
   "cell_type": "markdown",
   "metadata": {},
   "source": [
    "## Define helper functions here"
   ]
  },
  {
   "cell_type": "code",
   "execution_count": 4,
   "metadata": {},
   "outputs": [],
   "source": [
    "def gen_couplings(neuron_ctrs, mode_ctr, mode_pos_std, mode_ctr_mean, mode_noise_std):\n",
    "    \"\"\" Generates ground truth couplings. \"\"\"\n",
    "    weighted_distance_from_ctrs = np.sum(((neuron_ctrs - mode_ctr)/mode_pos_std)**2, axis=1)\n",
    "    coupling_means = mode_ctr_mean*np.exp(-1*weighted_distance_from_ctrs)\n",
    "    return np.random.randn(len(coupling_means))*mode_noise_std + coupling_means "
   ]
  },
  {
   "cell_type": "code",
   "execution_count": 5,
   "metadata": {},
   "outputs": [],
   "source": [
    "def visualize_couplings(neuron_ctrs, p_couplings, u_couplings, max_mag=1):\n",
    "    \"\"\" Generates plots of couplings. \"\"\"\n",
    "    n_neurons = neuron_ctrs.shape[0]\n",
    "    n_modes = p_couplings.shape[1]\n",
    "    \n",
    "    cmap = matplotlib.cm.get_cmap('PiYG')\n",
    "    \n",
    "    for m_i in range(n_modes):\n",
    "        a = plt.subplot(n_modes, 2, 2*m_i + 1)\n",
    "        for n_i in range(n_neurons):\n",
    "            c_vl = p_couplings[n_i, m_i]/(2*max_mag) + .5\n",
    "            clr = cmap(c_vl)\n",
    "            p = plt.plot(neuron_ctrs[n_i,0], neuron_ctrs[n_i,1], 'ko', \n",
    "                        alpha=.5, markerfacecolor=clr)\n",
    "        a.set_xticklabels([])\n",
    "        a.set_yticklabels([])\n",
    "        if m_i == 0:\n",
    "            plt.title('P Couplings')\n",
    "        \n",
    "        a = plt.subplot(n_modes, 2, 2*m_i + 2)\n",
    "        for n_i in range(n_neurons):\n",
    "            c_vl = u_couplings[n_i, m_i]/(2*max_mag) + .5\n",
    "            clr = cmap(c_vl)\n",
    "            p = plt.plot(neuron_ctrs[n_i,0], neuron_ctrs[n_i,1], 'ko', \n",
    "                         alpha=.5, markerfacecolor=clr)\n",
    "        a.set_xticklabels([])\n",
    "        a.set_yticklabels([])\n",
    "        if m_i == 0:\n",
    "            plt.title('U Couplings')"
   ]
  },
  {
   "cell_type": "code",
   "execution_count": 6,
   "metadata": {},
   "outputs": [],
   "source": [
    "def get_prop_dist_images(d, x_range = [0, 1], y_range = [0, 1]):\n",
    "    \n",
    "    n_points_per_side = 100\n",
    "    \n",
    "    # Get grid of points \n",
    "    grid = np.mgrid[x_range[0]:x_range[1]:n_points_per_side*1j, y_range[0]:y_range[1]:n_points_per_side*1j]\n",
    "    \n",
    "    grid_vec = np.stack([np.ravel(grid[0,:,:]), np.ravel(grid[1,:,:])]).transpose()\n",
    "    grid_vec = torch.from_numpy(grid_vec.astype('float32'))\n",
    "    \n",
    "    mn = d.mean(grid_vec).detach().numpy() \n",
    "    \n",
    "    n_modes = mn.shape[1]\n",
    "    mn_image = np.zeros([n_modes, n_points_per_side, n_points_per_side])\n",
    "    for m_i in range(n_modes):\n",
    "        mn_image[m_i, :, :] = np.reshape(mn[:,m_i], [n_points_per_side, n_points_per_side])\n",
    "    \n",
    "    return mn_image"
   ]
  },
  {
   "cell_type": "markdown",
   "metadata": {},
   "source": [
    "## Parameters go here"
   ]
  },
  {
   "cell_type": "code",
   "execution_count": 7,
   "metadata": {},
   "outputs": [],
   "source": [
    "n_neurons_per_subject = [90, 100, 110, 80, 102] # Length implicitly defines # of subjects\n",
    "\n",
    "n_smps_per_subject = [1000, 1100, 900, 999, 1230] # Number of (x,y) pairs for each subject\n",
    "\n",
    "# We model distributions of couplings with bumps - where the magnitude of a coupling is a \n",
    "# function of how far that neuron is from the center of the bump + some noise \n",
    "\n",
    "# Here we specify the centers where couplings are heighest for each p mode\n",
    "p_mode_centers = np.asarray([[.5, .5]])\n",
    "#p_mode_centers = np.asarray([[.2, .2], [.5, .5], [.8, .8]]) \n",
    "\n",
    "\n",
    "# Here we specify the standard deviation of the spatial extents of couplings for each p mode\n",
    "p_mode_pos_stds = np.asarray([[.5, .5]])\n",
    "#p_mode_pos_stds = np.asarray([[.5, .5], [.5, .5], [.5, .5]]) \n",
    "\n",
    "# Here we define the mean value for a coupling at the center of each mode\n",
    "p_mode_mean_center_coupling = [1]\n",
    "#p_mode_mean_center_coupling = [1, 1, 1]\n",
    "\n",
    "# Here we define how much noise to add when generating couplings for each mode\n",
    "p_mode_noise_stds = [.05]\n",
    "#p_mode_noise_stds = [.05, .05, .05]\n",
    "\n",
    "# Parmeters for generate u mode couplings \n",
    "u_mode_centers = np.asarray([[.5, .2]])\n",
    "#u_mode_centers = np.asarray([[.2, .2], [.5, .5], [.8, .8]]) # Physical centers of u modes\n",
    "\n",
    "u_mode_pos_stds = np.asarray([[1, .2]])\n",
    "#u_mode_pos_stds = np.asarray([[.5, .5], [.5, .5], [.5, .5]])\n",
    "\n",
    "u_mode_mean_center_coupling = [1]\n",
    "#u_mode_mean_center_coupling = [1, -1, 1]\n",
    "\n",
    "u_mode_noise_stds = [.05]\n",
    "#u_mode_noise_stds = [.05, .05, .05]\n",
    "\n",
    "# Range to generate neuron private noise variances from, for each subject\n",
    "priv_noise_var_ranges = np.asarray([[.5, .8],\n",
    "                                    [.5, .8],\n",
    "                                    [.5, .8],\n",
    "                                    [.5, .8],\n",
    "                                    [.5, .8]])"
   ]
  },
  {
   "cell_type": "markdown",
   "metadata": {},
   "source": [
    "## Generate each ground truth model and data"
   ]
  },
  {
   "cell_type": "code",
   "execution_count": 8,
   "metadata": {},
   "outputs": [],
   "source": [
    "n_subjects = len(n_neurons_per_subject)\n",
    "n_modes = p_mode_centers.shape[0]\n",
    "subjects = [None]*n_subjects\n",
    "for s_i in range(n_subjects):\n",
    "    n_neurons = n_neurons_per_subject[s_i]\n",
    "    n_smps = n_smps_per_subject[s_i]\n",
    "    \n",
    "    # Generate neuron locations uniformly in the unit square\n",
    "    neuron_x = np.random.rand(n_neurons)\n",
    "    neuron_y = np.random.rand(n_neurons)\n",
    "    neuron_ctrs = np.stack([neuron_x, neuron_y]).transpose()\n",
    "    \n",
    "    # Generate couplings \n",
    "    p = np.zeros([n_neurons, n_modes])\n",
    "    u = np.zeros([n_neurons, n_modes])\n",
    "    for m_i in range(n_modes):\n",
    "        p[:, m_i] = gen_couplings(neuron_ctrs, p_mode_centers[m_i,:], p_mode_pos_stds[m_i,:], \n",
    "                          p_mode_mean_center_coupling[m_i], p_mode_noise_stds[m_i])\n",
    "        u[:, m_i] = gen_couplings(neuron_ctrs, u_mode_centers[m_i,:], u_mode_pos_stds[m_i,:], \n",
    "                          u_mode_mean_center_coupling[m_i], u_mode_noise_stds[m_i])\n",
    "        \n",
    "    # Generate x smps - these just come from a standard normal \n",
    "    x = np.random.randn(n_smps, n_neurons)\n",
    "    \n",
    "    # Generate means for each y smp\n",
    "    l = np.matmul(x, p)\n",
    "    y_mn = np.matmul(l, u.transpose())\n",
    "    \n",
    "    # Generate private noise variances\n",
    "    priv_var_width = priv_noise_var_ranges[s_i,1] - priv_noise_var_ranges[s_i,0]\n",
    "    priv_var = np.random.rand(n_neurons)*priv_var_width + priv_noise_var_ranges[s_i,0]\n",
    "    \n",
    "    # Generate y smps\n",
    "    y_noise = np.random.randn(n_smps, n_neurons)*priv_var\n",
    "    y = y_mn + y_noise\n",
    "    \n",
    "    # Store results\n",
    "    s_dict = dict()\n",
    "    s_dict['n_neurons'] = n_neurons\n",
    "    s_dict['n_smps'] = n_smps\n",
    "    s_dict['neuron_ctrs'] = neuron_ctrs\n",
    "    s_dict['p'] = p\n",
    "    s_dict['u'] = u\n",
    "    s_dict['priv_var'] = priv_var\n",
    "    s_dict['x'] = x\n",
    "    s_dict['y'] = y\n",
    "    s_dict['y_mn'] = y_mn\n",
    "    s_dict['p_mode_centers'] = p_mode_centers\n",
    "    s_dict['u_mode_centers'] = u_mode_centers\n",
    "    s_dict['p_mode_pos_stds'] = p_mode_pos_stds\n",
    "    s_dict['u_mode_pos_stds'] = u_mode_pos_stds\n",
    "    s_dict['p_mode_noise_stds'] = np.asarray(p_mode_noise_stds)\n",
    "    s_dict['u_mode_noise_stds'] = np.asarray(u_mode_noise_stds)\n",
    "    s_dict['p_mode_mean_center_coupling'] = np.asarray(p_mode_mean_center_coupling)\n",
    "    s_dict['u_mode_mean_center_coupling'] = np.asarray(u_mode_mean_center_coupling)\n",
    "    \n",
    "    subjects[s_i] = s_dict"
   ]
  },
  {
   "cell_type": "markdown",
   "metadata": {},
   "source": [
    "## Look at ground truth data for one subject"
   ]
  },
  {
   "cell_type": "code",
   "execution_count": 9,
   "metadata": {},
   "outputs": [
    {
     "data": {
      "image/png": "[encoded data removed]",
      "text/plain": [
       "<Figure size 432x288 with 2 Axes>"
      ]
     },
     "metadata": {
      "needs_background": "light"
     },
     "output_type": "display_data"
    },
    {
     "data": {
      "image/png": "[encoded data removed]",
      "text/plain": [
       "<Figure size 432x288 with 10 Axes>"
      ]
     },
     "metadata": {
      "needs_background": "light"
     },
     "output_type": "display_data"
    }
   ],
   "source": [
    "vis_subj = 1 # The subject we want to visualize ground truth for\n",
    "subject = subjects[vis_subj]\n",
    "\n",
    "\n",
    "# Visualize couplings\n",
    "plt.figure()\n",
    "visualize_couplings(subject['neuron_ctrs'], \n",
    "                    subject['p'], \n",
    "                    subject['u'])\n",
    "\n",
    "# Visualize y data\n",
    "roi_inds = np.arange(0, subject['n_neurons'], 10)\n",
    "plt.figure()\n",
    "for i, roi_i in enumerate(roi_inds):\n",
    "    plt.subplot(len(roi_inds), 1, i+1)\n",
    "    plt.plot(subject['y_mn'][:, roi_i], 'b-')\n",
    "    plt.plot(subject['y'][:, roi_i], 'ro', markersize=2)"
   ]
  },
  {
   "cell_type": "markdown",
   "metadata": {},
   "source": [
    "## Define Objects We Need for Variational Inference"
   ]
  },
  {
   "cell_type": "code",
   "execution_count": null,
   "metadata": {},
   "outputs": [],
   "source": [
    "class GaussianRankOneWDistribution(torch.nn.Module)"
   ]
  },
  {
   "cell_type": "code",
   "execution_count": null,
   "metadata": {},
   "outputs": [],
   "source": [
    "class ConditionalCouplingsDistrbution(torch.nn.Module):\n",
    "    \"\"\" Distribution of couplings for either p or u given measurable properties for one neuron.\n",
    "    \"\"\"\n",
    "    \n",
    "    def __init__(self, n_modes: int, n_properties: int):\n",
    "        \n",
    "        super().__init__()\n",
    "        \n",
    "        self.n_modes = n_modes\n",
    "        self.n_properties = n_properties\n",
    "        \n",
    "        self.centersP = torch.nn.Parameter(torch.zeros([n_modes, n_properties]), requires_grad=True)\n",
    "        torch.nn.init.uniform_(self.centersP, 0, 1)\n",
    "        \n",
    "        self.log_prop_stds = torch.nn.Parameter(torch.zeros([n_modes,n_properties]), requires_grad=True)\n",
    "        torch.nn.init.normal_(self.log_prop_stds, mean=1, std=.1)\n",
    "        \n",
    "        if use_gain:\n",
    "            self.gains = torch.nn.Parameter(torch.zeros(n_modes), requires_grad=True)\n",
    "            torch.nn.init.normal_(self.gains)\n",
    "        \n",
    "        self.log_noise_stds = torch.nn.Parameter(torch.zeros(n_modes), requires_grad=True)\n",
    "        torch.nn.init.normal_(self.log_noise_stds)\n",
    "    \n",
    "    def forward(self, properties: torch.Tensor):\n",
    "        \"\"\" Computes means given properties for a set of neurons. \n",
    "        \n",
    "        Args:\n",
    "            properties: Of shape n_neurons*n_properties\n",
    "        \"\"\"\n",
    "        \n",
    "        prop_stds = torch.exp(self.log_prop_stds)\n",
    "        \n",
    "        properties_view =  properties.unsqueeze(1).repeat([1, self.n_modes, 1])\n",
    "        properties_weighted_delta = properties_view - self.centers\n",
    "        properties_distance = torch.sum((properties_weighted_delta/prop_stds)**2, dim=2)\n",
    "        \n",
    "        if self.use_gain:\n",
    "            gains = self.gains\n",
    "        else:\n",
    "            gains = 1\n",
    "            \n",
    "        mns = torch.exp(-1*properties_distance)*gains\n",
    "        \n",
    "        return mns\n",
    "    \n",
    "    def mean(self, properties: torch.Tensor):\n",
    "        return self(properties)\n",
    "    \n",
    "    def log_std(self, properties: torch.Tensor):\n",
    "        \"\"\" Conditional log_std given properites for multiple neurons. \n",
    "        \n",
    "            Currently log_std is invariant to properties. \n",
    "        \"\"\"\n",
    "        \n",
    "        n_neurons = properties.shape[0]\n",
    "        \n",
    "        noise_log_std =  self.log_noise_stds\n",
    "        return noise_log_std.unsqueeze(0).repeat(n_neurons, 1)\n",
    "    \n",
    "    def std(self, properties: torch.Tensor):\n",
    "        \"\"\" Conditional std given properites for multiple neurons. \n",
    "        \n",
    "            Currently std is invariant to properties. \n",
    "        \"\"\"\n",
    "        \n",
    "        n_neurons = properties.shape[0]\n",
    "        \n",
    "        noise_std =  torch.exp(self.log_noise_stds)\n",
    "        return noise_std.unsqueeze(0).repeat(n_neurons, 1)\n",
    "    \n",
    "    def sample(self, properties: torch.Tensor):\n",
    "        mn = self.mean(properties)\n",
    "        std = self.std(properties)\n",
    "        return mn + std*torch.randn(std.shape)"
   ]
  },
  {
   "cell_type": "code",
   "execution_count": null,
   "metadata": {},
   "outputs": [],
   "source": [
    "class TanhConditionalCouplingsDistrbution(torch.nn.Module):\n",
    "    \"\"\" Distribution of couplings for either p or u given measurable properties for one neuron.\n",
    "    \"\"\"\n",
    "    \n",
    "    def __init__(self, n_modes: int, n_properties: int):\n",
    "        \n",
    "        exp_factor = 10\n",
    "        \n",
    "        super().__init__()\n",
    "        \n",
    "        self.n_modes = n_modes\n",
    "        self.n_properties = n_properties\n",
    "        \n",
    "        l1_list = [torch.nn.Linear(n_properties, n_properties*exp_factor) for m_i in range(n_modes)]\n",
    "        \n",
    "        l2_list = [torch.nn.Linear(n_properties*exp_factor, n_properties*exp_factor) \n",
    "                   for m_i in range(n_modes)]\n",
    "        \n",
    "        l3_list = [torch.nn.Linear(n_properties*exp_factor, 1) \n",
    "                   for m_i in range(n_modes)]\n",
    "        \n",
    "        self.l1 = torch.nn.ModuleList(l1_list)\n",
    "        self.l2 = torch.nn.ModuleList(l2_list)\n",
    "        self.l3 = torch.nn.ModuleList(l3_list)\n",
    "        \n",
    "        self.log_noise_stds = torch.nn.Parameter(torch.zeros(n_modes), requires_grad=True)\n",
    "        torch.nn.init.normal_(self.log_noise_stds)\n",
    "        \n",
    "    def _one_mode_forward(self, properties: torch.Tensor, mode_i):\n",
    "        y = self.l1[mode_i](properties)\n",
    "        y = torch.tanh(y)\n",
    "        y = self.l2[mode_i](y)\n",
    "        y = torch.tanh(y)\n",
    "        y = self.l3[mode_i](y)\n",
    "        return torch.squeeze(y)\n",
    "        \n",
    "    def forward(self, properties: torch.Tensor):\n",
    "        \"\"\" Computes means given properties for a set of neurons. \n",
    "        \n",
    "        Args:\n",
    "            properties: Of shape n_neurons*n_properties\n",
    "        \"\"\"\n",
    "        mode_mns = [self._one_mode_forward(properties, m_i) for m_i in range(self.n_modes)]\n",
    "        return torch.stack(mode_mns).t()\n",
    "\n",
    "    def mean(self, properties: torch.Tensor):\n",
    "        return self(properties)\n",
    "    \n",
    "    def log_std(self, properties: torch.Tensor):\n",
    "        \"\"\" Conditional log_std given properites for multiple neurons. \n",
    "        \n",
    "            Currently log_std is invariant to properties. \n",
    "        \"\"\"\n",
    "        \n",
    "        n_neurons = properties.shape[0]\n",
    "        \n",
    "        noise_log_std =  self.log_noise_stds\n",
    "        return noise_log_std.unsqueeze(0).repeat(n_neurons, 1)\n",
    "    \n",
    "    def std(self, properties: torch.Tensor):\n",
    "        \"\"\" Conditional std given properites for multiple neurons. \n",
    "        \n",
    "            Currently std is invariant to properties. \n",
    "        \"\"\"\n",
    "        \n",
    "        n_neurons = properties.shape[0]\n",
    "        \n",
    "        noise_std =  torch.exp(self.log_noise_stds)\n",
    "        return noise_std.unsqueeze(0).repeat(n_neurons, 1)\n",
    "        \n",
    "    def sample(self, properties: torch.Tensor):\n",
    "        mn = self.mean(properties)\n",
    "        std = self.std(properties)\n",
    "        return mn + std*torch.randn(std.shape)"
   ]
  },
  {
   "cell_type": "code",
   "execution_count": null,
   "metadata": {},
   "outputs": [],
   "source": [
    "class ConditionalYDistribution(torch.nn.Module):\n",
    "    \"\"\" Conditional distribution for y|x, p, u for a particular subject. \n",
    "    \"\"\"\n",
    "    \n",
    "    def __init__(self, n_neurons: int):\n",
    "        \n",
    "        super().__init__()\n",
    "         \n",
    "        self.log_std = torch.nn.Parameter(torch.zeros(n_neurons), requires_grad=True)\n",
    "        torch.nn.init.normal_(self.log_std)\n",
    "        \n",
    "    def forward(self, x: torch.Tensor, p: torch.Tensor, u: torch.Tensor):\n",
    "        \"\"\" Computes conditional mean.\n",
    "        \n",
    "        Args:\n",
    "            x: input of shape n_smps * n_neurons\n",
    "            \n",
    "            p: modes which project to latents of shape n_neurons * n_modes\n",
    "            \n",
    "            u: modes which project back to mean firing rates, of shape n_neurons * n_modes\n",
    "        \"\"\"\n",
    "        l = torch.matmul(x, p)\n",
    "        mns = torch.matmul(l, u.t())\n",
    "        \n",
    "        return mns\n",
    "        \n",
    "    def cond_neg_ll(self, mn: torch.Tensor, y: torch.Tensor):\n",
    "        n_smps = mn.shape[0]\n",
    "        log_2_pi = float(np.log(2*np.pi))\n",
    "        \n",
    "        psi = torch.exp(self.log_std)\n",
    "        \n",
    "        neg_ll = .5*mn.nelement()*log_2_pi\n",
    "        neg_ll += n_smps*torch.sum(self.log_std) # don't need .5 here b/c we are taking log of std^2\n",
    "        neg_ll += .5*torch.sum(((y - mn)/psi)**2)\n",
    "        \n",
    "        return neg_ll"
   ]
  },
  {
   "cell_type": "markdown",
   "metadata": {},
   "source": [
    "## Define function we will use for calculating KL divergence "
   ]
  },
  {
   "cell_type": "code",
   "execution_count": null,
   "metadata": {},
   "outputs": [],
   "source": [
    "def kl(d0: torch.nn.Module, d1: torch.nn.Module, x: torch.Tensor):\n",
    "    \"\"\" Computes the KL divergence between two conidtional distributions given input.\n",
    "        \n",
    "    Given distribution d0 and d1, this will compute KL(d0, d1).     \n",
    "    \n",
    "    Args:\n",
    "        d0: Module representing a conditional multivariate normal distribution.  Must have \n",
    "        the methods:\n",
    "            'mean' - returns the mean of a distribution given some input\n",
    "                \n",
    "            'std' - returns the square root of the diagonal of the covariance matrix given\n",
    "                    some input. \n",
    "                        \n",
    "            'log_std' - returns the log of the square root of the diagonal of the covariance\n",
    "                        matrix given some input\n",
    "                \n",
    "            Note that the returned arguments can be shaped as general tensors (i.e., \n",
    "            they don't have to be vectorized.)\n",
    "            \n",
    "        d1: Same as d0, but for the second distribution\n",
    "            \n",
    "        x: input we condition on, of shape n_smps * n_neurons\n",
    "    \"\"\"\n",
    "    \n",
    "    psi_0 = d0.std(x)**2\n",
    "    psi_1 = d1.std(x)**2\n",
    "           \n",
    "    k = psi_0.nelement()\n",
    "        \n",
    "    mn_0 = d0.mean(x)\n",
    "    mn_1 = d1.mean(x)\n",
    "    mn_diff = mn_1 - mn_0\n",
    "        \n",
    "    kl = -.5*k\n",
    "    kl += .5*torch.sum(psi_0/psi_1)\n",
    "    kl += .5*torch.sum((mn_diff**2)/psi_1)\n",
    "    kl += torch.sum(d1.log_std(x))\n",
    "    kl -= torch.sum(d0.log_std(x))\n",
    "        \n",
    "    return kl\n",
    "        \n",
    "        "
   ]
  },
  {
   "cell_type": "markdown",
   "metadata": {},
   "source": [
    "## Define object we will use to fit with variational inference"
   ]
  },
  {
   "cell_type": "code",
   "execution_count": null,
   "metadata": {},
   "outputs": [],
   "source": [
    "class MultiSubjectVIFitter(torch.nn.Module):\n",
    "    \n",
    "    def __init__(self, subject_models, p_cond_prior, u_cond_prior, subject_p_q_dists, subject_u_q_dists, kl):\n",
    "        \n",
    "        super().__init__()\n",
    "        \n",
    "        self.subject_models = torch.nn.ModuleList(subject_models)\n",
    "        self.p_cond_prior = p_cond_prior\n",
    "        self.u_cond_prior = u_cond_prior\n",
    "        self.subject_p_q_dists = torch.nn.ModuleList(subject_p_q_dists)\n",
    "        self.subject_u_q_dists = torch.nn.ModuleList(subject_u_q_dists)\n",
    "        self.kl = kl\n",
    "        \n",
    "    def forward(self, x: list, props: list):\n",
    "        \"\"\"\n",
    "        Samples couplings for each model and computes conditional means.\n",
    "        \n",
    "        \"\"\"\n",
    "        \n",
    "        n_subjects = len(x)\n",
    "        \n",
    "        # Forward pass for each subject\n",
    "        mns = [None]*n_subjects\n",
    "        for s_i in range(n_subjects):\n",
    "            \n",
    "            # Sample couplings for this subject\n",
    "            p_smp = self.subject_p_q_dists[s_i].sample(props[s_i])\n",
    "            u_smp = self.subject_u_q_dists[s_i].sample(props[s_i])\n",
    "            \n",
    "            mns[s_i] = self.subject_models[s_i](x[s_i], p_smp, u_smp)\n",
    "        \n",
    "        return mns\n",
    "    \n",
    "    def cost(self, x: list, y:list, props:list):\n",
    "        \"\"\" Compute the objective value for fitting the VI objective over all models. \"\"\"\n",
    "        \n",
    "        n_subjects = len(x)\n",
    "       \n",
    "        nll_cost = 0\n",
    "        # Compute likelihood term (couplings are sampled in this step)\n",
    "        mns = self(x, props)\n",
    "        for s_i in range(n_subjects):\n",
    "            nll_cost += self.subject_models[s_i].cond_neg_ll(mns[s_i], y[s_i])\n",
    "            \n",
    "        # Compute KL divergence term for distribution on p modes \n",
    "        p_cost = 0\n",
    "        for s_i in range(n_subjects):\n",
    "            p_cost += self.kl(self.subject_p_q_dists[s_i], self.p_cond_prior, props[s_i])\n",
    "        \n",
    "        # Compute KL divergence term for distribution on u modes\n",
    "        u_cost = 0\n",
    "        for s_i in range(n_subjects):\n",
    "            u_cost += self.kl(self.subject_u_q_dists[s_i], self.u_cond_prior, props[s_i])\n",
    "             \n",
    "        return [nll_cost, p_cost, u_cost]\n",
    "    \n",
    "    def pre_train_cost(self, x: list, y: list, props: list):\n",
    "        \" Cost for training subject models and priors with Monte Carlo sampling. \"\n",
    "        \n",
    "        n_subjects = len(x)\n",
    "          \n",
    "        cost = 0\n",
    "        for s_i in range(n_subjects):\n",
    "            p_smp = self.p_cond_prior.sample(props[s_i])\n",
    "            u_smp = self.u_cond_prior.sample(props[s_i])\n",
    "            \n",
    "            mn = self.subject_models[s_i](x[s_i], p_smp, u_smp)\n",
    "\n",
    "            cost += self.subject_models[s_i].cond_neg_ll(mn, y[s_i])\n",
    "        \n",
    "        return cost\n",
    "    \n",
    "    def fit(self, x: list, y: list, props: list, \n",
    "            lr: float = .001, max_n_its: int = 10, update_int: int = 1000, \n",
    "            batch_size = 100):\n",
    "        \n",
    "        n_subjects = len(x)\n",
    "        \n",
    "        optimizer = torch.optim.Adam(self.parameters(), lr=lr)\n",
    "        \n",
    "        batch_x = [None]*n_subjects\n",
    "        batch_y = [None]*n_subjects\n",
    "        \n",
    "        for s_i in range(n_subjects):\n",
    "            n_smps = x[s_i].shape[0]\n",
    "            smps = np.random.choice(n_smps, batch_size, replace=False)\n",
    "        \n",
    "            batch_x[s_i] = x[s_i][smps, :]\n",
    "            batch_y[s_i] = y[s_i][smps, :]\n",
    "        \n",
    "        for i in range(max_n_its):\n",
    "\n",
    "            optimizer.zero_grad()\n",
    "            nll_cost, p_cost, u_cost = self.cost(batch_x, batch_y, props)\n",
    "            total_cost = nll_cost  + p_cost + u_cost\n",
    "            total_cost.backward()\n",
    "            optimizer.step()\n",
    "            \n",
    "            if i % update_int == 0:\n",
    "                \n",
    "                clear_output(wait = True)\n",
    "                \n",
    "                print('Completed iteration ' + str(i) + ', total_cost: ' + str(total_cost))\n",
    "                print('nll_cost: ' + str(nll_cost))\n",
    "                print('p_cost: ' + str(p_cost))\n",
    "                print('u_cost: ' + str(u_cost))\n",
    "                \n",
    "                plot_updated_priors()\n",
    "                \n",
    "                \n",
    "    def pre_train(self, x: list, y: list, props: list, \n",
    "                  lr: float = .001, max_n_its: int = 10, update_int: int = 1000):\n",
    "        \n",
    "        parameters = itertools.chain(self.subject_models.parameters(), \n",
    "                                     self.p_cond_prior.parameters(), \n",
    "                                     self.u_cond_prior.parameters())\n",
    "        \n",
    "        optimizer = torch.optim.Adam(parameters, lr=lr)\n",
    "        for i in range(max_n_its):\n",
    "            optimizer.zero_grad()\n",
    "            cost = self.pre_train_cost(x, y, props)\n",
    "            cost.backward()\n",
    "            optimizer.step()\n",
    "            \n",
    "            if i % update_int == 0:\n",
    "                print('Completed iteration ' + str(i) + ', cost: ' + str(cost))\n",
    "        "
   ]
  },
  {
   "cell_type": "markdown",
   "metadata": {},
   "source": [
    "## Get true prior distributions"
   ]
  },
  {
   "cell_type": "code",
   "execution_count": null,
   "metadata": {},
   "outputs": [],
   "source": [
    "n_properties = u_mode_centers.shape[1]\n",
    "\n",
    "true_p_cond_prior = ConditionalCouplingsDistrbution(n_modes=n_modes, n_properties=n_properties)\n",
    "true_p_cond_prior.centers.data = torch.from_numpy(subjects[0]['p_mode_centers'].astype('float32'))\n",
    "true_p_cond_prior.gains.data = torch.from_numpy(subjects[0]['p_mode_mean_center_coupling'].astype('float32'))\n",
    "true_p_cond_prior.log_prop_stds.data = torch.from_numpy(np.log(subjects[0]['p_mode_pos_stds']).astype('float32'))\n",
    "\n",
    "true_u_cond_prior = ConditionalCouplingsDistrbution(n_modes=n_modes, n_properties=n_properties)\n",
    "true_u_cond_prior.centers.data = torch.from_numpy(subjects[0]['u_mode_centers'].astype('float32'))\n",
    "true_u_cond_prior.gains.data = torch.from_numpy(subjects[0]['u_mode_mean_center_coupling'].astype('float32'))\n",
    "true_u_cond_prior.log_prop_stds.data = torch.from_numpy(np.log(subjects[0]['u_mode_pos_stds']).astype('float32'))"
   ]
  },
  {
   "cell_type": "markdown",
   "metadata": {},
   "source": [
    "## Set function for visualizing fits during the fitting proess"
   ]
  },
  {
   "cell_type": "code",
   "execution_count": null,
   "metadata": {},
   "outputs": [],
   "source": [
    "def plot_updated_priors():\n",
    "    \n",
    "    true_p_image = get_prop_dist_images(true_p_cond_prior)\n",
    "    est_p_image = get_prop_dist_images(p_cond_prior)\n",
    "    p_q_image = get_prop_dist_images(p_q_dist)\n",
    "\n",
    "    true_u_image = get_prop_dist_images(true_u_cond_prior)\n",
    "    est_u_image = get_prop_dist_images(u_cond_prior)\n",
    "    u_q_image = get_prop_dist_images(u_q_dist)\n",
    "    \n",
    "    for m_i in range(n_modes):\n",
    "        \n",
    "        plt.figure()\n",
    "        \n",
    "        cmp_n_mats([true_p_image[m_i, :,:], est_p_image[m_i, :,:], p_q_image[m_i, :, :],\n",
    "                    true_u_image[m_i, :, :], est_u_image[m_i, :, :], u_q_image[m_i, :, :]], \n",
    "               titles=['E(p_' + str(m_i) + '), true', 'E(p_' + str(m_i) + '), fit', 'E(p_' + str(m_i) + '), q',\n",
    "                       'E(u_' + str(m_i) + '), true', 'E(u_' + str(m_i) + '), fit', 'E(u_' + str(m_i) + '), q',],   \n",
    "               cmap='PiYG', show_colorbars=False, clim = [-1, 1])\n",
    "    \n",
    "    plt.pause(0.05)\n",
    "    plt.show()"
   ]
  },
  {
   "cell_type": "markdown",
   "metadata": {},
   "source": [
    "## Set up all objects we need for fitting"
   ]
  },
  {
   "cell_type": "code",
   "execution_count": null,
   "metadata": {},
   "outputs": [],
   "source": [
    "n_modes = subjects[0]['u'].shape[1]\n",
    "n_properties = subjects[0]['neuron_ctrs'].shape[1]"
   ]
  },
  {
   "cell_type": "code",
   "execution_count": null,
   "metadata": {},
   "outputs": [],
   "source": [
    "subject_models = [ConditionalYDistribution(subject['n_neurons']) for subject in subjects]\n",
    "#p_cond_prior = TanhConditionalCouplingsDistrbution(n_modes=n_modes, n_properties=n_properties)\n",
    "#u_cond_prior = TanhConditionalCouplingsDistrbution(n_modes=n_modes, n_properties=n_properties)\n",
    "\n",
    "p_cond_prior = ConditionalCouplingsDistrbution(n_modes=n_modes, n_properties=n_properties, use_gain=True)\n",
    "u_cond_prior = ConditionalCouplingsDistrbution(n_modes=n_modes, n_properties=n_properties, use_gain=True)\n",
    "\n",
    "#subject_p_q_dists = [MultiNeuronCouplingVariationalDistribution(subject['p'].shape) for subject in subjects]\n",
    "#subject_u_q_dists = [MultiNeuronCouplingVariationalDistribution(subject['u'].shape) for subject in subjects]\n",
    "\n",
    "#p_q_dist = ConditionalCouplingsDistrbution(n_modes=n_modes, n_properties=n_properties)\n",
    "#u_q_dist = ConditionalCouplingsDistrbution(n_modes=n_modes, n_properties=n_properties)\n",
    "p_q_dist = TanhConditionalCouplingsDistrbution(n_modes=n_modes, n_properties=n_properties)\n",
    "u_q_dist = TanhConditionalCouplingsDistrbution(n_modes=n_modes, n_properties=n_properties)\n",
    "\n",
    "subject_p_q_dists = [p_q_dist for subject in subjects]\n",
    "subject_u_q_dists = [u_q_dist  for subject in subjects]\n",
    "\n",
    "fitter = MultiSubjectVIFitter(subject_models, p_cond_prior, u_cond_prior, subject_p_q_dists, subject_u_q_dists, kl)"
   ]
  },
  {
   "cell_type": "markdown",
   "metadata": {},
   "source": [
    "## Set things up for training"
   ]
  },
  {
   "cell_type": "code",
   "execution_count": null,
   "metadata": {},
   "outputs": [],
   "source": [
    "x = [torch.from_numpy(subject['x'].astype('float32')) for subject in subjects]\n",
    "y = [torch.from_numpy(subject['y'].astype('float32')) for subject in subjects]\n",
    "props = [torch.from_numpy(subject['neuron_ctrs'].astype('float32')) for subject in subjects]"
   ]
  },
  {
   "cell_type": "markdown",
   "metadata": {},
   "source": [
    "## Perform Pre-training"
   ]
  },
  {
   "cell_type": "code",
   "execution_count": null,
   "metadata": {},
   "outputs": [],
   "source": [
    "#fitter.pre_train(x, y, props, max_n_its=10000, lr=.01, update_int=100)"
   ]
  },
  {
   "cell_type": "markdown",
   "metadata": {},
   "source": [
    "## Perform Fitting"
   ]
  },
  {
   "cell_type": "code",
   "execution_count": null,
   "metadata": {},
   "outputs": [],
   "source": [
    "fitter.fit(x,y, props, max_n_its=10000, lr=.01, update_int=100, batch_size=900)"
   ]
  },
  {
   "cell_type": "markdown",
   "metadata": {},
   "source": [
    "## View results of fit for an example subject"
   ]
  },
  {
   "cell_type": "code",
   "execution_count": null,
   "metadata": {},
   "outputs": [],
   "source": [
    "preds = fitter(x, props)"
   ]
  },
  {
   "cell_type": "code",
   "execution_count": null,
   "metadata": {},
   "outputs": [],
   "source": [
    "vis_subj = 2"
   ]
  },
  {
   "cell_type": "code",
   "execution_count": null,
   "metadata": {},
   "outputs": [],
   "source": [
    "subject = subjects[vis_subj] \n",
    "\n",
    "# Visualize y data\n",
    "roi_inds = np.arange(0, subject['n_neurons'],10)\n",
    "roi_inds = np.arange(0, 10)\n",
    "\n",
    "y_true = subject['y_mn']\n",
    "y_pred = preds[vis_subj].detach().numpy()\n",
    "\n",
    "plt.figure()\n",
    "for i, roi_i in enumerate(roi_inds):\n",
    "    plt.subplot(len(roi_inds), 1, i+1)\n",
    "    plt.plot(y_true[:, roi_i], 'b-')\n",
    "    plt.plot(y_pred[:, roi_i], 'ro', markersize=2)"
   ]
  },
  {
   "cell_type": "code",
   "execution_count": null,
   "metadata": {},
   "outputs": [],
   "source": [
    "# Visualize couplings \n",
    "plt.figure()\n",
    "true_p = subject['p']\n",
    "mn_p = subject_p_q_dists[vis_subj].mean(props[vis_subj]).detach().numpy()\n",
    "cmp_n_mats([true_p, -1*mn_p], titles=['Truth', 'Q_p Mean'], show_colorbars=True)\n",
    "\n",
    "plt.figure()\n",
    "true_u = subject['u']\n",
    "mn_u = subject_u_q_dists[vis_subj].mean(props[vis_subj]).detach().numpy()\n",
    "cmp_n_mats([true_u, -1*mn_u], titles=['Truth', 'Q_u Mean'], show_colorbars=True)\n",
    "\n",
    "plt.figure()\n",
    "true_w = np.matmul(true_u, true_p.transpose())\n",
    "mn_w = np.matmul(mn_u, mn_p.transpose())\n",
    "cmp_n_mats([true_w, mn_w], titles=['Truth', 'Mean Couplings'], show_colorbars=True)"
   ]
  },
  {
   "cell_type": "markdown",
   "metadata": {},
   "source": [
    "## View results of fitting conditional priors on properties "
   ]
  },
  {
   "cell_type": "code",
   "execution_count": null,
   "metadata": {},
   "outputs": [],
   "source": []
  },
  {
   "cell_type": "code",
   "execution_count": null,
   "metadata": {},
   "outputs": [],
   "source": [
    "plt.figure()\n",
    "visualize_couplings(subjects[vis_subj]['neuron_ctrs'], \n",
    "                    subject_p_q_dists[vis_subj].mean(props[vis_subj]).detach().numpy(), \n",
    "                    subject_u_q_dists[vis_subj].mean(props[vis_subj]).detach().numpy())"
   ]
  },
  {
   "cell_type": "markdown",
   "metadata": {},
   "source": [
    "## Scratch below this"
   ]
  },
  {
   "cell_type": "code",
   "execution_count": null,
   "metadata": {},
   "outputs": [],
   "source": [
    "kl(subject_p_q_dists[vis_subj], p_cond_prior, props[vis_subj])"
   ]
  },
  {
   "cell_type": "code",
   "execution_count": null,
   "metadata": {},
   "outputs": [],
   "source": [
    "vis_subj = 4"
   ]
  },
  {
   "cell_type": "code",
   "execution_count": null,
   "metadata": {},
   "outputs": [],
   "source": [
    "new_p_cond_prior = ConditionalCouplingsDistrbution(n_modes=n_modes, n_properties=n_properties)"
   ]
  },
  {
   "cell_type": "code",
   "execution_count": null,
   "metadata": {},
   "outputs": [],
   "source": [
    "parameters = new_p_cond_prior.parameters()\n",
    "\n",
    "optimizer = torch.optim.Adam(parameters)\n",
    "\n",
    "for i in range(10000):\n",
    "        optimizer.zero_grad()\n",
    "        \n",
    "        cost = 0\n",
    "        for s_i in range(n_subjects):\n",
    "            cost += kl(subject_p_q_dists[s_i], new_p_cond_prior, props[s_i])\n",
    "        if i % 1000 == 0:\n",
    "            print(str(i) + ': ' + str(cost))\n",
    "            \n",
    "        cost.backward()\n",
    "        optimizer.step()\n",
    "    "
   ]
  },
  {
   "cell_type": "code",
   "execution_count": null,
   "metadata": {},
   "outputs": [],
   "source": [
    "new_p_image = get_prop_dist_images(new_p_cond_prior)"
   ]
  },
  {
   "cell_type": "code",
   "execution_count": null,
   "metadata": {},
   "outputs": [],
   "source": [
    "plt.imshow(new_p_image[0,:,:])\n",
    "plt.colorbar()"
   ]
  },
  {
   "cell_type": "code",
   "execution_count": null,
   "metadata": {},
   "outputs": [],
   "source": [
    "torch.randn([3,2])"
   ]
  },
  {
   "cell_type": "code",
   "execution_count": null,
   "metadata": {},
   "outputs": [],
   "source": [
    "u_cond_prior.gains"
   ]
  },
  {
   "cell_type": "code",
   "execution_count": null,
   "metadata": {},
   "outputs": [],
   "source": [
    "p_q_dist.gains"
   ]
  },
  {
   "cell_type": "code",
   "execution_count": null,
   "metadata": {},
   "outputs": [],
   "source": [
    "p_q_dist.centers"
   ]
  },
  {
   "cell_type": "code",
   "execution_count": null,
   "metadata": {},
   "outputs": [],
   "source": [
    "p_cond_prior.gains"
   ]
  },
  {
   "cell_type": "code",
   "execution_count": null,
   "metadata": {},
   "outputs": [],
   "source": [
    "l1 = torch.nn.Linear(10, 2)"
   ]
  },
  {
   "cell_type": "code",
   "execution_count": null,
   "metadata": {},
   "outputs": [],
   "source": [
    "x = torch.randn([50, 10])"
   ]
  },
  {
   "cell_type": "code",
   "execution_count": null,
   "metadata": {},
   "outputs": [],
   "source": [
    "l1(x).shape"
   ]
  },
  {
   "cell_type": "code",
   "execution_count": null,
   "metadata": {},
   "outputs": [],
   "source": [
    "plt.imshow(est_u_image[0,:,:])\n",
    "plt.colorbar()"
   ]
  },
  {
   "cell_type": "raw",
   "metadata": {},
   "source": []
  }
 ],
 "metadata": {
  "kernelspec": {
   "display_name": "Python 3",
   "language": "python",
   "name": "python3"
  },
  "language_info": {
   "codemirror_mode": {
    "name": "ipython",
    "version": 3
   },
   "file_extension": ".py",
   "mimetype": "text/x-python",
   "name": "python",
   "nbconvert_exporter": "python",
   "pygments_lexer": "ipython3",
   "version": "3.7.2"
  }
 },
 "nbformat": 4,
 "nbformat_minor": 2
}
