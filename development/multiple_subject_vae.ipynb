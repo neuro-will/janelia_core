{
 "cells": [
  {
   "cell_type": "markdown",
   "metadata": {},
   "source": [
    "This notebook contains a simulation and code for testing and developing a VAE for fitting models across multiple subjects"
   ]
  },
  {
   "cell_type": "code",
   "execution_count": 1,
   "metadata": {},
   "outputs": [],
   "source": [
    "%load_ext autoreload\n",
    "%autoreload 2"
   ]
  },
  {
   "cell_type": "code",
   "execution_count": 12,
   "metadata": {},
   "outputs": [],
   "source": [
    "%matplotlib qt"
   ]
  },
  {
   "cell_type": "code",
   "execution_count": 2,
   "metadata": {},
   "outputs": [],
   "source": [
    "import matplotlib\n",
    "import matplotlib.pyplot as plt\n",
    "import numpy as np"
   ]
  },
  {
   "cell_type": "markdown",
   "metadata": {},
   "source": [
    "## Define helper functions here"
   ]
  },
  {
   "cell_type": "code",
   "execution_count": 14,
   "metadata": {},
   "outputs": [],
   "source": [
    "def gen_couplings(neuron_ctrs, mode_ctr, mode_std, mode_ctr_mean, mode_noise_std):\n",
    "    \"\"\" Generates ground truth couplings. \"\"\"\n",
    "    weighted_distance_from_ctrs = np.sum(((neuron_ctrs - mode_ctr)/mode_std)**2, axis=1)\n",
    "    coupling_means = mode_ctr_mean*np.exp(-1*weighted_distance_from_ctrs)\n",
    "    return np.random.randn(len(coupling_means))*mode_noise_std + coupling_means \n",
    "\n",
    "def visualize_couplings(neuron_ctrs, p_couplings, u_couplings, max_mag=1):\n",
    "    \"\"\" Generates plots of couplings. \"\"\"\n",
    "    n_neurons = neuron_ctrs.shape[0]\n",
    "    n_modes = p_couplings.shape[1]\n",
    "    \n",
    "    cmap = matplotlib.cm.get_cmap('PiYG')\n",
    "    \n",
    "    for m_i in range(n_modes):\n",
    "        a = plt.subplot(n_modes, 2, 2*m_i + 1)\n",
    "        for n_i in range(n_neurons):\n",
    "            c_vl = p_couplings[n_i, m_i]/(2*max_mag) + .5\n",
    "            clr = cmap(c_vl)\n",
    "            p = plt.plot(neuron_ctrs[n_i,0], neuron_ctrs[n_i,1], 'ko', \n",
    "                        alpha=.5, markerfacecolor=clr)\n",
    "        a.set_xticklabels([])\n",
    "        a.set_yticklabels([])\n",
    "        if m_i == 0:\n",
    "            plt.title('P Couplings')\n",
    "        \n",
    "        a = plt.subplot(n_modes, 2, 2*m_i + 2)\n",
    "        for n_i in range(n_neurons):\n",
    "            c_vl = u_couplings[n_i, m_i]/(2*max_mag) + .5\n",
    "            clr = cmap(c_vl)\n",
    "            p = plt.plot(neuron_ctrs[n_i,0], neuron_ctrs[n_i,1], 'ko', \n",
    "                         alpha=.5, markerfacecolor=clr)\n",
    "        a.set_xticklabels([])\n",
    "        a.set_yticklabels([])\n",
    "        if m_i == 0:\n",
    "            plt.title('U Couplings')"
   ]
  },
  {
   "cell_type": "markdown",
   "metadata": {},
   "source": [
    "## Parameters go here"
   ]
  },
  {
   "cell_type": "code",
   "execution_count": 4,
   "metadata": {},
   "outputs": [],
   "source": [
    "n_neurons_per_subject = [90, 100, 110, 80, 102] # Length implicitly defines # of subjects\n",
    "\n",
    "n_smps_per_subject = [1000, 1100, 900, 999, 1230] # Number of (x,y) pairs for each subject\n",
    "\n",
    "# We model distributions of couplings with bumps - where the magnitude of a coupling is a \n",
    "# function of how far that neuron is from the center of the bump + some noise \n",
    "\n",
    "# Here we specify the centers where couplings are heighest for each p mode\n",
    "p_mode_centers = np.asarray([[.2, .2], [.5, .5], [.8, .8]]) \n",
    "# Here we specify the standard deviation of the spatial extents of couplings for each p mode\n",
    "p_mode_stds = np.asarray([[.3, .3], [.3, .3], [.3, .3]]) \n",
    "# Here we define the mean value for a coupling at the center of each mode\n",
    "p_mode_mean_center_coupling = [1, 1, 1]\n",
    "# Here we define how much noise to add when generating couplings for each mode\n",
    "p_mode_noise_stds = [.05, .05, .05]\n",
    "\n",
    "# Parmeters for generate u mode couplings \n",
    "u_mode_centers = np.asarray([[.2, .2], [.5, .5], [.8, .8]]) # Physical centers of u modes\n",
    "u_mode_stds = np.asarray([[.4, .4], [.4, .4], [.4, .4]])\n",
    "u_mode_mean_center_coupling = [1, -1, 1]\n",
    "u_mode_noise_stds = [.05, .05, .05]\n",
    "\n",
    "# Range to generate neuron private noise variances from, for each subject\n",
    "priv_noise_var_ranges = np.asarray([[.5, .8],\n",
    "                                    [.5, .8],\n",
    "                                    [.5, .8],\n",
    "                                    [.5, .8],\n",
    "                                    [.5, .8]])"
   ]
  },
  {
   "cell_type": "markdown",
   "metadata": {},
   "source": [
    "## Generate each ground truth model and data"
   ]
  },
  {
   "cell_type": "code",
   "execution_count": 36,
   "metadata": {},
   "outputs": [],
   "source": [
    "n_subjects = len(n_neurons_per_subject)\n",
    "n_modes = p_mode_centers.shape[0]\n",
    "subjects = [None]*n_subjects\n",
    "for s_i in range(n_subjects):\n",
    "    n_neurons = n_neurons_per_subject[s_i]\n",
    "    n_smps = n_smps_per_subject[s_i]\n",
    "    \n",
    "    # Generate neuron locations uniformly in the unit square\n",
    "    neuron_x = np.random.rand(n_neurons)\n",
    "    neuron_y = np.random.rand(n_neurons)\n",
    "    neuron_ctrs = np.stack([neuron_x, neuron_y]).transpose()\n",
    "    \n",
    "    # Generate couplings \n",
    "    p = np.zeros([n_neurons, n_modes])\n",
    "    u = np.zeros([n_neurons, n_modes])\n",
    "    for m_i in range(n_modes):\n",
    "        p[:, m_i] = gen_couplings(neuron_ctrs, p_mode_centers[m_i,:], p_mode_stds[m_i,:], \n",
    "                          p_mode_mean_center_coupling[m_i], p_mode_noise_stds[m_i])\n",
    "        u[:, m_i] = gen_couplings(neuron_ctrs, u_mode_centers[m_i,:], u_mode_stds[m_i,:], \n",
    "                          u_mode_mean_center_coupling[m_i], u_mode_noise_stds[m_i])\n",
    "        \n",
    "    # Generate x smps - these just come from a standard normal \n",
    "    x = np.random.randn(n_smps, n_neurons)\n",
    "    \n",
    "    # Generate means for each y smp\n",
    "    l = np.matmul(x, p)\n",
    "    y_mn = np.matmul(l, u.transpose())\n",
    "    \n",
    "    # Generate private noise variances\n",
    "    priv_var_width = priv_noise_var_ranges[s_i,1] - priv_noise_var_ranges[s_i,0]\n",
    "    priv_var = np.random.rand(n_neurons)*priv_var_width + priv_noise_var_ranges[s_i,0]\n",
    "    \n",
    "    # Generate y smps\n",
    "    y_noise = np.random.randn(n_smps, n_neurons)*priv_var\n",
    "    y = y_mn + y_noise\n",
    "    \n",
    "    # Store results\n",
    "    s_dict = dict()\n",
    "    s_dict['n_neurons'] = n_neurons\n",
    "    s_dict['n_smps'] = n_smps\n",
    "    s_dict['neuron_ctrs'] = neuron_ctrs\n",
    "    s_dict['p'] = p\n",
    "    s_dict['u'] = u\n",
    "    s_dict['priv_var'] = priv_var\n",
    "    s_dict['x'] = x\n",
    "    s_dict['y'] = y\n",
    "    s_dict['y_mn'] = y_mn\n",
    "    \n",
    "    subjects[s_i] = s_dict"
   ]
  },
  {
   "cell_type": "markdown",
   "metadata": {},
   "source": [
    "## Look at ground truth data for one subject"
   ]
  },
  {
   "cell_type": "code",
   "execution_count": 37,
   "metadata": {},
   "outputs": [],
   "source": [
    "vis_subj = 1 # The subject we want to visualize ground truth for\n",
    "subject = subjects[vis_subj]\n",
    "\n",
    "\n",
    "# Visualize couplings\n",
    "plt.figure()\n",
    "visualize_couplings(subject['neuron_ctrs'], \n",
    "                    subject['p'], \n",
    "                    subject['u'])\n",
    "\n",
    "# Visualize y data\n",
    "roi_inds = np.arange(0, subject['n_neurons'], 10)\n",
    "plt.figure()\n",
    "for i, roi_i in enumerate(roi_inds):\n",
    "    plt.subplot(len(roi_inds), 1, i+1)\n",
    "    plt.plot(subject['y_mn'][:, roi_i], 'b-')\n",
    "    plt.plot(subject['y'][:, roi_i], 'ro', markersize=2)"
   ]
  },
  {
   "cell_type": "code",
   "execution_count": null,
   "metadata": {},
   "outputs": [],
   "source": []
  }
 ],
 "metadata": {
  "kernelspec": {
   "display_name": "Python 3",
   "language": "python",
   "name": "python3"
  },
  "language_info": {
   "codemirror_mode": {
    "name": "ipython",
    "version": 3
   },
   "file_extension": ".py",
   "mimetype": "text/x-python",
   "name": "python",
   "nbconvert_exporter": "python",
   "pygments_lexer": "ipython3",
   "version": "3.7.2"
  }
 },
 "nbformat": 4,
 "nbformat_minor": 2
}
