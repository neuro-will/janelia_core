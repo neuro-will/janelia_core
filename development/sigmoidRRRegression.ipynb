{
 "cells": [
  {
   "cell_type": "markdown",
   "metadata": {},
   "source": [
    "# Code demonstrating basic non-linear reduced rank regression"
   ]
  },
  {
   "cell_type": "code",
   "execution_count": 1,
   "metadata": {},
   "outputs": [],
   "source": [
    "%load_ext autoreload\n",
    "%autoreload 2"
   ]
  },
  {
   "cell_type": "code",
   "execution_count": 2,
   "metadata": {},
   "outputs": [],
   "source": [
    "import matplotlib.pyplot as plt\n",
    "import numpy as np\n",
    "import numpy.linalg\n",
    "import torch\n",
    "\n",
    "from janelia_core.ml.non_linear_rr_regression import SigmoidRRRegresion"
   ]
  },
  {
   "cell_type": "markdown",
   "metadata": {},
   "source": [
    "## Setup ground truth model"
   ]
  },
  {
   "cell_type": "code",
   "execution_count": 3,
   "metadata": {},
   "outputs": [],
   "source": [
    "d_in, d_out, d_latent, n_smps = 10, 5, 1, 1000"
   ]
  },
  {
   "cell_type": "code",
   "execution_count": 4,
   "metadata": {},
   "outputs": [],
   "source": [
    "true_model = SigmoidRRRegresion(d_in, d_out, d_latent)\n",
    "true_model.random_weights()"
   ]
  },
  {
   "cell_type": "markdown",
   "metadata": {},
   "source": [
    "## Generate data"
   ]
  },
  {
   "cell_type": "code",
   "execution_count": 5,
   "metadata": {},
   "outputs": [],
   "source": [
    "x = 10*torch.rand([n_smps, d_in])\n",
    "y = true_model.generate(x)"
   ]
  },
  {
   "cell_type": "markdown",
   "metadata": {},
   "source": [
    "## Create model we will fit to data"
   ]
  },
  {
   "cell_type": "code",
   "execution_count": 6,
   "metadata": {},
   "outputs": [
    {
     "data": {
      "text/plain": [
       "SigmoidRRRegresion()"
      ]
     },
     "execution_count": 6,
     "metadata": {},
     "output_type": "execute_result"
    }
   ],
   "source": [
    "fitted_model = SigmoidRRRegresion(d_in, d_out, d_latent)\n",
    "fitted_model.init_weights(y)\n",
    "fitted_model.to('cpu')"
   ]
  },
  {
   "cell_type": "markdown",
   "metadata": {},
   "source": [
    "## Fit model to data"
   ]
  },
  {
   "cell_type": "code",
   "execution_count": 7,
   "metadata": {
    "scrolled": true
   },
   "outputs": [
    {
     "name": "stdout",
     "output_type": "stream",
     "text": [
      "0: Elapsed time 0.3594851493835449, vl: 515.20026\n",
      "1000: Elapsed time 2.074720621109009, vl: 8.797861\n",
      "2000: Elapsed time 3.7499561309814453, vl: 4.0232005\n",
      "3000: Elapsed time 5.422188758850098, vl: 3.935395\n",
      "4000: Elapsed time 7.0974249839782715, vl: 3.4187245\n",
      "5000: Elapsed time 8.774662017822266, vl: 3.1410172\n",
      "6000: Elapsed time 10.447896003723145, vl: 2.9924884\n",
      "7000: Elapsed time 12.117126703262329, vl: 2.8953142\n",
      "8000: Elapsed time 13.797366380691528, vl: 2.8934333\n",
      "9000: Elapsed time 15.471601247787476, vl: 2.8927479\n"
     ]
    }
   ],
   "source": [
    "fitted_model.fit(x,y, batch_size=1000, max_its=10000, update_int=1000)"
   ]
  },
  {
   "cell_type": "markdown",
   "metadata": {},
   "source": [
    "## See fitted model results"
   ]
  },
  {
   "cell_type": "code",
   "execution_count": 8,
   "metadata": {},
   "outputs": [],
   "source": [
    "%matplotlib qt\n",
    "fitted_model.standardize()\n",
    "true_model.standardize()\n",
    "SigmoidRRRegresion.compare_models(true_model, fitted_model, x, [0, 1])"
   ]
  }
 ],
 "metadata": {
  "kernelspec": {
   "display_name": "Python 3",
   "language": "python",
   "name": "python3"
  },
  "language_info": {
   "codemirror_mode": {
    "name": "ipython",
    "version": 3
   },
   "file_extension": ".py",
   "mimetype": "text/x-python",
   "name": "python",
   "nbconvert_exporter": "python",
   "pygments_lexer": "ipython3",
   "version": "3.6.7"
  }
 },
 "nbformat": 4,
 "nbformat_minor": 2
}
