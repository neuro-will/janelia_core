{
 "cells": [
  {
   "cell_type": "markdown",
   "metadata": {},
   "source": [
    "## Fitting dynamical models with priors which are conditioned on functional anchors"
   ]
  },
  {
   "cell_type": "code",
   "execution_count": 1,
   "metadata": {},
   "outputs": [],
   "source": [
    "%load_ext autoreload\n",
    "%autoreload 2"
   ]
  },
  {
   "cell_type": "code",
   "execution_count": 24,
   "metadata": {},
   "outputs": [],
   "source": [
    "import itertools\n",
    "import math\n",
    "\n",
    "import matplotlib\n",
    "from matplotlib import pyplot as plt\n",
    "import numpy as np\n",
    "import torch\n",
    "\n",
    "from janelia_core.ml.torch_distributions import CondBernoulliDistribution\n",
    "from janelia_core.ml.torch_distributions import CondGaussianDistribution\n",
    "from janelia_core.ml.torch_distributions import CondLowRankMatrixDistribution\n",
    "from janelia_core.ml.torch_distributions import CondSpikeSlabDistribution\n",
    "from janelia_core.ml.extra_torch_modules import ConstantBoundedFcn\n",
    "from janelia_core.ml.extra_torch_modules import ConstantRealFcn\n",
    "from janelia_core.ml.extra_torch_modules import LogGaussianBumpFcn\n",
    "\n",
    "from janelia_core.visualization.matrix_visualization import cmp_n_mats"
   ]
  },
  {
   "cell_type": "markdown",
   "metadata": {},
   "source": [
    "## Parameters go here"
   ]
  },
  {
   "cell_type": "code",
   "execution_count": 3,
   "metadata": {},
   "outputs": [],
   "source": [
    "n_neurons = 100\n",
    "n_modes = 1\n",
    "n_smps = 2000\n",
    "neural_noise_std = .2 # Amount of noise we add to neural activity"
   ]
  },
  {
   "cell_type": "markdown",
   "metadata": {},
   "source": [
    "## Here we define functions for visualization"
   ]
  },
  {
   "cell_type": "code",
   "execution_count": 4,
   "metadata": {},
   "outputs": [],
   "source": [
    "def visualize_mode_mean(d, x_range = [0.0, 1.0], y_range = [0.0, 1.0], n_points_per_side=100):\n",
    "    \n",
    "    grid = np.mgrid[x_range[0]:x_range[1]:n_points_per_side * 1j,\n",
    "           y_range[0]:y_range[1]:n_points_per_side * 1j]\n",
    "\n",
    "    grid_vec = np.stack([np.ravel(grid[0, :, :]), np.ravel(grid[1, :, :])]).transpose()\n",
    "    grid_vec = torch.from_numpy(grid_vec.astype('float32'))\n",
    "\n",
    "    mn_vec = d(grid_vec).detach().numpy()\n",
    "    mn_image = np.reshape(mn_vec, [n_points_per_side, n_points_per_side])\n",
    "    \n",
    "    plt.imshow(mn_image, extent=[x_range[0], x_range[1], y_range[0], y_range[1]], origin='lower')\n",
    "    plt.colorbar()\n",
    "    \n",
    "def visualize_low_rank_matrix_modes(d, x_range = [0.0, 1.0], y_range = [0.0, 1.0], n_points_per_side=100):\n",
    "    \n",
    "    l_dists = d.l_mode_dists\n",
    "    r_dists = d.r_mode_dists\n",
    "    \n",
    "    n_modes = len(l_dists)\n",
    "    \n",
    "    plt.figure()\n",
    "    \n",
    "    for m_i in range(n_modes):\n",
    "        \n",
    "        # Plot r modes in top row\n",
    "        plt.subplot(2, n_modes, m_i+1)\n",
    "        visualize_mode_mean(r_dists[m_i], x_range=x_range, y_range=y_range, n_points_per_side=n_points_per_side)\n",
    "        \n",
    "        # Plot l modes in second row\n",
    "        plt.subplot(2, n_modes, m_i+1 + n_modes)\n",
    "        visualize_mode_mean(l_dists[m_i], x_range=x_range, y_range=y_range, n_points_per_side=n_points_per_side)\n",
    "        "
   ]
  },
  {
   "cell_type": "markdown",
   "metadata": {},
   "source": [
    "## Define the likelihood model we will use"
   ]
  },
  {
   "cell_type": "code",
   "execution_count": 5,
   "metadata": {},
   "outputs": [],
   "source": [
    "class SubjectModel(torch.nn.Module):\n",
    "    \n",
    "    def __init__(self, d_x:int):\n",
    "        \"\"\" Creates a SubjectModel object.\n",
    "        \n",
    "        Args:\n",
    "            n: the dimensionality of x (which is the data we predict from)\n",
    "        \"\"\"\n",
    "        \n",
    "        super().__init__()\n",
    "         \n",
    "        self.d_x = d_x\n",
    "        self.std = ConstantBoundedFcn(lower_bound=.01*np.ones(d_x), upper_bound=5*np.ones(d_x), init_value=np.ones(d_x))\n",
    "        \n",
    "    def forward(self, x: torch.Tensor, w: torch.Tensor):\n",
    "        \n",
    "        return cond_mn(x, w)\n",
    "        \n",
    "    def cond_mn(self, x: torch.Tensor, w: torch.Tensor):\n",
    "        \"\"\" Computes mean given x and w.\n",
    "        \n",
    "        Args:\n",
    "            x: neural data of shape n_smps*d_x\n",
    "            \n",
    "            w: weight matrix of shape d_y*d_x\n",
    "            \n",
    "        Returns:\n",
    "            mn: mean of shape n_smps*d_y\n",
    "        \n",
    "        \"\"\"\n",
    "        return torch.matmul(x, w.t())\n",
    "    \n",
    "    def cond_ll(self, x: torch.Tensor, y: torch.Tensor, w: torch.Tensor):\n",
    "        \"\"\" Computes conditional likelihood of y, given x and w.\n",
    "        \n",
    "        Args:\n",
    "            x: neural data to condition on of shape n_smps*d_x\n",
    "            \n",
    "            y: neural data to predict of shape n_smps*d_y\n",
    "            \n",
    "            w: weight matrix of shape d_y*d_x\n",
    "            \n",
    "        Returns:\n",
    "            ll: conditional likelihood of each sample, of shape n_smps\n",
    "        \"\"\"\n",
    "        \n",
    "        if len(x.shape) == 1:\n",
    "            raise(NotImplementedError('Code has not been tested with a single sample. May need to check that it still computes correctly.'))\n",
    "        \n",
    "        d_y = y.shape[1]\n",
    "        \n",
    "        mn = self.cond_mn(x, w)\n",
    "        std = self.std(mn)\n",
    "           \n",
    "        delta = y - mn\n",
    "        delta_div = delta/std\n",
    "        dist_sq = torch.sum(delta_div**2,1)\n",
    "        \n",
    "        \n",
    "        ll = -.5*dist_sq\n",
    "        ll -= torch.sum(torch.log(std), 1)\n",
    "        ll -= .5*d_y*torch.log(torch.tensor([math.pi]))\n",
    "        \n",
    "        return ll"
   ]
  },
  {
   "cell_type": "markdown",
   "metadata": {},
   "source": [
    "## Generate neuron properties"
   ]
  },
  {
   "cell_type": "code",
   "execution_count": 6,
   "metadata": {},
   "outputs": [],
   "source": [
    "neuron_props = torch.zeros(n_neurons, 2).uniform_()"
   ]
  },
  {
   "cell_type": "markdown",
   "metadata": {},
   "source": [
    "## Define true conditional prior on weights matrix"
   ]
  },
  {
   "cell_type": "code",
   "execution_count": 165,
   "metadata": {},
   "outputs": [],
   "source": [
    "# Spike and slab modes\n",
    "\n",
    "n_nodes = 2\n",
    "\n",
    "p_l_mode_dists = [None]*n_modes\n",
    "p_r_mode_dists = [None]*n_modes\n",
    "\n",
    "for m_i in range(n_modes):\n",
    "    # Setup l mode\n",
    "    p_l_spike_log_prob_fcn = LogGaussianBumpFcn(d_x=2, ctr_std_lb=.02, ctr_std_ub=10.0, ctr_std_init=.5,\n",
    "                                   log_gain_lb=-10.0, log_gain_ub=0.0, log_gain_init=-0.05)\n",
    "    p_l_spike_d = CondBernoulliDistribution(p_l_spike_log_prob_fcn)\n",
    "\n",
    "    p_l_slab_mn_fcn = torch.nn.Sequential(torch.nn.Linear(2,n_nodes), torch.nn.ReLU(), torch.nn.Linear(n_nodes, n_nodes), \n",
    "                                          torch.nn.ReLU(), torch.nn.Linear(n_nodes,1))\n",
    "    p_l_slab_mn_fcn[4].weight.data = 10*p_l_slab_mn_fcn[4].weight.data\n",
    "\n",
    "    p_l_slab_std_fcn = ConstantBoundedFcn(lower_bound=np.asarray([.001]), upper_bound=np.asarray([10]), \n",
    "                                        init_value=np.asarray(.01))\n",
    "\n",
    "    p_l_slab_d = CondGaussianDistribution(mn_f=p_l_slab_mn_fcn, std_f=p_l_slab_std_fcn)\n",
    "\n",
    "\n",
    "    p_l_mode_dists[m_i] = CondSpikeSlabDistribution(d=1, spike_d=p_l_spike_d, slab_d=p_l_slab_d)\n",
    "    \n",
    "    \n",
    "    # Setup r mode \n",
    "    p_r_spike_log_prob_fcn = LogGaussianBumpFcn(d_x=2, ctr_std_lb=.02, ctr_std_ub=1.0, ctr_std_init=.5,\n",
    "                                   log_gain_lb=-10.0, log_gain_ub=0.0, log_gain_init=-0.05)\n",
    "    p_r_spike_d = CondBernoulliDistribution(p_r_spike_log_prob_fcn)\n",
    "\n",
    "    p_r_slab_mn_fcn = torch.nn.Sequential(torch.nn.Linear(2,n_nodes), torch.nn.ReLU(), torch.nn.Linear(n_nodes, n_nodes), \n",
    "                                          torch.nn.ReLU(), torch.nn.Linear(n_nodes,1))\n",
    "    p_r_slab_mn_fcn[4].weight.data = 10*p_r_slab_mn_fcn[4].weight.data\n",
    "\n",
    "    p_r_slab_std_fcn = ConstantBoundedFcn(lower_bound=np.asarray([.001]), upper_bound=np.asarray([10]), \n",
    "                                        init_value=np.asarray(.01))\n",
    "\n",
    "    p_r_slab_d = CondGaussianDistribution(mn_f=p_r_slab_mn_fcn, std_f=p_r_slab_std_fcn)\n",
    "\n",
    "\n",
    "    p_r_mode_dists[m_i] = CondSpikeSlabDistribution(d=1, spike_d=p_r_spike_d, slab_d=p_r_slab_d)\n",
    "    \n",
    "\n",
    "p = CondLowRankMatrixDistribution(l_mode_dists=p_l_mode_dists, r_mode_dists=p_r_mode_dists)"
   ]
  },
  {
   "cell_type": "markdown",
   "metadata": {},
   "source": [
    "## Sample from prior on weight matrix to get true modes of the weight matrix for the subject"
   ]
  },
  {
   "cell_type": "code",
   "execution_count": 166,
   "metadata": {},
   "outputs": [
    {
     "data": {
      "image/png": "[encoded data removed]",
      "text/plain": [
       "<Figure size 432x288 with 4 Axes>"
      ]
     },
     "metadata": {
      "needs_background": "light"
     },
     "output_type": "display_data"
    }
   ],
   "source": [
    "visualize_low_rank_matrix_modes(p)"
   ]
  },
  {
   "cell_type": "code",
   "execution_count": 167,
   "metadata": {},
   "outputs": [],
   "source": [
    "with torch.no_grad():\n",
    "    smp = p.sample(neuron_props, neuron_props)\n",
    "    w = p.form_matrix(smp)"
   ]
  },
  {
   "cell_type": "code",
   "execution_count": 168,
   "metadata": {},
   "outputs": [],
   "source": [
    "with torch.no_grad():\n",
    "    smp = p.sample(neuron_props, neuron_props)\n",
    "    w1 = p.form_matrix(smp)"
   ]
  },
  {
   "cell_type": "code",
   "execution_count": 169,
   "metadata": {},
   "outputs": [
    {
     "data": {
      "text/plain": [
       "[<matplotlib.axes._subplots.AxesSubplot at 0x12cdc4a20>,\n",
       " <matplotlib.axes._subplots.AxesSubplot at 0x12bb9e4a8>,\n",
       " <matplotlib.axes._subplots.AxesSubplot at 0x12c449400>]"
      ]
     },
     "execution_count": 169,
     "metadata": {},
     "output_type": "execute_result"
    },
    {
     "data": {
      "image/png": "[encoded data removed]",
      "text/plain": [
       "<Figure size 432x288 with 6 Axes>"
      ]
     },
     "metadata": {
      "needs_background": "light"
     },
     "output_type": "display_data"
    }
   ],
   "source": [
    "w_n = w.detach().numpy()\n",
    "w1_n = w1.detach().numpy()\n",
    "cmp_n_mats([w_n, w1_n, np.abs(w_n - w1_n)], show_colorbars=True)"
   ]
  },
  {
   "cell_type": "markdown",
   "metadata": {},
   "source": [
    "## Generate neural activity"
   ]
  },
  {
   "cell_type": "code",
   "execution_count": 170,
   "metadata": {},
   "outputs": [],
   "source": [
    "with torch.no_grad():\n",
    "    x = torch.randn([n_smps, n_neurons])\n",
    "    y_mn = torch.matmul(x, w.t())\n",
    "    y_noise = torch.randn([n_smps, n_neurons])*neural_noise_std\n",
    "    y = y_mn #+ y_noise"
   ]
  },
  {
   "cell_type": "markdown",
   "metadata": {},
   "source": [
    "## Initialize conditional prior on weights matrix we will fit"
   ]
  },
  {
   "cell_type": "code",
   "execution_count": 171,
   "metadata": {},
   "outputs": [],
   "source": [
    "# Spike and slab modes\n",
    "\n",
    "q_l_mode_dists = [None]*n_modes\n",
    "q_r_mode_dists = [None]*n_modes\n",
    "\n",
    "for m_i in range(n_modes):\n",
    "    # Setup l mode\n",
    "    q_l_spike_log_prob_fcn = LogGaussianBumpFcn(d_x=2, ctr_std_lb=.02, ctr_std_ub=10.0, ctr_std_init=.5,\n",
    "                                   log_gain_lb=-10.0, log_gain_ub=0.0, log_gain_init=-0.05)\n",
    "    q_l_spike_d = CondBernoulliDistribution(q_l_spike_log_prob_fcn)\n",
    "\n",
    "    q_l_slab_mn_fcn = torch.nn.Sequential(torch.nn.Linear(2,n_nodes), torch.nn.ReLU(), torch.nn.Linear(n_nodes, n_nodes), \n",
    "                                          torch.nn.ReLU(), torch.nn.Linear(n_nodes,1))\n",
    "\n",
    "    q_l_slab_std_fcn = ConstantBoundedFcn(lower_bound=np.asarray([.001]), upper_bound=np.asarray([10]), \n",
    "                                        init_value=np.asarray(.25))\n",
    "\n",
    "    q_l_slab_d = CondGaussianDistribution(mn_f=q_l_slab_mn_fcn, std_f=q_l_slab_std_fcn)\n",
    "\n",
    "\n",
    "    #q_l_mode_dists[m_i] = CondSpikeSlabDistribution(d=1, spike_d=q_l_spike_d, slab_d=q_l_slab_d)\n",
    "    q_l_mode_dists[m_i] = CondSpikeSlabDistribution(d=1, spike_d=p_l_mode_dists[m_i].spike_d, slab_d=q_l_slab_d)\n",
    "    \n",
    "    # Setup r mode \n",
    "    q_r_spike_log_prob_fcn = LogGaussianBumpFcn(d_x=2, ctr_std_lb=.02, ctr_std_ub=10.0, ctr_std_init=.2,\n",
    "                                   log_gain_lb=-10.0, log_gain_ub=0.0, log_gain_init=-0.05)\n",
    "    q_r_spike_d = CondBernoulliDistribution(q_r_spike_log_prob_fcn)\n",
    "\n",
    "    q_r_slab_mn_fcn = torch.nn.Sequential(torch.nn.Linear(2,n_nodes), torch.nn.ReLU(), torch.nn.Linear(n_nodes, n_nodes), \n",
    "                                          torch.nn.ReLU(), torch.nn.Linear(n_nodes,1))\n",
    "\n",
    "    q_r_slab_std_fcn = ConstantBoundedFcn(lower_bound=np.asarray([.001]), upper_bound=np.asarray([10]), \n",
    "                                        init_value=np.asarray(.25))\n",
    "\n",
    "    q_r_slab_d = CondGaussianDistribution(mn_f=q_r_slab_mn_fcn, std_f=q_r_slab_std_fcn)\n",
    "\n",
    "\n",
    "    #q_r_mode_dists[m_i] = CondSpikeSlabDistribution(d=1, spike_d=q_r_spike_d, slab_d=q_r_slab_d)\n",
    "    q_r_mode_dists[m_i] = CondSpikeSlabDistribution(d=1, spike_d=p_r_mode_dists[m_i].spike_d, slab_d=q_r_slab_d)\n",
    "\n",
    "q = CondLowRankMatrixDistribution(l_mode_dists=q_l_mode_dists, r_mode_dists=q_r_mode_dists)"
   ]
  },
  {
   "cell_type": "markdown",
   "metadata": {},
   "source": [
    "## Define a function we will use to enforce constraints"
   ]
  },
  {
   "cell_type": "code",
   "execution_count": 172,
   "metadata": {},
   "outputs": [],
   "source": [
    "def enforce_constraints():\n",
    "    for m_i in range(n_modes):\n",
    "        \n",
    "        l_ctr = q.l_mode_dists[m_i].spike_d.log_prob_fcn.ctr.data.numpy()\n",
    "        l_ctr[0] = np.max([np.min([l_ctr[0], .95]), .05])    \n",
    "        l_ctr[1] = np.max([np.min([l_ctr[1], .95]), .05]) \n",
    "        q.l_mode_dists[m_i].spike_d.log_prob_fcn.ctr.data = torch.from_numpy(l_ctr)\n",
    "        \n",
    "        r_ctr = q.r_mode_dists[m_i].spike_d.log_prob_fcn.ctr.data.numpy()\n",
    "        r_ctr[0] = np.max([np.min([r_ctr[0], .95]), .05])    \n",
    "        r_ctr[1] = np.max([np.min([r_ctr[1], .95]), .05]) \n",
    "        q.r_mode_dists[m_i].spike_d.log_prob_fcn.ctr.data = torch.from_numpy(r_ctr)"
   ]
  },
  {
   "cell_type": "markdown",
   "metadata": {},
   "source": [
    "## Perform fitting"
   ]
  },
  {
   "cell_type": "code",
   "execution_count": 173,
   "metadata": {},
   "outputs": [],
   "source": [
    "s = SubjectModel(n_neurons)"
   ]
  },
  {
   "cell_type": "code",
   "execution_count": 174,
   "metadata": {},
   "outputs": [],
   "source": [
    "r_params = list(q.r_params())\n",
    "r_params = list(itertools.chain(r_params, s.parameters()))\n",
    "\n",
    "s_params = list(q.s_params())\n",
    "\n",
    "r_optim = torch.optim.Adam(r_params)\n",
    "s_optim = torch.optim.Adam(s_params)"
   ]
  },
  {
   "cell_type": "code",
   "execution_count": 175,
   "metadata": {},
   "outputs": [
    {
     "name": "stdout",
     "output_type": "stream",
     "text": [
      "It: 0, elbo: 1818758.1 o_s: tensor(-1.1911e+08, grad_fn=<AddBackward0>)\n",
      "It: 100, elbo: 1431496.9 o_s: tensor(-80590976., grad_fn=<AddBackward0>)\n",
      "It: 200, elbo: 1095669.6 o_s: tensor(-46777340., grad_fn=<AddBackward0>)\n",
      "It: 300, elbo: 983636.75 o_s: tensor(-40528208., grad_fn=<AddBackward0>)\n",
      "It: 400, elbo: 820094.6 o_s: tensor(-29869176., grad_fn=<AddBackward0>)\n",
      "It: 500, elbo: 757128.44 o_s: tensor(-27296480., grad_fn=<AddBackward0>)\n",
      "It: 600, elbo: 647100.25 o_s: tensor(-21386922., grad_fn=<AddBackward0>)\n",
      "It: 700, elbo: 617778.6 o_s: tensor(-21764644., grad_fn=<AddBackward0>)\n",
      "It: 800, elbo: 515452.0 o_s: tensor(-9876226., grad_fn=<AddBackward0>)\n",
      "It: 900, elbo: 489863.28 o_s: tensor(-8724099., grad_fn=<AddBackward0>)\n",
      "It: 1000, elbo: 459557.44 o_s: tensor(-9936170., grad_fn=<AddBackward0>)\n",
      "It: 1100, elbo: 400800.62 o_s: tensor(-4872773., grad_fn=<AddBackward0>)\n",
      "It: 1200, elbo: 381097.34 o_s: tensor(-5319146., grad_fn=<AddBackward0>)\n",
      "It: 1300, elbo: 355642.0 o_s: tensor(-7969316.5000, grad_fn=<AddBackward0>)\n",
      "It: 1400, elbo: 319113.38 o_s: tensor(-246167., grad_fn=<AddBackward0>)\n",
      "It: 1500, elbo: 289725.28 o_s: tensor(2642724.5000, grad_fn=<AddBackward0>)\n",
      "It: 1600, elbo: 273660.75 o_s: tensor(3511700.7500, grad_fn=<AddBackward0>)\n",
      "It: 1700, elbo: 232895.52 o_s: tensor(5938587.5000, grad_fn=<AddBackward0>)\n",
      "It: 1800, elbo: 215349.83 o_s: tensor(1793592.7500, grad_fn=<AddBackward0>)\n",
      "It: 1900, elbo: 182498.48 o_s: tensor(3791306.5000, grad_fn=<AddBackward0>)\n",
      "It: 2000, elbo: 159786.55 o_s: tensor(3979250., grad_fn=<AddBackward0>)\n",
      "It: 2100, elbo: 138110.02 o_s: tensor(5344145.5000, grad_fn=<AddBackward0>)\n",
      "It: 2200, elbo: 119297.945 o_s: tensor(6212110.5000, grad_fn=<AddBackward0>)\n",
      "It: 2300, elbo: 89933.08 o_s: tensor(4176929., grad_fn=<AddBackward0>)\n",
      "It: 2400, elbo: 70816.46 o_s: tensor(2788564.5000, grad_fn=<AddBackward0>)\n",
      "It: 2500, elbo: 48199.95 o_s: tensor(2782039.5000, grad_fn=<AddBackward0>)\n",
      "It: 2600, elbo: 22557.518 o_s: tensor(1615930.8750, grad_fn=<AddBackward0>)\n",
      "It: 2700, elbo: -1010.54553 o_s: tensor(475381.1250, grad_fn=<AddBackward0>)\n",
      "It: 2800, elbo: -20615.822 o_s: tensor(-183743.5938, grad_fn=<AddBackward0>)\n",
      "It: 2900, elbo: -40812.285 o_s: tensor(-1972556., grad_fn=<AddBackward0>)\n",
      "It: 3000, elbo: -61756.297 o_s: tensor(-4434119., grad_fn=<AddBackward0>)\n",
      "It: 3100, elbo: -79572.03 o_s: tensor(-3255225.7500, grad_fn=<AddBackward0>)\n",
      "It: 3200, elbo: -97299.84 o_s: tensor(-4375040.5000, grad_fn=<AddBackward0>)\n",
      "It: 3300, elbo: -114117.91 o_s: tensor(-6285947.5000, grad_fn=<AddBackward0>)\n",
      "It: 3400, elbo: -129170.234 o_s: tensor(-7197248.5000, grad_fn=<AddBackward0>)\n",
      "It: 3500, elbo: -143224.11 o_s: tensor(-8079483., grad_fn=<AddBackward0>)\n",
      "It: 3600, elbo: -156770.95 o_s: tensor(-15414282., grad_fn=<AddBackward0>)\n",
      "It: 3700, elbo: -168505.62 o_s: tensor(-17264492., grad_fn=<AddBackward0>)\n",
      "It: 3800, elbo: -179621.25 o_s: tensor(-11429704., grad_fn=<AddBackward0>)\n",
      "It: 3900, elbo: -190104.86 o_s: tensor(-11684205., grad_fn=<AddBackward0>)\n"
     ]
    }
   ],
   "source": [
    "n_its = 4000\n",
    "update_int = 100\n",
    "\n",
    "for i in range(n_its):\n",
    "    # Don't need to calculate gradients for s_params yet\n",
    "    for s_p in s_params:\n",
    "        s_p.requires_grad = False\n",
    "    \n",
    "    # Sample q\n",
    "    smp_i = q.sample(neuron_props, neuron_props)\n",
    "    w_i = q.form_matrix(smp_i)\n",
    "    s_l_i = smp_i[0]\n",
    "    s_r_i = smp_i[1]\n",
    "    \n",
    "    # Calculate gradients we can use the reparamaterization trick for\n",
    "    r_optim.zero_grad()\n",
    "    nll = -1*torch.sum(s.cond_ll(x, y, w_i))\n",
    "    q_log_prob_l, q_log_prob_r = q.log_prob(neuron_props, neuron_props, smp_i[0], smp_i[1])\n",
    "    p_log_prob_l, p_log_prob_r = p.log_prob(neuron_props, neuron_props, smp_i[0], smp_i[1])\n",
    "    kl_l = q_log_prob_l - p_log_prob_l\n",
    "    kl_r = q_log_prob_r - p_log_prob_r\n",
    "    \n",
    "    elbo = nll #+ torch.sum(kl_l) + torch.sum(kl_r)\n",
    "    elbo.backward(retain_graph=True)\n",
    "    \n",
    "    # Set things up to calculate gradients for parameters we need score function for\n",
    "    for s_p in s_params:\n",
    "        s_p.requires_grad = True\n",
    "    for r_p in r_params:\n",
    "        r_p.requires_grad = False\n",
    "        \n",
    "    with torch.no_grad():\n",
    "        ls_l = nll + kl_l\n",
    "        ls_r = nll + kl_r\n",
    "        \n",
    "    s_optim.zero_grad()\n",
    "    o_s = 0\n",
    "    for m_i in range(n_modes):\n",
    "        o_s += torch.sum(ls_l[:,m_i]*q.l_mode_dists[m_i].log_prob(neuron_props, s_l_i[m_i]))\n",
    "        o_s += torch.sum(ls_r[:,m_i]*q.r_mode_dists[m_i].log_prob(neuron_props, s_r_i[m_i]))\n",
    "\n",
    "    o_s.backward()\n",
    "        \n",
    "    for r_p in r_params:\n",
    "        r_p.requires_grad = True   \n",
    "    \n",
    "    # Actually update parameters here\n",
    "    r_optim.step()\n",
    "    #s_optim.step()\n",
    "    \n",
    "    # Enforce constraints\n",
    "    enforce_constraints()\n",
    "    \n",
    "    # Update parameters \n",
    "    if i % update_int == 0:\n",
    "        elbo_r = elbo.detach().numpy()\n",
    "        o_s_r = o_s.detach().numpy()\n",
    "        print('It: ' + str(i) + ', elbo: ' + str(elbo_r) + ' o_s: ' + str(o_s))\n",
    "    "
   ]
  },
  {
   "cell_type": "code",
   "execution_count": 176,
   "metadata": {},
   "outputs": [
    {
     "data": {
      "image/png": "[encoded data removed]",
      "text/plain": [
       "<Figure size 432x288 with 4 Axes>"
      ]
     },
     "metadata": {
      "needs_background": "light"
     },
     "output_type": "display_data"
    }
   ],
   "source": [
    "visualize_low_rank_matrix_modes(p)"
   ]
  },
  {
   "cell_type": "code",
   "execution_count": 177,
   "metadata": {},
   "outputs": [
    {
     "data": {
      "image/png": "[encoded data removed]",
      "text/plain": [
       "<Figure size 432x288 with 4 Axes>"
      ]
     },
     "metadata": {
      "needs_background": "light"
     },
     "output_type": "display_data"
    }
   ],
   "source": [
    "visualize_low_rank_matrix_modes(q)"
   ]
  },
  {
   "cell_type": "code",
   "execution_count": 178,
   "metadata": {},
   "outputs": [
    {
     "data": {
      "text/plain": [
       "[<matplotlib.axes._subplots.AxesSubplot at 0x12db21b70>,\n",
       " <matplotlib.axes._subplots.AxesSubplot at 0x12c094f28>,\n",
       " <matplotlib.axes._subplots.AxesSubplot at 0x12e392cf8>]"
      ]
     },
     "execution_count": 178,
     "metadata": {},
     "output_type": "execute_result"
    },
    {
     "data": {
      "image/png": "[encoded data removed]",
      "text/plain": [
       "<Figure size 432x288 with 6 Axes>"
      ]
     },
     "metadata": {
      "needs_background": "light"
     },
     "output_type": "display_data"
    }
   ],
   "source": [
    "w_i_n = w_i.detach().numpy()\n",
    "cmp_n_mats([w_n, w_i_n, np.abs(w_n - w_i_n)], show_colorbars=True)"
   ]
  },
  {
   "cell_type": "code",
   "execution_count": 179,
   "metadata": {},
   "outputs": [],
   "source": [
    "smp_i = q.sample(neuron_props, neuron_props)\n",
    "w_i = q.form_matrix(smp_i)"
   ]
  },
  {
   "cell_type": "code",
   "execution_count": null,
   "metadata": {},
   "outputs": [],
   "source": [
    "s.std(neuron_props)"
   ]
  },
  {
   "cell_type": "code",
   "execution_count": null,
   "metadata": {},
   "outputs": [],
   "source": [
    "q.l_mode_dists[0].slab_d.std_f(neuron_props)"
   ]
  },
  {
   "cell_type": "code",
   "execution_count": null,
   "metadata": {},
   "outputs": [],
   "source": []
  }
 ],
 "metadata": {
  "kernelspec": {
   "display_name": "Python 3",
   "language": "python",
   "name": "python3"
  },
  "language_info": {
   "codemirror_mode": {
    "name": "ipython",
    "version": 3
   },
   "file_extension": ".py",
   "mimetype": "text/x-python",
   "name": "python",
   "nbconvert_exporter": "python",
   "pygments_lexer": "ipython3",
   "version": "3.7.2"
  }
 },
 "nbformat": 4,
 "nbformat_minor": 2
}
