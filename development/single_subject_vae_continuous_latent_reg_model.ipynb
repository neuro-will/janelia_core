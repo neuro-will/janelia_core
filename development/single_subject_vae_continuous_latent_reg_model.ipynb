{
 "cells": [
  {
   "cell_type": "markdown",
   "metadata": {},
   "source": [
    "Here we develop code to fit latent regression models to data with priors on the projection matrices"
   ]
  },
  {
   "cell_type": "code",
   "execution_count": 1,
   "metadata": {},
   "outputs": [],
   "source": [
    "%load_ext autoreload\n",
    "%autoreload 2"
   ]
  },
  {
   "cell_type": "code",
   "execution_count": 2,
   "metadata": {},
   "outputs": [],
   "source": [
    "import matplotlib.pyplot as plt\n",
    "import numpy as np\n",
    "import torch\n",
    "\n",
    "from janelia_core.ml.extra_torch_modules import Bias\n",
    "from janelia_core.ml.extra_torch_modules import ConstantBoundedFcn\n",
    "from janelia_core.ml.extra_torch_modules import IndSmpConstantBoundedFcn\n",
    "from janelia_core.ml.extra_torch_modules import IndSmpConstantRealFcn\n",
    "from janelia_core.ml.extra_torch_modules import LogGaussianBumpFcn\n",
    "from janelia_core.ml.extra_torch_modules import SumOfTiledHyperCubeBasisFcns\n",
    "\n",
    "from janelia_core.ml.latent_regression import GroupMatrixMultiply\n",
    "from janelia_core.ml.latent_regression import GroupScalarTransform\n",
    "from janelia_core.ml.latent_regression import LatentRegModel\n",
    "from janelia_core.ml.latent_regression import LinearMap\n",
    "from janelia_core.ml.latent_regression import IdentityMap\n",
    "from janelia_core.ml.latent_regression import vae_fit_latent_reg_model\n",
    "\n",
    "from janelia_core.ml.torch_distributions import CondBernoulliDistribution\n",
    "from janelia_core.ml.torch_distributions import CondGaussianDistribution\n",
    "from janelia_core.ml.torch_distributions import CondSpikeSlabDistribution\n",
    "\n",
    "from janelia_core.visualization.matrix_visualization import cmp_n_mats"
   ]
  },
  {
   "cell_type": "markdown",
   "metadata": {},
   "source": [
    "## Parameters go here"
   ]
  },
  {
   "cell_type": "code",
   "execution_count": 3,
   "metadata": {},
   "outputs": [],
   "source": [
    "n_neurons = [1000]\n",
    "\n",
    "d_in = n_neurons\n",
    "d_out = n_neurons\n",
    "\n",
    "d_proj = [2]\n",
    "d_trans = [2]\n",
    "\n",
    "n_smps = 1000\n",
    "\n",
    "device = 'cpu' # Device to perform fitting on"
   ]
  },
  {
   "cell_type": "markdown",
   "metadata": {},
   "source": [
    "## Helper functions for visualization"
   ]
  },
  {
   "cell_type": "code",
   "execution_count": 4,
   "metadata": {},
   "outputs": [],
   "source": [
    "def visualize_mode_mean(d, x_range = [0.0, 1.0], y_range = [0.0, 1.0], n_points_per_side=100):\n",
    "\n",
    "    orig_device = next(d.parameters()).device\n",
    "    \n",
    "    d = d.to('cpu') # Make a copy of model on cpu\n",
    "    \n",
    "    grid = np.mgrid[x_range[0]:x_range[1]:n_points_per_side * 1j,\n",
    "           y_range[0]:y_range[1]:n_points_per_side * 1j]\n",
    "\n",
    "    grid_vec = np.stack([np.ravel(grid[0, :, :]), np.ravel(grid[1, :, :])]).transpose()\n",
    "    grid_vec = torch.from_numpy(grid_vec.astype('float32'))\n",
    "\n",
    "    mn_vec = d(grid_vec).detach().numpy()\n",
    "    mn_image = np.reshape(mn_vec, [n_points_per_side, n_points_per_side])\n",
    "    \n",
    "    plt.imshow(mn_image, extent=[x_range[0], x_range[1], y_range[0], y_range[1]], origin='lower')\n",
    "    plt.colorbar()\n",
    "    \n",
    "    d = d.to(orig_device)\n",
    "\n",
    "def visualize_mode_pairs(d1, d2, x_range = [0.0, 1.0], y_range = [0.0, 1.0], n_points_per_side=100):\n",
    "      \n",
    "    n_modes = len(d1)    \n",
    "    \n",
    "    plt.figure()\n",
    "    \n",
    "    for m_i in range(n_modes):\n",
    "            \n",
    "        # Plot d1 modes in top row\n",
    "        plt.subplot(2, n_modes, m_i+1)\n",
    "        visualize_mode_mean(d1[m_i], x_range=x_range, y_range=y_range, n_points_per_side=n_points_per_side)\n",
    "        \n",
    "        # Plot d2 modes in second row\n",
    "        plt.subplot(2, n_modes, m_i+1 + n_modes)\n",
    "        visualize_mode_mean(d2[m_i], x_range=x_range, y_range=y_range, n_points_per_side=n_points_per_side)"
   ]
  },
  {
   "cell_type": "markdown",
   "metadata": {},
   "source": [
    "## Define the true conditional priors on mode weights"
   ]
  },
  {
   "cell_type": "code",
   "execution_count": 5,
   "metadata": {},
   "outputs": [],
   "source": [
    "n_grps = len(n_neurons)"
   ]
  },
  {
   "cell_type": "code",
   "execution_count": 6,
   "metadata": {},
   "outputs": [],
   "source": [
    "# Spike and slab modes\n",
    "\n",
    "n_prior_nodes = 20\n",
    "\n",
    "true_prior_p_dists = [None]*n_grps\n",
    "true_prior_u_dists = [None]*n_grps\n",
    "\n",
    "for g in range(n_grps):\n",
    "\n",
    "    n_grp_modes = [d_proj[g], d_trans[g]]\n",
    "    for i in range(2):\n",
    "        # Iterate over p and u modes\n",
    "        n_cur_modes = n_grp_modes[i]\n",
    "        proj_mode_dists = [None]*n_cur_modes\n",
    "        for mode_i in range(n_cur_modes):\n",
    "            \n",
    "            spike_log_prob_fcn = LogGaussianBumpFcn(d_x=2, ctr_std_init=0.25, log_gain_init=-0.00001)\n",
    "            spike_d = CondBernoulliDistribution(spike_log_prob_fcn)\n",
    "            \n",
    "            slab_mn_fcn = torch.nn.Sequential(torch.nn.Linear(2,n_prior_nodes), torch.nn.ReLU(), \n",
    "                                              torch.nn.Linear(n_prior_nodes, n_prior_nodes), torch.nn.ReLU(), \n",
    "                                              torch.nn.Linear(n_prior_nodes,1))\n",
    "            slab_mn_fcn[4].weight.data = 10*slab_mn_fcn[4].weight.data\n",
    "            \n",
    "            slab_std_fcn = ConstantBoundedFcn(lower_bound=np.asarray([.001]), upper_bound=np.asarray([10]), \n",
    "                                        init_value=np.asarray(.01))\n",
    "            \n",
    "            slab_d = CondGaussianDistribution(mn_f=slab_mn_fcn, std_f=slab_std_fcn)\n",
    "     \n",
    "            proj_mode_dists[mode_i] = CondSpikeSlabDistribution(d=1, spike_d=spike_d, slab_d=slab_d)\n",
    "        \n",
    "        if i == 0:\n",
    "            true_prior_p_dists[g] = proj_mode_dists\n",
    "        else:\n",
    "            true_prior_u_dists[g] = proj_mode_dists"
   ]
  },
  {
   "cell_type": "code",
   "execution_count": 7,
   "metadata": {},
   "outputs": [],
   "source": [
    "# Group the true priors by group (so that distributions for p and u modes are together) for convenience\n",
    "true_prior_mode_dists = list(zip(true_prior_p_dists, true_prior_u_dists))"
   ]
  },
  {
   "cell_type": "markdown",
   "metadata": {},
   "source": [
    "## Visualize the means of the true distributions on weights"
   ]
  },
  {
   "cell_type": "code",
   "execution_count": 8,
   "metadata": {},
   "outputs": [
    {
     "data": {
      "image/png": "[encoded data removed]",
      "text/plain": [
       "<Figure size 432x288 with 8 Axes>"
      ]
     },
     "metadata": {
      "needs_background": "light"
     },
     "output_type": "display_data"
    }
   ],
   "source": [
    "for g in range(n_grps):\n",
    "        visualize_mode_pairs(true_prior_p_dists[g], true_prior_u_dists[g])"
   ]
  },
  {
   "cell_type": "markdown",
   "metadata": {},
   "source": [
    "## Generate neuron properties"
   ]
  },
  {
   "cell_type": "code",
   "execution_count": 9,
   "metadata": {},
   "outputs": [],
   "source": [
    "neuron_props = [torch.zeros(n_neurons[g], 2).uniform_() for g in range(n_grps)]"
   ]
  },
  {
   "cell_type": "markdown",
   "metadata": {},
   "source": [
    "## Generate true mode weights from the prior that was just defined "
   ]
  },
  {
   "cell_type": "code",
   "execution_count": 10,
   "metadata": {},
   "outputs": [],
   "source": [
    "true_p = [None]*n_grps\n",
    "true_u = [None]*n_grps\n",
    "\n",
    "for g in range(n_grps):\n",
    "    n_grp_neurons = n_neurons[g]\n",
    "    n_grp_modes = [d_proj[g], d_trans[g]]\n",
    "    \n",
    "    for i in range(2):\n",
    "        n_cur_modes = n_grp_modes[i]\n",
    "        mode_mat = torch.zeros(n_grp_neurons, n_cur_modes)\n",
    "        for mode_i in range(n_cur_modes):\n",
    "            mode_mat[:, mode_i] = true_prior_mode_dists[g][i][mode_i].form_standard_sample(\n",
    "                true_prior_mode_dists[g][i][mode_i].sample(neuron_props[g])).squeeze()\n",
    "        if i == 0:\n",
    "            # P modes\n",
    "            true_p[g] = mode_mat\n",
    "        else:\n",
    "            # U modes\n",
    "            true_u[g] = mode_mat"
   ]
  },
  {
   "cell_type": "markdown",
   "metadata": {},
   "source": [
    "# Define the true subject model"
   ]
  },
  {
   "cell_type": "code",
   "execution_count": 11,
   "metadata": {},
   "outputs": [],
   "source": [
    "n_output_groups = len(d_in)\n",
    "\n",
    "M = IdentityMap()\n",
    "S = [Bias(d_o) for d_o in d_out]\n",
    "mdl = LatentRegModel(d_in, d_out, d_proj, d_trans, M, S, direct_pairs=None, noise_range=[.25, .255])\n",
    "\n",
    "for g, p_g in enumerate(mdl.p):\n",
    "    p_g.data = true_p[g]\n",
    "for h, u_h in enumerate(mdl.u):\n",
    "    u_h.data = true_u[h]"
   ]
  },
  {
   "cell_type": "markdown",
   "metadata": {},
   "source": [
    "## Generate data"
   ]
  },
  {
   "cell_type": "code",
   "execution_count": 12,
   "metadata": {},
   "outputs": [],
   "source": [
    "x = [torch.randn([n_smps, d]) for d in d_in]\n",
    "y = mdl.generate(x)"
   ]
  },
  {
   "cell_type": "markdown",
   "metadata": {},
   "source": [
    "## Define the subject model we will fit"
   ]
  },
  {
   "cell_type": "code",
   "execution_count": 32,
   "metadata": {},
   "outputs": [],
   "source": [
    "m_f = IdentityMap() \n",
    "#m_f = GroupScalarTransform(d=d_proj)\n",
    "#m_f = GroupMatrixMultiply(d_in=d_proj, d_out=d_trans)\n",
    "s_f = [Bias(d_o) for d_o in d_out]\n",
    "subject_mdl_f = LatentRegModel(d_in, d_out, d_proj, d_trans, m_f, s_f, direct_pairs=None, assign_p_u=False)\n",
    "subject_mdl_f = subject_mdl_f.to(device)"
   ]
  },
  {
   "cell_type": "markdown",
   "metadata": {},
   "source": [
    "## Define the inference distribution (  $Q(l, r)$  ) that we will use"
   ]
  },
  {
   "cell_type": "code",
   "execution_count": 33,
   "metadata": {},
   "outputs": [],
   "source": [
    "q_p_mode_dists = [None]*n_grps\n",
    "q_u_mode_dists = [None]*n_grps\n",
    "\n",
    "for g in range(n_grps):\n",
    "    n_grp_neurons = n_neurons[g]\n",
    "    for i in range(2):\n",
    "        if i == 0:\n",
    "            n_grp_modes = d_proj[g]\n",
    "        else:\n",
    "            n_grp_modes = d_trans[g]\n",
    "    \n",
    "        q_dists = [None]*n_grp_modes\n",
    "        \n",
    "        for mode_i in range(n_grp_modes):\n",
    "            mn_f = IndSmpConstantRealFcn(n_grp_neurons, init_value=.01)\n",
    "            std_f = IndSmpConstantBoundedFcn(n_grp_neurons, lower_bound=.0001, upper_bound=10.0, init_value=.2)\n",
    "            q_dists[mode_i] = CondGaussianDistribution(mn_f=mn_f, std_f=std_f)\n",
    "            q_dists[mode_i] = q_dists[mode_i].to(device)\n",
    "        \n",
    "        if i == 0:\n",
    "            q_p_mode_dists[g] = q_dists\n",
    "        else:\n",
    "            q_u_mode_dists[g] = q_dists"
   ]
  },
  {
   "cell_type": "markdown",
   "metadata": {},
   "source": [
    "## Define the conditional prior distribution (  $P(l,r|m)$  ) we will fit"
   ]
  },
  {
   "cell_type": "code",
   "execution_count": 34,
   "metadata": {},
   "outputs": [],
   "source": [
    "class ExpModule(torch.nn.Module):\n",
    "    def forward(self, x):\n",
    "        return torch.exp(x) + .01"
   ]
  },
  {
   "cell_type": "code",
   "execution_count": 35,
   "metadata": {},
   "outputs": [],
   "source": [
    "n_fit_prior_nodes = 20\n",
    "n_fit_std_prior_nodes = 20\n",
    "\n",
    "prior_p_dists = [None]*n_grps\n",
    "prior_u_dists = [None]*n_grps\n",
    "\n",
    "for g in range(n_grps):\n",
    "    n_grp_neurons = n_neurons[g]\n",
    "    for i in range(2):\n",
    "        if i == 0:\n",
    "            n_grp_modes = d_proj[g]\n",
    "        else:\n",
    "            n_grp_modes = d_trans[g]\n",
    "            \n",
    "        prior_dists = [None]*n_grp_modes\n",
    "        \n",
    "        for mode_i in range(n_grp_modes):\n",
    "            #mn_fcn = torch.nn.Sequential(torch.nn.Linear(2,n_fit_prior_nodes), torch.nn.ReLU(), \n",
    "             #                                 torch.nn.Linear(n_fit_prior_nodes, n_fit_prior_nodes), torch.nn.ReLU(), \n",
    "             #                                 torch.nn.Linear(n_fit_prior_nodes,1))\n",
    "            #mn_fcn[4].weight.data = 50*mn_fcn[4].weight.data\n",
    "            \n",
    "            #std_fcn = torch.nn.Sequential(torch.nn.Linear(2,n_fit_std_prior_nodes), torch.nn.ReLU(), \n",
    "            #                                  torch.nn.Linear(n_fit_std_prior_nodes, n_fit_std_prior_nodes), torch.nn.ReLU(), \n",
    "             #                                 torch.nn.Linear(n_fit_std_prior_nodes,1), ExpModule())\n",
    "            \n",
    "            n_bumps_per_dim = [20, 20]\n",
    "            dim_ranges = np.asarray([[0, 1.0], [0, 1.0]])\n",
    "            bump_widths = [.05, .05]\n",
    "            mn_fcn = SumOfTiledHyperCubeBasisFcns(n_bumps_per_dim, dim_ranges, bump_widths)\n",
    "            \n",
    "            std_fcn = ConstantBoundedFcn(lower_bound=np.asarray([.001]), upper_bound=np.asarray([10]), \n",
    "                                        init_value=np.asarray(.01))\n",
    "            \n",
    "            prior_dists[mode_i] = CondGaussianDistribution(mn_f=mn_fcn, std_f=std_fcn)\n",
    "            prior_dists[mode_i] = prior_dists[mode_i].to(device)\n",
    "        \n",
    "        if i == 0:\n",
    "            prior_p_dists[g] = prior_dists\n",
    "        else:\n",
    "            prior_u_dists[g] = prior_dists"
   ]
  },
  {
   "cell_type": "markdown",
   "metadata": {},
   "source": [
    "## Send data to device (if it is small enough)"
   ]
  },
  {
   "cell_type": "code",
   "execution_count": 36,
   "metadata": {},
   "outputs": [],
   "source": [
    "if n_smps <= 1000:\n",
    "    x = [x_g.to(device) for x_g in x]\n",
    "    y = [y_h.to(device) for y_h in y]"
   ]
  },
  {
   "cell_type": "markdown",
   "metadata": {},
   "source": [
    "## Fit everything with variational inference"
   ]
  },
  {
   "cell_type": "code",
   "execution_count": 45,
   "metadata": {},
   "outputs": [
    {
     "name": "stdout",
     "output_type": "stream",
     "text": [
      "It: 0: Elapsed fitting time 1.3828277587890625e-05, elbo: -12022700.1875, lr: 0.01, GPU mem. usage: nan bytes\n",
      "    ll: -728154.5625, kl_p_sum: 10979989.0, kl_u_sum: 314556.625\n",
      "It: 10: Elapsed fitting time 3.9448647499084473, elbo: -7105668.8046875, lr: 0.01, GPU mem. usage: nan bytes\n",
      "    ll: -798786.625, kl_p_sum: 6149074.0, kl_u_sum: 157808.1796875\n",
      "It: 20: Elapsed fitting time 7.581600666046143, elbo: -4570321.51953125, lr: 0.01, GPU mem. usage: nan bytes\n",
      "    ll: -804204.0625, kl_p_sum: 3665519.625, kl_u_sum: 100597.83203125\n",
      "It: 30: Elapsed fitting time 11.27695083618164, elbo: -3269996.27734375, lr: 0.01, GPU mem. usage: nan bytes\n",
      "    ll: -804482.125, kl_p_sum: 2390713.375, kl_u_sum: 74800.77734375\n",
      "It: 40: Elapsed fitting time 14.91550588607788, elbo: -2562010.73046875, lr: 0.01, GPU mem. usage: nan bytes\n",
      "    ll: -802633.625, kl_p_sum: 1698559.625, kl_u_sum: 60817.48046875\n",
      "It: 50: Elapsed fitting time 18.687971830368042, elbo: -2142406.66015625, lr: 0.01, GPU mem. usage: nan bytes\n",
      "    ll: -797638.5625, kl_p_sum: 1292606.5, kl_u_sum: 52161.59765625\n",
      "It: 60: Elapsed fitting time 22.46742296218872, elbo: -1871507.41015625, lr: 0.01, GPU mem. usage: nan bytes\n",
      "    ll: -790921.0, kl_p_sum: 1034419.28125, kl_u_sum: 46167.12890625\n",
      "It: 70: Elapsed fitting time 26.131563663482666, elbo: -1683129.388671875, lr: 0.01, GPU mem. usage: nan bytes\n",
      "    ll: -783774.375, kl_p_sum: 857750.21875, kl_u_sum: 41604.794921875\n",
      "It: 80: Elapsed fitting time 29.934544801712036, elbo: -1543967.205078125, lr: 0.01, GPU mem. usage: nan bytes\n",
      "    ll: -776673.875, kl_p_sum: 729361.96875, kl_u_sum: 37931.361328125\n",
      "It: 90: Elapsed fitting time 33.713119983673096, elbo: -1436681.84765625, lr: 0.01, GPU mem. usage: nan bytes\n",
      "    ll: -770055.6875, kl_p_sum: 631838.6875, kl_u_sum: 34787.47265625\n",
      "It: 100: Elapsed fitting time 37.366737842559814, elbo: -1351335.5712890625, lr: 0.01, GPU mem. usage: nan bytes\n",
      "    ll: -764339.125, kl_p_sum: 554922.84375, kl_u_sum: 32073.6025390625\n",
      "It: 110: Elapsed fitting time 41.209733963012695, elbo: -1281912.8984375, lr: 0.01, GPU mem. usage: nan bytes\n",
      "    ll: -759556.3125, kl_p_sum: 492674.671875, kl_u_sum: 29681.9140625\n",
      "It: 120: Elapsed fitting time 44.95864391326904, elbo: -1224575.86328125, lr: 0.01, GPU mem. usage: nan bytes\n",
      "    ll: -755886.125, kl_p_sum: 441151.828125, kl_u_sum: 27537.91015625\n",
      "It: 130: Elapsed fitting time 48.66968297958374, elbo: -1176327.0810546875, lr: 0.01, GPU mem. usage: nan bytes\n",
      "    ll: -752780.9375, kl_p_sum: 397981.03125, kl_u_sum: 25565.1123046875\n",
      "It: 140: Elapsed fitting time 52.39913201332092, elbo: -1135592.181640625, lr: 0.01, GPU mem. usage: nan bytes\n",
      "    ll: -750721.0, kl_p_sum: 361155.421875, kl_u_sum: 23715.759765625\n",
      "It: 150: Elapsed fitting time 56.182029724121094, elbo: -1100861.94140625, lr: 0.01, GPU mem. usage: nan bytes\n",
      "    ll: -749067.375, kl_p_sum: 329675.609375, kl_u_sum: 22118.95703125\n",
      "It: 160: Elapsed fitting time 59.924333810806274, elbo: -1070777.9482421875, lr: 0.01, GPU mem. usage: nan bytes\n",
      "    ll: -747887.0625, kl_p_sum: 302277.59375, kl_u_sum: 20613.2919921875\n",
      "It: 170: Elapsed fitting time 63.544965982437134, elbo: -1044831.9697265625, lr: 0.01, GPU mem. usage: nan bytes\n",
      "    ll: -746934.125, kl_p_sum: 278460.046875, kl_u_sum: 19437.7978515625\n",
      "It: 180: Elapsed fitting time 67.18325591087341, elbo: -1022510.2880859375, lr: 0.01, GPU mem. usage: nan bytes\n",
      "    ll: -746636.125, kl_p_sum: 257543.453125, kl_u_sum: 18330.7099609375\n",
      "It: 190: Elapsed fitting time 70.87866711616516, elbo: -1003044.521484375, lr: 0.01, GPU mem. usage: nan bytes\n",
      "    ll: -746393.25, kl_p_sum: 239167.1484375, kl_u_sum: 17484.123046875\n",
      "It: 200: Elapsed fitting time 74.5298388004303, elbo: -985516.6689453125, lr: 0.01, GPU mem. usage: nan bytes\n",
      "    ll: -745838.5, kl_p_sum: 222967.125, kl_u_sum: 16711.0439453125\n",
      "It: 210: Elapsed fitting time 78.19574308395386, elbo: -968704.30078125, lr: 0.01, GPU mem. usage: nan bytes\n",
      "    ll: -744395.25, kl_p_sum: 208202.3203125, kl_u_sum: 16106.73046875\n",
      "It: 220: Elapsed fitting time 81.86918997764587, elbo: -954880.7895507812, lr: 0.01, GPU mem. usage: nan bytes\n",
      "    ll: -744207.75, kl_p_sum: 195155.1328125, kl_u_sum: 15517.90673828125\n",
      "It: 230: Elapsed fitting time 85.62280893325806, elbo: -942235.4545898438, lr: 0.01, GPU mem. usage: nan bytes\n",
      "    ll: -743770.25, kl_p_sum: 183422.703125, kl_u_sum: 15042.50146484375\n",
      "It: 240: Elapsed fitting time 89.29357385635376, elbo: -930113.5590820312, lr: 0.01, GPU mem. usage: nan bytes\n",
      "    ll: -742623.25, kl_p_sum: 172812.0, kl_u_sum: 14678.30908203125\n",
      "It: 250: Elapsed fitting time 92.9322578907013, elbo: -919697.23828125, lr: 0.01, GPU mem. usage: nan bytes\n",
      "    ll: -742302.75, kl_p_sum: 163167.796875, kl_u_sum: 14226.69140625\n",
      "It: 260: Elapsed fitting time 96.58669185638428, elbo: -909838.1118164062, lr: 0.01, GPU mem. usage: nan bytes\n",
      "    ll: -741607.1875, kl_p_sum: 154303.8515625, kl_u_sum: 13927.07275390625\n",
      "It: 270: Elapsed fitting time 100.40444087982178, elbo: -901070.5068359375, lr: 0.01, GPU mem. usage: nan bytes\n",
      "    ll: -741083.5625, kl_p_sum: 146410.640625, kl_u_sum: 13576.3037109375\n",
      "It: 280: Elapsed fitting time 104.15731382369995, elbo: -893263.2182617188, lr: 0.01, GPU mem. usage: nan bytes\n",
      "    ll: -740833.5625, kl_p_sum: 139088.2109375, kl_u_sum: 13341.44482421875\n",
      "It: 290: Elapsed fitting time 107.7818329334259, elbo: -885408.1206054688, lr: 0.01, GPU mem. usage: nan bytes\n",
      "    ll: -740099.75, kl_p_sum: 132280.8125, kl_u_sum: 13027.55810546875\n",
      "It: 300: Elapsed fitting time 111.43821287155151, elbo: -878333.8071289062, lr: 0.01, GPU mem. usage: nan bytes\n",
      "    ll: -739400.875, kl_p_sum: 126149.0234375, kl_u_sum: 12783.90869140625\n",
      "It: 310: Elapsed fitting time 115.10219287872314, elbo: -872227.2485351562, lr: 0.01, GPU mem. usage: nan bytes\n",
      "    ll: -739346.25, kl_p_sum: 120342.734375, kl_u_sum: 12538.26416015625\n",
      "It: 320: Elapsed fitting time 118.91903805732727, elbo: -866059.0087890625, lr: 0.01, GPU mem. usage: nan bytes\n",
      "    ll: -738713.625, kl_p_sum: 115079.65234375, kl_u_sum: 12265.7314453125\n",
      "It: 330: Elapsed fitting time 122.64836382865906, elbo: -861227.2001953125, lr: 0.01, GPU mem. usage: nan bytes\n",
      "    ll: -738921.0625, kl_p_sum: 110171.93359375, kl_u_sum: 12134.2041015625\n",
      "It: 340: Elapsed fitting time 126.24608373641968, elbo: -855860.3486328125, lr: 0.01, GPU mem. usage: nan bytes\n",
      "    ll: -738316.0, kl_p_sum: 105579.4296875, kl_u_sum: 11964.9189453125\n",
      "It: 350: Elapsed fitting time 130.05610394477844, elbo: -851138.5698242188, lr: 0.01, GPU mem. usage: nan bytes\n",
      "    ll: -738066.5, kl_p_sum: 101287.28125, kl_u_sum: 11784.78857421875\n",
      "It: 360: Elapsed fitting time 134.1772038936615, elbo: -846807.9321289062, lr: 0.01, GPU mem. usage: nan bytes\n",
      "    ll: -737823.125, kl_p_sum: 97332.46484375, kl_u_sum: 11652.34228515625\n",
      "It: 370: Elapsed fitting time 138.33865976333618, elbo: -842450.3793945312, lr: 0.01, GPU mem. usage: nan bytes\n",
      "    ll: -737308.625, kl_p_sum: 93639.53515625, kl_u_sum: 11502.21923828125\n",
      "It: 380: Elapsed fitting time 142.06718683242798, elbo: -838826.1831054688, lr: 0.01, GPU mem. usage: nan bytes\n",
      "    ll: -737304.0625, kl_p_sum: 90147.19921875, kl_u_sum: 11374.92138671875\n",
      "It: 390: Elapsed fitting time 145.72050285339355, elbo: -834985.5561523438, lr: 0.01, GPU mem. usage: nan bytes\n",
      "    ll: -736779.5625, kl_p_sum: 86889.625, kl_u_sum: 11316.36865234375\n",
      "It: 400: Elapsed fitting time 149.41121888160706, elbo: -832166.9033203125, lr: 0.01, GPU mem. usage: nan bytes\n",
      "    ll: -737203.125, kl_p_sum: 83868.73828125, kl_u_sum: 11095.0400390625\n",
      "It: 410: Elapsed fitting time 153.26057767868042, elbo: -828761.6923828125, lr: 0.01, GPU mem. usage: nan bytes\n",
      "    ll: -736844.625, kl_p_sum: 80955.3671875, kl_u_sum: 10961.7001953125\n",
      "It: 420: Elapsed fitting time 157.05234575271606, elbo: -825641.1215820312, lr: 0.01, GPU mem. usage: nan bytes\n",
      "    ll: -736513.8125, kl_p_sum: 78237.625, kl_u_sum: 10889.68408203125\n",
      "It: 430: Elapsed fitting time 161.17503595352173, elbo: -822824.7475585938, lr: 0.01, GPU mem. usage: nan bytes\n",
      "    ll: -736488.125, kl_p_sum: 75591.390625, kl_u_sum: 10745.23193359375\n",
      "It: 440: Elapsed fitting time 164.91677284240723, elbo: -820754.3090820312, lr: 0.01, GPU mem. usage: nan bytes\n",
      "    ll: -736776.625, kl_p_sum: 73254.12109375, kl_u_sum: 10723.56298828125\n"
     ]
    },
    {
     "name": "stdout",
     "output_type": "stream",
     "text": [
      "It: 450: Elapsed fitting time 168.9115698337555, elbo: -817364.0649414062, lr: 0.01, GPU mem. usage: nan bytes\n",
      "    ll: -735790.0625, kl_p_sum: 70929.703125, kl_u_sum: 10644.29931640625\n",
      "It: 460: Elapsed fitting time 172.81597185134888, elbo: -815381.0385742188, lr: 0.01, GPU mem. usage: nan bytes\n",
      "    ll: -736063.625, kl_p_sum: 68769.9296875, kl_u_sum: 10547.48388671875\n",
      "It: 470: Elapsed fitting time 176.67614698410034, elbo: -813191.4643554688, lr: 0.01, GPU mem. usage: nan bytes\n",
      "    ll: -736072.375, kl_p_sum: 66674.98828125, kl_u_sum: 10444.10107421875\n",
      "It: 480: Elapsed fitting time 180.39615082740784, elbo: -810979.5083007812, lr: 0.01, GPU mem. usage: nan bytes\n",
      "    ll: -735917.25, kl_p_sum: 64737.0546875, kl_u_sum: 10325.20361328125\n",
      "It: 490: Elapsed fitting time 184.244863986969, elbo: -809147.7578125, lr: 0.01, GPU mem. usage: nan bytes\n",
      "    ll: -735951.25, kl_p_sum: 62880.107421875, kl_u_sum: 10316.400390625\n",
      "It: 500: Elapsed fitting time 188.02555298805237, elbo: -807576.4858398438, lr: 0.01, GPU mem. usage: nan bytes\n",
      "    ll: -736123.5625, kl_p_sum: 61134.681640625, kl_u_sum: 10318.24169921875\n",
      "It: 510: Elapsed fitting time 191.84455680847168, elbo: -805245.6669921875, lr: 0.01, GPU mem. usage: nan bytes\n",
      "    ll: -735653.0, kl_p_sum: 59430.328125, kl_u_sum: 10162.3388671875\n",
      "It: 520: Elapsed fitting time 195.58770489692688, elbo: -803750.5170898438, lr: 0.01, GPU mem. usage: nan bytes\n",
      "    ll: -735667.0, kl_p_sum: 57925.025390625, kl_u_sum: 10158.49169921875\n",
      "It: 530: Elapsed fitting time 199.2228491306305, elbo: -801381.0610351562, lr: 0.01, GPU mem. usage: nan bytes\n",
      "    ll: -734925.5, kl_p_sum: 56394.818359375, kl_u_sum: 10060.74267578125\n",
      "It: 540: Elapsed fitting time 202.8878939151764, elbo: -800235.9233398438, lr: 0.01, GPU mem. usage: nan bytes\n",
      "    ll: -735295.375, kl_p_sum: 54921.33203125, kl_u_sum: 10019.21630859375\n",
      "It: 550: Elapsed fitting time 206.56425786018372, elbo: -798770.1240234375, lr: 0.01, GPU mem. usage: nan bytes\n",
      "    ll: -735266.0, kl_p_sum: 53553.14453125, kl_u_sum: 9950.9794921875\n",
      "It: 560: Elapsed fitting time 210.20371794700623, elbo: -797698.642578125, lr: 0.01, GPU mem. usage: nan bytes\n",
      "    ll: -735456.3125, kl_p_sum: 52293.12109375, kl_u_sum: 9949.208984375\n",
      "It: 570: Elapsed fitting time 213.8444061279297, elbo: -795689.435546875, lr: 0.01, GPU mem. usage: nan bytes\n",
      "    ll: -734942.25, kl_p_sum: 50891.81640625, kl_u_sum: 9855.369140625\n",
      "It: 580: Elapsed fitting time 217.4929130077362, elbo: -794594.7934570312, lr: 0.01, GPU mem. usage: nan bytes\n",
      "    ll: -735062.375, kl_p_sum: 49709.5546875, kl_u_sum: 9822.86376953125\n",
      "It: 590: Elapsed fitting time 221.76860189437866, elbo: -793355.8701171875, lr: 0.01, GPU mem. usage: nan bytes\n",
      "    ll: -734926.9375, kl_p_sum: 48602.791015625, kl_u_sum: 9826.1416015625\n",
      "It: 600: Elapsed fitting time 225.5549750328064, elbo: -791953.439453125, lr: 0.01, GPU mem. usage: nan bytes\n",
      "    ll: -734709.375, kl_p_sum: 47433.609375, kl_u_sum: 9810.455078125\n",
      "It: 610: Elapsed fitting time 229.35244989395142, elbo: -790624.5380859375, lr: 0.01, GPU mem. usage: nan bytes\n",
      "    ll: -734471.6875, kl_p_sum: 46405.95703125, kl_u_sum: 9746.8935546875\n",
      "It: 620: Elapsed fitting time 233.11607885360718, elbo: -790217.802734375, lr: 0.01, GPU mem. usage: nan bytes\n",
      "    ll: -735196.6875, kl_p_sum: 45357.412109375, kl_u_sum: 9663.703125\n",
      "It: 630: Elapsed fitting time 237.1787269115448, elbo: -789015.5122070312, lr: 0.01, GPU mem. usage: nan bytes\n",
      "    ll: -735060.6875, kl_p_sum: 44355.38671875, kl_u_sum: 9599.43798828125\n",
      "It: 640: Elapsed fitting time 241.0318500995636, elbo: -788069.6049804688, lr: 0.01, GPU mem. usage: nan bytes\n",
      "    ll: -735040.375, kl_p_sum: 43466.271484375, kl_u_sum: 9562.95849609375\n",
      "It: 650: Elapsed fitting time 244.87965178489685, elbo: -787039.0424804688, lr: 0.01, GPU mem. usage: nan bytes\n",
      "    ll: -734850.125, kl_p_sum: 42565.197265625, kl_u_sum: 9623.72021484375\n",
      "It: 660: Elapsed fitting time 248.66885590553284, elbo: -786091.7631835938, lr: 0.01, GPU mem. usage: nan bytes\n",
      "    ll: -734906.5625, kl_p_sum: 41629.154296875, kl_u_sum: 9556.04638671875\n",
      "It: 670: Elapsed fitting time 252.4880337715149, elbo: -784631.515625, lr: 0.01, GPU mem. usage: nan bytes\n",
      "    ll: -734277.1875, kl_p_sum: 40816.685546875, kl_u_sum: 9537.642578125\n",
      "It: 680: Elapsed fitting time 256.11592507362366, elbo: -784192.6420898438, lr: 0.01, GPU mem. usage: nan bytes\n",
      "    ll: -734609.1875, kl_p_sum: 40053.578125, kl_u_sum: 9529.87646484375\n",
      "It: 690: Elapsed fitting time 259.82338285446167, elbo: -783575.5932617188, lr: 0.01, GPU mem. usage: nan bytes\n",
      "    ll: -734921.875, kl_p_sum: 39198.82421875, kl_u_sum: 9454.89404296875\n",
      "It: 700: Elapsed fitting time 263.584481716156, elbo: -782604.4692382812, lr: 0.01, GPU mem. usage: nan bytes\n",
      "    ll: -734632.375, kl_p_sum: 38514.337890625, kl_u_sum: 9457.75634765625\n",
      "It: 710: Elapsed fitting time 267.24349904060364, elbo: -781421.0859375, lr: 0.01, GPU mem. usage: nan bytes\n",
      "    ll: -734176.5, kl_p_sum: 37823.955078125, kl_u_sum: 9420.630859375\n",
      "It: 720: Elapsed fitting time 270.9231901168823, elbo: -780180.5825195312, lr: 0.01, GPU mem. usage: nan bytes\n",
      "    ll: -733619.625, kl_p_sum: 37121.927734375, kl_u_sum: 9439.02978515625\n",
      "It: 730: Elapsed fitting time 274.5629768371582, elbo: -780212.9921875, lr: 0.01, GPU mem. usage: nan bytes\n",
      "    ll: -734475.5, kl_p_sum: 36381.236328125, kl_u_sum: 9356.255859375\n",
      "It: 740: Elapsed fitting time 278.1889600753784, elbo: -779626.783203125, lr: 0.01, GPU mem. usage: nan bytes\n",
      "    ll: -734439.625, kl_p_sum: 35776.791015625, kl_u_sum: 9410.3671875\n",
      "It: 750: Elapsed fitting time 281.8929889202118, elbo: -778433.6772460938, lr: 0.01, GPU mem. usage: nan bytes\n",
      "    ll: -733936.75, kl_p_sum: 35133.134765625, kl_u_sum: 9363.79248046875\n",
      "It: 760: Elapsed fitting time 285.52862191200256, elbo: -778343.5405273438, lr: 0.01, GPU mem. usage: nan bytes\n",
      "    ll: -734522.125, kl_p_sum: 34488.33203125, kl_u_sum: 9333.08349609375\n",
      "It: 770: Elapsed fitting time 289.2038359642029, elbo: -777359.1474609375, lr: 0.01, GPU mem. usage: nan bytes\n",
      "    ll: -734061.125, kl_p_sum: 33968.4921875, kl_u_sum: 9329.5302734375\n",
      "It: 780: Elapsed fitting time 292.9114758968353, elbo: -776786.6103515625, lr: 0.01, GPU mem. usage: nan bytes\n",
      "    ll: -734134.0, kl_p_sum: 33397.6484375, kl_u_sum: 9254.9619140625\n",
      "It: 790: Elapsed fitting time 296.9580099582672, elbo: -775786.3212890625, lr: 0.01, GPU mem. usage: nan bytes\n",
      "    ll: -733674.25, kl_p_sum: 32866.0341796875, kl_u_sum: 9246.037109375\n",
      "It: 800: Elapsed fitting time 300.64919781684875, elbo: -775317.3198242188, lr: 0.01, GPU mem. usage: nan bytes\n",
      "    ll: -733717.125, kl_p_sum: 32361.8798828125, kl_u_sum: 9238.31494140625\n",
      "It: 810: Elapsed fitting time 304.38574171066284, elbo: -774872.7670898438, lr: 0.01, GPU mem. usage: nan bytes\n",
      "    ll: -733850.125, kl_p_sum: 31786.263671875, kl_u_sum: 9236.37841796875\n",
      "It: 820: Elapsed fitting time 308.12361097335815, elbo: -774535.3139648438, lr: 0.01, GPU mem. usage: nan bytes\n",
      "    ll: -733959.25, kl_p_sum: 31313.125, kl_u_sum: 9262.93896484375\n",
      "It: 830: Elapsed fitting time 311.8826198577881, elbo: -773779.89453125, lr: 0.01, GPU mem. usage: nan bytes\n",
      "    ll: -733741.6875, kl_p_sum: 30811.6982421875, kl_u_sum: 9226.5087890625\n",
      "It: 840: Elapsed fitting time 315.6310029029846, elbo: -773336.6782226562, lr: 0.01, GPU mem. usage: nan bytes\n",
      "    ll: -733799.0, kl_p_sum: 30312.890625, kl_u_sum: 9224.78759765625\n",
      "It: 850: Elapsed fitting time 319.4928116798401, elbo: -773157.486328125, lr: 0.01, GPU mem. usage: nan bytes\n",
      "    ll: -734082.125, kl_p_sum: 29866.3984375, kl_u_sum: 9208.962890625\n",
      "It: 860: Elapsed fitting time 323.54344391822815, elbo: -772907.9755859375, lr: 0.01, GPU mem. usage: nan bytes\n",
      "    ll: -734292.0, kl_p_sum: 29473.353515625, kl_u_sum: 9142.6220703125\n",
      "It: 870: Elapsed fitting time 327.34554290771484, elbo: -772215.5297851562, lr: 0.01, GPU mem. usage: nan bytes\n",
      "    ll: -734109.6875, kl_p_sum: 28974.568359375, kl_u_sum: 9131.27392578125\n",
      "It: 880: Elapsed fitting time 331.0355248451233, elbo: -771906.7280273438, lr: 0.01, GPU mem. usage: nan bytes\n",
      "    ll: -734155.625, kl_p_sum: 28579.193359375, kl_u_sum: 9171.90966796875\n",
      "It: 890: Elapsed fitting time 334.6550180912018, elbo: -771096.6147460938, lr: 0.01, GPU mem. usage: nan bytes\n",
      "    ll: -733753.25, kl_p_sum: 28185.974609375, kl_u_sum: 9157.39013671875\n"
     ]
    },
    {
     "name": "stdout",
     "output_type": "stream",
     "text": [
      "It: 900: Elapsed fitting time 338.2911639213562, elbo: -771061.3178710938, lr: 0.01, GPU mem. usage: nan bytes\n",
      "    ll: -734128.1875, kl_p_sum: 27785.291015625, kl_u_sum: 9147.83935546875\n",
      "It: 910: Elapsed fitting time 341.9839949607849, elbo: -770520.322265625, lr: 0.01, GPU mem. usage: nan bytes\n",
      "    ll: -733972.25, kl_p_sum: 27387.9326171875, kl_u_sum: 9160.1396484375\n",
      "It: 920: Elapsed fitting time 345.77056097984314, elbo: -770222.5322265625, lr: 0.01, GPU mem. usage: nan bytes\n",
      "    ll: -734113.375, kl_p_sum: 27031.130859375, kl_u_sum: 9078.0263671875\n",
      "It: 930: Elapsed fitting time 349.43324089050293, elbo: -769857.03515625, lr: 0.01, GPU mem. usage: nan bytes\n",
      "    ll: -734044.125, kl_p_sum: 26716.0791015625, kl_u_sum: 9096.8310546875\n",
      "It: 940: Elapsed fitting time 353.2472698688507, elbo: -769800.3818359375, lr: 0.01, GPU mem. usage: nan bytes\n",
      "    ll: -734340.125, kl_p_sum: 26370.955078125, kl_u_sum: 9089.3017578125\n",
      "It: 950: Elapsed fitting time 357.183669090271, elbo: -769408.09765625, lr: 0.01, GPU mem. usage: nan bytes\n",
      "    ll: -734360.0625, kl_p_sum: 25965.533203125, kl_u_sum: 9082.501953125\n",
      "It: 960: Elapsed fitting time 360.92992782592773, elbo: -767971.1396484375, lr: 0.01, GPU mem. usage: nan bytes\n",
      "    ll: -733210.3125, kl_p_sum: 25629.046875, kl_u_sum: 9131.7802734375\n",
      "It: 970: Elapsed fitting time 364.71960186958313, elbo: -768312.9975585938, lr: 0.01, GPU mem. usage: nan bytes\n",
      "    ll: -733870.875, kl_p_sum: 25354.892578125, kl_u_sum: 9087.22998046875\n",
      "It: 980: Elapsed fitting time 368.47795581817627, elbo: -767747.0639648438, lr: 0.01, GPU mem. usage: nan bytes\n",
      "    ll: -733636.125, kl_p_sum: 25012.4443359375, kl_u_sum: 9098.49462890625\n",
      "It: 990: Elapsed fitting time 372.5332701206207, elbo: -767768.875, lr: 0.01, GPU mem. usage: nan bytes\n",
      "    ll: -733938.75, kl_p_sum: 24722.3583984375, kl_u_sum: 9107.7666015625\n",
      "It: 1000: Elapsed fitting time 376.1935980319977, elbo: -766870.9545898438, lr: 0.01, GPU mem. usage: nan bytes\n",
      "    ll: -733316.625, kl_p_sum: 24455.494140625, kl_u_sum: 9098.83544921875\n",
      "It: 1010: Elapsed fitting time 379.9301109313965, elbo: -766793.7836914062, lr: 0.01, GPU mem. usage: nan bytes\n",
      "    ll: -733643.0, kl_p_sum: 24080.07421875, kl_u_sum: 9070.70947265625\n",
      "It: 1020: Elapsed fitting time 383.9339988231659, elbo: -766413.5727539062, lr: 0.01, GPU mem. usage: nan bytes\n",
      "    ll: -733497.125, kl_p_sum: 23889.0029296875, kl_u_sum: 9027.44482421875\n",
      "It: 1030: Elapsed fitting time 387.76103687286377, elbo: -766105.8901367188, lr: 0.01, GPU mem. usage: nan bytes\n",
      "    ll: -733503.25, kl_p_sum: 23574.3125, kl_u_sum: 9028.32763671875\n",
      "It: 1040: Elapsed fitting time 391.64548206329346, elbo: -765611.4296875, lr: 0.01, GPU mem. usage: nan bytes\n",
      "    ll: -733237.6875, kl_p_sum: 23352.064453125, kl_u_sum: 9021.677734375\n",
      "It: 1050: Elapsed fitting time 395.2588918209076, elbo: -765600.2255859375, lr: 0.01, GPU mem. usage: nan bytes\n",
      "    ll: -733533.3125, kl_p_sum: 23058.193359375, kl_u_sum: 9008.7197265625\n",
      "It: 1060: Elapsed fitting time 398.92476081848145, elbo: -765466.2646484375, lr: 0.01, GPU mem. usage: nan bytes\n",
      "    ll: -733653.25, kl_p_sum: 22795.443359375, kl_u_sum: 9017.5712890625\n",
      "It: 1070: Elapsed fitting time 402.6595857143402, elbo: -765235.22265625, lr: 0.01, GPU mem. usage: nan bytes\n",
      "    ll: -733572.0625, kl_p_sum: 22611.73046875, kl_u_sum: 9051.4296875\n",
      "It: 1080: Elapsed fitting time 406.29700779914856, elbo: -764810.9169921875, lr: 0.01, GPU mem. usage: nan bytes\n",
      "    ll: -733453.375, kl_p_sum: 22269.5732421875, kl_u_sum: 9087.96875\n",
      "It: 1090: Elapsed fitting time 409.8929748535156, elbo: -764725.1879882812, lr: 0.01, GPU mem. usage: nan bytes\n",
      "    ll: -733626.625, kl_p_sum: 22077.3994140625, kl_u_sum: 9021.16357421875\n",
      "It: 1100: Elapsed fitting time 413.5894989967346, elbo: -764777.029296875, lr: 0.01, GPU mem. usage: nan bytes\n",
      "    ll: -733952.125, kl_p_sum: 21838.9345703125, kl_u_sum: 8985.9697265625\n",
      "It: 1110: Elapsed fitting time 417.2049489021301, elbo: -764350.72265625, lr: 0.01, GPU mem. usage: nan bytes\n",
      "    ll: -733852.375, kl_p_sum: 21565.6962890625, kl_u_sum: 8932.6513671875\n",
      "It: 1120: Elapsed fitting time 420.8520448207855, elbo: -764100.9565429688, lr: 0.01, GPU mem. usage: nan bytes\n",
      "    ll: -733613.125, kl_p_sum: 21457.9052734375, kl_u_sum: 9029.92626953125\n",
      "It: 1130: Elapsed fitting time 424.5139389038086, elbo: -763872.6806640625, lr: 0.01, GPU mem. usage: nan bytes\n",
      "    ll: -733763.6875, kl_p_sum: 21136.8681640625, kl_u_sum: 8972.125\n",
      "It: 1140: Elapsed fitting time 428.20995593070984, elbo: -763524.50390625, lr: 0.01, GPU mem. usage: nan bytes\n",
      "    ll: -733514.125, kl_p_sum: 20993.43359375, kl_u_sum: 9016.9453125\n",
      "It: 1150: Elapsed fitting time 431.9062249660492, elbo: -763692.66796875, lr: 0.01, GPU mem. usage: nan bytes\n",
      "    ll: -733968.375, kl_p_sum: 20798.291015625, kl_u_sum: 8926.001953125\n",
      "It: 1160: Elapsed fitting time 435.54658007621765, elbo: -762967.5966796875, lr: 0.01, GPU mem. usage: nan bytes\n",
      "    ll: -733325.1875, kl_p_sum: 20625.9296875, kl_u_sum: 9016.4794921875\n",
      "It: 1170: Elapsed fitting time 439.14729595184326, elbo: -763107.0795898438, lr: 0.01, GPU mem. usage: nan bytes\n",
      "    ll: -733731.5, kl_p_sum: 20411.380859375, kl_u_sum: 8964.19873046875\n",
      "It: 1180: Elapsed fitting time 442.8218677043915, elbo: -762919.5537109375, lr: 0.01, GPU mem. usage: nan bytes\n",
      "    ll: -733730.4375, kl_p_sum: 20217.373046875, kl_u_sum: 8971.7431640625\n",
      "It: 1190: Elapsed fitting time 446.4489109516144, elbo: -762581.45703125, lr: 0.01, GPU mem. usage: nan bytes\n",
      "    ll: -733589.0, kl_p_sum: 19974.3662109375, kl_u_sum: 9018.0908203125\n",
      "It: 1200: Elapsed fitting time 450.0601689815521, elbo: -762509.2504882812, lr: 0.01, GPU mem. usage: nan bytes\n",
      "    ll: -733670.875, kl_p_sum: 19879.5068359375, kl_u_sum: 8958.86865234375\n",
      "It: 1210: Elapsed fitting time 453.70545172691345, elbo: -762105.2368164062, lr: 0.01, GPU mem. usage: nan bytes\n",
      "    ll: -733468.875, kl_p_sum: 19683.34375, kl_u_sum: 8953.01806640625\n",
      "It: 1220: Elapsed fitting time 457.35230684280396, elbo: -761851.25, lr: 0.01, GPU mem. usage: nan bytes\n",
      "    ll: -733324.625, kl_p_sum: 19527.654296875, kl_u_sum: 8998.970703125\n",
      "It: 1230: Elapsed fitting time 461.09745693206787, elbo: -761804.6928710938, lr: 0.01, GPU mem. usage: nan bytes\n",
      "    ll: -733548.1875, kl_p_sum: 19265.916015625, kl_u_sum: 8990.58935546875\n",
      "It: 1240: Elapsed fitting time 464.88918590545654, elbo: -761527.77734375, lr: 0.01, GPU mem. usage: nan bytes\n",
      "    ll: -733403.125, kl_p_sum: 19149.80078125, kl_u_sum: 8974.8515625\n",
      "It: 1250: Elapsed fitting time 468.9044497013092, elbo: -761419.8076171875, lr: 0.01, GPU mem. usage: nan bytes\n",
      "    ll: -733526.375, kl_p_sum: 18950.4287109375, kl_u_sum: 8943.00390625\n",
      "It: 1260: Elapsed fitting time 473.039128780365, elbo: -761299.1728515625, lr: 0.01, GPU mem. usage: nan bytes\n",
      "    ll: -733580.375, kl_p_sum: 18865.20703125, kl_u_sum: 8853.5908203125\n",
      "It: 1270: Elapsed fitting time 476.85669589042664, elbo: -761167.2958984375, lr: 0.01, GPU mem. usage: nan bytes\n",
      "    ll: -733546.375, kl_p_sum: 18663.361328125, kl_u_sum: 8957.5595703125\n",
      "It: 1280: Elapsed fitting time 480.6866719722748, elbo: -760687.7895507812, lr: 0.01, GPU mem. usage: nan bytes\n",
      "    ll: -733188.1875, kl_p_sum: 18543.1494140625, kl_u_sum: 8956.45263671875\n",
      "It: 1290: Elapsed fitting time 484.57063388824463, elbo: -760997.693359375, lr: 0.01, GPU mem. usage: nan bytes\n",
      "    ll: -733686.25, kl_p_sum: 18333.244140625, kl_u_sum: 8978.19921875\n",
      "It: 1300: Elapsed fitting time 488.5113580226898, elbo: -760809.3193359375, lr: 0.01, GPU mem. usage: nan bytes\n",
      "    ll: -733675.75, kl_p_sum: 18180.7783203125, kl_u_sum: 8952.791015625\n",
      "It: 1310: Elapsed fitting time 492.4171106815338, elbo: -760050.2231445312, lr: 0.01, GPU mem. usage: nan bytes\n",
      "    ll: -733075.1875, kl_p_sum: 17997.16015625, kl_u_sum: 8977.87548828125\n",
      "It: 1320: Elapsed fitting time 496.15400671958923, elbo: -760434.4672851562, lr: 0.01, GPU mem. usage: nan bytes\n",
      "    ll: -733519.8125, kl_p_sum: 17956.333984375, kl_u_sum: 8958.32080078125\n",
      "It: 1330: Elapsed fitting time 499.97990679740906, elbo: -760463.82421875, lr: 0.01, GPU mem. usage: nan bytes\n",
      "    ll: -733814.375, kl_p_sum: 17764.5888671875, kl_u_sum: 8884.8603515625\n",
      "It: 1340: Elapsed fitting time 503.68857884407043, elbo: -759976.732421875, lr: 0.01, GPU mem. usage: nan bytes\n",
      "    ll: -733452.875, kl_p_sum: 17625.5703125, kl_u_sum: 8898.287109375\n"
     ]
    },
    {
     "name": "stdout",
     "output_type": "stream",
     "text": [
      "It: 1350: Elapsed fitting time 507.3097107410431, elbo: -759994.2290039062, lr: 0.01, GPU mem. usage: nan bytes\n",
      "    ll: -733578.5, kl_p_sum: 17514.427734375, kl_u_sum: 8901.30126953125\n",
      "It: 1360: Elapsed fitting time 510.99140310287476, elbo: -759579.1264648438, lr: 0.01, GPU mem. usage: nan bytes\n",
      "    ll: -733286.9375, kl_p_sum: 17365.369140625, kl_u_sum: 8926.81982421875\n",
      "It: 1370: Elapsed fitting time 514.6964309215546, elbo: -759420.1791992188, lr: 0.01, GPU mem. usage: nan bytes\n",
      "    ll: -733195.875, kl_p_sum: 17243.1416015625, kl_u_sum: 8981.16259765625\n",
      "It: 1380: Elapsed fitting time 518.3187699317932, elbo: -760004.1845703125, lr: 0.01, GPU mem. usage: nan bytes\n",
      "    ll: -733957.8125, kl_p_sum: 17145.78125, kl_u_sum: 8900.5908203125\n",
      "It: 1390: Elapsed fitting time 521.9595668315887, elbo: -759808.9331054688, lr: 0.01, GPU mem. usage: nan bytes\n",
      "    ll: -733926.5625, kl_p_sum: 17000.1591796875, kl_u_sum: 8882.21142578125\n",
      "It: 1400: Elapsed fitting time 525.5913078784943, elbo: -759400.3510742188, lr: 0.01, GPU mem. usage: nan bytes\n",
      "    ll: -733624.9375, kl_p_sum: 16824.8623046875, kl_u_sum: 8950.55126953125\n",
      "It: 1410: Elapsed fitting time 529.221177816391, elbo: -759396.6459960938, lr: 0.01, GPU mem. usage: nan bytes\n",
      "    ll: -733677.125, kl_p_sum: 16800.859375, kl_u_sum: 8918.66162109375\n",
      "It: 1420: Elapsed fitting time 532.8737118244171, elbo: -759059.9174804688, lr: 0.01, GPU mem. usage: nan bytes\n",
      "    ll: -733409.375, kl_p_sum: 16695.4970703125, kl_u_sum: 8955.04541015625\n",
      "It: 1430: Elapsed fitting time 536.4761688709259, elbo: -758972.7719726562, lr: 0.01, GPU mem. usage: nan bytes\n",
      "    ll: -733469.6875, kl_p_sum: 16592.35009765625, kl_u_sum: 8910.734375\n",
      "It: 1440: Elapsed fitting time 540.1068580150604, elbo: -758651.33203125, lr: 0.01, GPU mem. usage: nan bytes\n",
      "    ll: -733340.75, kl_p_sum: 16422.3291015625, kl_u_sum: 8888.2529296875\n",
      "It: 1450: Elapsed fitting time 543.7308359146118, elbo: -759152.6450195312, lr: 0.01, GPU mem. usage: nan bytes\n",
      "    ll: -733963.125, kl_p_sum: 16261.24365234375, kl_u_sum: 8928.2763671875\n",
      "It: 1460: Elapsed fitting time 547.499951839447, elbo: -758981.3276367188, lr: 0.01, GPU mem. usage: nan bytes\n",
      "    ll: -733808.6875, kl_p_sum: 16225.6923828125, kl_u_sum: 8946.94775390625\n",
      "It: 1470: Elapsed fitting time 551.1789886951447, elbo: -758294.0317382812, lr: 0.01, GPU mem. usage: nan bytes\n",
      "    ll: -733297.5625, kl_p_sum: 16120.82666015625, kl_u_sum: 8875.642578125\n",
      "It: 1480: Elapsed fitting time 554.7835569381714, elbo: -758263.3984375, lr: 0.01, GPU mem. usage: nan bytes\n",
      "    ll: -733285.75, kl_p_sum: 16083.662109375, kl_u_sum: 8893.986328125\n",
      "It: 1490: Elapsed fitting time 558.4236259460449, elbo: -757874.3603515625, lr: 0.01, GPU mem. usage: nan bytes\n",
      "    ll: -733047.125, kl_p_sum: 15960.15625, kl_u_sum: 8867.0791015625\n",
      "It: 1500: Elapsed fitting time 562.0576808452606, elbo: -758410.3159179688, lr: 0.01, GPU mem. usage: nan bytes\n",
      "    ll: -733671.5625, kl_p_sum: 15807.79931640625, kl_u_sum: 8930.9541015625\n",
      "It: 1510: Elapsed fitting time 565.7091958522797, elbo: -758209.8100585938, lr: 0.01, GPU mem. usage: nan bytes\n",
      "    ll: -733571.375, kl_p_sum: 15693.10302734375, kl_u_sum: 8945.33203125\n",
      "It: 1520: Elapsed fitting time 569.3549888134003, elbo: -757993.7709960938, lr: 0.01, GPU mem. usage: nan bytes\n",
      "    ll: -733516.5625, kl_p_sum: 15575.75146484375, kl_u_sum: 8901.45703125\n",
      "It: 1530: Elapsed fitting time 573.0175650119781, elbo: -757868.1928710938, lr: 0.01, GPU mem. usage: nan bytes\n",
      "    ll: -733497.0, kl_p_sum: 15511.185546875, kl_u_sum: 8860.00732421875\n",
      "It: 1540: Elapsed fitting time 576.6620948314667, elbo: -757482.5390625, lr: 0.01, GPU mem. usage: nan bytes\n",
      "    ll: -733133.375, kl_p_sum: 15432.28173828125, kl_u_sum: 8916.88232421875\n",
      "It: 1550: Elapsed fitting time 580.3026549816132, elbo: -757637.986328125, lr: 0.01, GPU mem. usage: nan bytes\n",
      "    ll: -733446.375, kl_p_sum: 15323.8564453125, kl_u_sum: 8867.7548828125\n",
      "It: 1560: Elapsed fitting time 583.9418869018555, elbo: -757553.0302734375, lr: 0.01, GPU mem. usage: nan bytes\n",
      "    ll: -733475.3125, kl_p_sum: 15240.63427734375, kl_u_sum: 8837.08349609375\n",
      "It: 1570: Elapsed fitting time 587.5734968185425, elbo: -757165.1713867188, lr: 0.01, GPU mem. usage: nan bytes\n",
      "    ll: -733092.75, kl_p_sum: 15182.37841796875, kl_u_sum: 8890.04296875\n",
      "It: 1580: Elapsed fitting time 591.2007179260254, elbo: -757006.955078125, lr: 0.01, GPU mem. usage: nan bytes\n",
      "    ll: -733036.5, kl_p_sum: 15102.74658203125, kl_u_sum: 8867.70849609375\n",
      "It: 1590: Elapsed fitting time 594.8083999156952, elbo: -757167.4755859375, lr: 0.01, GPU mem. usage: nan bytes\n",
      "    ll: -733322.375, kl_p_sum: 14998.87744140625, kl_u_sum: 8846.22314453125\n",
      "It: 1600: Elapsed fitting time 598.4674351215363, elbo: -756916.7080078125, lr: 0.01, GPU mem. usage: nan bytes\n",
      "    ll: -733044.125, kl_p_sum: 14943.14013671875, kl_u_sum: 8929.44287109375\n",
      "It: 1610: Elapsed fitting time 602.1569919586182, elbo: -757274.7543945312, lr: 0.01, GPU mem. usage: nan bytes\n",
      "    ll: -733568.9375, kl_p_sum: 14857.6376953125, kl_u_sum: 8848.17919921875\n",
      "It: 1620: Elapsed fitting time 605.7964038848877, elbo: -756958.0092773438, lr: 0.01, GPU mem. usage: nan bytes\n",
      "    ll: -733284.75, kl_p_sum: 14765.65478515625, kl_u_sum: 8907.6044921875\n",
      "It: 1630: Elapsed fitting time 609.4241349697113, elbo: -756954.4008789062, lr: 0.01, GPU mem. usage: nan bytes\n",
      "    ll: -733355.9375, kl_p_sum: 14642.619140625, kl_u_sum: 8955.84423828125\n",
      "It: 1640: Elapsed fitting time 613.0966019630432, elbo: -756431.4892578125, lr: 0.01, GPU mem. usage: nan bytes\n",
      "    ll: -732850.875, kl_p_sum: 14651.43505859375, kl_u_sum: 8929.17919921875\n",
      "It: 1650: Elapsed fitting time 616.7062389850616, elbo: -756609.2138671875, lr: 0.01, GPU mem. usage: nan bytes\n",
      "    ll: -733147.25, kl_p_sum: 14562.79443359375, kl_u_sum: 8899.16943359375\n",
      "It: 1660: Elapsed fitting time 620.3345711231232, elbo: -756750.0078125, lr: 0.01, GPU mem. usage: nan bytes\n",
      "    ll: -733388.8125, kl_p_sum: 14475.67822265625, kl_u_sum: 8885.51708984375\n",
      "It: 1670: Elapsed fitting time 623.9801888465881, elbo: -756924.6850585938, lr: 0.01, GPU mem. usage: nan bytes\n",
      "    ll: -733584.375, kl_p_sum: 14460.4248046875, kl_u_sum: 8879.88525390625\n",
      "It: 1680: Elapsed fitting time 627.6282498836517, elbo: -756742.041015625, lr: 0.01, GPU mem. usage: nan bytes\n",
      "    ll: -733531.875, kl_p_sum: 14309.4794921875, kl_u_sum: 8900.6865234375\n",
      "It: 1690: Elapsed fitting time 631.349310874939, elbo: -756934.0092773438, lr: 0.01, GPU mem. usage: nan bytes\n",
      "    ll: -733831.875, kl_p_sum: 14254.92822265625, kl_u_sum: 8847.2060546875\n",
      "It: 1700: Elapsed fitting time 635.0239958763123, elbo: -756571.4731445312, lr: 0.01, GPU mem. usage: nan bytes\n",
      "    ll: -733528.5, kl_p_sum: 14172.1884765625, kl_u_sum: 8870.78466796875\n",
      "It: 1710: Elapsed fitting time 638.6848828792572, elbo: -756786.8100585938, lr: 0.01, GPU mem. usage: nan bytes\n",
      "    ll: -733770.1875, kl_p_sum: 14104.7275390625, kl_u_sum: 8911.89501953125\n",
      "It: 1720: Elapsed fitting time 642.3801848888397, elbo: -756703.4116210938, lr: 0.01, GPU mem. usage: nan bytes\n",
      "    ll: -733708.1875, kl_p_sum: 14096.71044921875, kl_u_sum: 8898.513671875\n",
      "It: 1730: Elapsed fitting time 646.0789539813995, elbo: -756114.4189453125, lr: 0.01, GPU mem. usage: nan bytes\n",
      "    ll: -733220.0625, kl_p_sum: 13982.728515625, kl_u_sum: 8911.6279296875\n",
      "It: 1740: Elapsed fitting time 649.7317318916321, elbo: -756178.8193359375, lr: 0.01, GPU mem. usage: nan bytes\n",
      "    ll: -733334.0, kl_p_sum: 13955.48388671875, kl_u_sum: 8889.33544921875\n",
      "It: 1750: Elapsed fitting time 653.3839581012726, elbo: -755668.4389648438, lr: 0.01, GPU mem. usage: nan bytes\n",
      "    ll: -732948.375, kl_p_sum: 13829.9306640625, kl_u_sum: 8890.13330078125\n",
      "It: 1760: Elapsed fitting time 657.0192749500275, elbo: -756228.546875, lr: 0.01, GPU mem. usage: nan bytes\n",
      "    ll: -733564.4375, kl_p_sum: 13784.80078125, kl_u_sum: 8879.30859375\n",
      "It: 1770: Elapsed fitting time 660.6411237716675, elbo: -755990.8486328125, lr: 0.01, GPU mem. usage: nan bytes\n",
      "    ll: -733398.875, kl_p_sum: 13744.96728515625, kl_u_sum: 8847.00634765625\n",
      "It: 1780: Elapsed fitting time 664.2761900424957, elbo: -756194.9208984375, lr: 0.01, GPU mem. usage: nan bytes\n",
      "    ll: -733653.9375, kl_p_sum: 13684.95556640625, kl_u_sum: 8856.02783203125\n"
     ]
    },
    {
     "name": "stdout",
     "output_type": "stream",
     "text": [
      "It: 1790: Elapsed fitting time 667.9512820243835, elbo: -755927.3559570312, lr: 0.01, GPU mem. usage: nan bytes\n",
      "    ll: -733400.5, kl_p_sum: 13620.92431640625, kl_u_sum: 8905.931640625\n",
      "It: 1800: Elapsed fitting time 671.6075298786163, elbo: -755729.2280273438, lr: 0.01, GPU mem. usage: nan bytes\n",
      "    ll: -733338.4375, kl_p_sum: 13521.36767578125, kl_u_sum: 8869.4228515625\n",
      "It: 1810: Elapsed fitting time 675.2612838745117, elbo: -755556.8701171875, lr: 0.01, GPU mem. usage: nan bytes\n",
      "    ll: -733223.0625, kl_p_sum: 13523.02490234375, kl_u_sum: 8810.78271484375\n",
      "It: 1820: Elapsed fitting time 678.8903679847717, elbo: -755655.595703125, lr: 0.01, GPU mem. usage: nan bytes\n",
      "    ll: -733266.1875, kl_p_sum: 13434.21923828125, kl_u_sum: 8955.18896484375\n",
      "It: 1830: Elapsed fitting time 682.5495748519897, elbo: -755669.412109375, lr: 0.01, GPU mem. usage: nan bytes\n",
      "    ll: -733369.5625, kl_p_sum: 13417.44091796875, kl_u_sum: 8882.40869140625\n",
      "It: 1840: Elapsed fitting time 686.1442110538483, elbo: -755667.2407226562, lr: 0.01, GPU mem. usage: nan bytes\n",
      "    ll: -733472.5625, kl_p_sum: 13333.50537109375, kl_u_sum: 8861.1728515625\n",
      "It: 1850: Elapsed fitting time 689.8062977790833, elbo: -755194.1030273438, lr: 0.01, GPU mem. usage: nan bytes\n",
      "    ll: -733045.875, kl_p_sum: 13279.34814453125, kl_u_sum: 8868.8798828125\n",
      "It: 1860: Elapsed fitting time 693.4341299533844, elbo: -755259.9921875, lr: 0.01, GPU mem. usage: nan bytes\n",
      "    ll: -733162.5625, kl_p_sum: 13199.91943359375, kl_u_sum: 8897.51025390625\n",
      "It: 1870: Elapsed fitting time 697.0274088382721, elbo: -755713.4858398438, lr: 0.01, GPU mem. usage: nan bytes\n",
      "    ll: -733673.125, kl_p_sum: 13176.40234375, kl_u_sum: 8863.95849609375\n",
      "It: 1880: Elapsed fitting time 700.7070610523224, elbo: -755279.2592773438, lr: 0.01, GPU mem. usage: nan bytes\n",
      "    ll: -733213.1875, kl_p_sum: 13125.80712890625, kl_u_sum: 8940.2646484375\n",
      "It: 1890: Elapsed fitting time 704.3094217777252, elbo: -755184.7866210938, lr: 0.01, GPU mem. usage: nan bytes\n",
      "    ll: -733197.125, kl_p_sum: 13086.44580078125, kl_u_sum: 8901.2158203125\n",
      "It: 1900: Elapsed fitting time 707.9294700622559, elbo: -754816.5810546875, lr: 0.01, GPU mem. usage: nan bytes\n",
      "    ll: -732863.625, kl_p_sum: 13016.9736328125, kl_u_sum: 8935.982421875\n",
      "It: 1910: Elapsed fitting time 711.5932848453522, elbo: -755122.9682617188, lr: 0.01, GPU mem. usage: nan bytes\n",
      "    ll: -733267.625, kl_p_sum: 12998.3681640625, kl_u_sum: 8856.97509765625\n",
      "It: 1920: Elapsed fitting time 715.217435836792, elbo: -754995.0073242188, lr: 0.01, GPU mem. usage: nan bytes\n",
      "    ll: -733164.3125, kl_p_sum: 12916.09326171875, kl_u_sum: 8914.6015625\n",
      "It: 1930: Elapsed fitting time 718.8406128883362, elbo: -755008.6513671875, lr: 0.01, GPU mem. usage: nan bytes\n",
      "    ll: -733295.75, kl_p_sum: 12832.0556640625, kl_u_sum: 8880.845703125\n",
      "It: 1940: Elapsed fitting time 722.5922677516937, elbo: -754663.6831054688, lr: 0.01, GPU mem. usage: nan bytes\n",
      "    ll: -732914.375, kl_p_sum: 12875.56689453125, kl_u_sum: 8873.7412109375\n",
      "It: 1950: Elapsed fitting time 726.1872189044952, elbo: -754725.2446289062, lr: 0.01, GPU mem. usage: nan bytes\n",
      "    ll: -733024.125, kl_p_sum: 12789.02099609375, kl_u_sum: 8912.0986328125\n",
      "It: 1960: Elapsed fitting time 729.8578760623932, elbo: -754586.6186523438, lr: 0.01, GPU mem. usage: nan bytes\n",
      "    ll: -733019.75, kl_p_sum: 12702.94970703125, kl_u_sum: 8863.9189453125\n",
      "It: 1970: Elapsed fitting time 733.5745108127594, elbo: -754650.9672851562, lr: 0.01, GPU mem. usage: nan bytes\n",
      "    ll: -733023.5, kl_p_sum: 12694.9775390625, kl_u_sum: 8932.48974609375\n",
      "It: 1980: Elapsed fitting time 737.2520678043365, elbo: -754815.6049804688, lr: 0.01, GPU mem. usage: nan bytes\n",
      "    ll: -733298.5, kl_p_sum: 12656.82373046875, kl_u_sum: 8860.28125\n",
      "It: 1990: Elapsed fitting time 740.8724370002747, elbo: -754513.6030273438, lr: 0.01, GPU mem. usage: nan bytes\n",
      "    ll: -733090.6875, kl_p_sum: 12569.69140625, kl_u_sum: 8853.22412109375\n",
      "It: 2000: Elapsed fitting time 744.5161287784576, elbo: -754687.3247070312, lr: 0.01, GPU mem. usage: nan bytes\n",
      "    ll: -733287.8125, kl_p_sum: 12517.33251953125, kl_u_sum: 8882.1796875\n",
      "It: 2010: Elapsed fitting time 748.1360418796539, elbo: -754979.3247070312, lr: 0.01, GPU mem. usage: nan bytes\n",
      "    ll: -733560.9375, kl_p_sum: 12522.22314453125, kl_u_sum: 8896.1640625\n",
      "It: 2020: Elapsed fitting time 751.7695939540863, elbo: -755021.4658203125, lr: 0.01, GPU mem. usage: nan bytes\n",
      "    ll: -733627.125, kl_p_sum: 12479.2734375, kl_u_sum: 8915.0673828125\n",
      "It: 2030: Elapsed fitting time 755.3707928657532, elbo: -754514.3349609375, lr: 0.01, GPU mem. usage: nan bytes\n",
      "    ll: -733174.75, kl_p_sum: 12469.01123046875, kl_u_sum: 8870.57373046875\n",
      "It: 2040: Elapsed fitting time 758.9923229217529, elbo: -754500.3168945312, lr: 0.01, GPU mem. usage: nan bytes\n",
      "    ll: -733205.875, kl_p_sum: 12397.69140625, kl_u_sum: 8896.75048828125\n",
      "It: 2050: Elapsed fitting time 762.6617679595947, elbo: -754281.95703125, lr: 0.01, GPU mem. usage: nan bytes\n",
      "    ll: -733077.5625, kl_p_sum: 12340.44970703125, kl_u_sum: 8863.94482421875\n",
      "It: 2060: Elapsed fitting time 766.2665207386017, elbo: -754813.978515625, lr: 0.01, GPU mem. usage: nan bytes\n",
      "    ll: -733667.4375, kl_p_sum: 12304.8408203125, kl_u_sum: 8841.7001953125\n",
      "It: 2070: Elapsed fitting time 769.8905789852142, elbo: -754324.2119140625, lr: 0.01, GPU mem. usage: nan bytes\n",
      "    ll: -733177.125, kl_p_sum: 12223.8486328125, kl_u_sum: 8923.23828125\n",
      "It: 2080: Elapsed fitting time 773.4950268268585, elbo: -754130.9794921875, lr: 0.01, GPU mem. usage: nan bytes\n",
      "    ll: -733065.375, kl_p_sum: 12250.4208984375, kl_u_sum: 8815.18359375\n",
      "It: 2090: Elapsed fitting time 777.1102941036224, elbo: -754380.8295898438, lr: 0.01, GPU mem. usage: nan bytes\n",
      "    ll: -733399.125, kl_p_sum: 12132.03564453125, kl_u_sum: 8849.6689453125\n",
      "It: 2100: Elapsed fitting time 780.7176859378815, elbo: -754145.3974609375, lr: 0.01, GPU mem. usage: nan bytes\n",
      "    ll: -733107.0625, kl_p_sum: 12188.3623046875, kl_u_sum: 8849.97265625\n",
      "It: 2110: Elapsed fitting time 784.3602509498596, elbo: -753994.1196289062, lr: 0.01, GPU mem. usage: nan bytes\n",
      "    ll: -732974.5, kl_p_sum: 12141.27880859375, kl_u_sum: 8878.3408203125\n",
      "It: 2120: Elapsed fitting time 787.985025882721, elbo: -754094.7456054688, lr: 0.01, GPU mem. usage: nan bytes\n",
      "    ll: -733124.6875, kl_p_sum: 12070.140625, kl_u_sum: 8899.91748046875\n",
      "It: 2130: Elapsed fitting time 791.6138858795166, elbo: -754279.7885742188, lr: 0.01, GPU mem. usage: nan bytes\n",
      "    ll: -733344.0625, kl_p_sum: 12068.3916015625, kl_u_sum: 8867.33447265625\n",
      "It: 2140: Elapsed fitting time 795.3040840625763, elbo: -753869.4658203125, lr: 0.01, GPU mem. usage: nan bytes\n",
      "    ll: -732957.875, kl_p_sum: 12043.517578125, kl_u_sum: 8868.0732421875\n",
      "It: 2150: Elapsed fitting time 798.917466878891, elbo: -754097.30078125, lr: 0.01, GPU mem. usage: nan bytes\n",
      "    ll: -733276.0625, kl_p_sum: 11950.35595703125, kl_u_sum: 8870.88232421875\n",
      "It: 2160: Elapsed fitting time 802.5502347946167, elbo: -754346.310546875, lr: 0.01, GPU mem. usage: nan bytes\n",
      "    ll: -733489.5, kl_p_sum: 11923.66943359375, kl_u_sum: 8933.14111328125\n",
      "It: 2170: Elapsed fitting time 806.1946959495544, elbo: -753907.625, lr: 0.01, GPU mem. usage: nan bytes\n",
      "    ll: -733150.0625, kl_p_sum: 11904.7490234375, kl_u_sum: 8852.8134765625\n",
      "It: 2180: Elapsed fitting time 809.7957189083099, elbo: -753914.5034179688, lr: 0.01, GPU mem. usage: nan bytes\n",
      "    ll: -733160.9375, kl_p_sum: 11873.64794921875, kl_u_sum: 8879.91796875\n",
      "It: 2190: Elapsed fitting time 813.4887487888336, elbo: -753822.3491210938, lr: 0.01, GPU mem. usage: nan bytes\n",
      "    ll: -733127.125, kl_p_sum: 11801.1455078125, kl_u_sum: 8894.07861328125\n",
      "It: 2200: Elapsed fitting time 817.1052067279816, elbo: -754005.3989257812, lr: 0.01, GPU mem. usage: nan bytes\n",
      "    ll: -733340.875, kl_p_sum: 11780.24365234375, kl_u_sum: 8884.2802734375\n",
      "It: 2210: Elapsed fitting time 820.7850058078766, elbo: -753967.4155273438, lr: 0.01, GPU mem. usage: nan bytes\n",
      "    ll: -733258.125, kl_p_sum: 11799.80908203125, kl_u_sum: 8909.4814453125\n",
      "It: 2220: Elapsed fitting time 824.45663189888, elbo: -753674.6850585938, lr: 0.01, GPU mem. usage: nan bytes\n",
      "    ll: -733024.875, kl_p_sum: 11762.81787109375, kl_u_sum: 8886.9921875\n"
     ]
    },
    {
     "name": "stdout",
     "output_type": "stream",
     "text": [
      "It: 2230: Elapsed fitting time 828.0986278057098, elbo: -753657.0844726562, lr: 0.01, GPU mem. usage: nan bytes\n",
      "    ll: -733118.8125, kl_p_sum: 11715.15673828125, kl_u_sum: 8823.115234375\n",
      "It: 2240: Elapsed fitting time 831.7698466777802, elbo: -753805.9077148438, lr: 0.01, GPU mem. usage: nan bytes\n",
      "    ll: -733404.4375, kl_p_sum: 11575.5498046875, kl_u_sum: 8825.92041015625\n",
      "It: 2250: Elapsed fitting time 835.4285237789154, elbo: -753804.4575195312, lr: 0.01, GPU mem. usage: nan bytes\n",
      "    ll: -733232.75, kl_p_sum: 11684.36669921875, kl_u_sum: 8887.3408203125\n",
      "It: 2260: Elapsed fitting time 839.0635979175568, elbo: -753872.173828125, lr: 0.01, GPU mem. usage: nan bytes\n",
      "    ll: -733393.625, kl_p_sum: 11629.13525390625, kl_u_sum: 8849.41357421875\n",
      "It: 2270: Elapsed fitting time 842.7696709632874, elbo: -753713.3916015625, lr: 0.01, GPU mem. usage: nan bytes\n",
      "    ll: -733213.1875, kl_p_sum: 11599.77734375, kl_u_sum: 8900.4267578125\n",
      "It: 2280: Elapsed fitting time 846.3582899570465, elbo: -753561.5883789062, lr: 0.01, GPU mem. usage: nan bytes\n",
      "    ll: -733114.625, kl_p_sum: 11551.607421875, kl_u_sum: 8895.35595703125\n",
      "It: 2290: Elapsed fitting time 850.0421369075775, elbo: -753090.7719726562, lr: 0.01, GPU mem. usage: nan bytes\n",
      "    ll: -732672.125, kl_p_sum: 11544.01904296875, kl_u_sum: 8874.6279296875\n",
      "It: 2300: Elapsed fitting time 853.6778659820557, elbo: -753751.2685546875, lr: 0.01, GPU mem. usage: nan bytes\n",
      "    ll: -733326.875, kl_p_sum: 11570.40234375, kl_u_sum: 8853.9912109375\n",
      "It: 2310: Elapsed fitting time 857.3319549560547, elbo: -753615.6459960938, lr: 0.01, GPU mem. usage: nan bytes\n",
      "    ll: -733210.0, kl_p_sum: 11466.68017578125, kl_u_sum: 8938.9658203125\n",
      "It: 2320: Elapsed fitting time 860.9767088890076, elbo: -753863.9331054688, lr: 0.01, GPU mem. usage: nan bytes\n",
      "    ll: -733571.25, kl_p_sum: 11492.0859375, kl_u_sum: 8800.59716796875\n",
      "It: 2330: Elapsed fitting time 864.6047220230103, elbo: -753564.1728515625, lr: 0.01, GPU mem. usage: nan bytes\n",
      "    ll: -733274.375, kl_p_sum: 11375.87060546875, kl_u_sum: 8913.92724609375\n",
      "It: 2340: Elapsed fitting time 868.2490739822388, elbo: -753871.6440429688, lr: 0.01, GPU mem. usage: nan bytes\n",
      "    ll: -733570.0, kl_p_sum: 11402.77197265625, kl_u_sum: 8898.8720703125\n",
      "It: 2350: Elapsed fitting time 871.8597986698151, elbo: -754174.0361328125, lr: 0.01, GPU mem. usage: nan bytes\n",
      "    ll: -733950.75, kl_p_sum: 11358.26416015625, kl_u_sum: 8865.02197265625\n",
      "It: 2360: Elapsed fitting time 875.5298609733582, elbo: -753770.126953125, lr: 0.01, GPU mem. usage: nan bytes\n",
      "    ll: -733594.25, kl_p_sum: 11331.79296875, kl_u_sum: 8844.083984375\n",
      "It: 2370: Elapsed fitting time 879.1563060283661, elbo: -753607.2275390625, lr: 0.01, GPU mem. usage: nan bytes\n",
      "    ll: -733539.0625, kl_p_sum: 11260.5478515625, kl_u_sum: 8807.6171875\n",
      "It: 2380: Elapsed fitting time 882.7950091362, elbo: -753337.6723632812, lr: 0.01, GPU mem. usage: nan bytes\n",
      "    ll: -733182.25, kl_p_sum: 11300.51171875, kl_u_sum: 8854.91064453125\n",
      "It: 2390: Elapsed fitting time 886.5317487716675, elbo: -753403.6381835938, lr: 0.01, GPU mem. usage: nan bytes\n",
      "    ll: -733251.875, kl_p_sum: 11238.04345703125, kl_u_sum: 8913.7197265625\n",
      "It: 2400: Elapsed fitting time 890.173290014267, elbo: -753001.751953125, lr: 0.01, GPU mem. usage: nan bytes\n",
      "    ll: -732868.625, kl_p_sum: 11217.66552734375, kl_u_sum: 8915.46142578125\n",
      "It: 2410: Elapsed fitting time 893.8542449474335, elbo: -753443.6025390625, lr: 0.01, GPU mem. usage: nan bytes\n",
      "    ll: -733381.125, kl_p_sum: 11206.44287109375, kl_u_sum: 8856.03466796875\n",
      "It: 2420: Elapsed fitting time 897.4898087978363, elbo: -753711.6059570312, lr: 0.01, GPU mem. usage: nan bytes\n",
      "    ll: -733664.4375, kl_p_sum: 11220.74755859375, kl_u_sum: 8826.4208984375\n",
      "It: 2430: Elapsed fitting time 901.1758708953857, elbo: -753076.7163085938, lr: 0.01, GPU mem. usage: nan bytes\n",
      "    ll: -732909.3125, kl_p_sum: 11223.46142578125, kl_u_sum: 8943.9423828125\n",
      "It: 2440: Elapsed fitting time 904.8235757350922, elbo: -753094.4169921875, lr: 0.01, GPU mem. usage: nan bytes\n",
      "    ll: -733053.25, kl_p_sum: 11129.35888671875, kl_u_sum: 8911.80810546875\n",
      "It: 2450: Elapsed fitting time 908.4869079589844, elbo: -752975.6186523438, lr: 0.01, GPU mem. usage: nan bytes\n",
      "    ll: -732985.625, kl_p_sum: 11120.87646484375, kl_u_sum: 8869.1171875\n",
      "It: 2460: Elapsed fitting time 912.1635739803314, elbo: -753211.943359375, lr: 0.01, GPU mem. usage: nan bytes\n",
      "    ll: -733300.625, kl_p_sum: 11057.68310546875, kl_u_sum: 8853.63525390625\n",
      "It: 2470: Elapsed fitting time 915.7836217880249, elbo: -753263.8149414062, lr: 0.01, GPU mem. usage: nan bytes\n",
      "    ll: -733283.25, kl_p_sum: 11120.0595703125, kl_u_sum: 8860.50537109375\n",
      "It: 2480: Elapsed fitting time 919.4481418132782, elbo: -753390.8740234375, lr: 0.01, GPU mem. usage: nan bytes\n",
      "    ll: -733456.25, kl_p_sum: 11082.15087890625, kl_u_sum: 8852.47314453125\n",
      "It: 2490: Elapsed fitting time 923.1003170013428, elbo: -753122.8876953125, lr: 0.01, GPU mem. usage: nan bytes\n",
      "    ll: -733264.3125, kl_p_sum: 11012.009765625, kl_u_sum: 8846.5654296875\n",
      "It: 2500: Elapsed fitting time 926.7568221092224, elbo: -753143.6674804688, lr: 0.01, GPU mem. usage: nan bytes\n",
      "    ll: -733221.625, kl_p_sum: 11028.56884765625, kl_u_sum: 8893.4736328125\n",
      "It: 2510: Elapsed fitting time 930.4044480323792, elbo: -752955.240234375, lr: 0.01, GPU mem. usage: nan bytes\n",
      "    ll: -733073.25, kl_p_sum: 10982.4833984375, kl_u_sum: 8899.5068359375\n",
      "It: 2520: Elapsed fitting time 934.0409560203552, elbo: -752560.7934570312, lr: 0.01, GPU mem. usage: nan bytes\n",
      "    ll: -732747.9375, kl_p_sum: 10972.37646484375, kl_u_sum: 8840.4794921875\n",
      "It: 2530: Elapsed fitting time 937.6688740253448, elbo: -752849.7724609375, lr: 0.01, GPU mem. usage: nan bytes\n",
      "    ll: -732976.375, kl_p_sum: 10979.87841796875, kl_u_sum: 8893.51904296875\n",
      "It: 2540: Elapsed fitting time 941.3445630073547, elbo: -752734.9516601562, lr: 0.01, GPU mem. usage: nan bytes\n",
      "    ll: -732792.375, kl_p_sum: 11045.13720703125, kl_u_sum: 8897.439453125\n",
      "It: 2550: Elapsed fitting time 945.0051357746124, elbo: -753202.4794921875, lr: 0.01, GPU mem. usage: nan bytes\n",
      "    ll: -733372.75, kl_p_sum: 10940.1904296875, kl_u_sum: 8889.5390625\n",
      "It: 2560: Elapsed fitting time 948.6483578681946, elbo: -752740.220703125, lr: 0.01, GPU mem. usage: nan bytes\n",
      "    ll: -732997.5625, kl_p_sum: 10841.4560546875, kl_u_sum: 8901.2021484375\n",
      "It: 2570: Elapsed fitting time 952.3206627368927, elbo: -752786.1108398438, lr: 0.01, GPU mem. usage: nan bytes\n",
      "    ll: -733009.875, kl_p_sum: 10896.98046875, kl_u_sum: 8879.25537109375\n",
      "It: 2580: Elapsed fitting time 955.9594948291779, elbo: -752802.255859375, lr: 0.01, GPU mem. usage: nan bytes\n",
      "    ll: -733060.875, kl_p_sum: 10890.57373046875, kl_u_sum: 8850.80712890625\n",
      "It: 2590: Elapsed fitting time 959.6295409202576, elbo: -752795.5600585938, lr: 0.01, GPU mem. usage: nan bytes\n",
      "    ll: -732995.5, kl_p_sum: 10885.56396484375, kl_u_sum: 8914.49609375\n",
      "It: 2600: Elapsed fitting time 963.3740639686584, elbo: -753199.833984375, lr: 0.01, GPU mem. usage: nan bytes\n",
      "    ll: -733436.0625, kl_p_sum: 10885.822265625, kl_u_sum: 8877.94921875\n",
      "It: 2610: Elapsed fitting time 966.9866960048676, elbo: -752989.2392578125, lr: 0.01, GPU mem. usage: nan bytes\n",
      "    ll: -733280.5625, kl_p_sum: 10850.9609375, kl_u_sum: 8857.7158203125\n",
      "It: 2620: Elapsed fitting time 970.7029347419739, elbo: -753283.7436523438, lr: 0.01, GPU mem. usage: nan bytes\n",
      "    ll: -733622.125, kl_p_sum: 10831.26611328125, kl_u_sum: 8830.3525390625\n",
      "It: 2630: Elapsed fitting time 974.3290078639984, elbo: -752981.9057617188, lr: 0.01, GPU mem. usage: nan bytes\n",
      "    ll: -733353.375, kl_p_sum: 10812.2548828125, kl_u_sum: 8816.27587890625\n",
      "It: 2640: Elapsed fitting time 977.968781709671, elbo: -752912.7231445312, lr: 0.01, GPU mem. usage: nan bytes\n",
      "    ll: -733227.3125, kl_p_sum: 10773.416015625, kl_u_sum: 8911.99462890625\n",
      "It: 2650: Elapsed fitting time 981.5856039524078, elbo: -752905.9990234375, lr: 0.01, GPU mem. usage: nan bytes\n",
      "    ll: -733302.125, kl_p_sum: 10703.396484375, kl_u_sum: 8900.4775390625\n",
      "It: 2660: Elapsed fitting time 985.1954498291016, elbo: -752745.5083007812, lr: 0.01, GPU mem. usage: nan bytes\n",
      "    ll: -733158.9375, kl_p_sum: 10750.58251953125, kl_u_sum: 8835.98828125\n"
     ]
    },
    {
     "name": "stdout",
     "output_type": "stream",
     "text": [
      "It: 2670: Elapsed fitting time 988.8274099826813, elbo: -752767.40625, lr: 0.01, GPU mem. usage: nan bytes\n",
      "    ll: -733195.875, kl_p_sum: 10712.0615234375, kl_u_sum: 8859.4697265625\n",
      "It: 2680: Elapsed fitting time 992.5165410041809, elbo: -752980.234375, lr: 0.01, GPU mem. usage: nan bytes\n",
      "    ll: -733415.125, kl_p_sum: 10651.69921875, kl_u_sum: 8913.41015625\n",
      "It: 2690: Elapsed fitting time 996.1514148712158, elbo: -752468.6733398438, lr: 0.01, GPU mem. usage: nan bytes\n",
      "    ll: -732943.1875, kl_p_sum: 10681.46337890625, kl_u_sum: 8844.0224609375\n",
      "It: 2700: Elapsed fitting time 999.7876398563385, elbo: -752666.5537109375, lr: 0.01, GPU mem. usage: nan bytes\n",
      "    ll: -733235.375, kl_p_sum: 10619.669921875, kl_u_sum: 8811.5087890625\n",
      "It: 2710: Elapsed fitting time 1003.4610240459442, elbo: -752642.0825195312, lr: 0.01, GPU mem. usage: nan bytes\n",
      "    ll: -733155.25, kl_p_sum: 10629.3388671875, kl_u_sum: 8857.49365234375\n",
      "It: 2720: Elapsed fitting time 1007.1436338424683, elbo: -752593.4975585938, lr: 0.01, GPU mem. usage: nan bytes\n",
      "    ll: -733077.0, kl_p_sum: 10623.7607421875, kl_u_sum: 8892.73681640625\n",
      "It: 2730: Elapsed fitting time 1010.7577948570251, elbo: -752668.7016601562, lr: 0.01, GPU mem. usage: nan bytes\n",
      "    ll: -733205.1875, kl_p_sum: 10591.7705078125, kl_u_sum: 8871.74365234375\n",
      "It: 2740: Elapsed fitting time 1014.3696138858795, elbo: -752936.177734375, lr: 0.01, GPU mem. usage: nan bytes\n",
      "    ll: -733457.75, kl_p_sum: 10620.49267578125, kl_u_sum: 8857.93505859375\n",
      "It: 2750: Elapsed fitting time 1018.0183138847351, elbo: -752597.396484375, lr: 0.01, GPU mem. usage: nan bytes\n",
      "    ll: -733123.5, kl_p_sum: 10579.6865234375, kl_u_sum: 8894.2099609375\n",
      "It: 2760: Elapsed fitting time 1021.6684248447418, elbo: -752612.9584960938, lr: 0.01, GPU mem. usage: nan bytes\n",
      "    ll: -733153.25, kl_p_sum: 10575.21044921875, kl_u_sum: 8884.498046875\n",
      "It: 2770: Elapsed fitting time 1025.2664940357208, elbo: -752362.5190429688, lr: 0.01, GPU mem. usage: nan bytes\n",
      "    ll: -732894.5, kl_p_sum: 10596.81103515625, kl_u_sum: 8871.2080078125\n",
      "It: 2780: Elapsed fitting time 1028.884330034256, elbo: -752973.0932617188, lr: 0.01, GPU mem. usage: nan bytes\n",
      "    ll: -733573.375, kl_p_sum: 10515.23583984375, kl_u_sum: 8884.482421875\n",
      "It: 2790: Elapsed fitting time 1032.5969491004944, elbo: -752377.2265625, lr: 0.01, GPU mem. usage: nan bytes\n",
      "    ll: -733076.125, kl_p_sum: 10419.23583984375, kl_u_sum: 8881.86572265625\n",
      "It: 2800: Elapsed fitting time 1036.202621936798, elbo: -752490.0791015625, lr: 0.01, GPU mem. usage: nan bytes\n",
      "    ll: -733059.75, kl_p_sum: 10561.60986328125, kl_u_sum: 8868.71923828125\n",
      "It: 2810: Elapsed fitting time 1039.8227138519287, elbo: -752796.201171875, lr: 0.01, GPU mem. usage: nan bytes\n",
      "    ll: -733513.25, kl_p_sum: 10452.50439453125, kl_u_sum: 8830.44677734375\n",
      "It: 2820: Elapsed fitting time 1043.449543952942, elbo: -752111.8735351562, lr: 0.01, GPU mem. usage: nan bytes\n",
      "    ll: -732763.625, kl_p_sum: 10491.96923828125, kl_u_sum: 8856.279296875\n",
      "It: 2830: Elapsed fitting time 1047.050437927246, elbo: -752346.8383789062, lr: 0.01, GPU mem. usage: nan bytes\n",
      "    ll: -733082.4375, kl_p_sum: 10403.931640625, kl_u_sum: 8860.46923828125\n",
      "It: 2840: Elapsed fitting time 1050.698528766632, elbo: -752471.1831054688, lr: 0.01, GPU mem. usage: nan bytes\n",
      "    ll: -733097.25, kl_p_sum: 10506.076171875, kl_u_sum: 8867.85693359375\n",
      "It: 2850: Elapsed fitting time 1054.3186728954315, elbo: -752844.2983398438, lr: 0.01, GPU mem. usage: nan bytes\n",
      "    ll: -733649.0, kl_p_sum: 10371.7451171875, kl_u_sum: 8823.55322265625\n",
      "It: 2860: Elapsed fitting time 1057.9294848442078, elbo: -752497.2236328125, lr: 0.01, GPU mem. usage: nan bytes\n",
      "    ll: -733183.75, kl_p_sum: 10426.06640625, kl_u_sum: 8887.4072265625\n",
      "It: 2870: Elapsed fitting time 1061.5964260101318, elbo: -752084.3696289062, lr: 0.01, GPU mem. usage: nan bytes\n",
      "    ll: -732886.1875, kl_p_sum: 10368.41650390625, kl_u_sum: 8829.765625\n",
      "It: 2880: Elapsed fitting time 1065.2672758102417, elbo: -752372.9829101562, lr: 0.01, GPU mem. usage: nan bytes\n",
      "    ll: -733160.125, kl_p_sum: 10385.09228515625, kl_u_sum: 8827.765625\n",
      "It: 2890: Elapsed fitting time 1068.9690067768097, elbo: -752379.494140625, lr: 0.01, GPU mem. usage: nan bytes\n",
      "    ll: -733208.625, kl_p_sum: 10323.5751953125, kl_u_sum: 8847.2939453125\n",
      "It: 2900: Elapsed fitting time 1072.6072027683258, elbo: -752334.8598632812, lr: 0.01, GPU mem. usage: nan bytes\n",
      "    ll: -733124.75, kl_p_sum: 10335.7744140625, kl_u_sum: 8874.33544921875\n",
      "It: 2910: Elapsed fitting time 1076.2570970058441, elbo: -752263.6840820312, lr: 0.01, GPU mem. usage: nan bytes\n",
      "    ll: -733090.6875, kl_p_sum: 10353.8466796875, kl_u_sum: 8819.14990234375\n",
      "It: 2920: Elapsed fitting time 1079.8750360012054, elbo: -752647.7221679688, lr: 0.01, GPU mem. usage: nan bytes\n",
      "    ll: -733482.25, kl_p_sum: 10341.32568359375, kl_u_sum: 8824.146484375\n",
      "It: 2930: Elapsed fitting time 1083.6096739768982, elbo: -752592.5942382812, lr: 0.01, GPU mem. usage: nan bytes\n",
      "    ll: -733422.1875, kl_p_sum: 10315.5849609375, kl_u_sum: 8854.82177734375\n",
      "It: 2940: Elapsed fitting time 1087.26917886734, elbo: -752574.5595703125, lr: 0.01, GPU mem. usage: nan bytes\n",
      "    ll: -733327.0625, kl_p_sum: 10344.6689453125, kl_u_sum: 8902.828125\n",
      "It: 2950: Elapsed fitting time 1090.9192278385162, elbo: -752649.5981445312, lr: 0.01, GPU mem. usage: nan bytes\n",
      "    ll: -733525.25, kl_p_sum: 10245.50439453125, kl_u_sum: 8878.84375\n",
      "It: 2960: Elapsed fitting time 1094.5171267986298, elbo: -752542.3779296875, lr: 0.01, GPU mem. usage: nan bytes\n",
      "    ll: -733374.25, kl_p_sum: 10264.9765625, kl_u_sum: 8903.1513671875\n",
      "It: 2970: Elapsed fitting time 1098.14603972435, elbo: -752564.490234375, lr: 0.01, GPU mem. usage: nan bytes\n",
      "    ll: -733444.1875, kl_p_sum: 10266.87109375, kl_u_sum: 8853.431640625\n",
      "It: 2980: Elapsed fitting time 1101.8262598514557, elbo: -752362.0478515625, lr: 0.01, GPU mem. usage: nan bytes\n",
      "    ll: -733196.5, kl_p_sum: 10275.5908203125, kl_u_sum: 8889.95703125\n",
      "It: 2990: Elapsed fitting time 1105.4901959896088, elbo: -752131.498046875, lr: 0.01, GPU mem. usage: nan bytes\n",
      "    ll: -732966.8125, kl_p_sum: 10248.7607421875, kl_u_sum: 8915.9248046875\n",
      "It: 2999: Elapsed fitting time 1108.7876029014587, elbo: -752470.4829101562, lr: 0.01, GPU mem. usage: nan bytes\n",
      "    ll: -733349.625, kl_p_sum: 10239.08544921875, kl_u_sum: 8881.7724609375\n"
     ]
    }
   ],
   "source": [
    "log = vae_fit_latent_reg_model(l_mdl = subject_mdl_f, q_p_dists=q_p_mode_dists, q_u_dists=q_u_mode_dists, \n",
    "                             prior_p_dists=prior_p_dists, prior_u_dists=prior_u_dists, learning_rates = .01,\n",
    "                             x=x, y=y, x_props=neuron_props, batch_size = 1000, send_size = 1000, update_int=10, \n",
    "                             max_its=3000, min_var=.00001, fit_priors=True)"
   ]
  },
  {
   "cell_type": "code",
   "execution_count": 46,
   "metadata": {},
   "outputs": [
    {
     "data": {
      "text/plain": [
       "[<matplotlib.lines.Line2D at 0x1241d2c88>]"
      ]
     },
     "execution_count": 46,
     "metadata": {},
     "output_type": "execute_result"
    },
    {
     "data": {
      "image/png": "[encoded data removed]",
      "text/plain": [
       "<Figure size 432x288 with 1 Axes>"
      ]
     },
     "metadata": {
      "needs_background": "light"
     },
     "output_type": "display_data"
    }
   ],
   "source": [
    "plt.plot(log['elapsed_time'], log['elbo'])"
   ]
  },
  {
   "cell_type": "code",
   "execution_count": 47,
   "metadata": {},
   "outputs": [
    {
     "data": {
      "text/plain": [
       "[<matplotlib.axes._subplots.AxesSubplot at 0x1242012b0>,\n",
       " <matplotlib.axes._subplots.AxesSubplot at 0x12168bda0>,\n",
       " <matplotlib.axes._subplots.AxesSubplot at 0x1216f0358>]"
      ]
     },
     "execution_count": 47,
     "metadata": {},
     "output_type": "execute_result"
    },
    {
     "data": {
      "image/png": "[encoded data removed]",
      "text/plain": [
       "<Figure size 432x288 with 6 Axes>"
      ]
     },
     "metadata": {
      "needs_background": "light"
     },
     "output_type": "display_data"
    }
   ],
   "source": [
    "vis_g = 0\n",
    "\n",
    "true_w = torch.matmul(true_u[vis_g], true_p[vis_g].t()).detach().numpy()\n",
    "\n",
    "est_p = [d.sample(neuron_props[vis_g]) for d in q_p_mode_dists[vis_g]]\n",
    "est_p = torch.cat(est_p, dim=1)\n",
    "#esp_p = torch.matmul(est_p, m_f.w[vis_g])\n",
    "#est_p = est_p*m_f.v[vis_g]\n",
    "\n",
    "est_u = [d.sample(neuron_props[vis_g]) for d in q_u_mode_dists[vis_g]]\n",
    "est_u = torch.cat(est_u, dim=1)\n",
    "\n",
    "est_w = torch.matmul(est_u, est_p.t()).detach().cpu().numpy()\n",
    "\n",
    "cmp_n_mats([true_w, est_w, true_w-est_w], show_colorbars=True)\n"
   ]
  },
  {
   "cell_type": "code",
   "execution_count": 48,
   "metadata": {},
   "outputs": [],
   "source": [
    "vis_g = 0"
   ]
  },
  {
   "cell_type": "code",
   "execution_count": 49,
   "metadata": {},
   "outputs": [
    {
     "data": {
      "image/png": "[encoded data removed]",
      "text/plain": [
       "<Figure size 432x288 with 8 Axes>"
      ]
     },
     "metadata": {
      "needs_background": "light"
     },
     "output_type": "display_data"
    }
   ],
   "source": [
    "visualize_mode_pairs(true_prior_p_dists[vis_g], prior_p_dists[vis_g])"
   ]
  },
  {
   "cell_type": "code",
   "execution_count": 50,
   "metadata": {},
   "outputs": [
    {
     "data": {
      "image/png": "[encoded data removed]",
      "text/plain": [
       "<Figure size 432x288 with 8 Axes>"
      ]
     },
     "metadata": {
      "needs_background": "light"
     },
     "output_type": "display_data"
    }
   ],
   "source": [
    "visualize_mode_pairs(true_prior_u_dists[vis_g], prior_u_dists[vis_g])"
   ]
  },
  {
   "cell_type": "code",
   "execution_count": null,
   "metadata": {},
   "outputs": [],
   "source": [
    "m_f.v[0]"
   ]
  },
  {
   "cell_type": "code",
   "execution_count": null,
   "metadata": {},
   "outputs": [],
   "source": [
    "a = torch.tensor([[1.0, 2], [3, 4]])"
   ]
  },
  {
   "cell_type": "code",
   "execution_count": null,
   "metadata": {},
   "outputs": [],
   "source": [
    "a"
   ]
  },
  {
   "cell_type": "code",
   "execution_count": null,
   "metadata": {},
   "outputs": [],
   "source": [
    "b = torch.tensor([1.0, 2.0])"
   ]
  },
  {
   "cell_type": "code",
   "execution_count": null,
   "metadata": {},
   "outputs": [],
   "source": [
    "b.shape"
   ]
  },
  {
   "cell_type": "code",
   "execution_count": null,
   "metadata": {},
   "outputs": [],
   "source": [
    "a*b"
   ]
  },
  {
   "cell_type": "code",
   "execution_count": null,
   "metadata": {},
   "outputs": [],
   "source": []
  }
 ],
 "metadata": {
  "kernelspec": {
   "display_name": "Python 3",
   "language": "python",
   "name": "python3"
  },
  "language_info": {
   "codemirror_mode": {
    "name": "ipython",
    "version": 3
   },
   "file_extension": ".py",
   "mimetype": "text/x-python",
   "name": "python",
   "nbconvert_exporter": "python",
   "pygments_lexer": "ipython3",
   "version": "3.7.2"
  }
 },
 "nbformat": 4,
 "nbformat_minor": 2
}
