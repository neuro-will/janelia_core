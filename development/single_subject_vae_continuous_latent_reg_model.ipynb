{
 "cells": [
  {
   "cell_type": "markdown",
   "metadata": {},
   "source": [
    "Here we develop code to fit latent regression models to data with priors on the projection matrices"
   ]
  },
  {
   "cell_type": "code",
   "execution_count": 1,
   "metadata": {},
   "outputs": [],
   "source": [
    "%load_ext autoreload\n",
    "%autoreload 2"
   ]
  },
  {
   "cell_type": "code",
   "execution_count": 2,
   "metadata": {},
   "outputs": [],
   "source": [
    "import matplotlib.pyplot as plt\n",
    "import numpy as np\n",
    "import torch\n",
    "\n",
    "from janelia_core.ml.extra_torch_modules import Bias\n",
    "from janelia_core.ml.extra_torch_modules import ConstantBoundedFcn\n",
    "from janelia_core.ml.extra_torch_modules import IndSmpConstantBoundedFcn\n",
    "from janelia_core.ml.extra_torch_modules import IndSmpConstantRealFcn\n",
    "from janelia_core.ml.extra_torch_modules import LogGaussianBumpFcn\n",
    "\n",
    "from janelia_core.ml.latent_regression import LatentRegModel\n",
    "from janelia_core.ml.latent_regression import LinearMap\n",
    "from janelia_core.ml.latent_regression import IdentityMap\n",
    "from janelia_core.ml.latent_regression import vae_fit_latent_reg_model\n",
    "\n",
    "from janelia_core.ml.torch_distributions import CondBernoulliDistribution\n",
    "from janelia_core.ml.torch_distributions import CondGaussianDistribution\n",
    "from janelia_core.ml.torch_distributions import CondSpikeSlabDistribution\n",
    "\n",
    "from janelia_core.visualization.matrix_visualization import cmp_n_mats"
   ]
  },
  {
   "cell_type": "markdown",
   "metadata": {},
   "source": [
    "## Parameters go here"
   ]
  },
  {
   "cell_type": "code",
   "execution_count": 3,
   "metadata": {},
   "outputs": [],
   "source": [
    "n_neurons = [100, 120]\n",
    "\n",
    "d_in = n_neurons\n",
    "d_out = n_neurons\n",
    "\n",
    "d_proj = [2, 2]\n",
    "d_trans = [2, 2]\n",
    "\n",
    "n_smps = 1000\n",
    "\n",
    "device = 'cuda' # Device to perform fitting on"
   ]
  },
  {
   "cell_type": "markdown",
   "metadata": {},
   "source": [
    "## Define the true conditional priors on mode weights"
   ]
  },
  {
   "cell_type": "code",
   "execution_count": 4,
   "metadata": {},
   "outputs": [],
   "source": [
    "n_grps = len(n_neurons)"
   ]
  },
  {
   "cell_type": "code",
   "execution_count": 5,
   "metadata": {},
   "outputs": [
    {
     "name": "stderr",
     "output_type": "stream",
     "text": [
      "c:\\users\\bishopw\\documents\\research\\projects\\janelia_core\\janelia_core\\ml\\extra_torch_modules.py:64: RuntimeWarning: divide by zero encountered in arctanh\n",
      "  init_v = np.arctanh(2*(init_value - lower_bound)/(upper_bound - lower_bound) - 1)\n"
     ]
    }
   ],
   "source": [
    "# Spike and slab modes\n",
    "\n",
    "n_prior_nodes = 20\n",
    "\n",
    "true_prior_p_dists = [None]*n_grps\n",
    "true_prior_u_dists = [None]*n_grps\n",
    "\n",
    "for g in range(n_grps):\n",
    "\n",
    "    n_grp_modes = [d_proj[g], d_trans[g]]\n",
    "    for i in range(2):\n",
    "        # Iterate over p and u modes\n",
    "        n_cur_modes = n_grp_modes[i]\n",
    "        proj_mode_dists = [None]*n_cur_modes\n",
    "        for mode_i in range(n_cur_modes):\n",
    "            \n",
    "            spike_log_prob_fcn = LogGaussianBumpFcn(d_x=2, ctr_std_init=0.25, log_gain_init=0.0)\n",
    "            spike_d = CondBernoulliDistribution(spike_log_prob_fcn)\n",
    "            \n",
    "            slab_mn_fcn = torch.nn.Sequential(torch.nn.Linear(2,n_prior_nodes), torch.nn.ReLU(), \n",
    "                                              torch.nn.Linear(n_prior_nodes, n_prior_nodes), torch.nn.ReLU(), \n",
    "                                              torch.nn.Linear(n_prior_nodes,1))\n",
    "            slab_mn_fcn[4].weight.data = 10*slab_mn_fcn[4].weight.data\n",
    "            \n",
    "            slab_std_fcn = ConstantBoundedFcn(lower_bound=np.asarray([.001]), upper_bound=np.asarray([10]), \n",
    "                                        init_value=np.asarray(.01))\n",
    "            \n",
    "            slab_d = CondGaussianDistribution(mn_f=slab_mn_fcn, std_f=slab_std_fcn)\n",
    "    \n",
    "            proj_mode_dists[mode_i] = CondSpikeSlabDistribution(d=1, spike_d=spike_d, slab_d=slab_d)\n",
    "        \n",
    "        if i == 0:\n",
    "            true_prior_p_dists[g] = proj_mode_dists\n",
    "        else:\n",
    "            true_prior_u_dists[g] = proj_mode_dists"
   ]
  },
  {
   "cell_type": "code",
   "execution_count": 6,
   "metadata": {},
   "outputs": [],
   "source": [
    "# Group the true priors by group (so that distributions for p and u modes are together) for convenience\n",
    "true_prior_mode_dists = list(zip(true_prior_p_dists, true_prior_u_dists))"
   ]
  },
  {
   "cell_type": "markdown",
   "metadata": {},
   "source": [
    "## Generate neuron properties"
   ]
  },
  {
   "cell_type": "code",
   "execution_count": 7,
   "metadata": {},
   "outputs": [],
   "source": [
    "neuron_props = [torch.zeros(n_neurons[g], 2).uniform_() for g in range(n_grps)]"
   ]
  },
  {
   "cell_type": "markdown",
   "metadata": {},
   "source": [
    "## Generate true mode weights from the prior that was just defined "
   ]
  },
  {
   "cell_type": "code",
   "execution_count": 8,
   "metadata": {},
   "outputs": [],
   "source": [
    "true_p = [None]*n_grps\n",
    "true_u = [None]*n_grps\n",
    "\n",
    "for g in range(n_grps):\n",
    "    n_grp_neurons = n_neurons[g]\n",
    "    n_grp_modes = [d_proj[g], d_trans[g]]\n",
    "    \n",
    "    for i in range(2):\n",
    "        n_cur_modes = n_grp_modes[i]\n",
    "        mode_mat = torch.zeros(n_grp_neurons, n_cur_modes)\n",
    "        for mode_i in range(n_cur_modes):\n",
    "            mode_mat[:, mode_i] = true_prior_mode_dists[g][i][mode_i].form_standard_sample(\n",
    "                true_prior_mode_dists[g][i][mode_i].sample(neuron_props[g])).squeeze()\n",
    "        if i == 0:\n",
    "            # P modes\n",
    "            true_p[g] = mode_mat\n",
    "        else:\n",
    "            # U modes\n",
    "            true_u[g] = mode_mat"
   ]
  },
  {
   "cell_type": "markdown",
   "metadata": {},
   "source": [
    "# Define the true subject model"
   ]
  },
  {
   "cell_type": "code",
   "execution_count": 9,
   "metadata": {},
   "outputs": [],
   "source": [
    "n_output_groups = len(d_in)\n",
    "\n",
    "M = IdentityMap()\n",
    "S = [Bias(d_o) for d_o in d_out]\n",
    "mdl = LatentRegModel(d_in, d_out, d_proj, d_trans, M, S, direct_pairs=None)\n",
    "\n",
    "for g, p_g in enumerate(mdl.p):\n",
    "    p_g.data = true_p[g]\n",
    "for h, u_h in enumerate(mdl.u):\n",
    "    u_h.data = true_u[h]"
   ]
  },
  {
   "cell_type": "markdown",
   "metadata": {},
   "source": [
    "## Generate data"
   ]
  },
  {
   "cell_type": "code",
   "execution_count": 10,
   "metadata": {},
   "outputs": [],
   "source": [
    "x = [torch.randn([n_smps, d]) for d in d_in]\n",
    "y_pred = mdl(x)\n",
    "y = mdl.generate(x)"
   ]
  },
  {
   "cell_type": "markdown",
   "metadata": {},
   "source": [
    "## Define the subject model we will fit"
   ]
  },
  {
   "cell_type": "code",
   "execution_count": 96,
   "metadata": {},
   "outputs": [],
   "source": [
    "m_f = IdentityMap()\n",
    "s_f = [Bias(d_o) for d_o in d_out]\n",
    "subject_mdl_f = LatentRegModel(d_in, d_out, d_proj, d_trans, m_f, s_f, direct_pairs=None, assign_p_u=False)\n",
    "subject_mdl_f = subject_mdl_f.to(device)"
   ]
  },
  {
   "cell_type": "markdown",
   "metadata": {},
   "source": [
    "## Define the inference distribution (  $Q(l, r)$  ) that we will use"
   ]
  },
  {
   "cell_type": "code",
   "execution_count": 97,
   "metadata": {},
   "outputs": [],
   "source": [
    "q_p_mode_dists = [None]*n_grps\n",
    "q_u_mode_dists = [None]*n_grps\n",
    "\n",
    "for g in range(n_grps):\n",
    "    n_grp_neurons = n_neurons[g]\n",
    "    for i in range(2):\n",
    "        if i == 0:\n",
    "            n_grp_modes = d_proj[g]\n",
    "        else:\n",
    "            n_grp_modes = d_trans[g]\n",
    "    \n",
    "        q_dists = [None]*n_grp_modes\n",
    "        \n",
    "        for mode_i in range(n_grp_modes):\n",
    "            mn_f = IndSmpConstantRealFcn(n_grp_neurons, init_value=.01)\n",
    "            std_f = IndSmpConstantBoundedFcn(n_grp_neurons, lower_bound=.01, upper_bound=10.0, init_value=.2)\n",
    "            q_dists[mode_i] = CondGaussianDistribution(mn_f=mn_f, std_f=std_f)\n",
    "            q_dists[mode_i] = q_dists[mode_i].to(device)\n",
    "        \n",
    "        if i == 0:\n",
    "            q_p_mode_dists[g] = q_dists\n",
    "        else:\n",
    "            q_u_mode_dists[g] = q_dists"
   ]
  },
  {
   "cell_type": "markdown",
   "metadata": {},
   "source": [
    "## Define the conditional prior distribution (  $P(l,r|m)$  ) we will fit"
   ]
  },
  {
   "cell_type": "code",
   "execution_count": 98,
   "metadata": {},
   "outputs": [],
   "source": [
    "n_fit_prior_nodes = 50\n",
    "\n",
    "prior_p_dists = [None]*n_grps\n",
    "prior_u_dists = [None]*n_grps\n",
    "\n",
    "for g in range(n_grps):\n",
    "    n_grp_neurons = n_neurons[g]\n",
    "    for i in range(2):\n",
    "        if i == 0:\n",
    "            n_grp_modes = d_proj[g]\n",
    "        else:\n",
    "            n_grp_modes = d_trans[g]\n",
    "            \n",
    "        prior_dists = [None]*n_grp_modes\n",
    "        \n",
    "        for mode_i in range(n_grp_modes):\n",
    "            mn_fcn = torch.nn.Sequential(torch.nn.Linear(2,n_fit_prior_nodes), torch.nn.ReLU(), \n",
    "                                              torch.nn.Linear(n_fit_prior_nodes, n_fit_prior_nodes), torch.nn.ReLU(), \n",
    "                                              torch.nn.Linear(n_fit_prior_nodes,1))\n",
    "            \n",
    "            std_fcn = ConstantBoundedFcn(lower_bound=np.asarray([.001]), upper_bound=np.asarray([10]), \n",
    "                                        init_value=np.asarray(.01))\n",
    "            \n",
    "            prior_dists[mode_i] = CondGaussianDistribution(mn_f=mn_fcn, std_f=std_fcn)\n",
    "            prior_dists[mode_i] = prior_dists[mode_i].to(device)\n",
    "        \n",
    "        if i == 0:\n",
    "            prior_p_dists[g] = prior_dists\n",
    "        else:\n",
    "            prior_u_dists[g] = prior_dists"
   ]
  },
  {
   "cell_type": "markdown",
   "metadata": {},
   "source": [
    "## Fit everything with variational inference"
   ]
  },
  {
   "cell_type": "code",
   "execution_count": 102,
   "metadata": {},
   "outputs": [
    {
     "name": "stdout",
     "output_type": "stream",
     "text": [
      "Initial GPU memory usage: 2327040 bytes.\n",
      "GPU memory usage after sending properties: 2329088 bytes.\n",
      "0: Elapsed fitting time 0.0, elbo: -204825.8125, lr: 0.01, mem. usage: 2824704 bytes\n",
      "100: Elapsed fitting time 2.0494704246520996, elbo: -181350.953125, lr: 0.01, mem. usage: 2824704 bytes\n",
      "200: Elapsed fitting time 4.0119102001190186, elbo: -157627.984375, lr: 0.01, mem. usage: 2824704 bytes\n",
      "300: Elapsed fitting time 6.214527368545532, elbo: -146433.46875, lr: 0.01, mem. usage: 2824704 bytes\n",
      "400: Elapsed fitting time 8.472184658050537, elbo: -137554.421875, lr: 0.01, mem. usage: 2824704 bytes\n",
      "500: Elapsed fitting time 10.612797737121582, elbo: -129933.1328125, lr: 0.01, mem. usage: 2824704 bytes\n",
      "600: Elapsed fitting time 12.766376256942749, elbo: -125723.4296875, lr: 0.01, mem. usage: 2824704 bytes\n",
      "700: Elapsed fitting time 14.75083589553833, elbo: -125591.5625, lr: 0.01, mem. usage: 2824704 bytes\n",
      "800: Elapsed fitting time 16.713273525238037, elbo: -125633.7109375, lr: 0.01, mem. usage: 2824704 bytes\n",
      "900: Elapsed fitting time 18.73275589942932, elbo: -117599.15625, lr: 0.01, mem. usage: 2824704 bytes\n",
      "1000: Elapsed fitting time 20.71220374107361, elbo: -119389.46875, lr: 0.01, mem. usage: 2824704 bytes\n",
      "1100: Elapsed fitting time 22.670642614364624, elbo: -117948.4296875, lr: 0.01, mem. usage: 2824704 bytes\n",
      "1200: Elapsed fitting time 24.71014165878296, elbo: -119962.734375, lr: 0.01, mem. usage: 2824704 bytes\n",
      "1300: Elapsed fitting time 26.80867600440979, elbo: -118197.0390625, lr: 0.01, mem. usage: 2824704 bytes\n",
      "1400: Elapsed fitting time 28.821153163909912, elbo: -117299.03125, lr: 0.01, mem. usage: 2824704 bytes\n",
      "1500: Elapsed fitting time 31.044480085372925, elbo: -115391.46875, lr: 0.01, mem. usage: 2824704 bytes\n",
      "1600: Elapsed fitting time 33.29869270324707, elbo: -114124.640625, lr: 0.01, mem. usage: 2824704 bytes\n",
      "1700: Elapsed fitting time 35.34219980239868, elbo: -115309.421875, lr: 0.01, mem. usage: 2824704 bytes\n",
      "1800: Elapsed fitting time 37.56115245819092, elbo: -113826.796875, lr: 0.01, mem. usage: 2824704 bytes\n",
      "1900: Elapsed fitting time 39.702728033065796, elbo: -114160.8984375, lr: 0.01, mem. usage: 2824704 bytes\n",
      "2000: Elapsed fitting time 41.75122809410095, elbo: -115857.015625, lr: 0.01, mem. usage: 2824704 bytes\n",
      "2100: Elapsed fitting time 43.71594476699829, elbo: -112403.515625, lr: 0.01, mem. usage: 2824704 bytes\n",
      "2200: Elapsed fitting time 45.66337060928345, elbo: -112466.0546875, lr: 0.01, mem. usage: 2824704 bytes\n",
      "2300: Elapsed fitting time 47.603803873062134, elbo: -113337.828125, lr: 0.01, mem. usage: 2824704 bytes\n",
      "2400: Elapsed fitting time 49.59120178222656, elbo: -113755.484375, lr: 0.01, mem. usage: 2824704 bytes\n",
      "2500: Elapsed fitting time 51.532588958740234, elbo: -112901.828125, lr: 0.01, mem. usage: 2824704 bytes\n",
      "2600: Elapsed fitting time 53.49402451515198, elbo: -111319.59375, lr: 0.01, mem. usage: 2824704 bytes\n",
      "2700: Elapsed fitting time 55.439453125, elbo: -110943.3203125, lr: 0.01, mem. usage: 2824704 bytes\n",
      "2800: Elapsed fitting time 57.41990661621094, elbo: -113828.125, lr: 0.01, mem. usage: 2824704 bytes\n",
      "2900: Elapsed fitting time 59.381343603134155, elbo: -112059.671875, lr: 0.01, mem. usage: 2824704 bytes\n",
      "3000: Elapsed fitting time 61.376811027526855, elbo: -109351.2109375, lr: 0.01, mem. usage: 2824704 bytes\n",
      "3100: Elapsed fitting time 63.30522441864014, elbo: -110932.796875, lr: 0.01, mem. usage: 2824704 bytes\n",
      "3200: Elapsed fitting time 65.29068088531494, elbo: -110486.71875, lr: 0.01, mem. usage: 2824704 bytes\n",
      "3300: Elapsed fitting time 67.22409868240356, elbo: -112055.7734375, lr: 0.01, mem. usage: 2824704 bytes\n",
      "3400: Elapsed fitting time 69.15152192115784, elbo: -112520.390625, lr: 0.01, mem. usage: 2824704 bytes\n",
      "3500: Elapsed fitting time 71.1199586391449, elbo: -111659.375, lr: 0.01, mem. usage: 2824704 bytes\n",
      "3600: Elapsed fitting time 73.07839512825012, elbo: -112630.71875, lr: 0.01, mem. usage: 2824704 bytes\n",
      "3700: Elapsed fitting time 75.02637600898743, elbo: -109495.234375, lr: 0.01, mem. usage: 2824704 bytes\n",
      "3800: Elapsed fitting time 77.04885601997375, elbo: -110325.3046875, lr: 0.01, mem. usage: 2824704 bytes\n",
      "3900: Elapsed fitting time 79.0199408531189, elbo: -111644.34375, lr: 0.01, mem. usage: 2824704 bytes\n",
      "4000: Elapsed fitting time 80.9713830947876, elbo: -110703.296875, lr: 0.01, mem. usage: 2824704 bytes\n",
      "4100: Elapsed fitting time 82.91079926490784, elbo: -111354.8046875, lr: 0.01, mem. usage: 2824704 bytes\n",
      "4200: Elapsed fitting time 84.86823225021362, elbo: -112546.40625, lr: 0.01, mem. usage: 2824704 bytes\n",
      "4300: Elapsed fitting time 86.81263446807861, elbo: -112351.796875, lr: 0.01, mem. usage: 2824704 bytes\n",
      "4400: Elapsed fitting time 88.77910208702087, elbo: -108979.359375, lr: 0.01, mem. usage: 2824704 bytes\n",
      "4500: Elapsed fitting time 90.72352766990662, elbo: -110102.4296875, lr: 0.01, mem. usage: 2824704 bytes\n",
      "4600: Elapsed fitting time 92.65395331382751, elbo: -112580.0, lr: 0.01, mem. usage: 2824704 bytes\n",
      "4700: Elapsed fitting time 94.582359790802, elbo: -111868.4296875, lr: 0.01, mem. usage: 2824704 bytes\n",
      "4800: Elapsed fitting time 96.52140855789185, elbo: -110061.3671875, lr: 0.01, mem. usage: 2824704 bytes\n",
      "4900: Elapsed fitting time 98.50486302375793, elbo: -109743.984375, lr: 0.01, mem. usage: 2824704 bytes\n",
      "4999: Elapsed fitting time 100.4703197479248, elbo: -108992.15625, lr: 0.01, mem. usage: 2824704 bytes\n"
     ]
    }
   ],
   "source": [
    "log = vae_fit_latent_reg_model(l_mdl = subject_mdl_f, q_p_dists=q_p_mode_dists, q_u_dists=q_u_mode_dists, \n",
    "                             prior_p_dists=prior_p_dists, prior_u_dists=prior_u_dists, learning_rates = .01,\n",
    "                             x=x, y=y, x_props=neuron_props, batch_size = 100, send_size = 100, update_int=100, \n",
    "                             max_its=5000, min_var=.00001)"
   ]
  },
  {
   "cell_type": "code",
   "execution_count": 103,
   "metadata": {},
   "outputs": [
    {
     "data": {
      "text/plain": [
       "[<matplotlib.lines.Line2D at 0x19a9bf18748>]"
      ]
     },
     "execution_count": 103,
     "metadata": {},
     "output_type": "execute_result"
    },
    {
     "data": {
      "image/png": "[encoded data removed]",
      "text/plain": [
       "<Figure size 432x288 with 1 Axes>"
      ]
     },
     "metadata": {
      "needs_background": "light"
     },
     "output_type": "display_data"
    }
   ],
   "source": [
    "plt.plot(log['elapsed_time'], log['elbo'])"
   ]
  },
  {
   "cell_type": "code",
   "execution_count": 127,
   "metadata": {},
   "outputs": [
    {
     "data": {
      "text/plain": [
       "[<matplotlib.axes._subplots.AxesSubplot at 0x19a9bfcfdd8>,\n",
       " <matplotlib.axes._subplots.AxesSubplot at 0x19a9c08c470>,\n",
       " <matplotlib.axes._subplots.AxesSubplot at 0x19aa2f249e8>]"
      ]
     },
     "execution_count": 127,
     "metadata": {},
     "output_type": "execute_result"
    },
    {
     "data": {
      "image/png": "[encoded data removed]",
      "text/plain": [
       "<Figure size 432x288 with 6 Axes>"
      ]
     },
     "metadata": {
      "needs_background": "light"
     },
     "output_type": "display_data"
    }
   ],
   "source": [
    "vis_g = 1\n",
    "\n",
    "true_w = torch.matmul(true_u[vis_g], true_p[vis_g].t()).detach().numpy()\n",
    "\n",
    "est_p = [d.sample(neuron_props[vis_g]) for d in q_p_mode_dists[vis_g]]\n",
    "est_p = torch.cat(est_p, dim=1)\n",
    "\n",
    "est_u = [d.sample(neuron_props[vis_g]) for d in q_u_mode_dists[vis_g]]\n",
    "est_u = torch.cat(est_u, dim=1)\n",
    "\n",
    "est_w = torch.matmul(est_u, est_p.t()).detach().cpu().numpy()\n",
    "\n",
    "cmp_n_mats([true_w, est_w, true_w-est_w], show_colorbars=True)\n"
   ]
  }
 ],
 "metadata": {
  "kernelspec": {
   "display_name": "Python 3",
   "language": "python",
   "name": "python3"
  },
  "language_info": {
   "codemirror_mode": {
    "name": "ipython",
    "version": 3
   },
   "file_extension": ".py",
   "mimetype": "text/x-python",
   "name": "python",
   "nbconvert_exporter": "python",
   "pygments_lexer": "ipython3",
   "version": "3.6.7"
  }
 },
 "nbformat": 4,
 "nbformat_minor": 2
}
