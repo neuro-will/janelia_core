{
 "cells": [
  {
   "cell_type": "markdown",
   "metadata": {},
   "source": [
    "This is a script to see if we can develop a way to efficient fit \"bump\" functions. \n",
    "\n",
    "By \"bump\" function we mean a function: \n",
    "\n",
    "    1) Which has finite support\n",
    "    2) Is parameterized by a location (e.g., center) that can move\n",
    "    3) May have other parameters (e.g., bandwidth, magnitude)\n",
    "    \n",
    "The chief difficulties we face are: \n",
    "\n",
    "    1) How do we fit these functions when they may be initialized so there locations are in a bad initial place.  In these cases, there may be zero gradients for location.  Our solution here is to add terms to the optimization objective that encourage \"wandering\" when gradients are small. \n",
    "    \n",
    "    2) With the finite support, many data points will evaluate to 0.  We would like to avoid wasting computation on these.  We achieve this by selecting only points within the support to do computation for. \n"
   ]
  },
  {
   "cell_type": "code",
   "execution_count": 1,
   "metadata": {},
   "outputs": [],
   "source": [
    "%load_ext autoreload\n",
    "%autoreload 2"
   ]
  },
  {
   "cell_type": "code",
   "execution_count": 2,
   "metadata": {},
   "outputs": [],
   "source": [
    "from typing import Callable, Sequence\n",
    "\n",
    "import matplotlib.pyplot as plt\n",
    "import numpy as np\n",
    "import torch\n",
    "import time\n",
    "\n",
    "from janelia_core.ml.utils import torch_mod_to_fcn"
   ]
  },
  {
   "cell_type": "markdown",
   "metadata": {},
   "source": [
    "### BumpFcn"
   ]
  },
  {
   "cell_type": "code",
   "execution_count": 378,
   "metadata": {},
   "outputs": [],
   "source": [
    "class BumpFcn(torch.nn.Module):\n",
    "    \n",
    "    def __init__(self, ctr: torch.Tensor, band_widths: torch.Tensor, mag: float, support_p: float = .01):\n",
    "        \"\"\" Creates a bump function with initial values. \n",
    "        \n",
    "        We use exponential functions of the form y(x) = mag*exp(-d), where\n",
    "        d = sum[((x - ctr)**2)/band_widths]\n",
    "        \n",
    "        Args:\n",
    "        \n",
    "            ctr: The initial center\n",
    "            \n",
    "            band_widths: The initial band widths\n",
    "            \n",
    "            mag: The initial magnitude \n",
    "            \n",
    "            support_p: The percent of max value in any direction where we define the boundary of support\n",
    "        \n",
    "        \"\"\"\n",
    "        super().__init__()\n",
    "        \n",
    "        self.ctr = torch.nn.Parameter(ctr)\n",
    "        self.band_widths = torch.nn.Parameter(band_widths)\n",
    "        self.mag = torch.nn.Parameter(torch.Tensor([mag]))\n",
    "        self.support_p = support_p\n",
    "        self.support_k = np.sqrt(-1*np.log(support_p))\n",
    "        \n",
    "    def forward(self, x: torch.Tensor, small_output: bool = False) -> torch.Tensor:\n",
    "        \"\"\" Computes output from input. \n",
    "        \n",
    "        Args:\n",
    "            x: Input of shape n_smps*d_in\n",
    "            \n",
    "        Returns: \n",
    "            y: Output of shape n_smps\n",
    "        \"\"\"\n",
    "        \n",
    "        n_smps = x.shape[0]\n",
    "        \n",
    "        # Find points in support \n",
    "        min_bounds = -1*self.support_k*self.band_widths + self.ctr\n",
    "        max_bounds = self.support_k*self.band_widths + self.ctr\n",
    "        lower_bound_inds = x > min_bounds\n",
    "        upper_bound_inds = x < max_bounds\n",
    "        calc_pts = (torch.all(lower_bound_inds & upper_bound_inds, dim=1)).nonzero().squeeze()\n",
    "        \n",
    "        # Make sure we always calculate output for at least 1 input - this ensures gradients are set\n",
    "        if calc_pts.nelement() == 0:\n",
    "            print('here')\n",
    "            calc_pts = torch.Tensor([0], dtype=long)\n",
    "        \n",
    "        if not small_output:\n",
    "            y = torch.zeros(n_smps, device=x.device)\n",
    "            y[calc_pts] = self.mag*torch.exp(-1*torch.sum(((x[calc_pts,:] - self.ctr)/self.band_widths)**2, dim=1))\n",
    "            return y\n",
    "        else:\n",
    "            return [calc_pts, self.mag*torch.exp(-1*torch.sum(((x[calc_pts,:] - self.ctr)/self.band_widths)**2, dim=1))]\n",
    "\n",
    "        #return self.mag*torch.exp(-1*torch.sum(((x - self.ctr)/self.band_widths)**2, dim=1))\n",
    "        \n",
    "    \n",
    "    def bound(self, ctr_bounds: Sequence = [0, 1], \n",
    "              bandwidth_bounds: Sequence = [.01, .3]):\n",
    "        \n",
    "        if ctr_bounds is not None:\n",
    "            small_inds = self.ctr < ctr_bounds[0]\n",
    "            big_inds = self.ctr > ctr_bounds[1]\n",
    "            self.ctr.data[small_inds] = ctr_bounds[0]\n",
    "            self.ctr.data[big_inds] = ctr_bounds[0]\n",
    "            \n",
    "        if bandwidth_bounds is not None:\n",
    "            small_inds = self.band_widths < bandwidth_bounds[0]\n",
    "            big_inds = self.band_widths > bandwidth_bounds[1]\n",
    "            self.band_widths.data[small_inds] = bandwidth_bounds[0]\n",
    "            self.band_widths.data[big_inds] = bandwidth_bounds[1]\n",
    "            \n",
    "    def add_noise_to_grads(self, center_k: float = .01, mag_k: float = .01, \n",
    "                           bandwidth_k: float = .01):\n",
    "\n",
    "        if center_k != 0:\n",
    "            ctr_grad_noise = torch.randn(2, device=self.ctr.device)\n",
    "            self.ctr._grad += center_k*ctr_grad_noise\n",
    "        \n",
    "        if mag_k != 0:\n",
    "            self.mag._grad += mag_k*self.mag\n",
    "            \n",
    "        if bandwidth_k != 0: \n",
    "            bound_grad_noise = torch.randn(2, device=self.band_widths.device)\n",
    "            self.band_widths._grad += bandwidth_k*bound_grad_noise\n",
    "        "
   ]
  },
  {
   "cell_type": "markdown",
   "metadata": {},
   "source": [
    "### Other Helper Functions"
   ]
  },
  {
   "cell_type": "code",
   "execution_count": 379,
   "metadata": {
    "jupyter": {
     "source_hidden": true
    }
   },
   "outputs": [],
   "source": [
    "class F_t():\n",
    "    \"\"\"\n",
    "    An object for generating a sequence of functions on the unit hypercube. \n",
    "    \n",
    "    The function f_t is formed as t*f_base, where f_base is a base function\n",
    "    made up of a sum of Gaussian bumps.  \n",
    "    \n",
    "    Bump centers will be uniformly distributed throughout the hypercube.  Bump\n",
    "    magnitudes and shapes (how fast they fall off in different directions) will\n",
    "    be randomly generated according to parameters set by the user. \n",
    "    \n",
    "    \"\"\"\n",
    "    \n",
    "    def __init__(self, d: int = 2, n_bumps: int = 100, \n",
    "                 bump_peak_vl_range: Sequence[int] = [-1, 1], \n",
    "                 cov_ev_range: Sequence[int] = [.5, 1]):\n",
    "        \"\"\"\n",
    "        Creates a new F_t object. \n",
    "    \n",
    "        Args:\n",
    "            d: The input dimensionality. \n",
    "        \n",
    "            n_bumps: The number of Gaussian bumps in the base function. \n",
    "        \n",
    "            bump_peak_vl_range: Values for the peak of each bump function will be pulled\n",
    "            uniformly from this interval. \n",
    "        \n",
    "            cov_ev_range: Values for the eigenvalues of the covariance matrix of the \n",
    "            Gaussian bump functions will be pulled uniformly from this range. \n",
    "    \n",
    "        \"\"\"\n",
    "    \n",
    "        self.d = d\n",
    "        self.n_bumps = n_bumps\n",
    "        \n",
    "        self.ctrs = np.random.uniform(size=[n_bumps, d])\n",
    "        self.peak_vls = np.random.uniform(low=bump_peak_vl_range[0], \n",
    "                                          high=bump_peak_vl_range[1],\n",
    "                                          size=n_bumps)\n",
    "        \n",
    "        # Generate the covariance for each bump function \n",
    "        eig_vls = np.random.uniform(low=cov_ev_range[0], \n",
    "                                          high=cov_ev_range[1],\n",
    "                                          size=[n_bumps, d])\n",
    "        \n",
    "        inv_covs = np.zeros([d, d, n_bumps])\n",
    "        for b_i in range(n_bumps):\n",
    "            # Generate a random orthogonal matrix \n",
    "            u_i = np.linalg.svd(np.random.randn(d,d))[0]\n",
    "            eig_vls_i = np.diag(1/eig_vls[b_i,:])\n",
    "            inv_covs[:,:, b_i] = np.matmul(np.matmul(u_i, eig_vls_i), u_i.transpose())\n",
    "            \n",
    "        self.inv_covs = inv_covs\n",
    "        \n",
    "    def _f(self, x: np.ndarray) -> np.ndarray:\n",
    "        \"\"\" Computes output given input. \n",
    "           \n",
    "        Args:\n",
    "            x: input of shape n_smps*d_in.  \n",
    "            \n",
    "        Returns:\n",
    "            y: output of shape n_smps\n",
    "        \"\"\"\n",
    "        \n",
    "        n_smps = x.shape[0]\n",
    "        \n",
    "        y = np.zeros(n_smps)\n",
    "        \n",
    "        for b_i in range(self.n_bumps):\n",
    "            x_ctr = x - self.ctrs[b_i,:]\n",
    "            \n",
    "            inv_cov_i = np.squeeze(self.inv_covs[:, :, b_i])\n",
    "            \n",
    "            temp = np.squeeze(np.sum(np.matmul(x_ctr, inv_cov_i.transpose())*x_ctr,1))\n",
    "            \n",
    "            y += self.peak_vls[b_i]*np.exp(-1*temp)\n",
    "        \n",
    "        return y\n",
    "    \n",
    "    def generate(self, scale: float = 1.0) -> Callable:\n",
    "        \"\"\" Generates a function at a given scale. \n",
    "        \n",
    "        Args:\n",
    "            f: The scale to generate the function at\n",
    "        \"\"\"\n",
    "        \n",
    "        def s_f(x):\n",
    "            return scale*self._f(x)\n",
    "        \n",
    "        return s_f"
   ]
  },
  {
   "cell_type": "code",
   "execution_count": 380,
   "metadata": {},
   "outputs": [],
   "source": [
    "def generate_pts(d: int = 2, n_smps_per_dim = 100):\n",
    "    \"\"\" Generates points on a hyper grid for evaluating a function.\n",
    "    \n",
    "    Args:\n",
    "        d: The dimensionality of the grid. \n",
    "        \n",
    "        n_smps_per_dim: The number of samples per dimension to generate. \n",
    "    \"\"\"\n",
    "    \n",
    "    dim_coords = (1/n_smps_per_dim)*np.arange(n_smps_per_dim)\n",
    "    all_coords = [dim_coords]*d\n",
    "    grid_coords = np.meshgrid(*all_coords)\n",
    "    coords = np.stack([np.ravel(g) for g in grid_coords]).transpose()\n",
    "    \n",
    "    return coords"
   ]
  },
  {
   "cell_type": "code",
   "execution_count": 381,
   "metadata": {
    "jupyter": {
     "source_hidden": true
    }
   },
   "outputs": [],
   "source": [
    "def plot_2d_f(f: Callable, n_smps_per_dim = 100):\n",
    "    \"\"\" Plots a 2-d function on the unit square. \n",
    "    \n",
    "    Args:\n",
    "        f: The function to plot\n",
    "        \n",
    "        n_smps_per_dim: The number of samples per dimension to use when generating\n",
    "        a grid to use for visualizing the function. \n",
    "    \"\"\"\n",
    "    \n",
    "    pts = generate_pts(d = 2, n_smps_per_dim=n_smps_per_dim)  \n",
    "    \n",
    "    y_grid = f(pts).reshape([n_smps_per_dim, n_smps_per_dim])\n",
    "    \n",
    "    plt.imshow(y_grid)\n",
    "    plt.colorbar()\n",
    "    "
   ]
  },
  {
   "cell_type": "code",
   "execution_count": 382,
   "metadata": {},
   "outputs": [],
   "source": [
    "def fit(nn: torch.nn.Module, x: torch.Tensor, y: torch.Tensor, n_its = 1000, lr=.01, \n",
    "        enforce_bounds: bool = True, center_k: float = 0.0, mag_k: float = 0.0, \n",
    "        bandwidth_k: float = 0.0, update_int: int = 1000):\n",
    "    \"\"\" Fits a neural network. \n",
    "    \n",
    "    Args:\n",
    "        x: Input data of shape n_smps*d_in\n",
    "        \n",
    "        y: Output data of shape n_smps*1\n",
    "        \n",
    "        n_its: The number of iterations to run optimization for\n",
    "        \n",
    "        lr: The learning rate to use\n",
    "        \n",
    "        enforce_bounds: If true, the center of bump functions will be\n",
    "        constrained to stay in the unit hypercube\n",
    "    \n",
    "    \"\"\"\n",
    "    \n",
    "    params = nn.parameters()\n",
    "    \n",
    "    optimizer = torch.optim.Adam(params = params, lr=lr)\n",
    "    \n",
    "    for i in range(n_its):\n",
    "        \n",
    "        optimizer.zero_grad()\n",
    "        \n",
    "        # Only calculate the error over points which will add non-zero contributions to the gradient - that is points in the support of the function\n",
    "        y_pred = nn(x)\n",
    "        er = torch.sum((y - y_pred)**2)\n",
    "        er.backward()\n",
    "        \n",
    "        nn.add_noise_to_grads(center_k=center_k, mag_k=mag_k, bandwidth_k=bandwidth_k)\n",
    "        \n",
    "        optimizer.step()\n",
    "        \n",
    "        if enforce_bounds:\n",
    "            nn.bound()\n",
    "        \n",
    "        if i % update_int == 0:\n",
    "            er_log = float(er.detach().cpu().numpy())\n",
    "            print('It ' + str(i) +  ': {:e}'.format(er_log))\n",
    "    "
   ]
  },
  {
   "cell_type": "markdown",
   "metadata": {},
   "source": [
    "## Create a ground truth bump function and data"
   ]
  },
  {
   "cell_type": "code",
   "execution_count": 383,
   "metadata": {},
   "outputs": [],
   "source": [
    "true_bf = BumpFcn(.2*torch.ones(2), .1*torch.ones(2), -1)\n",
    "\n",
    "x = torch.rand([10, 2])\n",
    "with torch.no_grad():\n",
    "    y = true_bf(x)\n"
   ]
  },
  {
   "cell_type": "markdown",
   "metadata": {},
   "source": [
    "## Fit a new bump function to the data"
   ]
  },
  {
   "cell_type": "code",
   "execution_count": 384,
   "metadata": {},
   "outputs": [],
   "source": [
    "run_on_gpu = False"
   ]
  },
  {
   "cell_type": "code",
   "execution_count": 385,
   "metadata": {},
   "outputs": [],
   "source": [
    "fit_bf = BumpFcn(.1*torch.ones(2), .2*torch.ones(2), .1)"
   ]
  },
  {
   "cell_type": "code",
   "execution_count": 386,
   "metadata": {},
   "outputs": [],
   "source": [
    "if run_on_gpu:\n",
    "    fit_bf = fit_bf.to('cuda')\n",
    "    x = x.to('cuda')\n",
    "    y = y.to('cuda')\n",
    "else:\n",
    "    fit_bf = fit_bf.to('cpu')\n",
    "    x = x.to('cpu')\n",
    "    y = y.to('cpu')"
   ]
  },
  {
   "cell_type": "code",
   "execution_count": 387,
   "metadata": {},
   "outputs": [
    {
     "name": "stdout",
     "output_type": "stream",
     "text": [
      "It 0: 1.452243e+00\n"
     ]
    },
    {
     "ename": "IndexError",
     "evalue": "Dimension out of range (expected to be in range of [-1, 0], but got 1)",
     "output_type": "error",
     "traceback": [
      "\u001b[1;31m---------------------------------------------------------------------------\u001b[0m",
      "\u001b[1;31mIndexError\u001b[0m                                Traceback (most recent call last)",
      "\u001b[1;32m<ipython-input-387-17d5cdd22702>\u001b[0m in \u001b[0;36m<module>\u001b[1;34m\u001b[0m\n\u001b[0;32m      9\u001b[0m fit(fit_bf, x, y, n_its = 501, lr=lr, center_k=center_k, mag_k=mag_k, \n\u001b[0;32m     10\u001b[0m     \u001b[0mbandwidth_k\u001b[0m\u001b[1;33m=\u001b[0m\u001b[0mbandwidth_k\u001b[0m\u001b[1;33m,\u001b[0m \u001b[0menforce_bounds\u001b[0m\u001b[1;33m=\u001b[0m\u001b[0menforce_bounds\u001b[0m\u001b[1;33m,\u001b[0m\u001b[1;33m\u001b[0m\u001b[1;33m\u001b[0m\u001b[0m\n\u001b[1;32m---> 11\u001b[1;33m     update_int=500)\n\u001b[0m\u001b[0;32m     12\u001b[0m \u001b[1;32mfor\u001b[0m \u001b[0mi\u001b[0m \u001b[1;32min\u001b[0m \u001b[0mrange\u001b[0m\u001b[1;33m(\u001b[0m\u001b[1;36m1\u001b[0m\u001b[1;33m)\u001b[0m\u001b[1;33m:\u001b[0m\u001b[1;33m\u001b[0m\u001b[1;33m\u001b[0m\u001b[0m\n\u001b[0;32m     13\u001b[0m     fit(fit_bf, x, y, n_its = 1001, lr=lr, center_k=center_k, mag_k=mag_k, \n",
      "\u001b[1;32m<ipython-input-382-daed6831dac3>\u001b[0m in \u001b[0;36mfit\u001b[1;34m(nn, x, y, n_its, lr, enforce_bounds, center_k, mag_k, bandwidth_k, update_int)\u001b[0m\n\u001b[0;32m     27\u001b[0m \u001b[1;33m\u001b[0m\u001b[0m\n\u001b[0;32m     28\u001b[0m         \u001b[1;31m# Only calculate the error over points which will add non-zero contributions to the gradient - that is points in the support of the function\u001b[0m\u001b[1;33m\u001b[0m\u001b[1;33m\u001b[0m\u001b[1;33m\u001b[0m\u001b[0m\n\u001b[1;32m---> 29\u001b[1;33m         \u001b[0my_pred\u001b[0m \u001b[1;33m=\u001b[0m \u001b[0mnn\u001b[0m\u001b[1;33m(\u001b[0m\u001b[0mx\u001b[0m\u001b[1;33m)\u001b[0m\u001b[1;33m\u001b[0m\u001b[1;33m\u001b[0m\u001b[0m\n\u001b[0m\u001b[0;32m     30\u001b[0m         \u001b[0mer\u001b[0m \u001b[1;33m=\u001b[0m \u001b[0mtorch\u001b[0m\u001b[1;33m.\u001b[0m\u001b[0msum\u001b[0m\u001b[1;33m(\u001b[0m\u001b[1;33m(\u001b[0m\u001b[0my\u001b[0m \u001b[1;33m-\u001b[0m \u001b[0my_pred\u001b[0m\u001b[1;33m)\u001b[0m\u001b[1;33m**\u001b[0m\u001b[1;36m2\u001b[0m\u001b[1;33m)\u001b[0m\u001b[1;33m\u001b[0m\u001b[1;33m\u001b[0m\u001b[0m\n\u001b[0;32m     31\u001b[0m         \u001b[0mer\u001b[0m\u001b[1;33m.\u001b[0m\u001b[0mbackward\u001b[0m\u001b[1;33m(\u001b[0m\u001b[1;33m)\u001b[0m\u001b[1;33m\u001b[0m\u001b[1;33m\u001b[0m\u001b[0m\n",
      "\u001b[1;32m~\\AppData\\Local\\Continuum\\anaconda3\\envs\\janelia_core\\lib\\site-packages\\torch\\nn\\modules\\module.py\u001b[0m in \u001b[0;36m__call__\u001b[1;34m(self, *input, **kwargs)\u001b[0m\n\u001b[0;32m    491\u001b[0m             \u001b[0mresult\u001b[0m \u001b[1;33m=\u001b[0m \u001b[0mself\u001b[0m\u001b[1;33m.\u001b[0m\u001b[0m_slow_forward\u001b[0m\u001b[1;33m(\u001b[0m\u001b[1;33m*\u001b[0m\u001b[0minput\u001b[0m\u001b[1;33m,\u001b[0m \u001b[1;33m**\u001b[0m\u001b[0mkwargs\u001b[0m\u001b[1;33m)\u001b[0m\u001b[1;33m\u001b[0m\u001b[1;33m\u001b[0m\u001b[0m\n\u001b[0;32m    492\u001b[0m         \u001b[1;32melse\u001b[0m\u001b[1;33m:\u001b[0m\u001b[1;33m\u001b[0m\u001b[1;33m\u001b[0m\u001b[0m\n\u001b[1;32m--> 493\u001b[1;33m             \u001b[0mresult\u001b[0m \u001b[1;33m=\u001b[0m \u001b[0mself\u001b[0m\u001b[1;33m.\u001b[0m\u001b[0mforward\u001b[0m\u001b[1;33m(\u001b[0m\u001b[1;33m*\u001b[0m\u001b[0minput\u001b[0m\u001b[1;33m,\u001b[0m \u001b[1;33m**\u001b[0m\u001b[0mkwargs\u001b[0m\u001b[1;33m)\u001b[0m\u001b[1;33m\u001b[0m\u001b[1;33m\u001b[0m\u001b[0m\n\u001b[0m\u001b[0;32m    494\u001b[0m         \u001b[1;32mfor\u001b[0m \u001b[0mhook\u001b[0m \u001b[1;32min\u001b[0m \u001b[0mself\u001b[0m\u001b[1;33m.\u001b[0m\u001b[0m_forward_hooks\u001b[0m\u001b[1;33m.\u001b[0m\u001b[0mvalues\u001b[0m\u001b[1;33m(\u001b[0m\u001b[1;33m)\u001b[0m\u001b[1;33m:\u001b[0m\u001b[1;33m\u001b[0m\u001b[1;33m\u001b[0m\u001b[0m\n\u001b[0;32m    495\u001b[0m             \u001b[0mhook_result\u001b[0m \u001b[1;33m=\u001b[0m \u001b[0mhook\u001b[0m\u001b[1;33m(\u001b[0m\u001b[0mself\u001b[0m\u001b[1;33m,\u001b[0m \u001b[0minput\u001b[0m\u001b[1;33m,\u001b[0m \u001b[0mresult\u001b[0m\u001b[1;33m)\u001b[0m\u001b[1;33m\u001b[0m\u001b[1;33m\u001b[0m\u001b[0m\n",
      "\u001b[1;32m<ipython-input-378-273c878cdd78>\u001b[0m in \u001b[0;36mforward\u001b[1;34m(self, x, small_output)\u001b[0m\n\u001b[0;32m     52\u001b[0m         \u001b[1;32mif\u001b[0m \u001b[1;32mnot\u001b[0m \u001b[0msmall_output\u001b[0m\u001b[1;33m:\u001b[0m\u001b[1;33m\u001b[0m\u001b[1;33m\u001b[0m\u001b[0m\n\u001b[0;32m     53\u001b[0m             \u001b[0my\u001b[0m \u001b[1;33m=\u001b[0m \u001b[0mtorch\u001b[0m\u001b[1;33m.\u001b[0m\u001b[0mzeros\u001b[0m\u001b[1;33m(\u001b[0m\u001b[0mn_smps\u001b[0m\u001b[1;33m,\u001b[0m \u001b[0mdevice\u001b[0m\u001b[1;33m=\u001b[0m\u001b[0mx\u001b[0m\u001b[1;33m.\u001b[0m\u001b[0mdevice\u001b[0m\u001b[1;33m)\u001b[0m\u001b[1;33m\u001b[0m\u001b[1;33m\u001b[0m\u001b[0m\n\u001b[1;32m---> 54\u001b[1;33m             \u001b[0my\u001b[0m\u001b[1;33m[\u001b[0m\u001b[0mcalc_pts\u001b[0m\u001b[1;33m]\u001b[0m \u001b[1;33m=\u001b[0m \u001b[0mself\u001b[0m\u001b[1;33m.\u001b[0m\u001b[0mmag\u001b[0m\u001b[1;33m*\u001b[0m\u001b[0mtorch\u001b[0m\u001b[1;33m.\u001b[0m\u001b[0mexp\u001b[0m\u001b[1;33m(\u001b[0m\u001b[1;33m-\u001b[0m\u001b[1;36m1\u001b[0m\u001b[1;33m*\u001b[0m\u001b[0mtorch\u001b[0m\u001b[1;33m.\u001b[0m\u001b[0msum\u001b[0m\u001b[1;33m(\u001b[0m\u001b[1;33m(\u001b[0m\u001b[1;33m(\u001b[0m\u001b[0mx\u001b[0m\u001b[1;33m[\u001b[0m\u001b[0mcalc_pts\u001b[0m\u001b[1;33m,\u001b[0m\u001b[1;33m:\u001b[0m\u001b[1;33m]\u001b[0m \u001b[1;33m-\u001b[0m \u001b[0mself\u001b[0m\u001b[1;33m.\u001b[0m\u001b[0mctr\u001b[0m\u001b[1;33m)\u001b[0m\u001b[1;33m/\u001b[0m\u001b[0mself\u001b[0m\u001b[1;33m.\u001b[0m\u001b[0mband_widths\u001b[0m\u001b[1;33m)\u001b[0m\u001b[1;33m**\u001b[0m\u001b[1;36m2\u001b[0m\u001b[1;33m,\u001b[0m \u001b[0mdim\u001b[0m\u001b[1;33m=\u001b[0m\u001b[1;36m1\u001b[0m\u001b[1;33m)\u001b[0m\u001b[1;33m)\u001b[0m\u001b[1;33m\u001b[0m\u001b[1;33m\u001b[0m\u001b[0m\n\u001b[0m\u001b[0;32m     55\u001b[0m             \u001b[1;32mreturn\u001b[0m \u001b[0my\u001b[0m\u001b[1;33m\u001b[0m\u001b[1;33m\u001b[0m\u001b[0m\n\u001b[0;32m     56\u001b[0m         \u001b[1;32melse\u001b[0m\u001b[1;33m:\u001b[0m\u001b[1;33m\u001b[0m\u001b[1;33m\u001b[0m\u001b[0m\n",
      "\u001b[1;31mIndexError\u001b[0m: Dimension out of range (expected to be in range of [-1, 0], but got 1)"
     ]
    }
   ],
   "source": [
    "lr = .01\n",
    "center_k = .01\n",
    "mag_k = .0001\n",
    "bandwidth_k = .0001\n",
    "enforce_bounds=True\n",
    "\n",
    "t0 = time.time()\n",
    "\n",
    "fit(fit_bf, x, y, n_its = 501, lr=lr, center_k=center_k, mag_k=mag_k, \n",
    "    bandwidth_k=bandwidth_k, enforce_bounds=enforce_bounds, \n",
    "    update_int=500)\n",
    "for i in range(1):\n",
    "    fit(fit_bf, x, y, n_its = 1001, lr=lr, center_k=center_k, mag_k=mag_k, \n",
    "        bandwidth_k=bandwidth_k, enforce_bounds=enforce_bounds, \n",
    "        update_int=1000)\n",
    "    \n",
    "t_stop = time.time()\n",
    "\n",
    "print('Elapsed time: ' + str(t_stop - t0))"
   ]
  },
  {
   "cell_type": "code",
   "execution_count": 343,
   "metadata": {},
   "outputs": [],
   "source": [
    "fit_bf = fit_bf.to('cpu') \n",
    "x = x.to('cpu')\n",
    "y = y.to('cpu')"
   ]
  },
  {
   "cell_type": "code",
   "execution_count": 344,
   "metadata": {},
   "outputs": [
    {
     "data": {
      "image/png": "[encoded data removed]",
      "text/plain": [
       "<Figure size 432x288 with 4 Axes>"
      ]
     },
     "metadata": {
      "needs_background": "light"
     },
     "output_type": "display_data"
    }
   ],
   "source": [
    "plt.subplot(1,2,1)\n",
    "plot_2d_f(torch_mod_to_fcn(true_bf), n_smps_per_dim=200)\n",
    "plt.subplot(1,2,2)\n",
    "plot_2d_f(torch_mod_to_fcn(fit_bf), n_smps_per_dim=200)"
   ]
  },
  {
   "cell_type": "markdown",
   "metadata": {},
   "source": [
    "# Now we look at fitting more complicated functions "
   ]
  },
  {
   "cell_type": "code",
   "execution_count": null,
   "metadata": {},
   "outputs": [],
   "source": [
    "fcn_generator = F_t(n_bumps = 20, bump_peak_vl_range = [-1, 1], cov_ev_range = [.005, .1])\n",
    "f_true = fcn_generator.generate()\n",
    "\n",
    "x = np.random.rand(1000,2)\n",
    "y = f_true(x)"
   ]
  },
  {
   "cell_type": "code",
   "execution_count": null,
   "metadata": {},
   "outputs": [],
   "source": [
    "plot_2d_f(f_true, n_smps_per_dim=200)"
   ]
  },
  {
   "cell_type": "code",
   "execution_count": null,
   "metadata": {},
   "outputs": [],
   "source": [
    "fit_bf.band_widths"
   ]
  },
  {
   "cell_type": "code",
   "execution_count": null,
   "metadata": {},
   "outputs": [],
   "source": [
    "np.log(.001)"
   ]
  },
  {
   "cell_type": "code",
   "execution_count": null,
   "metadata": {},
   "outputs": [],
   "source": [
    "x_t = torch.randn([10,2])"
   ]
  },
  {
   "cell_type": "code",
   "execution_count": null,
   "metadata": {},
   "outputs": [],
   "source": [
    "y_t = x_t < torch.Tensor([0, .5])"
   ]
  },
  {
   "cell_type": "code",
   "execution_count": null,
   "metadata": {},
   "outputs": [],
   "source": [
    "torch.all(y_t*y_t, dim=1)"
   ]
  },
  {
   "cell_type": "code",
   "execution_count": null,
   "metadata": {},
   "outputs": [],
   "source": [
    "y_t.dtype"
   ]
  },
  {
   "cell_type": "code",
   "execution_count": 367,
   "metadata": {},
   "outputs": [
    {
     "data": {
      "text/plain": [
       "torch.Size([10])"
      ]
     },
     "execution_count": 367,
     "metadata": {},
     "output_type": "execute_result"
    }
   ],
   "source": [
    "y.shape"
   ]
  },
  {
   "cell_type": "code",
   "execution_count": null,
   "metadata": {},
   "outputs": [],
   "source": []
  }
 ],
 "metadata": {
  "kernelspec": {
   "display_name": "Python 3",
   "language": "python",
   "name": "python3"
  },
  "language_info": {
   "codemirror_mode": {
    "name": "ipython",
    "version": 3
   },
   "file_extension": ".py",
   "mimetype": "text/x-python",
   "name": "python",
   "nbconvert_exporter": "python",
   "pygments_lexer": "ipython3",
   "version": "3.7.2"
  }
 },
 "nbformat": 4,
 "nbformat_minor": 4
}
