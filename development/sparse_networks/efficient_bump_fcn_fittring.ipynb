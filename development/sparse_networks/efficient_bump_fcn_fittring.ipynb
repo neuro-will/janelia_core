{
 "cells": [
  {
   "cell_type": "markdown",
   "metadata": {},
   "source": [
    "This is a script to see if we can develop a way to efficient fit \"bump\" functions. \n",
    "\n",
    "By \"bump\" function we mean a function: \n",
    "\n",
    "    1) Which has finite support\n",
    "    2) Is parameterized by a location (e.g., center) that can move\n",
    "    3) May have other parameters (e.g., bandwidth, magnitude)\n",
    "    \n",
    "The chief difficulties we face are: \n",
    "\n",
    "    1) How do we fit these functions when they may be initialized so there locations are in a bad initial place.  In these cases, there may be zero gradients for location.  Our solution here is to add terms to the optimization objective that encourage \"wandering\" when gradients are small. \n",
    "    \n",
    "    2) With the finite support, many data points will evaluate to 0.  We would like to avoid wasting computation on these.  We achieve this by selecting only points within the support to do computation for. \n"
   ]
  },
  {
   "cell_type": "code",
   "execution_count": 1,
   "metadata": {},
   "outputs": [],
   "source": [
    "%load_ext autoreload\n",
    "%autoreload 2"
   ]
  },
  {
   "cell_type": "code",
   "execution_count": 2,
   "metadata": {},
   "outputs": [],
   "source": [
    "from typing import Callable, Sequence\n",
    "\n",
    "import matplotlib.pyplot as plt\n",
    "import numpy as np\n",
    "import torch\n",
    "import time\n",
    "\n",
    "from janelia_core.ml.utils import torch_mod_to_fcn"
   ]
  },
  {
   "cell_type": "markdown",
   "metadata": {},
   "source": [
    "### BumpFcn"
   ]
  },
  {
   "cell_type": "code",
   "execution_count": 493,
   "metadata": {},
   "outputs": [],
   "source": [
    "class BumpFcn(torch.nn.Module):\n",
    "    \n",
    "    def __init__(self, ctr: torch.Tensor, band_widths: torch.Tensor, mag: float, support_p: float = .01):\n",
    "        \"\"\" Creates a bump function with initial values. \n",
    "        \n",
    "        We use exponential functions of the form y(x) = mag*exp(-d), where\n",
    "        d = sum[((x - ctr)**2)/band_widths]\n",
    "        \n",
    "        Args:\n",
    "        \n",
    "            ctr: The initial center\n",
    "            \n",
    "            band_widths: The initial band widths\n",
    "            \n",
    "            mag: The initial magnitude \n",
    "            \n",
    "            support_p: The percent of max value in any direction where we define the boundary of support\n",
    "        \n",
    "        \"\"\"\n",
    "        super().__init__()\n",
    "        \n",
    "        self.ctr = torch.nn.Parameter(ctr)\n",
    "        self.band_widths = torch.nn.Parameter(band_widths)\n",
    "        self.mag = torch.nn.Parameter(torch.Tensor([mag]))\n",
    "        self.support_p = support_p\n",
    "        self.support_k = np.sqrt(-1*np.log(support_p))\n",
    "        \n",
    "    def forward(self, x: torch.Tensor, small_output: bool = False) -> torch.Tensor:\n",
    "        \"\"\" Computes output from input. \n",
    "        \n",
    "        Args:\n",
    "            x: Input of shape n_smps*d_in\n",
    "            \n",
    "        Returns: \n",
    "            y: Output of shape n_smps\n",
    "        \"\"\"\n",
    "        \n",
    "        n_smps = x.shape[0]\n",
    "        \n",
    "        # Find points in support \n",
    "        min_bounds = -1*self.support_k*self.band_widths + self.ctr\n",
    "        max_bounds = self.support_k*self.band_widths + self.ctr\n",
    "        lower_bound_inds = x > min_bounds\n",
    "        upper_bound_inds = x < max_bounds\n",
    "        calc_pts = (torch.all(lower_bound_inds & upper_bound_inds, dim=1)).nonzero().squeeze(dim=1)\n",
    "\n",
    "        # Make sure we always calculate output for at least 1 input - this ensures gradients are set\n",
    "        if calc_pts.nelement() == 0:\n",
    "            calc_pts = torch.tensor([0], dtype=torch.long)\n",
    "        \n",
    "        if not small_output:\n",
    "            y = torch.zeros(n_smps, device=x.device)\n",
    "            y[calc_pts] = self.mag*torch.exp(-1*torch.sum(((x[calc_pts,:] - self.ctr)/self.band_widths)**2, dim=1))\n",
    "            return y\n",
    "        else:\n",
    "            return [calc_pts, self.mag*torch.exp(-1*torch.sum(((x[calc_pts,:] - self.ctr)/self.band_widths)**2, dim=1))]\n",
    "\n",
    "        #return self.mag*torch.exp(-1*torch.sum(((x - self.ctr)/self.band_widths)**2, dim=1))\n",
    "        \n",
    "    \n",
    "    def bound(self, ctr_bounds: Sequence = [0, 1], \n",
    "              bandwidth_bounds: Sequence = [.01, .3]):\n",
    "        \n",
    "        if ctr_bounds is not None:\n",
    "            small_inds = self.ctr < ctr_bounds[0]\n",
    "            big_inds = self.ctr > ctr_bounds[1]\n",
    "            self.ctr.data[small_inds] = ctr_bounds[0]\n",
    "            self.ctr.data[big_inds] = ctr_bounds[0]\n",
    "            \n",
    "        if bandwidth_bounds is not None:\n",
    "            small_inds = self.band_widths < bandwidth_bounds[0]\n",
    "            big_inds = self.band_widths > bandwidth_bounds[1]\n",
    "            self.band_widths.data[small_inds] = bandwidth_bounds[0]\n",
    "            self.band_widths.data[big_inds] = bandwidth_bounds[1]\n",
    "            \n",
    "    def add_noise_to_grads(self, center_k: float = .01, mag_k: float = .01, \n",
    "                           bandwidth_k: float = .01):\n",
    "\n",
    "        if center_k != 0:\n",
    "            ctr_grad_noise = torch.randn(2, device=self.ctr.device)\n",
    "            self.ctr._grad += center_k*ctr_grad_noise\n",
    "        \n",
    "        if mag_k != 0:\n",
    "            self.mag._grad += mag_k*self.mag\n",
    "            #self.mag._grad -= self.mag*mag_k*mag_noise\n",
    "            \n",
    "        if bandwidth_k != 0: \n",
    "            bound_grad_noise = torch.randn(2, device=self.band_widths.device)\n",
    "            self.band_widths._grad += bandwidth_k*bound_grad_noise\n",
    "        "
   ]
  },
  {
   "cell_type": "markdown",
   "metadata": {},
   "source": [
    "## Sum of Bump Functions"
   ]
  },
  {
   "cell_type": "code",
   "execution_count": 475,
   "metadata": {},
   "outputs": [],
   "source": [
    "class SumOfBumpFcns(torch.nn.Module):\n",
    "    \n",
    "    def __init__(self, n_bumps: int, ctr_range: np.ndarray = None, bandwidth_range: np.ndarray = None, \n",
    "                 mag_range: np.ndarray = None, support_p: float = .01):\n",
    "        \"\"\" Creates a new SumOfBumpFcns module.\n",
    "        \n",
    "        Args:\n",
    "        \n",
    "            ctr_range: Range to randomly create centers in.  ctr_range[i,:] gives the range for dimension i. \n",
    "            \n",
    "            bandwidth_range: Range to create bandwidths in.  bandwidth_range[i,:] gives the range for dimension i. \n",
    "            \n",
    "            mag_range: Range to create magnitudes in. \n",
    "            \n",
    "            support_p: The value of support_p for each bump function. \n",
    "            \n",
    "        \"\"\"\n",
    "        super().__init__()\n",
    "        \n",
    "        if ctr_range is None:\n",
    "            ctr_range = np.asarray([[0, 1.0], [0, 1]])\n",
    "            \n",
    "        if bandwidth_range is None:\n",
    "            bandwidth_range = np.asarray([[.1, 1], [.1, 1]])\n",
    "        \n",
    "        if mag_range is None:\n",
    "            mag_range = np.asarray([-.1, .1])\n",
    "        \n",
    "        # Convert range parameters to torch tensors.  Here we set the data type of these tensors to the torch default.\n",
    "        ctr_range = torch.tensor(ctr_range, dtype=torch.get_default_dtype())\n",
    "        bandwidth_range = torch.tensor(bandwidth_range, dtype=torch.get_default_dtype())\n",
    "        mag_range = torch.tensor(mag_range, dtype=torch.get_default_dtype())\n",
    "        \n",
    "        n_dims = ctr_range.shape[0]\n",
    "        ctr_w = ctr_range[:,1] - ctr_range[:,0]\n",
    "        bandwidth_w = bandwidth_range[:,1] - bandwidth_range[:,0]\n",
    "        mag_w = mag_range[1] - mag_range[0]\n",
    "             \n",
    "        bump_fcns = [BumpFcn(ctr=torch.rand(n_dims)*ctr_w + ctr_range[:,0],\n",
    "                             band_widths=torch.rand(n_dims)*bandwidth_w + bandwidth_range[:,0],\n",
    "                             mag=torch.rand(1)*mag_w + mag_range[0],\n",
    "                             support_p=support_p) for b_i in range(n_bumps)]\n",
    "        \n",
    "        self.bump_fcns = torch.nn.ModuleList(bump_fcns)\n",
    "        \n",
    "    def forward(self, x: torch.Tensor) -> torch.Tensor:\n",
    "        \"\"\" Computes output from input. \n",
    "        \n",
    "        Args:\n",
    "            x: Input of shape n_smps*d_in\n",
    "            \n",
    "        Returns: \n",
    "            y: Output of shape n_smps\n",
    "        \"\"\"\n",
    "    \n",
    "        \n",
    "        # TODO: Can we evaluate all the bump functions in parallel on the GPU?\n",
    "        return torch.sum(torch.stack([b_f(x) for b_f in self.bump_fcns]), dim=0)\n",
    "\n",
    "\n",
    "    \n",
    "    def bound(self, ctr_bounds: Sequence = [0, 1], \n",
    "                    bandwidth_bounds: Sequence = [.01, .3]):\n",
    "        \n",
    "        for b_f in self.bump_fcns:\n",
    "            b_f.bound(ctr_bounds=ctr_bounds, bandwidth_bounds=bandwidth_bounds)\n",
    "            \n",
    "    def add_noise_to_grads(self, center_k: float = .01, mag_k: float = .01, \n",
    "                           bandwidth_k: float = .01):\n",
    "        for b_f in self.bump_fcns:\n",
    "            b_f.add_noise_to_grads(center_k=center_k, mag_k=mag_k, bandwidth_k=bandwidth_k)"
   ]
  },
  {
   "cell_type": "markdown",
   "metadata": {},
   "source": [
    "## Object for creating random functions"
   ]
  },
  {
   "cell_type": "code",
   "execution_count": 476,
   "metadata": {
    "jupyter": {
     "source_hidden": true
    }
   },
   "outputs": [],
   "source": [
    "class F_t():\n",
    "    \"\"\"\n",
    "    An object for generating a sequence of functions on the unit hypercube. \n",
    "    \n",
    "    The function f_t is formed as t*f_base, where f_base is a base function\n",
    "    made up of a sum of Gaussian bumps.  \n",
    "    \n",
    "    Bump centers will be uniformly distributed throughout the hypercube.  Bump\n",
    "    magnitudes and shapes (how fast they fall off in different directions) will\n",
    "    be randomly generated according to parameters set by the user. \n",
    "    \n",
    "    \"\"\"\n",
    "    \n",
    "    def __init__(self, d: int = 2, n_bumps: int = 100, \n",
    "                 bump_peak_vl_range: Sequence[int] = [-1, 1], \n",
    "                 cov_ev_range: Sequence[int] = [.5, 1]):\n",
    "        \"\"\"\n",
    "        Creates a new F_t object. \n",
    "    \n",
    "        Args:\n",
    "            d: The input dimensionality. \n",
    "        \n",
    "            n_bumps: The number of Gaussian bumps in the base function. \n",
    "        \n",
    "            bump_peak_vl_range: Values for the peak of each bump function will be pulled\n",
    "            uniformly from this interval. \n",
    "        \n",
    "            cov_ev_range: Values for the eigenvalues of the covariance matrix of the \n",
    "            Gaussian bump functions will be pulled uniformly from this range. \n",
    "    \n",
    "        \"\"\"\n",
    "    \n",
    "        self.d = d\n",
    "        self.n_bumps = n_bumps\n",
    "        \n",
    "        self.ctrs = np.random.uniform(size=[n_bumps, d])\n",
    "        self.peak_vls = np.random.uniform(low=bump_peak_vl_range[0], \n",
    "                                          high=bump_peak_vl_range[1],\n",
    "                                          size=n_bumps)\n",
    "        \n",
    "        # Generate the covariance for each bump function \n",
    "        eig_vls = np.random.uniform(low=cov_ev_range[0], \n",
    "                                          high=cov_ev_range[1],\n",
    "                                          size=[n_bumps, d])\n",
    "        \n",
    "        inv_covs = np.zeros([d, d, n_bumps])\n",
    "        for b_i in range(n_bumps):\n",
    "            # Generate a random orthogonal matrix \n",
    "            u_i = np.linalg.svd(np.random.randn(d,d))[0]\n",
    "            eig_vls_i = np.diag(1/eig_vls[b_i,:])\n",
    "            inv_covs[:,:, b_i] = np.matmul(np.matmul(u_i, eig_vls_i), u_i.transpose())\n",
    "            \n",
    "        self.inv_covs = inv_covs\n",
    "        \n",
    "    def _f(self, x: np.ndarray) -> np.ndarray:\n",
    "        \"\"\" Computes output given input. \n",
    "           \n",
    "        Args:\n",
    "            x: input of shape n_smps*d_in.  \n",
    "            \n",
    "        Returns:\n",
    "            y: output of shape n_smps\n",
    "        \"\"\"\n",
    "        \n",
    "        n_smps = x.shape[0]\n",
    "        \n",
    "        y = np.zeros(n_smps)\n",
    "        \n",
    "        for b_i in range(self.n_bumps):\n",
    "            x_ctr = x - self.ctrs[b_i,:]\n",
    "            \n",
    "            inv_cov_i = np.squeeze(self.inv_covs[:, :, b_i])\n",
    "            \n",
    "            temp = np.squeeze(np.sum(np.matmul(x_ctr, inv_cov_i.transpose())*x_ctr,1))\n",
    "            \n",
    "            y += self.peak_vls[b_i]*np.exp(-1*temp)\n",
    "        \n",
    "        return y\n",
    "    \n",
    "    def generate(self, scale: float = 1.0) -> Callable:\n",
    "        \"\"\" Generates a function at a given scale. \n",
    "        \n",
    "        Args:\n",
    "            f: The scale to generate the function at\n",
    "        \"\"\"\n",
    "        \n",
    "        def s_f(x):\n",
    "            return scale*self._f(x)\n",
    "        \n",
    "        return s_f"
   ]
  },
  {
   "cell_type": "code",
   "execution_count": 477,
   "metadata": {},
   "outputs": [],
   "source": [
    "def generate_pts(d: int = 2, n_smps_per_dim = 100):\n",
    "    \"\"\" Generates points on a hyper grid for evaluating a function.\n",
    "    \n",
    "    Args:\n",
    "        d: The dimensionality of the grid. \n",
    "        \n",
    "        n_smps_per_dim: The number of samples per dimension to generate. \n",
    "    \"\"\"\n",
    "    \n",
    "    dim_coords = (1/n_smps_per_dim)*np.arange(n_smps_per_dim)\n",
    "    all_coords = [dim_coords]*d\n",
    "    grid_coords = np.meshgrid(*all_coords)\n",
    "    coords = np.stack([np.ravel(g) for g in grid_coords]).transpose()\n",
    "    \n",
    "    return coords"
   ]
  },
  {
   "cell_type": "code",
   "execution_count": 478,
   "metadata": {
    "jupyter": {
     "source_hidden": true
    }
   },
   "outputs": [],
   "source": [
    "def plot_2d_f(f: Callable, n_smps_per_dim = 100):\n",
    "    \"\"\" Plots a 2-d function on the unit square. \n",
    "    \n",
    "    Args:\n",
    "        f: The function to plot\n",
    "        \n",
    "        n_smps_per_dim: The number of samples per dimension to use when generating\n",
    "        a grid to use for visualizing the function. \n",
    "    \"\"\"\n",
    "    \n",
    "    pts = generate_pts(d = 2, n_smps_per_dim=n_smps_per_dim)  \n",
    "    \n",
    "    y_grid = f(pts).reshape([n_smps_per_dim, n_smps_per_dim])\n",
    "    \n",
    "    plt.imshow(y_grid)\n",
    "    plt.colorbar()\n",
    "    "
   ]
  },
  {
   "cell_type": "code",
   "execution_count": 479,
   "metadata": {},
   "outputs": [],
   "source": [
    "def fit(nn: torch.nn.Module, x: torch.Tensor, y: torch.Tensor, n_its = 1000, lr=.01, batch_size: int = None, \n",
    "        enforce_bounds: bool = True, center_k: float = 0.0, mag_k: float = 0.0, \n",
    "        bandwidth_k: float = 0.0, update_int: int = 1000):\n",
    "    \"\"\" Fits a neural network. \n",
    "    \n",
    "    Args:\n",
    "        x: Input data of shape n_smps*d_in\n",
    "        \n",
    "        y: Output data of shape n_smps*1\n",
    "        \n",
    "        n_its: The number of iterations to run optimization for\n",
    "        \n",
    "        lr: The learning rate to use\n",
    "        \n",
    "        enforce_bounds: If true, the center of bump functions will be\n",
    "        constrained to stay in the unit hypercube\n",
    "    \n",
    "    \"\"\"\n",
    "    \n",
    "    params = nn.parameters()\n",
    "    \n",
    "    optimizer = torch.optim.Adam(params = params, lr=lr)\n",
    "    \n",
    "    n_smps = x.shape[0]\n",
    "    if batch_size is None:\n",
    "        batch_size = n_smps\n",
    "    \n",
    "    for i in range(n_its):\n",
    "        \n",
    "        # Select samples for this iteration \n",
    "        if batch_size != n_smps:\n",
    "            #inds = torch.tensor(np.random.choice(n_smps, batch_size, replace=False), dtype=torch.long)\n",
    "            inds = torch.randperm(n_smps)[1:batch_size]\n",
    "            batch_x = x[inds, :]\n",
    "            batch_y = y[inds]\n",
    "        else:\n",
    "            batch_x = x\n",
    "            batch_y = y\n",
    "        \n",
    "        optimizer.zero_grad()\n",
    "        \n",
    "        # Only calculate the error over points which will add non-zero contributions to the gradient - that is points in the support of the function\n",
    "        y_pred = nn(batch_x)\n",
    "        er = torch.sum((batch_y - y_pred)**2)/batch_size\n",
    "        er.backward()\n",
    "        \n",
    "        nn.add_noise_to_grads(center_k=center_k, mag_k=mag_k, bandwidth_k=bandwidth_k)\n",
    "        \n",
    "        optimizer.step()\n",
    "        \n",
    "        if enforce_bounds:\n",
    "            nn.bound()\n",
    "        \n",
    "        if i % update_int == 0:\n",
    "            er_log = float(er.detach().cpu().numpy())\n",
    "            print('It ' + str(i) +  ': {:e}'.format(er_log))\n",
    "    "
   ]
  },
  {
   "cell_type": "markdown",
   "metadata": {},
   "source": [
    "## Create a ground truth bump function and data"
   ]
  },
  {
   "cell_type": "code",
   "execution_count": 480,
   "metadata": {},
   "outputs": [],
   "source": [
    "true_bf = BumpFcn(.2*torch.ones(2), .1*torch.ones(2), -1)\n",
    "\n",
    "x = torch.rand([100000, 2])\n",
    "with torch.no_grad():\n",
    "    y = true_bf(x)\n"
   ]
  },
  {
   "cell_type": "markdown",
   "metadata": {},
   "source": [
    "## Fit a new bump function to the data"
   ]
  },
  {
   "cell_type": "code",
   "execution_count": 494,
   "metadata": {},
   "outputs": [],
   "source": [
    "run_on_gpu = False"
   ]
  },
  {
   "cell_type": "code",
   "execution_count": 495,
   "metadata": {},
   "outputs": [],
   "source": [
    "fit_bf = BumpFcn(.9*torch.ones(2), .1*torch.ones(2), 1, support_p=.01)"
   ]
  },
  {
   "cell_type": "code",
   "execution_count": 496,
   "metadata": {},
   "outputs": [],
   "source": [
    "if run_on_gpu:\n",
    "    fit_bf = fit_bf.to('cuda')\n",
    "    x = x.to('cuda')\n",
    "    y = y.to('cuda')\n",
    "else:\n",
    "    fit_bf = fit_bf.to('cpu')\n",
    "    x = x.to('cpu')\n",
    "    y = y.to('cpu')"
   ]
  },
  {
   "cell_type": "code",
   "execution_count": 497,
   "metadata": {},
   "outputs": [
    {
     "name": "stdout",
     "output_type": "stream",
     "text": [
      "It 0: 3.104830e-02\n",
      "It 100: 1.554418e-02\n",
      "It 200: 1.578682e-02\n",
      "It 300: 1.559761e-02\n",
      "It 400: 1.556514e-02\n",
      "It 500: 1.563620e-02\n",
      "It 0: 1.525687e-02\n",
      "It 100: 1.576938e-02\n",
      "It 200: 1.217374e-04\n",
      "It 300: 3.622391e-05\n",
      "It 400: 2.494680e-05\n",
      "It 500: 2.556860e-05\n",
      "Elapsed time: 8.397834539413452\n"
     ]
    }
   ],
   "source": [
    "lr = .01\n",
    "center_k = .01\n",
    "mag_k = .0001\n",
    "bandwidth_k = .0001\n",
    "enforce_bounds=True\n",
    "batch_size = 50000\n",
    "\n",
    "t0 = time.time()\n",
    "\n",
    "fit(fit_bf, x, y, n_its = 501, lr=lr, batch_size=batch_size, center_k=center_k, mag_k=mag_k, \n",
    "    bandwidth_k=bandwidth_k, enforce_bounds=enforce_bounds, \n",
    "    update_int=100)\n",
    "for i in range(1):\n",
    "    fit(fit_bf, x, y, n_its = 501, lr=lr, batch_size=batch_size, center_k=center_k, mag_k=mag_k, \n",
    "        bandwidth_k=bandwidth_k, enforce_bounds=enforce_bounds, \n",
    "        update_int=100)\n",
    "    \n",
    "t_stop = time.time()\n",
    "\n",
    "print('Elapsed time: ' + str(t_stop - t0))"
   ]
  },
  {
   "cell_type": "code",
   "execution_count": 498,
   "metadata": {},
   "outputs": [],
   "source": [
    "fit_bf = fit_bf.to('cpu') \n",
    "x = x.to('cpu')\n",
    "y = y.to('cpu')"
   ]
  },
  {
   "cell_type": "code",
   "execution_count": 499,
   "metadata": {},
   "outputs": [
    {
     "data": {
      "image/png": "[encoded data removed]",
      "text/plain": [
       "<Figure size 432x288 with 4 Axes>"
      ]
     },
     "metadata": {
      "needs_background": "light"
     },
     "output_type": "display_data"
    }
   ],
   "source": [
    "plt.subplot(1,2,1)\n",
    "plot_2d_f(torch_mod_to_fcn(true_bf), n_smps_per_dim=200)\n",
    "plt.subplot(1,2,2)\n",
    "plot_2d_f(torch_mod_to_fcn(fit_bf), n_smps_per_dim=200)"
   ]
  },
  {
   "cell_type": "markdown",
   "metadata": {},
   "source": [
    "# Now we look at fitting more complicated functions "
   ]
  },
  {
   "cell_type": "code",
   "execution_count": 554,
   "metadata": {},
   "outputs": [],
   "source": [
    "fcn_generator = F_t(n_bumps = 40, bump_peak_vl_range = [-1, 1], cov_ev_range = [.001, .001])\n",
    "f_true = fcn_generator.generate()\n",
    "\n",
    "x = np.random.rand(1000000,2)\n",
    "y = f_true(x)\n",
    "\n",
    "x = torch.tensor(x, dtype=torch.float32)\n",
    "y = torch.tensor(y, dtype=torch.float32)"
   ]
  },
  {
   "cell_type": "code",
   "execution_count": 555,
   "metadata": {},
   "outputs": [
    {
     "data": {
      "image/png": "[encoded data removed]",
      "text/plain": [
       "<Figure size 432x288 with 2 Axes>"
      ]
     },
     "metadata": {
      "needs_background": "light"
     },
     "output_type": "display_data"
    }
   ],
   "source": [
    "plot_2d_f(f_true, n_smps_per_dim=200)"
   ]
  },
  {
   "cell_type": "markdown",
   "metadata": {},
   "source": [
    "## Fit a new sum of bump functions to the data"
   ]
  },
  {
   "cell_type": "code",
   "execution_count": 556,
   "metadata": {},
   "outputs": [],
   "source": [
    "run_on_gpu = True"
   ]
  },
  {
   "cell_type": "code",
   "execution_count": 557,
   "metadata": {},
   "outputs": [],
   "source": [
    "fit_sf = SumOfBumpFcns(100,support_p=.01)"
   ]
  },
  {
   "cell_type": "code",
   "execution_count": 558,
   "metadata": {},
   "outputs": [],
   "source": [
    "if run_on_gpu:\n",
    "    fit_sf = fit_sf.to('cuda')\n",
    "    x = x.to('cuda')\n",
    "    y = y.to('cuda')\n",
    "else:\n",
    "    fit_bf = fit_bf.to('cpu')\n",
    "    x = x.to('cpu')\n",
    "    y = y.to('cpu')"
   ]
  },
  {
   "cell_type": "code",
   "execution_count": 559,
   "metadata": {},
   "outputs": [
    {
     "name": "stdout",
     "output_type": "stream",
     "text": [
      "It 0: 7.055309e-02\n",
      "It 100: 1.683270e-02\n",
      "It 200: 1.344021e-02\n",
      "It 300: 1.017476e-02\n",
      "It 400: 7.646010e-03\n",
      "It 500: 6.339928e-03\n",
      "It 0: 6.201800e-03\n",
      "It 100: 3.093360e-03\n",
      "It 200: 2.027423e-03\n",
      "It 300: 1.046024e-03\n",
      "It 400: 6.918034e-04\n",
      "Elapsed time: 192.22178888320923\n"
     ]
    }
   ],
   "source": [
    "lr = .01\n",
    "center_k = .001\n",
    "mag_k = .0001\n",
    "bandwidth_k = .0001\n",
    "enforce_bounds=True\n",
    "batch_size = 100000\n",
    "\n",
    "t0 = time.time()\n",
    "\n",
    "fit(fit_sf, x, y, n_its = 501, lr=lr, batch_size=batch_size, center_k=center_k, mag_k=mag_k, \n",
    "    bandwidth_k=bandwidth_k, enforce_bounds=enforce_bounds, \n",
    "    update_int=100)\n",
    "for i in range(1):\n",
    "    fit(fit_sf, x, y, n_its = 500, lr=lr, batch_size=batch_size, center_k=0, mag_k=0, \n",
    "        bandwidth_k=0, enforce_bounds=enforce_bounds, \n",
    "        update_int=100)\n",
    "    \n",
    "t_stop = time.time()\n",
    "\n",
    "print('Elapsed time: ' + str(t_stop - t0))"
   ]
  },
  {
   "cell_type": "code",
   "execution_count": 560,
   "metadata": {},
   "outputs": [],
   "source": [
    "fit_sf = fit_sf.to('cpu') \n",
    "x = x.to('cpu')\n",
    "y = y.to('cpu')"
   ]
  },
  {
   "cell_type": "code",
   "execution_count": 562,
   "metadata": {},
   "outputs": [
    {
     "data": {
      "image/png": "[encoded data removed]",
      "text/plain": [
       "<Figure size 432x288 with 4 Axes>"
      ]
     },
     "metadata": {
      "needs_background": "light"
     },
     "output_type": "display_data"
    }
   ],
   "source": [
    "plt.subplot(1,2,1)\n",
    "plot_2d_f(f_true, n_smps_per_dim=200)\n",
    "plt.subplot(1,2,2)\n",
    "plot_2d_f(torch_mod_to_fcn(fit_sf), n_smps_per_dim=200)\n",
    "\n",
    "for f in fit_sf.bump_fcns:\n",
    "    cur_ctr = f.ctr.detach().numpy()\n",
    "    plt.plot(200*cur_ctr[0], 200*cur_ctr[1], 'r.')"
   ]
  },
  {
   "cell_type": "code",
   "execution_count": 530,
   "metadata": {},
   "outputs": [],
   "source": []
  },
  {
   "cell_type": "code",
   "execution_count": 531,
   "metadata": {},
   "outputs": [
    {
     "data": {
      "text/plain": [
       "[array([0.26751974, 0.00955256], dtype=float32),\n",
       " array([0.3425778 , 0.72810274], dtype=float32),\n",
       " array([0.5760193, 0.3877582], dtype=float32),\n",
       " array([0.41938353, 0.84276164], dtype=float32),\n",
       " array([0.53923506, 0.03745417], dtype=float32),\n",
       " array([0.4533575, 0.6492748], dtype=float32),\n",
       " array([0.42982996, 0.6133476 ], dtype=float32),\n",
       " array([0.38733843, 0.65407693], dtype=float32),\n",
       " array([0.03165635, 0.31056374], dtype=float32),\n",
       " array([0.9083294, 0.6938804], dtype=float32),\n",
       " array([0.27583656, 0.85240966], dtype=float32),\n",
       " array([0.00015545, 0.10797321], dtype=float32),\n",
       " array([0.76140136, 0.08998999], dtype=float32),\n",
       " array([0.07509685, 0.01626079], dtype=float32),\n",
       " array([0.715184 , 0.8828998], dtype=float32),\n",
       " array([0.60019654, 0.        ], dtype=float32),\n",
       " array([0.44712946, 0.16881444], dtype=float32),\n",
       " array([0.7998611, 0.590458 ], dtype=float32),\n",
       " array([0.6636217 , 0.74759877], dtype=float32),\n",
       " array([0.77316165, 0.6181054 ], dtype=float32),\n",
       " array([0.04938538, 0.68594855], dtype=float32),\n",
       " array([0.4749901 , 0.08956084], dtype=float32),\n",
       " array([0.8301955 , 0.23377523], dtype=float32),\n",
       " array([0.5801372 , 0.40367723], dtype=float32),\n",
       " array([0.59159625, 0.8621409 ], dtype=float32),\n",
       " array([0.09818737, 0.28112453], dtype=float32),\n",
       " array([0.66692376, 0.16871397], dtype=float32),\n",
       " array([0.07335657, 0.47125223], dtype=float32),\n",
       " array([0.47358775, 0.3849765 ], dtype=float32),\n",
       " array([0.64144534, 0.1985811 ], dtype=float32),\n",
       " array([0.11029424, 0.        ], dtype=float32),\n",
       " array([0.187374, 0.      ], dtype=float32),\n",
       " array([0.13401774, 0.73937666], dtype=float32),\n",
       " array([0.3316747, 0.6541485], dtype=float32),\n",
       " array([0.10054948, 0.05171227], dtype=float32),\n",
       " array([0.5923126 , 0.55867845], dtype=float32),\n",
       " array([0.10022615, 0.04394625], dtype=float32),\n",
       " array([0.76943177, 0.12145825], dtype=float32),\n",
       " array([0.03690587, 0.        ], dtype=float32),\n",
       " array([0.03210172, 0.6022388 ], dtype=float32),\n",
       " array([0.74613136, 0.80020654], dtype=float32),\n",
       " array([0.47152382, 0.2137723 ], dtype=float32),\n",
       " array([0.21094616, 0.        ], dtype=float32),\n",
       " array([0.2389429 , 0.11953951], dtype=float32),\n",
       " array([0.55992144, 0.293752  ], dtype=float32),\n",
       " array([0.4661017, 0.6803467], dtype=float32),\n",
       " array([0.22479078, 0.0756808 ], dtype=float32),\n",
       " array([0.2350261 , 0.89595324], dtype=float32),\n",
       " array([0.14980659, 0.6385741 ], dtype=float32),\n",
       " array([0.09819761, 0.00733879], dtype=float32),\n",
       " array([0.63676727, 0.38895673], dtype=float32),\n",
       " array([0.5440723, 0.3943616], dtype=float32),\n",
       " array([0.39927799, 0.49533564], dtype=float32),\n",
       " array([0.22809789, 0.34346637], dtype=float32),\n",
       " array([0.46169725, 0.50456935], dtype=float32),\n",
       " array([0.6626211 , 0.16990805], dtype=float32),\n",
       " array([0.5338307, 0.3967047], dtype=float32),\n",
       " array([0.47593576, 0.4698284 ], dtype=float32),\n",
       " array([0.7086757 , 0.36525127], dtype=float32),\n",
       " array([0.5394534, 0.559664 ], dtype=float32),\n",
       " array([0.54785836, 0.00058874], dtype=float32),\n",
       " array([0.52125734, 0.10734461], dtype=float32),\n",
       " array([0.64597076, 0.65592235], dtype=float32),\n",
       " array([0.02609048, 0.8380802 ], dtype=float32),\n",
       " array([0.02890608, 0.8281289 ], dtype=float32),\n",
       " array([0.48741525, 0.7796141 ], dtype=float32),\n",
       " array([0.09725785, 0.52336466], dtype=float32),\n",
       " array([0.01463811, 0.44398475], dtype=float32),\n",
       " array([0.1831836 , 0.86601645], dtype=float32),\n",
       " array([0.8565232 , 0.73870754], dtype=float32),\n",
       " array([0.7898313, 0.8933499], dtype=float32),\n",
       " array([0.2106278 , 0.76393586], dtype=float32),\n",
       " array([0.29804516, 0.19109611], dtype=float32),\n",
       " array([0.85364074, 0.71689767], dtype=float32),\n",
       " array([0.1535665 , 0.16000953], dtype=float32),\n",
       " array([0.        , 0.37092113], dtype=float32),\n",
       " array([0.6552319, 0.0062122], dtype=float32),\n",
       " array([0.47025755, 0.02409849], dtype=float32),\n",
       " array([0.13806735, 0.19253597], dtype=float32),\n",
       " array([0.221591 , 0.2572353], dtype=float32),\n",
       " array([0.3670949, 0.7729754], dtype=float32),\n",
       " array([0.05616371, 0.07249345], dtype=float32),\n",
       " array([0.48856542, 0.7726728 ], dtype=float32),\n",
       " array([0.10415746, 0.1804579 ], dtype=float32),\n",
       " array([0.1473994 , 0.20834087], dtype=float32),\n",
       " array([0.29428384, 0.3532368 ], dtype=float32),\n",
       " array([0.40477616, 0.8117323 ], dtype=float32),\n",
       " array([0.21083848, 0.15718946], dtype=float32),\n",
       " array([0.        , 0.63628364], dtype=float32),\n",
       " array([0.69931996, 0.44955537], dtype=float32),\n",
       " array([0.2506477 , 0.00395043], dtype=float32),\n",
       " array([0.4451647 , 0.78833574], dtype=float32),\n",
       " array([0.2887506, 0.3329331], dtype=float32),\n",
       " array([0.16759342, 0.09009149], dtype=float32),\n",
       " array([0.97593063, 0.21520813], dtype=float32),\n",
       " array([0.60806763, 0.18483193], dtype=float32),\n",
       " array([0.26412976, 0.78520036], dtype=float32),\n",
       " array([0.43277672, 0.05838434], dtype=float32),\n",
       " array([0.625957  , 0.60099643], dtype=float32),\n",
       " array([0.63817334, 0.8725006 ], dtype=float32)]"
      ]
     },
     "execution_count": 531,
     "metadata": {},
     "output_type": "execute_result"
    }
   ],
   "source": [
    "ctrs"
   ]
  },
  {
   "cell_type": "code",
   "execution_count": 90,
   "metadata": {},
   "outputs": [
    {
     "data": {
      "text/plain": [
       "tensor([[0, 1, 0, 0, 0],\n",
       "        [0, 0, 0, 0, 0]], dtype=torch.uint8)"
      ]
     },
     "execution_count": 90,
     "metadata": {},
     "output_type": "execute_result"
    }
   ],
   "source": [
    "bound_inds"
   ]
  },
  {
   "cell_type": "code",
   "execution_count": 91,
   "metadata": {},
   "outputs": [
    {
     "data": {
      "text/plain": [
       "tensor([2.])"
      ]
     },
     "execution_count": 91,
     "metadata": {},
     "output_type": "execute_result"
    }
   ],
   "source": [
    "a[bound_inds]"
   ]
  },
  {
   "cell_type": "code",
   "execution_count": 302,
   "metadata": {},
   "outputs": [],
   "source": [
    "torch.backends.cudnn.enabled = True"
   ]
  },
  {
   "cell_type": "code",
   "execution_count": 303,
   "metadata": {},
   "outputs": [
    {
     "data": {
      "text/plain": [
       "True"
      ]
     },
     "execution_count": 303,
     "metadata": {},
     "output_type": "execute_result"
    }
   ],
   "source": [
    "torch.backends.cudnn.enabled "
   ]
  },
  {
   "cell_type": "code",
   "execution_count": null,
   "metadata": {},
   "outputs": [],
   "source": []
  }
 ],
 "metadata": {
  "kernelspec": {
   "display_name": "Python 3",
   "language": "python",
   "name": "python3"
  },
  "language_info": {
   "codemirror_mode": {
    "name": "ipython",
    "version": 3
   },
   "file_extension": ".py",
   "mimetype": "text/x-python",
   "name": "python",
   "nbconvert_exporter": "python",
   "pygments_lexer": "ipython3",
   "version": "3.7.3"
  }
 },
 "nbformat": 4,
 "nbformat_minor": 4
}
