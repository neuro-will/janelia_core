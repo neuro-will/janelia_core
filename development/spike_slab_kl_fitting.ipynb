{
 "cells": [
  {
   "cell_type": "markdown",
   "metadata": {},
   "source": [
    "# Code to fit one spike and slab distribution to another with variational inference"
   ]
  },
  {
   "cell_type": "code",
   "execution_count": 1,
   "metadata": {},
   "outputs": [],
   "source": [
    "%load_ext autoreload\n",
    "%autoreload 2"
   ]
  },
  {
   "cell_type": "code",
   "execution_count": 2,
   "metadata": {},
   "outputs": [],
   "source": [
    "import matplotlib.pyplot as plt\n",
    "import numpy as np\n",
    "import torch\n",
    "\n",
    "from multiple_subject_vae_2 import BernoulliCondDistribution\n",
    "from multiple_subject_vae_2 import CondGaussianDistribution\n",
    "from multiple_subject_vae_2 import CondSpikeSlabDistribution\n",
    "from multiple_subject_vae_2 import ConstantRealFcn\n",
    "from multiple_subject_vae_2 import ConstantLowerBoundedFcn\n",
    "from multiple_subject_vae_2 import LogBumpFcn\n",
    "from multiple_subject_vae_2 import visualize_spike_slab_distribution"
   ]
  },
  {
   "cell_type": "markdown",
   "metadata": {},
   "source": [
    "## Generate neuron properties for all of the simulations below"
   ]
  },
  {
   "cell_type": "code",
   "execution_count": 3,
   "metadata": {},
   "outputs": [],
   "source": [
    "# Properties of neurons we condition on \n",
    "n_neurons = 2000\n",
    "neuron_props = torch.zeros(n_neurons, 2).uniform_()"
   ]
  },
  {
   "cell_type": "markdown",
   "metadata": {},
   "source": [
    "## Create true spike and slab distribution \n",
    "\n",
    "This is the p distribtion in KL(q,p)"
   ]
  },
  {
   "cell_type": "code",
   "execution_count": 10,
   "metadata": {},
   "outputs": [],
   "source": [
    "p_slab_mn_f = ConstantRealFcn(1)\n",
    "p_slab_std_f = ConstantLowerBoundedFcn(1)\n",
    "p_slab_d = CondGaussianDistribution(mn_fcn=p_slab_mn_f, std_fcn=p_slab_std_f)\n",
    "\n",
    "p_log_prob_fcn = LogBumpFcn(2)\n",
    "p_log_prob_fcn.log_gain_vl.v.data = torch.tensor([10.0])\n",
    "p_log_prob_fcn.ctr.data = torch.tensor([.25, .25])\n",
    "p_log_prob_fcn.ctr_stds.v.data = torch.tensor([-1.0, -1.0])\n",
    "p_spike_d = BernoulliCondDistribution(p_log_prob_fcn)\n",
    "\n",
    "p = CondSpikeSlabDistribution(spike_dist=p_spike_d, slab_dist=p_slab_d, d=1)"
   ]
  },
  {
   "cell_type": "markdown",
   "metadata": {},
   "source": [
    "## Initialize the inference distribution "
   ]
  },
  {
   "cell_type": "code",
   "execution_count": 11,
   "metadata": {},
   "outputs": [],
   "source": [
    "q_slab_mn_f = ConstantRealFcn(1)\n",
    "q_slab_std_f = ConstantLowerBoundedFcn(1)\n",
    "q_slab_d = CondGaussianDistribution(mn_fcn=q_slab_mn_f, std_fcn=q_slab_std_f)\n",
    "\n",
    "q_log_prob_fcn = LogBumpFcn(2)\n",
    "q_log_prob_fcn.log_gain_vl.v.data = torch.tensor([10.0])\n",
    "q_log_prob_fcn.ctr_stds.v.data = torch.tensor([-2.0, -2.0])\n",
    "q_spike_d = BernoulliCondDistribution(q_log_prob_fcn)\n",
    "\n",
    "q = CondSpikeSlabDistribution(spike_dist=q_spike_d, slab_dist=q_slab_d, d=1)"
   ]
  },
  {
   "cell_type": "markdown",
   "metadata": {},
   "source": [
    "## Fit q to p "
   ]
  },
  {
   "cell_type": "code",
   "execution_count": 12,
   "metadata": {},
   "outputs": [
    {
     "name": "stdout",
     "output_type": "stream",
     "text": [
      "it: 0, kl_sum: 3805.5876\n",
      "it: 100, kl_sum: 50.975655\n",
      "it: 200, kl_sum: -0.15179378\n",
      "it: 300, kl_sum: -0.045024395\n",
      "it: 400, kl_sum: -0.24472052\n",
      "it: 500, kl_sum: -0.3129453\n",
      "it: 600, kl_sum: 0.022134006\n",
      "it: 700, kl_sum: 0.017970204\n",
      "it: 800, kl_sum: 0.71267116\n",
      "it: 900, kl_sum: -1.1480716\n"
     ]
    }
   ],
   "source": [
    "q_slab_params = list(q.slab_dist.parameters())\n",
    "slab_optimizer = torch.optim.Adam(q_slab_params, lr=.01)\n",
    "\n",
    "q_spike_params = list(q.spike_dist.parameters())\n",
    "spike_optimizer = torch.optim.Adam(q_spike_params, lr=.01)\n",
    "\n",
    "enforce_borders = True\n",
    "border_bounds = [.05, .95]\n",
    "\n",
    "#c_net = torch.nn.Sequential(torch.nn.Linear(2, 2), torch.nn.ReLU(), \n",
    "#                            torch.nn.Linear(2, 10), torch.nn.ReLU(), \n",
    "#                            torch.nn.Linear(10, 10), torch.nn.ReLU(), \n",
    "#                            torch.nn.Linear(10, 10), torch.nn.ReLU(),\n",
    "#                            torch.nn.Linear(10,1))\n",
    "\n",
    "#c_optimzer = torch.optim.Adam(c_net.parameters(), lr=.01)\n",
    "\n",
    "n_its = 1000\n",
    "update_int = 100\n",
    "\n",
    "for i in range(n_its):\n",
    "    \n",
    "    # Sample q\n",
    "    smp_nz_i, smp_nz_v = q.sample(neuron_props)\n",
    "    \n",
    "    y_i = torch.zeros([n_neurons, 1])\n",
    "    y_i[smp_nz_i, 0] = smp_nz_v\n",
    "    \n",
    "    \n",
    "    # ========================================================================\n",
    "    # Start by calculating the gradients for the slab parameters\n",
    "    \n",
    "    # Temporarily set requires_grad to false for the spike parameters\n",
    "    for pr in q_spike_params:\n",
    "        pr.requires_grad = False\n",
    "    \n",
    "    # Calculate kl divergence for each sample\n",
    "    q_ll = q.log_prob(neuron_props, y_i) \n",
    "    p_ll = p.log_prob(neuron_props, y_i)\n",
    "    \n",
    "    kl = q_ll - p_ll \n",
    "    \n",
    "    # Calculate gradients for the slab parameters\n",
    "    kl_sum = torch.sum(kl)\n",
    "    slab_optimizer.zero_grad()\n",
    "    kl_sum.backward(retain_graph=True)\n",
    "    \n",
    "    # Set requires grad back to true for the spike parameters\n",
    "    for pr in q_spike_params:\n",
    "        pr.requires_grad = True\n",
    "        \n",
    "    # ========================================================================\n",
    "    # Calculate gradients for the spike parameters \n",
    "    \n",
    "    # Temporarily set requries_grad to false for the slab parameters - this keeps\n",
    "    # us from updating their gradients when we calculate gradients for the spike\n",
    "    for pr in q_slab_params:\n",
    "        pr.requires_grad = False\n",
    "     \n",
    "    # Update the spike parameters\n",
    "    with torch.no_grad():\n",
    "        learning_sig = kl # Can add in baselines here later\n",
    "    spike_optimizer.zero_grad()\n",
    "    spike_o = torch.sum(learning_sig*q.log_prob(neuron_props, y_i))\n",
    "    spike_o.backward()\n",
    "    \n",
    "    # Now we set things up so the slab gradients will be calculated on the next iteration\n",
    "    for pr in q_slab_params:\n",
    "        pr.requires_grad = True\n",
    "    \n",
    "    # Actually take steps here\n",
    "    spike_optimizer.step()\n",
    "    slab_optimizer.step()\n",
    "    \n",
    "    if enforce_borders:\n",
    "        spike_ctr = q.spike_dist.log_prob_fcn.ctr.data.numpy()\n",
    "        spike_ctr[0] = np.max([np.min([spike_ctr[0], border_bounds[1]]), border_bounds[0]])\n",
    "        spike_ctr[1] = np.max([np.min([spike_ctr[1], border_bounds[1]]), border_bounds[0]])\n",
    "        q.spike_dist.log_prob_fcn.ctr.data = torch.from_numpy(spike_ctr)\n",
    "        \n",
    "    kl_sum_record = kl_sum.detach().numpy()\n",
    "    if i % update_int == 0: \n",
    "        print('it: ' + str(i) + ', kl_sum: ' + str(kl_sum_record))\n",
    "    \n",
    "    \n",
    "    "
   ]
  },
  {
   "cell_type": "markdown",
   "metadata": {},
   "source": [
    "## Visualize true and estimated distributions"
   ]
  },
  {
   "cell_type": "code",
   "execution_count": 13,
   "metadata": {},
   "outputs": [
    {
     "data": {
      "image/png": "[encoded data removed]",
      "text/plain": [
       "<Figure size 432x288 with 6 Axes>"
      ]
     },
     "metadata": {
      "needs_background": "light"
     },
     "output_type": "display_data"
    }
   ],
   "source": [
    "visualize_spike_slab_distribution(p)"
   ]
  },
  {
   "cell_type": "code",
   "execution_count": 14,
   "metadata": {},
   "outputs": [
    {
     "data": {
      "image/png": "[encoded data removed]",
      "text/plain": [
       "<Figure size 432x288 with 6 Axes>"
      ]
     },
     "metadata": {
      "needs_background": "light"
     },
     "output_type": "display_data"
    }
   ],
   "source": [
    "visualize_spike_slab_distribution(q)"
   ]
  },
  {
   "cell_type": "code",
   "execution_count": null,
   "metadata": {},
   "outputs": [],
   "source": []
  }
 ],
 "metadata": {
  "kernelspec": {
   "display_name": "Python 3",
   "language": "python",
   "name": "python3"
  },
  "language_info": {
   "codemirror_mode": {
    "name": "ipython",
    "version": 3
   },
   "file_extension": ".py",
   "mimetype": "text/x-python",
   "name": "python",
   "nbconvert_exporter": "python",
   "pygments_lexer": "ipython3",
   "version": "3.7.2"
  }
 },
 "nbformat": 4,
 "nbformat_minor": 2
}
