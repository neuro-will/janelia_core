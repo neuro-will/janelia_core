{
 "cells": [
  {
   "cell_type": "code",
   "execution_count": 1,
   "metadata": {},
   "outputs": [],
   "source": [
    "# A notebook to test using streams in pytorch"
   ]
  },
  {
   "cell_type": "code",
   "execution_count": 2,
   "metadata": {},
   "outputs": [],
   "source": [
    "from time import time\n",
    "\n",
    "import torch\n"
   ]
  },
  {
   "cell_type": "code",
   "execution_count": 3,
   "metadata": {},
   "outputs": [],
   "source": [
    "class NN(torch.nn.Module):\n",
    "    \n",
    "    def __init__(self, n):\n",
    "        \n",
    "        super().__init__()\n",
    "        self.ll = torch.nn.Linear(n,n)\n",
    "        \n",
    "    def forward(self, x): \n",
    "        return torch.sum(torch.exp(self.ll(x)))"
   ]
  },
  {
   "cell_type": "code",
   "execution_count": 5,
   "metadata": {},
   "outputs": [
    {
     "name": "stdout",
     "output_type": "stream",
     "text": [
      "Created data in 1.2040178775787354 seconds.\n",
      "Created streams in 1.2040178775787354 seconds.\n",
      "tensor(104.0897, device='cuda:0', grad_fn=<SumBackward0>)\n",
      "Computed without streams in 7.664313077926636 seconds.\n"
     ]
    }
   ],
   "source": [
    "n_mats = 100000\n",
    "d = 10\n",
    "use_streams = False\n",
    "\n",
    "t0 = time()\n",
    "# Initialise cuda tensors here. E.g.:\n",
    "mats = [torch.rand(d, d, device = 'cuda') for i in range(n_mats)]\n",
    "nets = [NN(d)]\n",
    "for nn in nets:\n",
    "    nn.to('cuda')\n",
    "t1 = time()\n",
    "print('Created data in ' + str(t1-t0) + ' seconds.')\n",
    "\n",
    "t2 = time()\n",
    "streams = [torch.cuda.Stream() for i in range(n_mats)]\n",
    "t3 = time()\n",
    "print('Created streams in ' + str(t1-t0) + ' seconds.')\n",
    "\n",
    "\n",
    "\n",
    "# Wait for the above tensors to initialise.\n",
    "torch.cuda.synchronize()\n",
    "if use_streams:\n",
    "    t4 = time()\n",
    "    # Do some basic computations with streams \n",
    "    r = [None]*n_mats\n",
    "    for m_i, m in enumerate(mats):\n",
    "        with torch.cuda.stream(streams[m_i]):\n",
    "            r[m_i] = torch.mm(m,m)\n",
    "\n",
    "    torch.cuda.synchronize()\n",
    "    t5 = time()\n",
    "    print('Computed with streams in ' + str(t5-t4) + ' seconds.')\n",
    "else:\n",
    "    t6 = time()\n",
    "    r = [None]*len(mats)\n",
    "    for m_i, m in enumerate(mats):\n",
    "        r[m_i] = nn(m)\n",
    "    torch.cuda.synchronize()\n",
    "    print(r[0])\n",
    "    t7 = time()\n",
    "    print('Computed without streams in ' + str(t7-t6) + ' seconds.')\n",
    "\n"
   ]
  },
  {
   "cell_type": "code",
   "execution_count": null,
   "metadata": {},
   "outputs": [],
   "source": []
  }
 ],
 "metadata": {
  "kernelspec": {
   "display_name": "Python 3",
   "language": "python",
   "name": "python3"
  },
  "language_info": {
   "codemirror_mode": {
    "name": "ipython",
    "version": 3
   },
   "file_extension": ".py",
   "mimetype": "text/x-python",
   "name": "python",
   "nbconvert_exporter": "python",
   "pygments_lexer": "ipython3",
   "version": "3.7.3"
  }
 },
 "nbformat": 4,
 "nbformat_minor": 2
}
