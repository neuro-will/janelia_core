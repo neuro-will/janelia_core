{
 "cells": [
  {
   "cell_type": "markdown",
   "metadata": {},
   "source": [
    "# Code to work with optimization over the set of orthogonal matrices"
   ]
  },
  {
   "cell_type": "code",
   "execution_count": 1,
   "metadata": {},
   "outputs": [],
   "source": [
    "import autograd.numpy as np\n",
    "import pymanopt\n",
    "from pymanopt.manifolds import Stiefel\n",
    "from pymanopt.manifolds import Sphere\n",
    "from pymanopt import Problem\n",
    "from pymanopt.solvers import SteepestDescent\n",
    "from pymanopt.solvers import ConjugateGradient\n",
    "from pymanopt.solvers import TrustRegions\n",
    "\n",
    "from janelia_core.visualization.matrix_visualization import cmp_n_mats"
   ]
  },
  {
   "cell_type": "code",
   "execution_count": 2,
   "metadata": {},
   "outputs": [],
   "source": [
    "n_rows = 10\n",
    "n_cols = 2"
   ]
  },
  {
   "cell_type": "code",
   "execution_count": 3,
   "metadata": {},
   "outputs": [],
   "source": [
    "# Generate a sparse matrix\n",
    "m_true = np.random.rand(n_rows, n_cols)\n",
    "m_true[m_true < .5] = 0"
   ]
  },
  {
   "cell_type": "code",
   "execution_count": 4,
   "metadata": {},
   "outputs": [],
   "source": [
    "# Generate an orthogonal matrix\n",
    "o_true = np.random.rand(n_cols, n_cols)\n",
    "o_true, _, _ = np.linalg.svd(o_true)"
   ]
  },
  {
   "cell_type": "code",
   "execution_count": 5,
   "metadata": {},
   "outputs": [],
   "source": [
    "# Rotate the sparse matrix\n",
    "m_true_rot = np.matmul(m_true, o_true)"
   ]
  },
  {
   "cell_type": "code",
   "execution_count": 6,
   "metadata": {},
   "outputs": [
    {
     "data": {
      "text/plain": [
       "[<matplotlib.axes._subplots.AxesSubplot at 0x12b3a7198>,\n",
       " <matplotlib.axes._subplots.AxesSubplot at 0x12b630e48>]"
      ]
     },
     "execution_count": 6,
     "metadata": {},
     "output_type": "execute_result"
    },
    {
     "data": {
      "image/png": "[encoded data removed]",
      "text/plain": [
       "<Figure size 432x288 with 2 Axes>"
      ]
     },
     "metadata": {
      "needs_background": "light"
     },
     "output_type": "display_data"
    }
   ],
   "source": [
    "cmp_n_mats([m_true, m_true_rot])"
   ]
  },
  {
   "cell_type": "code",
   "execution_count": 7,
   "metadata": {},
   "outputs": [
    {
     "name": "stdout",
     "output_type": "stream",
     "text": [
      "Compiling cost function...\n",
      "Computing gradient of cost function...\n",
      " iter\t\t   cost val\t    grad. norm\n",
      "    1\t+1.0574700960280680e+01\t1.83062207e-01\n",
      "    2\t+9.6326426921197648e+00\t3.86172607e+00\n",
      "    3\t+9.6324517325650838e+00\t3.17624223e+00\n",
      "    4\t+9.6321870231834374e+00\t3.86229432e+00\n",
      "    5\t+9.6321786404326879e+00\t3.17665630e+00\n",
      "    6\t+9.6321451091613906e+00\t3.17670713e+00\n",
      "    7\t+9.6321362041767955e+00\t3.86235769e+00\n",
      "    8\t+9.6321262261262408e+00\t3.17673576e+00\n",
      "    9\t+9.6321244599716138e+00\t3.86237233e+00\n",
      "   10\t+9.6321241423644022e+00\t3.17673892e+00\n",
      "   11\t+9.6321228719351684e+00\t3.17674084e+00\n",
      "   12\t+9.6321228584426368e+00\t3.86237433e+00\n",
      "   13\t+9.6321228044725071e+00\t3.86237440e+00\n",
      "   14\t+9.6321227762756756e+00\t3.17674099e+00\n",
      "   15\t+9.6321227257221125e+00\t3.86237450e+00\n",
      "   16\t+9.6321227050678395e+00\t3.17674110e+00\n",
      "   17\t+9.6321227002806165e+00\t3.86237453e+00\n",
      "   18\t+9.6321227001632259e+00\t3.17674110e+00\n",
      "   19\t+9.6321226996936620e+00\t3.17674111e+00\n",
      "   20\t+9.6321226978154080e+00\t3.17674111e+00\n",
      "   21\t+9.6321226931208148e+00\t3.86237454e+00\n",
      "   22\t+9.6321226922330041e+00\t3.17674112e+00\n",
      "   23\t+9.6321226918529437e+00\t3.86237454e+00\n",
      "Terminated - min stepsize reached after 23 iterations, 0.03 seconds.\n",
      "\n"
     ]
    }
   ],
   "source": [
    "# Attempt to learn the right rotation to recover the sparse matrix\n",
    "\n",
    "def cost(o_est):\n",
    "    return np.sum(np.abs(np.matmul(m_true_rot, o_est)))\n",
    "\n",
    "manifold = Stiefel(n_cols, n_cols)\n",
    "\n",
    "problem = Problem(manifold=manifold, cost=cost)\n",
    "\n",
    "solver = SteepestDescent()\n",
    "\n",
    "o_est = solver.solve(problem)"
   ]
  },
  {
   "cell_type": "code",
   "execution_count": 8,
   "metadata": {},
   "outputs": [
    {
     "data": {
      "text/plain": [
       "[<matplotlib.axes._subplots.AxesSubplot at 0x12b6eb4e0>,\n",
       " <matplotlib.axes._subplots.AxesSubplot at 0x12b7500f0>]"
      ]
     },
     "execution_count": 8,
     "metadata": {},
     "output_type": "execute_result"
    },
    {
     "data": {
      "image/png": "[encoded data removed]",
      "text/plain": [
       "<Figure size 432x288 with 4 Axes>"
      ]
     },
     "metadata": {
      "needs_background": "light"
     },
     "output_type": "display_data"
    }
   ],
   "source": [
    "m_est = np.matmul(m_true_rot, o_est)\n",
    "\n",
    "m_true_plot = np.abs(m_true)\n",
    "m_true_plot[m_true_plot > .02] = 1\n",
    "m_true_plot[m_true_plot < .02] = 0\n",
    "\n",
    "m_est_plot = np.abs(m_est)\n",
    "m_est_plot[m_est_plot > .02] = 1\n",
    "m_est_plot[m_est_plot < .02] = 0\n",
    "\n",
    "cmp_n_mats([m_true_plot, m_est_plot], show_colorbars=True)"
   ]
  },
  {
   "cell_type": "code",
   "execution_count": null,
   "metadata": {},
   "outputs": [],
   "source": []
  }
 ],
 "metadata": {
  "kernelspec": {
   "display_name": "Python 3",
   "language": "python",
   "name": "python3"
  },
  "language_info": {
   "codemirror_mode": {
    "name": "ipython",
    "version": 3
   },
   "file_extension": ".py",
   "mimetype": "text/x-python",
   "name": "python",
   "nbconvert_exporter": "python",
   "pygments_lexer": "ipython3",
   "version": "3.7.2"
  }
 },
 "nbformat": 4,
 "nbformat_minor": 2
}
