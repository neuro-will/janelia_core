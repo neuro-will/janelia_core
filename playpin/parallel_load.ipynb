{
 "cells": [
  {
   "cell_type": "code",
   "execution_count": 1,
   "metadata": {},
   "outputs": [],
   "source": [
    "import findspark\n",
    "findspark.init()\n",
    "\n",
    "from multiprocessing import Pool, cpu_count\n",
    "from pathlib import Path\n",
    "import time\n",
    "\n",
    "import dask.array as da\n",
    "import numpy as np\n",
    "import pyqtgraph as pg\n",
    "import pyspark\n",
    "\n",
    "import janelia_core.fileio.ahrens_lab as ahrens_lab\n",
    "from janelia_core.fileio.shared_lab import find_images\n",
    "from janelia_core.fileio.exp_reader import read_img_file"
   ]
  },
  {
   "cell_type": "code",
   "execution_count": 2,
   "metadata": {},
   "outputs": [],
   "source": [
    "ephys_folder = Path(r'E:\\\\bishop_work\\\\ahrens_two_color\\\\20161109_2_1_6dpf_GFAP_GC_Huc_RG_GA_CL_fb_OL_f0_0GAIN_20161109_211950\\\\ephys')\n",
    "image_folder = Path(r'E:\\\\bishop_work\\\\ahrens_two_color\\\\20161109_2_1_6dpf_GFAP_GC_Huc_RG_GA_CL_fb_OL_f0_0GAIN_20161109_211950\\raw')"
   ]
  },
  {
   "cell_type": "code",
   "execution_count": 3,
   "metadata": {
    "scrolled": true
   },
   "outputs": [
    {
     "name": "stdout",
     "output_type": "stream",
     "text": [
      "Searching for image files...\n",
      "Found 12500 images.\n"
     ]
    }
   ],
   "source": [
    "img_paths = find_images(image_folder, '.h5')"
   ]
  },
  {
   "cell_type": "code",
   "execution_count": 4,
   "metadata": {},
   "outputs": [],
   "source": [
    "n_images = 3000 # Only set to large values if using spark "
   ]
  },
  {
   "cell_type": "code",
   "execution_count": null,
   "metadata": {},
   "outputs": [],
   "source": [
    "t0 = time.time()\n",
    "with Pool(min(cpu_count(), n_images)) as pool:\n",
    "    data = np.array(pool.map(np.max(read_img_file, 0), img_paths[0:n_images]))\n",
    "t1 = time.time(); \n",
    "print(\"Elapsed time: \" + str(t1 - t0))"
   ]
  },
  {
   "cell_type": "code",
   "execution_count": null,
   "metadata": {},
   "outputs": [],
   "source": [
    "exp = ahrens_lab.read_exp(image_folder, ephys_folder)\n",
    "t0 = time.time()\n",
    "data2 = da.max(exp.ts_data['imgs']['vls'][0:n_images, :, :, :], 1).compute()\n",
    "t1 = time.time()\n",
    "print(\"Elapsed time: \" + str(t1 - t0))"
   ]
  },
  {
   "cell_type": "code",
   "execution_count": 13,
   "metadata": {},
   "outputs": [],
   "source": [
    "def max_proj(f):\n",
    "    return np.max(read_img_file(f), 0)\n",
    "\n",
    "conf = pyspark.SparkConf().setAll([('spark.executor.memory', '5g'), ('spark.executor.cores', '60'),\n",
    "                                   ('spark.cores.max', '60'), ('spark.driver.memory','200g'), \n",
    "                                  ('spark.driver.maxResultSize', '200g')])\n",
    "sc = pyspark.SparkContext(conf=conf)"
   ]
  },
  {
   "cell_type": "code",
   "execution_count": null,
   "metadata": {},
   "outputs": [],
   "source": [
    "t0 = time.time()\n",
    "data3 = np.array(sc.parallelize(img_paths[0:n_images]).map(max_proj).collect())\n",
    "t1 = time.time()\n",
    "print(\"Elapsed time: \" + str(t1 - t0))"
   ]
  },
  {
   "cell_type": "code",
   "execution_count": null,
   "metadata": {},
   "outputs": [],
   "source": [
    "t0 = time.time()\n",
    "#data4 = np.array([np.max(read_img_file(f),0) for f in img_paths[0:n_images]])\n",
    "t1 = time.time()\n",
    "print(\"Elapsed time: \" + str(t1 - t0))"
   ]
  },
  {
   "cell_type": "code",
   "execution_count": null,
   "metadata": {},
   "outputs": [],
   "source": [
    "#sc.getConf().getAll()\n",
    "%gui qt\n",
    "pg.image(data3)"
   ]
  },
  {
   "cell_type": "code",
   "execution_count": null,
   "metadata": {},
   "outputs": [],
   "source": [
    "data3.shape"
   ]
  },
  {
   "cell_type": "code",
   "execution_count": 12,
   "metadata": {},
   "outputs": [],
   "source": [
    "n_images = 7000"
   ]
  },
  {
   "cell_type": "code",
   "execution_count": 11,
   "metadata": {},
   "outputs": [],
   "source": [
    "sc.stop()"
   ]
  },
  {
   "cell_type": "code",
   "execution_count": null,
   "metadata": {},
   "outputs": [],
   "source": []
  }
 ],
 "metadata": {
  "kernelspec": {
   "display_name": "Python 3",
   "language": "python",
   "name": "python3"
  },
  "language_info": {
   "codemirror_mode": {
    "name": "ipython",
    "version": 3
   },
   "file_extension": ".py",
   "mimetype": "text/x-python",
   "name": "python",
   "nbconvert_exporter": "python",
   "pygments_lexer": "ipython3",
   "version": "3.6.7"
  }
 },
 "nbformat": 4,
 "nbformat_minor": 2
}
