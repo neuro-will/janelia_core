{
 "cells": [
  {
   "cell_type": "code",
   "execution_count": null,
   "metadata": {},
   "outputs": [],
   "source": [
    "import sys\n",
    "\n",
    "from pathlib import Path\n",
    "import time\n",
    "\n",
    "import numpy as np\n",
    "import pyqtgraph as pg\n",
    "from pyqtgraph.Qt import QtGui\n",
    "\n",
    "from janelia_core.fileio.ahrens_lab import read_exp\n",
    "from janelia_core.fileio.exp_reader import read_img_file"
   ]
  },
  {
   "cell_type": "code",
   "execution_count": null,
   "metadata": {},
   "outputs": [],
   "source": [
    "ephys_folder = Path(r'E:\\\\bishop_work\\\\ahrens_two_color\\\\20161109_2_1_6dpf_GFAP_GC_Huc_RG_GA_CL_fb_OL_f0_0GAIN_20161109_211950\\\\ephys')\n",
    "image_folder = Path(r'E:\\\\bishop_work\\\\ahrens_two_color\\\\20161109_2_1_6dpf_GFAP_GC_Huc_RG_GA_CL_fb_OL_f0_0GAIN_20161109_211950\\raw')"
   ]
  },
  {
   "cell_type": "code",
   "execution_count": null,
   "metadata": {},
   "outputs": [],
   "source": [
    "exp = read_exp(image_folder, ephys_folder)"
   ]
  },
  {
   "cell_type": "code",
   "execution_count": null,
   "metadata": {},
   "outputs": [],
   "source": [
    "ephys_data = exp.ts_data['ephys']['vls']"
   ]
  },
  {
   "cell_type": "code",
   "execution_count": null,
   "metadata": {},
   "outputs": [],
   "source": [
    "#%gui qt\n",
    "#pg.plot(ephys_data[:,12])"
   ]
  },
  {
   "cell_type": "code",
   "execution_count": null,
   "metadata": {},
   "outputs": [],
   "source": [
    "plot_ephys_data = ephys_data[:,12]"
   ]
  },
  {
   "cell_type": "code",
   "execution_count": null,
   "metadata": {},
   "outputs": [],
   "source": [
    "# %gui qt\n",
    "pg.setConfigOptions(antialias=True) \n",
    "\n",
    "app = QtGui.QApplication([])\n",
    "w = QtGui.QWidget()\n",
    "\n",
    "# Prepare the top plot showing the ephys data for the whole experiment\n",
    "p1 = pg.PlotWidget()\n",
    "p1.plot(plot_ephys_data,  pen=(255,255,255,200))\n",
    "lr = pg.LinearRegionItem([0,1])\n",
    "lr.setZValue(-10)\n",
    "p1.addItem(lr)\n",
    "\n",
    "# Prepare plot showing zoomed in ephys data\n",
    "p2 = pg.PlotWidget()\n",
    "p2.plot(plot_ephys_data)\n",
    "\n",
    "# Set things up so plots communicate with one another \n",
    "def updatePlot():\n",
    "    p2.setXRange(*lr.getRegion(), padding=0)\n",
    "def updateRegion():\n",
    "    lr.setRegion(p2.getViewBox().viewRange()[0])\n",
    "lr.sigRegionChanged.connect(updatePlot)\n",
    "p2.sigXRangeChanged.connect(updateRegion)\n",
    "\n",
    "def test_fcn():\n",
    "    print(\"Test\")\n",
    "\n",
    "btn = pg.QtGui.QPushButton(\"Load Images.\")\n",
    "btn.clicked.connect(test_fcn)\n",
    "# Create a grid layout to manage the widgets size and position\n",
    "layout = QtGui.QGridLayout()\n",
    "w.setLayout(layout)\n",
    "\n",
    "\n",
    "\n",
    "layout.addWidget(p1, 0, 0)\n",
    "layout.addWidget(p2, 1, 0)\n",
    "layout.addWidget(btn, 2, 0)\n",
    "w.show()\n",
    "\n",
    "#win.setCentralWidget(btn)\n",
    "# Start the QT Event loop\n",
    "QtGui.QApplication.instance().exec_()"
   ]
  },
  {
   "cell_type": "code",
   "execution_count": null,
   "metadata": {},
   "outputs": [],
   "source": [
    "app.quit()\n",
    "\n"
   ]
  },
  {
   "cell_type": "code",
   "execution_count": null,
   "metadata": {},
   "outputs": [],
   "source": []
  }
 ],
 "metadata": {
  "kernelspec": {
   "display_name": "Python 3",
   "language": "python",
   "name": "python3"
  },
  "language_info": {
   "codemirror_mode": {
    "name": "ipython",
    "version": 3
   },
   "file_extension": ".py",
   "mimetype": "text/x-python",
   "name": "python",
   "nbconvert_exporter": "python",
   "pygments_lexer": "ipython3",
   "version": "3.6.7"
  }
 },
 "nbformat": 4,
 "nbformat_minor": 2
}
