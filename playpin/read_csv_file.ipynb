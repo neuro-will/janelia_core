{
 "cells": [
  {
   "cell_type": "code",
   "execution_count": 113,
   "metadata": {},
   "outputs": [],
   "source": [
    "file = '/Users/williambishop/Desktop/L2-561nm-ROIMonitoring_20170826_131101/stim_inds.csv'"
   ]
  },
  {
   "cell_type": "code",
   "execution_count": 114,
   "metadata": {},
   "outputs": [],
   "source": [
    "import numpy as np\n",
    "import pandas\n",
    "from warnings import warn"
   ]
  },
  {
   "cell_type": "code",
   "execution_count": 127,
   "metadata": {},
   "outputs": [],
   "source": [
    "dataframe = pandas.read_csv(file, names=['s', 'e'])"
   ]
  },
  {
   "cell_type": "code",
   "execution_count": 131,
   "metadata": {},
   "outputs": [],
   "source": [
    "def process_stimulus_inds(dataframe: pandas.DataFrame) -> list:\n",
    "    \"\"\" Processes stimulus annotations loaded from a csv file.\n",
    "    \n",
    "    This function expects no header in the csv file and each line to contain\n",
    "    two values in the order start, end giving the start and end index of the\n",
    "    stimulus.  This function expects indexing *to be 1 based* and will convert to\n",
    "    0 based when it produces output.\n",
    "    \n",
    "    Args:\n",
    "        dataframe: A dataframe object loaded from a csv file.  This can be achieved by:\n",
    "            dataframe = pandas.read_csv(csv_file)\n",
    "        \n",
    "    Returns:\n",
    "        annots: A list.  Each entry is a stimulus event represented as a dictionary with the\n",
    "        keys:\n",
    "            s: the start index\n",
    "            e: the end index\n",
    "            type: A string which will always be 'stimulus'\n",
    "    \"\"\"\n",
    "    stim_inds = list()\n",
    "    for row_ind, row in dataframe.iterrows():\n",
    "        stim_inds.append({'s': row['s']-1, 'e': row['e']-1, 'type': 'stimulus'})\n",
    "    return stim_inds"
   ]
  },
  {
   "cell_type": "code",
   "execution_count": 132,
   "metadata": {},
   "outputs": [
    {
     "data": {
      "text/html": [
       "<div>\n",
       "<style scoped>\n",
       "    .dataframe tbody tr th:only-of-type {\n",
       "        vertical-align: middle;\n",
       "    }\n",
       "\n",
       "    .dataframe tbody tr th {\n",
       "        vertical-align: top;\n",
       "    }\n",
       "\n",
       "    .dataframe thead th {\n",
       "        text-align: right;\n",
       "    }\n",
       "</style>\n",
       "<table border=\"1\" class=\"dataframe\">\n",
       "  <thead>\n",
       "    <tr style=\"text-align: right;\">\n",
       "      <th></th>\n",
       "      <th>s</th>\n",
       "      <th>e</th>\n",
       "    </tr>\n",
       "  </thead>\n",
       "  <tbody>\n",
       "    <tr>\n",
       "      <th>0</th>\n",
       "      <td>154</td>\n",
       "      <td>159</td>\n",
       "    </tr>\n",
       "    <tr>\n",
       "      <th>1</th>\n",
       "      <td>911</td>\n",
       "      <td>916</td>\n",
       "    </tr>\n",
       "    <tr>\n",
       "      <th>2</th>\n",
       "      <td>1613</td>\n",
       "      <td>1618</td>\n",
       "    </tr>\n",
       "    <tr>\n",
       "      <th>3</th>\n",
       "      <td>2361</td>\n",
       "      <td>2366</td>\n",
       "    </tr>\n",
       "    <tr>\n",
       "      <th>4</th>\n",
       "      <td>3914</td>\n",
       "      <td>3919</td>\n",
       "    </tr>\n",
       "    <tr>\n",
       "      <th>5</th>\n",
       "      <td>4700</td>\n",
       "      <td>4705</td>\n",
       "    </tr>\n",
       "  </tbody>\n",
       "</table>\n",
       "</div>"
      ],
      "text/plain": [
       "      s     e\n",
       "0   154   159\n",
       "1   911   916\n",
       "2  1613  1618\n",
       "3  2361  2366\n",
       "4  3914  3919\n",
       "5  4700  4705"
      ]
     },
     "execution_count": 132,
     "metadata": {},
     "output_type": "execute_result"
    }
   ],
   "source": [
    "dataframe"
   ]
  },
  {
   "cell_type": "code",
   "execution_count": 133,
   "metadata": {},
   "outputs": [
    {
     "data": {
      "text/plain": [
       "[{'s': 154, 'e': 159, 'type': 'stimulus'},\n",
       " {'s': 911, 'e': 916, 'type': 'stimulus'},\n",
       " {'s': 1613, 'e': 1618, 'type': 'stimulus'},\n",
       " {'s': 2361, 'e': 2366, 'type': 'stimulus'},\n",
       " {'s': 3914, 'e': 3919, 'type': 'stimulus'},\n",
       " {'s': 4700, 'e': 4705, 'type': 'stimulus'}]"
      ]
     },
     "execution_count": 133,
     "metadata": {},
     "output_type": "execute_result"
    }
   ],
   "source": [
    "process_stimulus_inds(dataframe)"
   ]
  },
  {
   "cell_type": "code",
   "execution_count": null,
   "metadata": {},
   "outputs": [],
   "source": []
  }
 ],
 "metadata": {
  "kernelspec": {
   "display_name": "Python 3",
   "language": "python",
   "name": "python3"
  },
  "language_info": {
   "codemirror_mode": {
    "name": "ipython",
    "version": 3
   },
   "file_extension": ".py",
   "mimetype": "text/x-python",
   "name": "python",
   "nbconvert_exporter": "python",
   "pygments_lexer": "ipython3",
   "version": "3.6.5"
  }
 },
 "nbformat": 4,
 "nbformat_minor": 2
}
