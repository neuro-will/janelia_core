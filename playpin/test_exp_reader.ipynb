{
 "cells": [
  {
   "cell_type": "code",
   "execution_count": 1,
   "metadata": {},
   "outputs": [],
   "source": [
    "%load_ext autoreload\n",
    "%autoreload 2"
   ]
  },
  {
   "cell_type": "code",
   "execution_count": 2,
   "metadata": {},
   "outputs": [],
   "source": [
    "from janelia_core.fileio import exp_reader, keller_lab\n",
    "from pathlib import Path\n",
    "import matplotlib.pyplot as plt\n",
    "import glob\n",
    "import numpy as np\n",
    "import dask.array as array\n",
    "import pyqtgraph as pg"
   ]
  },
  {
   "cell_type": "code",
   "execution_count": 3,
   "metadata": {},
   "outputs": [],
   "source": [
    "image_folder = Path('/Volumes/Processing/SV4/CW_17-11-26/L1-561nm-HighFrequency_20171126_122633.corrected/Results/WeightFused/')\n",
    "meta_data_folder = Path('/Volumes/Microscopy1/SV4/CW_17-11-26/L1-561nm-HighFrequency_20171126_122633')\n",
    "#image_folder = Path('N:\\SV4\\CW_17-11-26\\L1-561nm-HighFrequency_20171126_122633.corrected\\Results\\WeightFused')\n",
    "#meta_data_folder = Path('O:\\SV4\\CW_17-11-26\\L1-561nm-HighFrequency_20171126_122633')\n",
    "#dest_dir = Path('E:\\\\bishop_work\\\\keller_vnc\\\\data')\n",
    "new_image_folder = Path('E:\\\\bishop_work\\\\keller_vnc\\\\data\\\\images')\n",
    "new_metadata_folder = Path('E:\\\\bishop_work\\\\keller_vnc\\\\data\\\\metadata')"
   ]
  },
  {
   "cell_type": "code",
   "execution_count": 4,
   "metadata": {},
   "outputs": [],
   "source": [
    "#keller_lab.copy_exp(image_folder, meta_data_folder, dest_dir, update_int=500)"
   ]
  },
  {
   "cell_type": "code",
   "execution_count": 5,
   "metadata": {
    "scrolled": true
   },
   "outputs": [
    {
     "name": "stdout",
     "output_type": "stream",
     "text": [
      "Searching for image files...\n",
      "Creating dask.array object from 3731 image files.\n",
      "Done reading in image files.\n"
     ]
    }
   ],
   "source": [
    "#exp = keller_lab.read_exp(image_folder, meta_data_folder)\n",
    "exp = keller_lab.read_exp(new_image_folder, new_metadata_folder)"
   ]
  },
  {
   "cell_type": "code",
   "execution_count": 15,
   "metadata": {},
   "outputs": [],
   "source": [
    "max_proj = array.std(exp.ts_data['imgs']['vls'][1:1000,:,:,:], 0).compute()"
   ]
  },
  {
   "cell_type": "code",
   "execution_count": 9,
   "metadata": {},
   "outputs": [
    {
     "data": {
      "text/plain": [
       "<pyqtgraph.graphicsWindows.ImageWindow at 0x292e6c3ce58>"
      ]
     },
     "execution_count": 9,
     "metadata": {},
     "output_type": "execute_result"
    }
   ],
   "source": [
    "%gui qt\n",
    "pg.image(max_proj[:,:,:])"
   ]
  },
  {
   "cell_type": "code",
   "execution_count": null,
   "metadata": {},
   "outputs": [],
   "source": []
  }
 ],
 "metadata": {
  "kernelspec": {
   "display_name": "Python 3",
   "language": "python",
   "name": "python3"
  },
  "language_info": {
   "codemirror_mode": {
    "name": "ipython",
    "version": 3
   },
   "file_extension": ".py",
   "mimetype": "text/x-python",
   "name": "python",
   "nbconvert_exporter": "python",
   "pygments_lexer": "ipython3",
   "version": "3.6.7"
  }
 },
 "nbformat": 4,
 "nbformat_minor": 2
}
